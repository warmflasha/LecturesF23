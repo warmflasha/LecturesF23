{
 "cells": [
  {
   "cell_type": "code",
   "execution_count": 1,
   "id": "a728a0cd-84c9-4b41-8d3d-f069a2fc2f5a",
   "metadata": {
    "tags": []
   },
   "outputs": [],
   "source": [
    "import numpy as np"
   ]
  },
  {
   "cell_type": "code",
   "execution_count": 6,
   "id": "1060e9c3-1dcb-4ba0-88b9-4ec62b712eb3",
   "metadata": {
    "tags": []
   },
   "outputs": [],
   "source": [
    "#This uses numpy to create an array of random integers between 0 and 9 and returns the \n",
    "# result in a list. \n",
    "array1 = list(np.random.randint(0,10,100))"
   ]
  },
  {
   "cell_type": "code",
   "execution_count": 10,
   "id": "986401e4-b71a-4c08-b5ba-e6024ece9778",
   "metadata": {
    "tags": []
   },
   "outputs": [
    {
     "name": "stdout",
     "output_type": "stream",
     "text": [
      "The number 7 appears 10 times.\n"
     ]
    }
   ],
   "source": [
    "# How many times does the number 7 appear in array1?\n",
    "# Fill this cell in with code which will answer this question by printing a full sentence. \n",
    "print(\"The number 7 appears \" + str(array1.count(7)) + \" times.\")"
   ]
  },
  {
   "cell_type": "markdown",
   "id": "fbab4ad3-6d2e-4cb6-a8ff-4f7d9a61ff7f",
   "metadata": {},
   "source": [
    "##### Run your code above a few times. Do you always get the same answer? Why?\n",
    "*The answer does not changes because array1 is not changing. It counts the same thing repeatedly*"
   ]
  },
  {
   "cell_type": "code",
   "execution_count": 14,
   "id": "54de7a60-8a9b-4f00-ab77-b2e1289c1d3d",
   "metadata": {
    "tags": []
   },
   "outputs": [
    {
     "name": "stdout",
     "output_type": "stream",
     "text": [
      "The number 7 appears 14 times.\n"
     ]
    }
   ],
   "source": [
    "# Now copy both the definition of array1 and your code from above into this cell. Run it a few times. What changed?\n",
    "array1 = list(np.random.randint(0,10,100))\n",
    "print(\"The number 7 appears \" + str(array1.count(7)) + \" times.\")"
   ]
  },
  {
   "cell_type": "markdown",
   "id": "a19acb5b",
   "metadata": {},
   "source": [
    "*Now it changes because we are runnig the random number generator repeatedly. Each time generates a new list of numbers*"
   ]
  },
  {
   "cell_type": "code",
   "execution_count": 22,
   "id": "f0a81188-8e41-434a-8af0-16d76241726c",
   "metadata": {
    "tags": []
   },
   "outputs": [
    {
     "name": "stdout",
     "output_type": "stream",
     "text": [
      "The first time the number 8 appears is at index 12\n"
     ]
    }
   ],
   "source": [
    "# This cell defines the variable b at the top. Write code which finds the first index of b in array 1 \n",
    "# and prints a full sentence showing the result. When you change the value of b, \n",
    "# the code should run and produce a correct result. \n",
    "b = 8\n",
    "print(\"The first time the number \" + str(b) + \" appears is at index \" + str(array1.index(b)))"
   ]
  },
  {
   "cell_type": "code",
   "execution_count": 23,
   "id": "6185909f",
   "metadata": {
    "tags": []
   },
   "outputs": [
    {
     "data": {
      "text/plain": [
       "False"
      ]
     },
     "execution_count": 23,
     "metadata": {},
     "output_type": "execute_result"
    }
   ],
   "source": [
    "# find out what the results of the tests for equality in this cell are and explain each one:\n",
    "list1 = [1, 1, 1, 1, 1, 1]\n",
    "list1 == 1\n",
    "#This is false, because list1 is a list with multiple integers. It is not equal to 1. "
   ]
  },
  {
   "cell_type": "code",
   "execution_count": 24,
   "id": "ab83a397",
   "metadata": {
    "tags": []
   },
   "outputs": [
    {
     "data": {
      "text/plain": [
       "True"
      ]
     },
     "execution_count": 24,
     "metadata": {},
     "output_type": "execute_result"
    }
   ],
   "source": [
    "list1[3] == 1\n",
    "#This is true. The 4th element of the list is equal to 1"
   ]
  },
  {
   "cell_type": "code",
   "execution_count": 25,
   "id": "c33fb5ec",
   "metadata": {
    "tags": []
   },
   "outputs": [
    {
     "data": {
      "text/plain": [
       "False"
      ]
     },
     "execution_count": 25,
     "metadata": {},
     "output_type": "execute_result"
    }
   ],
   "source": [
    "list1[3] == \"1\"\n",
    "#This is false. This element is equal to the integer 1, not the string \"1\""
   ]
  },
  {
   "cell_type": "code",
   "execution_count": 26,
   "id": "517c4b76",
   "metadata": {
    "tags": []
   },
   "outputs": [
    {
     "data": {
      "text/plain": [
       "True"
      ]
     },
     "execution_count": 26,
     "metadata": {},
     "output_type": "execute_result"
    }
   ],
   "source": [
    "str(list1[3]) == \"1\"\n",
    "#This is true - if we convert the interger 1 to a string it will equal \"1\""
   ]
  },
  {
   "cell_type": "code",
   "execution_count": 27,
   "id": "8725ac4f",
   "metadata": {
    "tags": []
   },
   "outputs": [
    {
     "data": {
      "text/plain": [
       "False"
      ]
     },
     "execution_count": 27,
     "metadata": {},
     "output_type": "execute_result"
    }
   ],
   "source": [
    "str(list1[1]) == 1\n",
    "#This is false. Once we convert 1 to a string, it is no longer equal to 1"
   ]
  },
  {
   "cell_type": "code",
   "execution_count": 28,
   "id": "6a2825fd-7484-42b2-bc0e-d0db75fc64e3",
   "metadata": {
    "tags": []
   },
   "outputs": [
    {
     "data": {
      "text/plain": [
       "True"
      ]
     },
     "execution_count": 28,
     "metadata": {},
     "output_type": "execute_result"
    }
   ],
   "source": [
    "len(list1) == 6\n",
    "#This is true because the list has 6 elements"
   ]
  },
  {
   "cell_type": "code",
   "execution_count": 29,
   "id": "416daad9",
   "metadata": {
    "tags": []
   },
   "outputs": [
    {
     "data": {
      "text/plain": [
       "5"
      ]
     },
     "execution_count": 29,
     "metadata": {},
     "output_type": "execute_result"
    }
   ],
   "source": [
    "#write as concise a statement as you can to produce the following. \n",
    "# Note that \"7th\" is meant in its usually english sense, \n",
    "# not as a python index number. \n",
    "\n",
    "#the 7th element of array1\n",
    "array1[6]"
   ]
  },
  {
   "cell_type": "code",
   "execution_count": 32,
   "id": "6efc1b8e",
   "metadata": {
    "tags": []
   },
   "outputs": [
    {
     "data": {
      "text/plain": [
       "[3, 1, 9, 2, 8, 9, 3, 9, 2, 6]"
      ]
     },
     "execution_count": 32,
     "metadata": {},
     "output_type": "execute_result"
    }
   ],
   "source": [
    "#a list containing the 23rd through 32nd elements of array1\n",
    "array1[22:32]"
   ]
  },
  {
   "cell_type": "code",
   "execution_count": 33,
   "id": "3a7027fc",
   "metadata": {
    "scrolled": true,
    "tags": []
   },
   "outputs": [
    {
     "data": {
      "text/plain": [
       "[7,\n",
       " 0,\n",
       " 0,\n",
       " 5,\n",
       " 4,\n",
       " 0,\n",
       " 8,\n",
       " 0,\n",
       " 7,\n",
       " 4,\n",
       " 9,\n",
       " 3,\n",
       " 9,\n",
       " 8,\n",
       " 3,\n",
       " 2,\n",
       " 3,\n",
       " 2,\n",
       " 8,\n",
       " 2,\n",
       " 3,\n",
       " 7,\n",
       " 6,\n",
       " 2,\n",
       " 7,\n",
       " 1,\n",
       " 6,\n",
       " 6,\n",
       " 6,\n",
       " 0,\n",
       " 2,\n",
       " 8,\n",
       " 1,\n",
       " 3,\n",
       " 4,\n",
       " 4,\n",
       " 2,\n",
       " 0,\n",
       " 0,\n",
       " 6,\n",
       " 6,\n",
       " 6,\n",
       " 5,\n",
       " 0,\n",
       " 1,\n",
       " 6,\n",
       " 4,\n",
       " 7,\n",
       " 1,\n",
       " 0]"
      ]
     },
     "execution_count": 33,
     "metadata": {},
     "output_type": "execute_result"
    }
   ],
   "source": [
    "#a list containing all the even numbered elements of array1\n",
    "array1[::2]"
   ]
  },
  {
   "cell_type": "code",
   "execution_count": 34,
   "id": "c0a7cfa5",
   "metadata": {
    "scrolled": true,
    "tags": []
   },
   "outputs": [
    {
     "data": {
      "text/plain": [
       "[2,\n",
       " 7,\n",
       " 7,\n",
       " 9,\n",
       " 7,\n",
       " 6,\n",
       " 3,\n",
       " 3,\n",
       " 1,\n",
       " 8,\n",
       " 5,\n",
       " 1,\n",
       " 2,\n",
       " 9,\n",
       " 9,\n",
       " 6,\n",
       " 2,\n",
       " 7,\n",
       " 4,\n",
       " 6,\n",
       " 1,\n",
       " 5,\n",
       " 0,\n",
       " 7,\n",
       " 0,\n",
       " 6,\n",
       " 9,\n",
       " 1,\n",
       " 8,\n",
       " 7,\n",
       " 6,\n",
       " 2,\n",
       " 4,\n",
       " 6,\n",
       " 1,\n",
       " 5,\n",
       " 3,\n",
       " 0,\n",
       " 9,\n",
       " 7,\n",
       " 4,\n",
       " 4,\n",
       " 7,\n",
       " 7,\n",
       " 9,\n",
       " 2,\n",
       " 4,\n",
       " 8,\n",
       " 6,\n",
       " 4]"
      ]
     },
     "execution_count": 34,
     "metadata": {},
     "output_type": "execute_result"
    }
   ],
   "source": [
    "#a list containing all the odd numbered elements of array1\n",
    "array1[1::2]"
   ]
  },
  {
   "cell_type": "code",
   "execution_count": 35,
   "id": "d86943de",
   "metadata": {
    "tags": []
   },
   "outputs": [
    {
     "data": {
      "text/plain": [
       "[2, 4, 4, 7, 8, 1, 6, 0, 4]"
      ]
     },
     "execution_count": 35,
     "metadata": {},
     "output_type": "execute_result"
    }
   ],
   "source": [
    "#a list containing the last 9 elements of array1 \n",
    "array1[-9:]"
   ]
  },
  {
   "cell_type": "code",
   "execution_count": 37,
   "id": "3248e0a1",
   "metadata": {
    "tags": []
   },
   "outputs": [
    {
     "data": {
      "text/plain": [
       "[7, 2, 0, 7, 0, 7, 5, 9, 4, 7, 0, 6, 8, 3, 0, 3, 7]"
      ]
     },
     "execution_count": 37,
     "metadata": {},
     "output_type": "execute_result"
    }
   ],
   "source": [
    "#a list containing the first 17 elements of array1\n",
    "array1[:17]"
   ]
  },
  {
   "cell_type": "code",
   "execution_count": 38,
   "id": "855b44dc-99b3-477a-ab14-11cddb18df0e",
   "metadata": {
    "tags": []
   },
   "outputs": [
    {
     "data": {
      "text/plain": [
       "True"
      ]
     },
     "execution_count": 38,
     "metadata": {},
     "output_type": "execute_result"
    }
   ],
   "source": [
    "#for the last one, write a line of code which confirms that the 3rd element of the new list has the \n",
    "# same value as the 3rd element of array1. \n",
    "array1[:17][2]==array1[2]"
   ]
  },
  {
   "cell_type": "code",
   "execution_count": 40,
   "id": "ce04bbd3-e5c4-4291-96fe-d3c866f2ddf1",
   "metadata": {
    "tags": []
   },
   "outputs": [
    {
     "data": {
      "text/plain": [
       "[2, 3, 7, 'string1', 3.3, [3, 4], 'string2', 3.3, 'string3']"
      ]
     },
     "execution_count": 40,
     "metadata": {},
     "output_type": "execute_result"
    }
   ],
   "source": [
    "# define any two lists you like and add them together with the + operator. Pick one and multiply it by 4 (*4). \n",
    "# explain what each operation does? Are there other operations\n",
    "# that would make sense to assign to list addition or multiplication?\n",
    "list1 = [2, 3, 7, \"string1\", 3.3]\n",
    "list2 = [ [3,4], \"string2\", 3.3, \"string3\"]\n",
    "list1+list2\n",
    "#This combines the two lists into one long list"
   ]
  },
  {
   "cell_type": "code",
   "execution_count": 42,
   "id": "c64287b0",
   "metadata": {},
   "outputs": [
    {
     "data": {
      "text/plain": [
       "[2,\n",
       " 3,\n",
       " 7,\n",
       " 'string1',\n",
       " 3.3,\n",
       " 2,\n",
       " 3,\n",
       " 7,\n",
       " 'string1',\n",
       " 3.3,\n",
       " 2,\n",
       " 3,\n",
       " 7,\n",
       " 'string1',\n",
       " 3.3,\n",
       " 2,\n",
       " 3,\n",
       " 7,\n",
       " 'string1',\n",
       " 3.3]"
      ]
     },
     "execution_count": 42,
     "metadata": {},
     "output_type": "execute_result"
    }
   ],
   "source": [
    "4*list1\n",
    "#This produces a new list with the elements of list1 repeated 4 times. \n",
    "#For numbers, you might want to have the addition actually add the corresponding values together or for strings perform\n",
    "#string concatenation with these elements. We have seen this is possible with numpy arrays. "
   ]
  },
  {
   "cell_type": "code",
   "execution_count": null,
   "id": "9b688ccc",
   "metadata": {},
   "outputs": [],
   "source": []
  }
 ],
 "metadata": {
  "kernelspec": {
   "display_name": "Python 3 (ipykernel)",
   "language": "python",
   "name": "python3"
  },
  "language_info": {
   "codemirror_mode": {
    "name": "ipython",
    "version": 3
   },
   "file_extension": ".py",
   "mimetype": "text/x-python",
   "name": "python",
   "nbconvert_exporter": "python",
   "pygments_lexer": "ipython3",
   "version": "3.11.4"
  }
 },
 "nbformat": 4,
 "nbformat_minor": 5
}
