{
 "cells": [
  {
   "cell_type": "code",
   "execution_count": null,
   "id": "a728a0cd-84c9-4b41-8d3d-f069a2fc2f5a",
   "metadata": {
    "tags": []
   },
   "outputs": [],
   "source": [
    "import numpy as np"
   ]
  },
  {
   "cell_type": "code",
   "execution_count": null,
   "id": "1060e9c3-1dcb-4ba0-88b9-4ec62b712eb3",
   "metadata": {
    "tags": []
   },
   "outputs": [],
   "source": [
    "#This uses numpy to create an array of random integers between 0 and 9 and returns the \n",
    "# result in a list. \n",
    "array1 = list(np.random.randint(0,10,100))"
   ]
  },
  {
   "cell_type": "code",
   "execution_count": null,
   "id": "986401e4-b71a-4c08-b5ba-e6024ece9778",
   "metadata": {
    "tags": []
   },
   "outputs": [],
   "source": [
    "# How many times does the number 7 appear in array1?\n",
    "# Fill this cell in with code which will answer this question by printing a full sentence. "
   ]
  },
  {
   "cell_type": "markdown",
   "id": "3ed5ef7f-3f86-4b7e-9c76-f1bb2343833b",
   "metadata": {},
   "source": [
    "put some stuff here"
   ]
  },
  {
   "cell_type": "markdown",
   "id": "fbab4ad3-6d2e-4cb6-a8ff-4f7d9a61ff7f",
   "metadata": {},
   "source": [
    "##### Run your code above a few times. Do you always get the same answer? Why?"
   ]
  },
  {
   "cell_type": "code",
   "execution_count": null,
   "id": "54de7a60-8a9b-4f00-ab77-b2e1289c1d3d",
   "metadata": {
    "tags": []
   },
   "outputs": [],
   "source": [
    "# Now copy both the definition of array1 and your code from above into this cell. Run it a few times. What changed?"
   ]
  },
  {
   "cell_type": "code",
   "execution_count": null,
   "id": "f0a81188-8e41-434a-8af0-16d76241726c",
   "metadata": {
    "tags": []
   },
   "outputs": [],
   "source": [
    "# This cell defines the variable b at the top. Write code which finds the first index of b in array 1 \n",
    "# and prints a full sentence showing the result. When you change the value of b, \n",
    "# the code should run and produce a correct result. \n",
    "b = 8"
   ]
  },
  {
   "cell_type": "code",
   "execution_count": null,
   "id": "6a2825fd-7484-42b2-bc0e-d0db75fc64e3",
   "metadata": {
    "tags": []
   },
   "outputs": [],
   "source": [
    "# find out what the results of the tests for equality in this cell are and explain each one:\n",
    "list1 = [1, 1, 1, 1, 1, 1]\n",
    "list1 == 1\n",
    "list1[3] == 1\n",
    "list1[3] == \"1\"\n",
    "str(list1[3]) == \"1\"\n",
    "str(list1[1]) == 1\n",
    "len(list1) == 6"
   ]
  },
  {
   "cell_type": "code",
   "execution_count": null,
   "id": "855b44dc-99b3-477a-ab14-11cddb18df0e",
   "metadata": {
    "tags": []
   },
   "outputs": [],
   "source": [
    "#write as concise a statement as you can to produce the following. \n",
    "# Note that \"7th\" is meant in its usually english sense, \n",
    "# not as a python index number. \n",
    "\n",
    "#the 7th element of array1\n",
    "#a list containing the 23rd through 32nd elements of array1\n",
    "#a list containing all the even numbered elements of array1\n",
    "#a list containing all the odd numbered elements of array1\n",
    "#a list containing the last 9 elements of array1 \n",
    "#a list containing the first 17 elements of array1\n",
    "\n",
    "#for the last one, write a line of code which confirms that the 3rd element of the new list has the \n",
    "# same value as the 3rd element of array1. "
   ]
  },
  {
   "cell_type": "code",
   "execution_count": null,
   "id": "ce04bbd3-e5c4-4291-96fe-d3c866f2ddf1",
   "metadata": {
    "tags": []
   },
   "outputs": [],
   "source": [
    "# define any two lists you like and add them together with the + operator. Pick one and multiply it by 4 (*4). \n",
    "# explain what each operation does? Are there other operations\n",
    "# that would make sense to assign to list addition or multiplication?"
   ]
  }
 ],
 "metadata": {
  "kernelspec": {
   "display_name": "Python 3 (ipykernel)",
   "language": "python",
   "name": "python3"
  },
  "language_info": {
   "codemirror_mode": {
    "name": "ipython",
    "version": 3
   },
   "file_extension": ".py",
   "mimetype": "text/x-python",
   "name": "python",
   "nbconvert_exporter": "python",
   "pygments_lexer": "ipython3",
   "version": "3.11.4"
  }
 },
 "nbformat": 4,
 "nbformat_minor": 5
}
