{
 "cells": [
  {
   "cell_type": "code",
   "execution_count": 24,
   "id": "591d672b-a444-4ac6-9626-8fe5ddd20c75",
   "metadata": {},
   "outputs": [],
   "source": [
    "def elcikFunction(rand_seq):\n",
    "# Revised Part 2\n",
    "    orf = \"\"\n",
    "    for i in range(len(rand_seq)):\n",
    "        if rand_seq[i: i + 3] == \"ATG\":\n",
    "\n",
    "            new_str = rand_seq[i :]\n",
    "\n",
    "            if new_str.find(\"TAA\") % 3 == 0:\n",
    "                index_TAA = new_str.find(\"TAA\")\n",
    "            else:\n",
    "                index_TAA = -1\n",
    "\n",
    "            if new_str.find(\"TAG\") % 3 == 0:\n",
    "                index_TAG = new_str.find(\"TAG\")\n",
    "            else:\n",
    "                index_TAG = -1\n",
    "\n",
    "            if new_str.find(\"TGA\") % 3 == 0:\n",
    "                index_TGA = new_str.find(\"TGA\")\n",
    "            else:\n",
    "                index_TGA = -1 \n",
    "\n",
    "            index_list = np.array([index_TAA, index_TGA, index_TAG])\n",
    "            index_list = index_list[index_list > 0]\n",
    "\n",
    "            if len(index_list) > 0:\n",
    "                min_index = min(index_list)\n",
    "                new_orf = rand_seq[i: i + min_index + 3]\n",
    "                if len(orf) < len(new_orf):\n",
    "                    orf = new_orf\n",
    "    print(\"Elcik ORF length is: \" + str(len(orf)))\n",
    "    print(orf)"
   ]
  },
  {
   "cell_type": "code",
   "execution_count": 7,
   "id": "c3cc51ce-695d-4f4d-9b1d-e00fc120469a",
   "metadata": {},
   "outputs": [],
   "source": [
    "import numpy as np"
   ]
  },
  {
   "cell_type": "code",
   "execution_count": null,
   "id": "67ce0c04-c6da-468a-a6c5-5a4049522f1a",
   "metadata": {},
   "outputs": [],
   "source": []
  },
  {
   "cell_type": "code",
   "execution_count": 3,
   "id": "ff74bc63-f831-4711-b3cd-3770893bac8c",
   "metadata": {},
   "outputs": [
    {
     "ename": "NameError",
     "evalue": "name 'np' is not defined",
     "output_type": "error",
     "traceback": [
      "\u001b[0;31m---------------------------------------------------------------------------\u001b[0m",
      "\u001b[0;31mNameError\u001b[0m                                 Traceback (most recent call last)",
      "\u001b[0;32m/var/folders/kk/972qhjhs1k528bn2v3xv29lr0000gn/T/ipykernel_98767/2664884519.py\u001b[0m in \u001b[0;36m<cell line: 2>\u001b[0;34m()\u001b[0m\n\u001b[1;32m      1\u001b[0m \u001b[0mN\u001b[0m \u001b[0;34m=\u001b[0m \u001b[0;36m500\u001b[0m\u001b[0;34m;\u001b[0m \u001b[0;31m# define sequence length\u001b[0m\u001b[0;34m\u001b[0m\u001b[0;34m\u001b[0m\u001b[0m\n\u001b[0;32m----> 2\u001b[0;31m \u001b[0mbases\u001b[0m \u001b[0;34m=\u001b[0m \u001b[0mnp\u001b[0m\u001b[0;34m.\u001b[0m\u001b[0marray\u001b[0m\u001b[0;34m(\u001b[0m\u001b[0;34m[\u001b[0m\u001b[0;34m'A'\u001b[0m\u001b[0;34m,\u001b[0m\u001b[0;34m'T'\u001b[0m\u001b[0;34m,\u001b[0m\u001b[0;34m'G'\u001b[0m\u001b[0;34m,\u001b[0m\u001b[0;34m'C'\u001b[0m\u001b[0;34m]\u001b[0m\u001b[0;34m)\u001b[0m\u001b[0;34m\u001b[0m\u001b[0;34m\u001b[0m\u001b[0m\n\u001b[0m\u001b[1;32m      3\u001b[0m \u001b[0mrand_seq\u001b[0m \u001b[0;34m=\u001b[0m \u001b[0mnp\u001b[0m\u001b[0;34m.\u001b[0m\u001b[0mrandom\u001b[0m\u001b[0;34m.\u001b[0m\u001b[0mchoice\u001b[0m\u001b[0;34m(\u001b[0m\u001b[0mbases\u001b[0m\u001b[0;34m,\u001b[0m\u001b[0mN\u001b[0m\u001b[0;34m)\u001b[0m \u001b[0;31m#this makes a numpy array with 500 random bases\u001b[0m\u001b[0;34m\u001b[0m\u001b[0;34m\u001b[0m\u001b[0m\n",
      "\u001b[0;31mNameError\u001b[0m: name 'np' is not defined"
     ]
    }
   ],
   "source": [
    "N = 500; # define sequence length\n",
    "bases = np.array(['A','T','G','C'])\n",
    "rand_seq = np.random.choice(bases,N) #this makes a numpy array with 500 random bases"
   ]
  },
  {
   "cell_type": "code",
   "execution_count": 10,
   "id": "a7996e7f-18ef-4aa3-8a6a-0efb89cc9756",
   "metadata": {},
   "outputs": [],
   "source": [
    "def hwSolution(rand_seq):\n",
    "    allCodons = [] #empty list to store the codons\n",
    "\n",
    "    #step through the sequence storing one codon at a time as a string. \n",
    "    for ii in range(len(rand_seq)-2):\n",
    "        allCodons.append(''.join(rand_seq[ii:(ii+3)]))\n",
    "    \n",
    "    allCodons = np.array(allCodons) #convert to numpy array\n",
    "    \n",
    "    starts = []\n",
    "    stops = []\n",
    "    for n, cod in enumerate(allCodons):\n",
    "        if cod == 'ATG':\n",
    "            starts.append(n)\n",
    "        elif cod == 'TAA' or cod == 'TGA' or cod == 'TAG':\n",
    "            stops.append(n)\n",
    "    starts = np.array(starts)\n",
    "    stops = np.array(stops)\n",
    "    firstStop = np.zeros(len(starts))\n",
    "    for n,sta in enumerate(starts):\n",
    "        for sto in stops:\n",
    "            if sto > sta and (sto-sta)%3 == 0: #stop must be after start and a multiple of 3 away\n",
    "                firstStop[n] = sto\n",
    "                break    #once we find the first stop codon meeting this criteria, we can move on the next one\n",
    "    if len(starts) == 0: #no start codons found, go on to the next sequence\n",
    "        print(\"NO ORF\")\n",
    "        return\n",
    "        \n",
    "    ORFLengths = firstStop - starts\n",
    "    indMax = np.argmax(ORFLengths)\n",
    "    longestLength = ORFLengths[indMax]\n",
    "    print(\"Solution length is: \" + str(longestLength))"
   ]
  },
  {
   "cell_type": "code",
   "execution_count": 11,
   "id": "f596b0be-be8e-431e-b3e0-09242faa45bb",
   "metadata": {},
   "outputs": [],
   "source": [
    "bases = np.array(['A','T','G','C'])\n",
    "rand_seq = np.random.choice(bases,N) #this makes a numpy array with 500 random bases"
   ]
  },
  {
   "cell_type": "code",
   "execution_count": 12,
   "id": "cd5449fc-e610-4f92-99fc-434397d8e6a9",
   "metadata": {},
   "outputs": [
    {
     "name": "stdout",
     "output_type": "stream",
     "text": [
      "Solution length is: 75.0\n"
     ]
    }
   ],
   "source": [
    "hwSolution(rand_seq)"
   ]
  },
  {
   "cell_type": "code",
   "execution_count": 19,
   "id": "1109a646-a3f7-4596-9082-6910aa685fab",
   "metadata": {},
   "outputs": [
    {
     "name": "stdout",
     "output_type": "stream",
     "text": [
      "Elcik ORF length is: 87\n"
     ]
    }
   ],
   "source": [
    "elcikFunction(''.join(rand_seq))  "
   ]
  },
  {
   "cell_type": "code",
   "execution_count": 21,
   "id": "40ef766c-a205-4db9-bcc9-d2558d2101e2",
   "metadata": {},
   "outputs": [
    {
     "data": {
      "text/plain": [
       "'CAGATGTGTCATGGGTGCCTGTCTAACAAGTGGCCCCATCTGATTTTTAGTGAAATTTAAGCATACATGCATTCCGGTCGTAAACCCCGCAGCTTTGTTATGAAGGTCACATTCTAGGTTTCTCTGAAAATCCCACAGTGACCACACGACAGTCCGCCAACTTGCCCTTTGATCTGAGGGATTTGGCGATCCGGTTCCATAAGGGGGTTTCAGGCAAATCGTCTTCATGCTGTTGAGTCGGTGCATACATCAGTTGTAATCCGTATTCTACTGCCCAAGATGGTTCGGATGGCCAACGGAATGTTTCGTAGCTCTTCCTTATCGGCGTTAAACGTGATCCTGGGAACCAGGCGCTAATTCTGTGCAATTTAAAGTCACCATTTCTAATGACAAGGATGCTTGAGGGCAGCAGCAAGTATCACTTGGGTAGTCCACTATGTGTTTTGTGACCTGGGTGCGAGAGTGGTCCATAAGGAGCAGCCGTTTGCTTATGTCCATTT'"
      ]
     },
     "execution_count": 21,
     "metadata": {},
     "output_type": "execute_result"
    }
   ],
   "source": [
    "''.join(rand_seq)"
   ]
  },
  {
   "cell_type": "code",
   "execution_count": 22,
   "id": "f99d3ba7-f5be-4768-994a-4adf0fb999e2",
   "metadata": {},
   "outputs": [],
   "source": [
    "rand_seq_store = rand_seq"
   ]
  },
  {
   "cell_type": "code",
   "execution_count": 25,
   "id": "0112614b-49b5-4f11-bc92-4bc21f21f832",
   "metadata": {},
   "outputs": [
    {
     "name": "stdout",
     "output_type": "stream",
     "text": [
      "Solution length is: 180.0\n",
      "Elcik ORF length is: 78\n",
      "ATGATTGAACATGTTTCAGATATCGCGCCCGGAGCTTCTACTCGTTACCACACTCCCTTTGATTGGAGGGTATCATAA\n"
     ]
    }
   ],
   "source": [
    "bases = np.array(['A','T','G','C'])\n",
    "rand_seq = np.random.choice(bases,N) #this makes a numpy array with 500 random bases\n",
    "hwSolution(rand_seq)\n",
    "elcikFunction(''.join(rand_seq))  "
   ]
  },
  {
   "cell_type": "code",
   "execution_count": null,
   "id": "55c404ff-eb15-47c2-b7ca-fe07d3c5779f",
   "metadata": {},
   "outputs": [],
   "source": []
  }
 ],
 "metadata": {
  "kernelspec": {
   "display_name": "Python 3 (ipykernel)",
   "language": "python",
   "name": "python3"
  },
  "language_info": {
   "codemirror_mode": {
    "name": "ipython",
    "version": 3
   },
   "file_extension": ".py",
   "mimetype": "text/x-python",
   "name": "python",
   "nbconvert_exporter": "python",
   "pygments_lexer": "ipython3",
   "version": "3.9.12"
  }
 },
 "nbformat": 4,
 "nbformat_minor": 5
}
