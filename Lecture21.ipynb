{
 "cells": [
  {
   "cell_type": "markdown",
   "id": "f5e2e9eb-4929-439d-8e18-23e709d73e39",
   "metadata": {},
   "source": [
    "## BIOS470/570 Lecture 21 Introduction to mathematical models of biological systems"
   ]
  },
  {
   "cell_type": "code",
   "execution_count": null,
   "id": "e49f6f9d-29b0-40de-90c9-da92c47ced33",
   "metadata": {
    "tags": []
   },
   "outputs": [],
   "source": [
    "from scipy import integrate\n",
    "import numpy as np\n",
    "import matplotlib.pyplot as plt"
   ]
  },
  {
   "cell_type": "markdown",
   "id": "b4e92e1c-df81-423a-a029-cf7155edb892",
   "metadata": {},
   "source": [
    "### Let's consider the simple model for protein production and degradation: $\\frac{dy}{dt} = k - d*y$. We define the model using a function that can be called. These functions must always have the time as the first input (even if unused) and the variable for the integrator as the second. It returns the time derivative of the variable. "
   ]
  },
  {
   "cell_type": "code",
   "execution_count": null,
   "id": "4a770e0b-556c-4432-89f2-65b6e41a784e",
   "metadata": {
    "tags": []
   },
   "outputs": [],
   "source": [
    "def simpleProteinModel(t,y):\n",
    "    k = 1\n",
    "    d = 1\n",
    "    dy = k-d*y\n",
    "    return dy"
   ]
  },
  {
   "cell_type": "markdown",
   "id": "43ab701d-2f0a-4d1a-8e83-d116cb292b3c",
   "metadata": {},
   "source": [
    "### Set up an integrator to do numerical integration of the model:"
   ]
  },
  {
   "cell_type": "code",
   "execution_count": null,
   "id": "2da2427e-e62a-42e4-9550-1ce5320d3a05",
   "metadata": {
    "tags": []
   },
   "outputs": [],
   "source": [
    "r = integrate.ode(simpleProteinModel)"
   ]
  },
  {
   "cell_type": "markdown",
   "id": "a9e828f3-f2c8-4b67-af52-3476c6605e2e",
   "metadata": {},
   "source": [
    "### Do the integration and plot the results. The integrator stores the current state of the system and you can move it forward to time T by doing r.integrate(T). We move the integrator forward in steps of dt = 0.1 and store the t values and integration results in numpy arrays: "
   ]
  },
  {
   "cell_type": "code",
   "execution_count": null,
   "id": "ec1130d0-e3f1-458e-b49f-0d079df85b8c",
   "metadata": {
    "tags": []
   },
   "outputs": [],
   "source": [
    "t0 = 0\n",
    "y0 = 0\n",
    "r.set_initial_value(y0,t0)\n",
    "t_end = 10\n",
    "dt = 0.1\n",
    "t_vals =np.array(t0)\n",
    "y_vals = np.array(y0)\n",
    "while r.successful() and r.t < t_end:\n",
    "    t_vals = np.append(t_vals,r.t+dt)\n",
    "    y_vals = np.append(y_vals,r.integrate(r.t+dt))"
   ]
  },
  {
   "cell_type": "markdown",
   "id": "a8619c8a-0eb5-4e84-9aa3-9047dc47e937",
   "metadata": {},
   "source": [
    "### Now plot the results"
   ]
  },
  {
   "cell_type": "code",
   "execution_count": null,
   "id": "ce9c94ed-0ed2-4be1-ae7e-5e3dbd733eff",
   "metadata": {
    "tags": []
   },
   "outputs": [],
   "source": [
    "plt.plot(t_vals,y_vals,'.-')\n",
    "plt.xlabel('Time')\n",
    "plt.ylabel('Concentration');"
   ]
  },
  {
   "cell_type": "markdown",
   "id": "c5018e9a-80ad-47ea-a538-824f54e1dc02",
   "metadata": {},
   "source": [
    "### Let's repeat with a different initial value y0 = 5"
   ]
  },
  {
   "cell_type": "code",
   "execution_count": null,
   "id": "c7047050-5eae-470e-8e41-bb4ae0472f60",
   "metadata": {},
   "outputs": [],
   "source": [
    "t0 = 0\n",
    "y0 = 5\n",
    "r.set_initial_value(y0,t0)\n",
    "t_end = 10\n",
    "dt = 0.1\n",
    "t_vals =np.array(t0)\n",
    "y_vals = np.array(y0)\n",
    "while r.successful() and r.t < t_end:\n",
    "    t_vals = np.append(t_vals,r.t+dt)\n",
    "    y_vals = np.append(y_vals,r.integrate(r.t+dt))\n",
    "\n",
    "plt.plot(t_vals,y_vals,'.-')\n",
    "plt.xlabel('Time')\n",
    "plt.ylabel('Concentration');"
   ]
  },
  {
   "cell_type": "markdown",
   "id": "e5d88162-381c-4b6d-90bd-0bd1294d1f90",
   "metadata": {},
   "source": [
    "### Note the value at the end is the same in either case. Whether the concentration rises or falls depends on where we start.\n",
    "\n",
    "### What if we want the flexibility to change the parameters such as the production or degradation rate? Define the function for the integration with an addation input:"
   ]
  },
  {
   "cell_type": "code",
   "execution_count": null,
   "id": "2b0e9d23-b7eb-48c0-8d9c-2f67fe564474",
   "metadata": {},
   "outputs": [],
   "source": [
    "def simpleProteinModelParams(t,y,args):\n",
    "    k = args[0]\n",
    "    d = args[1]\n",
    "    dy = k-d*y\n",
    "    return dy"
   ]
  },
  {
   "cell_type": "markdown",
   "id": "a9c8eb05-7a50-4912-8227-e005a6d740dd",
   "metadata": {},
   "source": [
    "### We can run this the same way with a call to r.set_f_params to set the additional parameters in the function:"
   ]
  },
  {
   "cell_type": "code",
   "execution_count": null,
   "id": "5a29134b-b568-44fa-9173-6f4f424e8d16",
   "metadata": {},
   "outputs": [],
   "source": [
    "r = integrate.ode(simpleProteinModelParams)\n",
    "t0 = 0\n",
    "y0 = 0\n",
    "r.set_f_params([2,0.5])\n",
    "r.set_initial_value(y0,t0)\n",
    "t_end = 10\n",
    "dt = 0.1\n",
    "t_vals =np.array(t0)\n",
    "y_vals = np.array(y0)\n",
    "while r.successful() and r.t < t_end:\n",
    "    t_vals = np.append(t_vals,r.t+dt)\n",
    "    y_vals = np.append(y_vals,r.integrate(r.t+dt))\n",
    "\n",
    "plt.plot(t_vals,y_vals,'.-')\n",
    "plt.xlabel('Time')\n",
    "plt.ylabel('Concentration');"
   ]
  },
  {
   "cell_type": "markdown",
   "id": "edc943d5-f9d2-4e78-b33a-0a456d692d12",
   "metadata": {},
   "source": [
    "### Now let's consider the more complex example of an autoregulatory gene: $\\frac{dx}{dt} = \\frac{k_u + k_b x^2}{1+x^2}-x$. This has two parameters for the rates of transcription when the factor is not bound ($k_u$) and when it is bound ($k_b$)"
   ]
  },
  {
   "cell_type": "code",
   "execution_count": null,
   "id": "336aa873-9b0a-44fd-9a16-86bd742a1a83",
   "metadata": {},
   "outputs": [],
   "source": [
    "def autoRegulationModel(t,y,ku,kb):\n",
    "    dy = (ku+kb*y**2)/(1+y**2)-y\n",
    "    return dy"
   ]
  },
  {
   "cell_type": "markdown",
   "id": "cd56769f-c061-4194-a55b-6e0439e871a1",
   "metadata": {},
   "source": [
    "### Run with inital value 0.1"
   ]
  },
  {
   "cell_type": "code",
   "execution_count": null,
   "id": "ea1cacc3-6fd0-42b3-a608-8c6d5a825541",
   "metadata": {},
   "outputs": [],
   "source": [
    "r = integrate.ode(autoRegulationModel)\n",
    "t0 = 0\n",
    "y0 = 0.1\n",
    "r.set_f_params(0,5)\n",
    "r.set_initial_value(y0,t0)\n",
    "t_end = 10\n",
    "dt = 0.1\n",
    "t_vals =np.array(t0)\n",
    "y_vals = np.array(y0)\n",
    "while r.successful() and r.t < t_end:\n",
    "    t_vals = np.append(t_vals,r.t+dt)\n",
    "    y_vals = np.append(y_vals,r.integrate(r.t+dt))\n",
    "\n",
    "plt.plot(t_vals,y_vals,'.-')\n",
    "plt.xlabel('Time')\n",
    "plt.ylabel('Concentration');"
   ]
  },
  {
   "cell_type": "markdown",
   "id": "6e7bef6b-bd76-4481-b73a-58a47029348c",
   "metadata": {},
   "source": [
    "### Run with inital value 1"
   ]
  },
  {
   "cell_type": "code",
   "execution_count": null,
   "id": "7bdcd081-db57-47ad-a180-3fed5f502975",
   "metadata": {},
   "outputs": [],
   "source": [
    "r = integrate.ode(autoRegulationModel)\n",
    "t0 = 0\n",
    "y0 = 1\n",
    "r.set_f_params(0,5)\n",
    "r.set_initial_value(y0,t0)\n",
    "t_end = 10\n",
    "dt = 0.1\n",
    "t_vals2 =np.array(t0)\n",
    "y_vals2 = np.array(y0)\n",
    "while r.successful() and r.t < t_end:\n",
    "    t_vals2 = np.append(t_vals2,r.t+dt)\n",
    "    y_vals2 = np.append(y_vals2,r.integrate(r.t+dt))\n",
    "\n",
    "plt.plot(t_vals2,y_vals2,'.-')\n",
    "plt.xlabel('Time')\n",
    "plt.ylabel('Concentration');"
   ]
  },
  {
   "cell_type": "markdown",
   "id": "0ccc1ba1-57a8-4972-9ae8-328212a65f9d",
   "metadata": {},
   "source": [
    "### Plot the time courses for the two different initial conditions on the same set of axes. "
   ]
  },
  {
   "cell_type": "code",
   "execution_count": null,
   "id": "f08c3286-d119-431d-9b42-7b976e283a63",
   "metadata": {},
   "outputs": [],
   "source": [
    "fig = plt.figure()\n",
    "ax = fig.add_subplot()\n",
    "ax.plot(t_vals,y_vals,'.-')\n",
    "ax.plot(t_vals2,y_vals2,'.-')\n",
    "ax.set_xlabel('Time')\n",
    "ax.set_ylabel('Concentration');"
   ]
  },
  {
   "cell_type": "markdown",
   "id": "feb202a4-311f-473b-9a4e-0e5122ed6bdc",
   "metadata": {},
   "source": [
    "#### This is known as bistability - for the same system the final outcome can be different depending on where you are start. There are two different steady states and which one is reached depends on the past state of the system. "
   ]
  },
  {
   "cell_type": "markdown",
   "id": "03a62fc7-ff6c-4d54-8a88-3f11a393660a",
   "metadata": {},
   "source": [
    "### Let's see how this works by plotting the derivitive as a function of the concentration of the regulator. "
   ]
  },
  {
   "cell_type": "code",
   "execution_count": null,
   "id": "c2ceca40-3d30-4833-918a-0b595fc98af1",
   "metadata": {},
   "outputs": [],
   "source": [
    "xvals = np.arange(0,6,0.1)\n",
    "zz = np.zeros(xvals.shape)\n",
    "ku = 0\n",
    "kb = 5\n",
    "deriv = autoRegulationModel(0,xvals,ku,kb)\n",
    "plt.plot(xvals,deriv,'.-')\n",
    "plt.plot(xvals,zz,'-',color = 'k')\n",
    "plt.xlabel('Concentration');\n",
    "plt.xlabel('Derivative');\n"
   ]
  },
  {
   "cell_type": "markdown",
   "id": "491ccc2f-78a3-493f-aa89-976d89b09a5e",
   "metadata": {},
   "source": [
    "This crosses 0 three times, so there are 3 fixed points. 2 are stable and 1 is unstable. \n",
    "\n",
    "### Lower kb to 1, what does this look like now. "
   ]
  },
  {
   "cell_type": "code",
   "execution_count": null,
   "id": "612f22f8-684f-4d8f-a272-32610e266f3d",
   "metadata": {},
   "outputs": [],
   "source": [
    "xvals = np.arange(0,6,0.1)\n",
    "zz = np.zeros(xvals.shape)\n",
    "ku = 0\n",
    "kb = 1\n",
    "deriv = autoRegulationModel(0,xvals,ku,kb)\n",
    "plt.plot(xvals,deriv,'.-')\n",
    "plt.plot(xvals,zz,'-',color = 'k')\n",
    "plt.xlabel('Concentration');\n",
    "plt.xlabel('Derivative');"
   ]
  },
  {
   "cell_type": "markdown",
   "id": "8a31347e-8cbd-4f96-8ced-832b17ba94ae",
   "metadata": {},
   "source": [
    "Now there is only 1 fixed point at 0"
   ]
  },
  {
   "cell_type": "markdown",
   "id": "6e0e54e2-c778-40ff-a7e8-8611f9aa60dc",
   "metadata": {},
   "source": [
    "### We can get a more holistic view by plotting the available steady states as a function of parameters. The steady states are defined by $\\frac{dx}{dt} = \\frac{k_u + k_b x^2}{1+x^2}-x$ which is the same as $x^3-k_bx^2+x-k_u = 0$. This can be solved with the np.roots function:"
   ]
  },
  {
   "cell_type": "code",
   "execution_count": null,
   "id": "f1ffdc66-62eb-4d82-8717-fc06d47e6981",
   "metadata": {},
   "outputs": [],
   "source": [
    "fig = plt.figure()\n",
    "ax = fig.add_subplot()\n",
    "ku = 0\n",
    "for kb in np.arange(0,4,0.05):\n",
    "    rts = np.roots([1,-kb,1,-ku])\n",
    "    rts = rts[rts == np.real(rts)]\n",
    "    ax.plot(kb*np.ones(rts.shape),rts,'.',color = 'k')    \n",
    "ax.set_xlabel('$k_b$')\n",
    "ax.set_ylabel('Steady state concentration');"
   ]
  },
  {
   "cell_type": "markdown",
   "id": "65db81e3-15c7-432a-a19e-97a914454510",
   "metadata": {},
   "source": [
    "This is called a bifurcation diagram. It shows the steady states as a function of a parameter and importantly it shows where this changes. Here around $k_b=2$ there a bifurcation where two new fixed points appear. This is called a saddle node bifurcation.\n",
    "\n",
    "### set $k_u = 0.1$ and remake the bifurcation diagram:"
   ]
  },
  {
   "cell_type": "code",
   "execution_count": null,
   "id": "ef1bb482-ce55-4a59-af2a-70539ea9a185",
   "metadata": {},
   "outputs": [],
   "source": [
    "fig = plt.figure()\n",
    "ax = fig.add_subplot()\n",
    "ku = 0.1\n",
    "for kb in np.arange(0,4,0.05):\n",
    "    rts = np.roots([1,-kb,1,-ku])\n",
    "    rts = rts[rts == np.real(rts)]\n",
    "    ax.plot(kb*np.ones(rts.shape),rts,'.',color = 'k')    \n",
    "ax.set_xlabel('$k_b$')\n",
    "ax.set_ylabel('Steady state concentration');"
   ]
  },
  {
   "cell_type": "markdown",
   "id": "34a034e8-bfbb-49c8-9d5c-cb27dab97a1e",
   "metadata": {},
   "source": [
    "Now there are two bifurcations, one where two fixed points appear and the other where they disappear. \n",
    "\n",
    "Each bifurcation has a normal form, the simplest form of that bifurcation. For this saddle node it is $\\frac{dx}{dt} = r+x^2$. This has two fixed points for $r<0$ and none for $r>0$"
   ]
  },
  {
   "cell_type": "code",
   "execution_count": null,
   "id": "43e5433c-30a5-4163-96b3-81d7a8ab0fc8",
   "metadata": {},
   "outputs": [],
   "source": []
  }
 ],
 "metadata": {
  "kernelspec": {
   "display_name": "Python 3 (ipykernel)",
   "language": "python",
   "name": "python3"
  },
  "language_info": {
   "codemirror_mode": {
    "name": "ipython",
    "version": 3
   },
   "file_extension": ".py",
   "mimetype": "text/x-python",
   "name": "python",
   "nbconvert_exporter": "python",
   "pygments_lexer": "ipython3",
   "version": "3.10.13"
  }
 },
 "nbformat": 4,
 "nbformat_minor": 5
}
