{
 "cells": [
  {
   "cell_type": "markdown",
   "id": "3555859b-82a9-40b1-8298-abe9cf01da8c",
   "metadata": {},
   "source": [
    "# BIOS470/570 Lecture 2"
   ]
  },
  {
   "cell_type": "markdown",
   "id": "ed4a889f-08b3-45d7-975a-257cdeef02cd",
   "metadata": {
    "slideshow": {
     "slide_type": "slide"
    },
    "tags": []
   },
   "source": [
    "## Last time we covered:\n",
    "* ### Using github to manage code\n",
    "* ### Using the conda package manager to create environments and install packages\n",
    "* ### Basic variable types in python (int, float, str, bool)\n",
    "* ### = vs ==\n",
    "* ### Lists and slicing"
   ]
  },
  {
   "cell_type": "markdown",
   "id": "dedc6bd5-5602-4585-878c-bf2faf75d62f",
   "metadata": {
    "jp-MarkdownHeadingCollapsed": true,
    "slideshow": {
     "slide_type": "slide"
    },
    "tags": []
   },
   "source": [
    "## Today we will cover:\n",
    "* ### other builtin python types for storing collections of objects\n",
    "* ### mutable vs immutable\n",
    "* ### copy vs view\n",
    "* ### basic conditional and loops\n",
    "* ### importing packages into the workspace"
   ]
  },
  {
   "cell_type": "markdown",
   "id": "481ac6f1-c003-45d1-a691-28cd7e472f4d",
   "metadata": {
    "tags": []
   },
   "source": [
    "## Reminder: a list is a collection of objects. It is denoted by square brackets. List can contain mixtures of variable types including other lists. For example:"
   ]
  },
  {
   "cell_type": "code",
   "execution_count": 93,
   "id": "73ca1b31-dbf2-46f1-8853-029c33a91cdd",
   "metadata": {
    "tags": []
   },
   "outputs": [],
   "source": [
    "list1 = [78,\"foo\", [1, 3, 4], [\"list\", \"of\",\"strings\"]]"
   ]
  },
  {
   "cell_type": "code",
   "execution_count": 94,
   "id": "42ff7799-5707-4ddd-8177-e7148ba1b5eb",
   "metadata": {
    "tags": []
   },
   "outputs": [
    {
     "name": "stdout",
     "output_type": "stream",
     "text": [
      "foo\n"
     ]
    }
   ],
   "source": [
    "print(list1[1])"
   ]
  },
  {
   "cell_type": "code",
   "execution_count": 95,
   "id": "61320631-612e-40dd-a539-cb25b1e0da6e",
   "metadata": {
    "tags": []
   },
   "outputs": [
    {
     "name": "stdout",
     "output_type": "stream",
     "text": [
      "3\n"
     ]
    }
   ],
   "source": [
    "print(list1[2][1])"
   ]
  },
  {
   "cell_type": "code",
   "execution_count": 96,
   "id": "7149a808-96a5-4e70-a7f9-bd319de5652a",
   "metadata": {
    "tags": []
   },
   "outputs": [
    {
     "name": "stdout",
     "output_type": "stream",
     "text": [
      "strings\n"
     ]
    }
   ],
   "source": [
    "print(list1[3][2])"
   ]
  },
  {
   "cell_type": "markdown",
   "id": "73473789-7d4b-4ee5-84cf-76e70ad8e78a",
   "metadata": {
    "tags": []
   },
   "source": [
    "## A tuple is very similar to a list, denoted by parenthesis:"
   ]
  },
  {
   "cell_type": "code",
   "execution_count": 97,
   "id": "352f7761-fafc-42cf-998f-0e01121df900",
   "metadata": {
    "tags": []
   },
   "outputs": [
    {
     "name": "stdout",
     "output_type": "stream",
     "text": [
      "(1, 4.5, 'string1', [1, 2.3, 'string2'])\n"
     ]
    }
   ],
   "source": [
    "tup1 = (1, 4.5, \"string1\", [1, 2.3, \"string2\"])\n",
    "print(tup1)"
   ]
  },
  {
   "cell_type": "markdown",
   "id": "c3a95997-ae75-4d36-b25e-71b5f9939156",
   "metadata": {},
   "source": [
    "## The key difference between tuples and lists is that lists are mutable while tuples are immutable:"
   ]
  },
  {
   "cell_type": "code",
   "execution_count": 98,
   "id": "628eafb8-857a-470b-9618-699ed53e12a6",
   "metadata": {
    "tags": []
   },
   "outputs": [
    {
     "name": "stdout",
     "output_type": "stream",
     "text": [
      "[78, 'foo', [1, 3, 4], ['list', 'of', 'strings']]\n",
      "['New first element', 'foo', [1, 3, 4], ['list', 'of', 'strings']]\n"
     ]
    }
   ],
   "source": [
    "#lists are mutable:\n",
    "print(list1)\n",
    "list1[0] = \"New first element\"\n",
    "print(list1)"
   ]
  },
  {
   "cell_type": "code",
   "execution_count": 99,
   "id": "5f53fdb4-b1a7-469d-b4a3-d6feeaa59bde",
   "metadata": {
    "tags": []
   },
   "outputs": [
    {
     "name": "stdout",
     "output_type": "stream",
     "text": [
      "(1, 4.5, 'string1', [1, 2.3, 'string2'])\n",
      "1\n"
     ]
    },
    {
     "ename": "TypeError",
     "evalue": "'tuple' object does not support item assignment",
     "output_type": "error",
     "traceback": [
      "\u001b[0;31m---------------------------------------------------------------------------\u001b[0m",
      "\u001b[0;31mTypeError\u001b[0m                                 Traceback (most recent call last)",
      "Cell \u001b[0;32mIn[99], line 4\u001b[0m\n\u001b[1;32m      2\u001b[0m \u001b[38;5;28mprint\u001b[39m(tup1)\n\u001b[1;32m      3\u001b[0m \u001b[38;5;28mprint\u001b[39m(tup1[\u001b[38;5;241m0\u001b[39m]) \u001b[38;5;66;03m#Note defition uses parenthesis but accessing elements usings brackets. \u001b[39;00m\n\u001b[0;32m----> 4\u001b[0m tup1[\u001b[38;5;241m0\u001b[39m] \u001b[38;5;241m=\u001b[39m \u001b[38;5;124m\"\u001b[39m\u001b[38;5;124mNew first tup element\u001b[39m\u001b[38;5;124m\"\u001b[39m\n",
      "\u001b[0;31mTypeError\u001b[0m: 'tuple' object does not support item assignment"
     ]
    }
   ],
   "source": [
    "# tuples are immutable:\n",
    "print(tup1)\n",
    "print(tup1[0]) #Note defition uses parenthesis but accessing elements usings brackets. \n",
    "tup1[0] = \"New first tup element\""
   ]
  },
  {
   "cell_type": "markdown",
   "id": "ee0a3a1c-ed7b-46d5-b274-0407af70673c",
   "metadata": {
    "tags": []
   },
   "source": [
    "### So how can I make a new tuple with a different first element:"
   ]
  },
  {
   "cell_type": "code",
   "execution_count": 100,
   "id": "b49fbfb3-8670-495a-9166-2d4f97a1f08a",
   "metadata": {
    "tags": []
   },
   "outputs": [
    {
     "name": "stdout",
     "output_type": "stream",
     "text": [
      "('New first tup element', (4.5, 'string1', [1, 2.3, 'string2']))\n"
     ]
    }
   ],
   "source": [
    "tup2 = (\"New first tup element\", tup1[1:]) #this almost works \n",
    "print(tup2)"
   ]
  },
  {
   "cell_type": "code",
   "execution_count": 101,
   "id": "4d84d50a-09b6-4772-b955-a832edee4ae1",
   "metadata": {
    "tags": []
   },
   "outputs": [
    {
     "name": "stdout",
     "output_type": "stream",
     "text": [
      "('New first tup element', 4.5, 'string1', [1, 2.3, 'string2'])\n"
     ]
    }
   ],
   "source": [
    "tup3 = (\"New first tup element\",)+tup1[1:] #this gives the desired result\n",
    "print(tup3)"
   ]
  },
  {
   "cell_type": "markdown",
   "id": "c1035f65-0829-4b39-a4d1-cfb8103158df",
   "metadata": {
    "tags": []
   },
   "source": [
    "## A set is an unordered collection of objects. Sets are mutable so you can add to them"
   ]
  },
  {
   "cell_type": "code",
   "execution_count": 102,
   "id": "6604b023-7edc-4c58-845a-313849515d86",
   "metadata": {
    "tags": []
   },
   "outputs": [
    {
     "name": "stdout",
     "output_type": "stream",
     "text": [
      "{'a', 1, 4.5}\n",
      "{'a', 1, 4.5, 92}\n",
      "{'a', 4.5, 92}\n"
     ]
    }
   ],
   "source": [
    "set1 = {\"a\",1,4.5}\n",
    "print(set1)\n",
    "set1.add(92)\n",
    "print(set1)\n",
    "set1.remove(1)\n",
    "print(set1)"
   ]
  },
  {
   "cell_type": "code",
   "execution_count": 103,
   "id": "08a31720-7a85-43c6-8d98-1a279077c5b3",
   "metadata": {
    "tags": []
   },
   "outputs": [
    {
     "name": "stdout",
     "output_type": "stream",
     "text": [
      "True\n",
      "False\n"
     ]
    }
   ],
   "source": [
    "## You can check the contents of any of these types:\n",
    "print('a' in set1)\n",
    "print('a' in list1)"
   ]
  },
  {
   "cell_type": "markdown",
   "id": "42fa3587-2811-4887-946d-b5c392af6d20",
   "metadata": {},
   "source": [
    "## Dictionaries are collections of objects each of which can be referenced by a key."
   ]
  },
  {
   "cell_type": "code",
   "execution_count": 104,
   "id": "2247a221-7abb-45b1-832e-572e2fb44eaf",
   "metadata": {
    "tags": []
   },
   "outputs": [
    {
     "name": "stdout",
     "output_type": "stream",
     "text": [
      "23\n",
      "98\n"
     ]
    }
   ],
   "source": [
    "dict1 = {\"a\":12,\"b\":23,\"c\":98}\n",
    "print(dict1[\"b\"])\n",
    "print(dict1[\"c\"])"
   ]
  },
  {
   "cell_type": "markdown",
   "id": "6a5d2cf6-9449-4215-ac0a-e41a1b2209df",
   "metadata": {},
   "source": [
    "### Dictionaries are mutable so you can add and delete keys and values:"
   ]
  },
  {
   "cell_type": "code",
   "execution_count": 105,
   "id": "566941ce-37a5-4a62-b3ac-6438c036f1e2",
   "metadata": {
    "tags": []
   },
   "outputs": [
    {
     "name": "stdout",
     "output_type": "stream",
     "text": [
      "{'a': 12, 'b': 23, 'c': 98, 'd': 45}\n",
      "{'b': 23, 'c': 98, 'd': 45}\n"
     ]
    }
   ],
   "source": [
    "dict1[\"d\"] = 45\n",
    "print(dict1)\n",
    "del dict1[\"a\"]\n",
    "print(dict1)"
   ]
  },
  {
   "cell_type": "markdown",
   "id": "21c81b65-56c7-4357-a98a-cdf0612df521",
   "metadata": {},
   "source": [
    "## When you set two arrays equal, you are not creating a new array but a new object with a view of the same data. \n",
    "### This matters because if you change one, the other will also change:"
   ]
  },
  {
   "cell_type": "code",
   "execution_count": 106,
   "id": "0fe35fe0-b5b7-4aac-b074-759661ff7b9b",
   "metadata": {
    "tags": []
   },
   "outputs": [
    {
     "name": "stdout",
     "output_type": "stream",
     "text": [
      "a is  [1, 2, 3, 4, 5, 6]  and b is  [1, 2, 3, 4, 5, 6]\n"
     ]
    }
   ],
   "source": [
    "a = [1, 2, 3, 4, 5, 6]\n",
    "b = a\n",
    "print(\"a is \",a,\" and b is \",b)"
   ]
  },
  {
   "cell_type": "code",
   "execution_count": 107,
   "id": "9db72248-9673-4fb9-a441-1d8de2749900",
   "metadata": {
    "tags": []
   },
   "outputs": [
    {
     "name": "stdout",
     "output_type": "stream",
     "text": [
      "a is  [1, 2, 3, 185, 5, 6]  and b is  [1, 2, 3, 185, 5, 6]\n"
     ]
    }
   ],
   "source": [
    "b[3] = 185\n",
    "print(\"a is \",a,\" and b is \",b)"
   ]
  },
  {
   "cell_type": "markdown",
   "id": "eaee11b3-9f2b-4bb0-8e2e-44947586d1be",
   "metadata": {},
   "source": [
    "## Note that if you use b = ... b will be completely reassigned and the link to a will be broken\n"
   ]
  },
  {
   "cell_type": "code",
   "execution_count": 108,
   "id": "865cdaf1-3975-4376-b20c-26628b1a539c",
   "metadata": {
    "tags": []
   },
   "outputs": [
    {
     "name": "stdout",
     "output_type": "stream",
     "text": [
      "a is  [1, 2, 3, 185, 5, 6]  and b is  [1, 2, 3]\n"
     ]
    }
   ],
   "source": [
    "b = [1, 2, 3]\n",
    "print(\"a is \",a,\" and b is \",b)"
   ]
  },
  {
   "cell_type": "markdown",
   "id": "dbdc390e-316a-42c4-9f10-e09340fe2531",
   "metadata": {},
   "source": [
    "## If you want to create a completely new object, use the copy function"
   ]
  },
  {
   "cell_type": "code",
   "execution_count": 109,
   "id": "e37b01c8-fa27-4561-a783-2daf2c6fa712",
   "metadata": {
    "tags": []
   },
   "outputs": [
    {
     "name": "stdout",
     "output_type": "stream",
     "text": [
      "a is  [1, 2, 3, 185, 5, 6]  and b is  [1, 2, 3, 185, 5, 6]\n"
     ]
    }
   ],
   "source": [
    "b = a.copy()\n",
    "print(\"a is \",a,\" and b is \",b)"
   ]
  },
  {
   "cell_type": "code",
   "execution_count": 110,
   "id": "90b772dc-d9c1-4e19-92a1-8636d242b40b",
   "metadata": {
    "tags": []
   },
   "outputs": [
    {
     "name": "stdout",
     "output_type": "stream",
     "text": [
      "a is  [1, 2, 3, 185, 5, 6]  and b is  [1, 2, 3, 4, 5, 6]\n"
     ]
    }
   ],
   "source": [
    "b[3] = 4\n",
    "print(\"a is \",a,\" and b is \",b)"
   ]
  },
  {
   "cell_type": "markdown",
   "id": "6e2f1e75-d58b-4ad7-8837-ca3e37d0f145",
   "metadata": {},
   "source": [
    "## You can use the \"is\" keyword to test if two objects contain the same data. "
   ]
  },
  {
   "cell_type": "code",
   "execution_count": 111,
   "id": "90b81445-e7e1-4553-9d2d-c386c738095a",
   "metadata": {
    "tags": []
   },
   "outputs": [
    {
     "name": "stdout",
     "output_type": "stream",
     "text": [
      "True\n",
      "True\n"
     ]
    }
   ],
   "source": [
    "b = a.copy()\n",
    "c = a\n",
    "print(b==a)\n",
    "print(c==a)"
   ]
  },
  {
   "cell_type": "code",
   "execution_count": 112,
   "id": "41ce2efd-2e15-4813-a024-6ffa840a964d",
   "metadata": {
    "tags": []
   },
   "outputs": [
    {
     "name": "stdout",
     "output_type": "stream",
     "text": [
      "False\n",
      "True\n"
     ]
    }
   ],
   "source": [
    "print(b is a)\n",
    "print(c is a)"
   ]
  },
  {
   "cell_type": "markdown",
   "id": "5312537b-9397-409e-b08c-45bb56a01db9",
   "metadata": {},
   "source": [
    "## Conditionals are ways to execute a piece of code only if something is true:"
   ]
  },
  {
   "cell_type": "code",
   "execution_count": 119,
   "id": "3d7e53c9-8ab4-48b1-a012-67492c1f58cc",
   "metadata": {
    "tags": []
   },
   "outputs": [
    {
     "name": "stdout",
     "output_type": "stream",
     "text": [
      "negative\n",
      "yes\n"
     ]
    }
   ],
   "source": [
    "# note indentation and colon: \n",
    "num = -1\n",
    "if num > 0:\n",
    "    print(\"positive\")\n",
    "else:\n",
    "    print(\"negative\")\n",
    "print(\"yes\")"
   ]
  },
  {
   "cell_type": "code",
   "execution_count": 118,
   "id": "085e8cad-4407-40c4-a3c9-1694d851d383",
   "metadata": {
    "tags": []
   },
   "outputs": [
    {
     "name": "stdout",
     "output_type": "stream",
     "text": [
      "zero\n"
     ]
    }
   ],
   "source": [
    "num = 0\n",
    "if num > 0:\n",
    "    print(\"positive\")\n",
    "elif num < 0:\n",
    "    print(\"negative\")\n",
    "else:\n",
    "    print(\"zero\")"
   ]
  },
  {
   "cell_type": "markdown",
   "id": "75492f10-c699-4e23-960f-e252a3a8356c",
   "metadata": {},
   "source": [
    "## loops allow you to do something repeatedly. The range function is useful for iterating over:"
   ]
  },
  {
   "cell_type": "code",
   "execution_count": 123,
   "id": "03e53256-4172-451c-8efa-60760aa2295a",
   "metadata": {
    "tags": []
   },
   "outputs": [
    {
     "data": {
      "text/plain": [
       "[1, 3]"
      ]
     },
     "execution_count": 123,
     "metadata": {},
     "output_type": "execute_result"
    }
   ],
   "source": [
    "list(range(1,5,2))"
   ]
  },
  {
   "cell_type": "code",
   "execution_count": 125,
   "id": "ddd2fc76-f26c-4989-b065-95c228559324",
   "metadata": {
    "tags": []
   },
   "outputs": [
    {
     "name": "stdout",
     "output_type": "stream",
     "text": [
      "0\n",
      "1\n",
      "2\n",
      "3\n",
      "4\n",
      "5\n",
      "6\n",
      "7\n",
      "8\n",
      "9\n"
     ]
    }
   ],
   "source": [
    "for ii in range(10):\n",
    "    print(ii)"
   ]
  },
  {
   "cell_type": "markdown",
   "id": "bb62ba91-a2a0-4466-bb2b-33de976c78eb",
   "metadata": {},
   "source": [
    "## You can iterate over any of list, tuple, set..."
   ]
  },
  {
   "cell_type": "code",
   "execution_count": 126,
   "id": "89722bca-061b-447d-9343-243e37d54680",
   "metadata": {
    "tags": []
   },
   "outputs": [
    {
     "name": "stdout",
     "output_type": "stream",
     "text": [
      "New first element\n",
      "foo\n",
      "[1, 3, 4]\n",
      "['list', 'of', 'strings']\n"
     ]
    }
   ],
   "source": [
    "for ii in list1:\n",
    "    print(ii)"
   ]
  },
  {
   "cell_type": "code",
   "execution_count": 127,
   "id": "d7182b72-d9bc-4bd3-8774-45bd3aff7ea3",
   "metadata": {
    "tags": []
   },
   "outputs": [
    {
     "name": "stdout",
     "output_type": "stream",
     "text": [
      "1\n",
      "4.5\n",
      "string1\n",
      "[1, 2.3, 'string2']\n"
     ]
    }
   ],
   "source": [
    "for ii in tup1:\n",
    "    print(ii)"
   ]
  },
  {
   "cell_type": "code",
   "execution_count": 129,
   "id": "84842a85-cba4-47d4-9997-188c540e9229",
   "metadata": {
    "tags": []
   },
   "outputs": [
    {
     "name": "stdout",
     "output_type": "stream",
     "text": [
      "b 23\n",
      "c 98\n",
      "d 45\n"
     ]
    }
   ],
   "source": [
    "for ii in dict1:\n",
    "    print(ii,dict1[ii])"
   ]
  },
  {
   "cell_type": "markdown",
   "id": "df3b8c91-b9a1-4227-9c4b-319cfe4af05a",
   "metadata": {
    "tags": []
   },
   "source": [
    "### what if we want to iterate through the values?"
   ]
  },
  {
   "cell_type": "code",
   "execution_count": 130,
   "id": "e57ff0da-9544-4922-a144-6cf32b30ab8f",
   "metadata": {
    "tags": []
   },
   "outputs": [
    {
     "name": "stdout",
     "output_type": "stream",
     "text": [
      "23\n",
      "98\n",
      "45\n"
     ]
    }
   ],
   "source": [
    "for vv in dict1.values():\n",
    "    print(vv)"
   ]
  },
  {
   "cell_type": "code",
   "execution_count": 131,
   "id": "d5247aa0-485d-4b75-87c7-f482ec126fdc",
   "metadata": {
    "tags": []
   },
   "outputs": [
    {
     "name": "stdout",
     "output_type": "stream",
     "text": [
      "b 23\n",
      "c 98\n",
      "d 45\n"
     ]
    }
   ],
   "source": [
    "for kk,vv in dict1.items():\n",
    "    print(kk,vv)"
   ]
  },
  {
   "cell_type": "markdown",
   "id": "9c5c0999-d4b6-4067-82c5-df98b27ba7be",
   "metadata": {
    "slideshow": {
     "slide_type": "slide"
    },
    "tags": []
   },
   "source": [
    "## Importing packages\n",
    "#### Using the dir function, you will notice that there aren't very many functions built in to the base python. For example, basic mathematical functions such as logarithms or triginometric functions are missing. a common operation in processing transcriptomic data is to the log base 2 of the count numbers. Where can we find a function to do this? The numpy packages contains a wealth of functions for mathematical operations. "
   ]
  },
  {
   "cell_type": "code",
   "execution_count": null,
   "id": "5d6d2401-b53b-4d65-948e-b2350dacc00d",
   "metadata": {
    "slideshow": {
     "slide_type": "fragment"
    },
    "tags": []
   },
   "outputs": [],
   "source": [
    "import numpy "
   ]
  },
  {
   "cell_type": "code",
   "execution_count": 132,
   "id": "e1dd5107-3d88-4641-99fe-b7c700cd2e32",
   "metadata": {
    "slideshow": {
     "slide_type": "fragment"
    },
    "tags": []
   },
   "outputs": [
    {
     "name": "stdout",
     "output_type": "stream",
     "text": [
      "[4.52356196 6.33985    1.         4.24792751 9.96578428]\n"
     ]
    }
   ],
   "source": [
    "expr = [23, 81, 2, 19, 1000]\n",
    "expr_log = numpy.log2(expr)\n",
    "print(expr_log)"
   ]
  },
  {
   "cell_type": "markdown",
   "id": "28f1fbd5-15bd-445c-ba85-9843845648dd",
   "metadata": {
    "slideshow": {
     "slide_type": "slide"
    },
    "tags": []
   },
   "source": [
    "#### Note the type of expr_log. This is a very useful data type that we will discuss in detail next week. "
   ]
  },
  {
   "cell_type": "code",
   "execution_count": 133,
   "id": "c8750dbb-757a-430e-a0bb-1d8c599653c0",
   "metadata": {
    "slideshow": {
     "slide_type": "fragment"
    },
    "tags": []
   },
   "outputs": [
    {
     "data": {
      "text/plain": [
       "numpy.ndarray"
      ]
     },
     "execution_count": 133,
     "metadata": {},
     "output_type": "execute_result"
    }
   ],
   "source": [
    "type(expr_log)"
   ]
  },
  {
   "cell_type": "markdown",
   "id": "76b5e1bd-dbe9-4553-8c21-bdbf62722c6e",
   "metadata": {
    "slideshow": {
     "slide_type": "slide"
    },
    "tags": []
   },
   "source": [
    "### you can import a package and give it any name you want. This is the standard convention for numpy: "
   ]
  },
  {
   "cell_type": "code",
   "execution_count": 134,
   "id": "5f7d7080-bd7e-4752-b628-6f81ac8707f6",
   "metadata": {
    "slideshow": {
     "slide_type": "fragment"
    },
    "tags": []
   },
   "outputs": [
    {
     "data": {
      "text/plain": [
       "array([4.52356196, 6.33985   , 1.        , 4.24792751, 9.96578428])"
      ]
     },
     "execution_count": 134,
     "metadata": {},
     "output_type": "execute_result"
    }
   ],
   "source": [
    "import numpy as np\n",
    "np.log2(expr)"
   ]
  },
  {
   "cell_type": "markdown",
   "id": "8303625c-df6f-450a-9372-ff06cd1c6259",
   "metadata": {
    "slideshow": {
     "slide_type": "fragment"
    },
    "tags": []
   },
   "source": [
    "### If you only need one function, you can import it directly to your current workspace without a name:"
   ]
  },
  {
   "cell_type": "code",
   "execution_count": 135,
   "id": "1ab994f2-1978-4087-bf71-d454ab1fc94b",
   "metadata": {
    "slideshow": {
     "slide_type": "fragment"
    },
    "tags": []
   },
   "outputs": [
    {
     "data": {
      "text/plain": [
       "array([4.52356196, 6.33985   , 1.        , 4.24792751, 9.96578428])"
      ]
     },
     "execution_count": 135,
     "metadata": {},
     "output_type": "execute_result"
    }
   ],
   "source": [
    "from numpy import log2\n",
    "log2(expr)"
   ]
  },
  {
   "cell_type": "markdown",
   "id": "ba44393f-82e8-49ca-9e76-a341eb4a0a58",
   "metadata": {
    "slideshow": {
     "slide_type": "fragment"
    },
    "tags": []
   },
   "source": [
    "#### 'from numpy import *' will import all functions but this is not recommended as it can lead to conflicts with other packages.\n",
    "\n",
    "#### This will show all the objects and functions in the numpy space. There is a lot here than in python alone"
   ]
  },
  {
   "cell_type": "code",
   "execution_count": 136,
   "id": "555de63d-ce15-4fe9-8ffe-a71d4ae7f836",
   "metadata": {
    "collapsed": true,
    "jupyter": {
     "outputs_hidden": true
    },
    "tags": []
   },
   "outputs": [
    {
     "data": {
      "text/plain": [
       "['ALLOW_THREADS',\n",
       " 'BUFSIZE',\n",
       " 'CLIP',\n",
       " 'DataSource',\n",
       " 'ERR_CALL',\n",
       " 'ERR_DEFAULT',\n",
       " 'ERR_IGNORE',\n",
       " 'ERR_LOG',\n",
       " 'ERR_PRINT',\n",
       " 'ERR_RAISE',\n",
       " 'ERR_WARN',\n",
       " 'FLOATING_POINT_SUPPORT',\n",
       " 'FPE_DIVIDEBYZERO',\n",
       " 'FPE_INVALID',\n",
       " 'FPE_OVERFLOW',\n",
       " 'FPE_UNDERFLOW',\n",
       " 'False_',\n",
       " 'Inf',\n",
       " 'Infinity',\n",
       " 'MAXDIMS',\n",
       " 'MAY_SHARE_BOUNDS',\n",
       " 'MAY_SHARE_EXACT',\n",
       " 'NAN',\n",
       " 'NINF',\n",
       " 'NZERO',\n",
       " 'NaN',\n",
       " 'PINF',\n",
       " 'PZERO',\n",
       " 'RAISE',\n",
       " 'RankWarning',\n",
       " 'SHIFT_DIVIDEBYZERO',\n",
       " 'SHIFT_INVALID',\n",
       " 'SHIFT_OVERFLOW',\n",
       " 'SHIFT_UNDERFLOW',\n",
       " 'ScalarType',\n",
       " 'True_',\n",
       " 'UFUNC_BUFSIZE_DEFAULT',\n",
       " 'UFUNC_PYVALS_NAME',\n",
       " 'WRAP',\n",
       " '_CopyMode',\n",
       " '_NoValue',\n",
       " '_UFUNC_API',\n",
       " '__NUMPY_SETUP__',\n",
       " '__all__',\n",
       " '__builtins__',\n",
       " '__cached__',\n",
       " '__config__',\n",
       " '__deprecated_attrs__',\n",
       " '__dir__',\n",
       " '__doc__',\n",
       " '__expired_functions__',\n",
       " '__file__',\n",
       " '__former_attrs__',\n",
       " '__future_scalars__',\n",
       " '__getattr__',\n",
       " '__git_version__',\n",
       " '__loader__',\n",
       " '__mkl_version__',\n",
       " '__name__',\n",
       " '__package__',\n",
       " '__path__',\n",
       " '__spec__',\n",
       " '__version__',\n",
       " '_add_newdoc_ufunc',\n",
       " '_builtins',\n",
       " '_distributor_init',\n",
       " '_financial_names',\n",
       " '_get_promotion_state',\n",
       " '_globals',\n",
       " '_int_extended_msg',\n",
       " '_mat',\n",
       " '_no_nep50_warning',\n",
       " '_pyinstaller_hooks_dir',\n",
       " '_pytesttester',\n",
       " '_set_promotion_state',\n",
       " '_specific_msg',\n",
       " '_typing',\n",
       " '_using_numpy2_behavior',\n",
       " '_utils',\n",
       " '_version',\n",
       " 'abs',\n",
       " 'absolute',\n",
       " 'add',\n",
       " 'add_docstring',\n",
       " 'add_newdoc',\n",
       " 'add_newdoc_ufunc',\n",
       " 'all',\n",
       " 'allclose',\n",
       " 'alltrue',\n",
       " 'amax',\n",
       " 'amin',\n",
       " 'angle',\n",
       " 'any',\n",
       " 'append',\n",
       " 'apply_along_axis',\n",
       " 'apply_over_axes',\n",
       " 'arange',\n",
       " 'arccos',\n",
       " 'arccosh',\n",
       " 'arcsin',\n",
       " 'arcsinh',\n",
       " 'arctan',\n",
       " 'arctan2',\n",
       " 'arctanh',\n",
       " 'argmax',\n",
       " 'argmin',\n",
       " 'argpartition',\n",
       " 'argsort',\n",
       " 'argwhere',\n",
       " 'around',\n",
       " 'array',\n",
       " 'array2string',\n",
       " 'array_equal',\n",
       " 'array_equiv',\n",
       " 'array_repr',\n",
       " 'array_split',\n",
       " 'array_str',\n",
       " 'asanyarray',\n",
       " 'asarray',\n",
       " 'asarray_chkfinite',\n",
       " 'ascontiguousarray',\n",
       " 'asfarray',\n",
       " 'asfortranarray',\n",
       " 'asmatrix',\n",
       " 'atleast_1d',\n",
       " 'atleast_2d',\n",
       " 'atleast_3d',\n",
       " 'average',\n",
       " 'bartlett',\n",
       " 'base_repr',\n",
       " 'binary_repr',\n",
       " 'bincount',\n",
       " 'bitwise_and',\n",
       " 'bitwise_not',\n",
       " 'bitwise_or',\n",
       " 'bitwise_xor',\n",
       " 'blackman',\n",
       " 'block',\n",
       " 'bmat',\n",
       " 'bool_',\n",
       " 'broadcast',\n",
       " 'broadcast_arrays',\n",
       " 'broadcast_shapes',\n",
       " 'broadcast_to',\n",
       " 'busday_count',\n",
       " 'busday_offset',\n",
       " 'busdaycalendar',\n",
       " 'byte',\n",
       " 'byte_bounds',\n",
       " 'bytes_',\n",
       " 'c_',\n",
       " 'can_cast',\n",
       " 'cast',\n",
       " 'cbrt',\n",
       " 'cdouble',\n",
       " 'ceil',\n",
       " 'cfloat',\n",
       " 'char',\n",
       " 'character',\n",
       " 'chararray',\n",
       " 'choose',\n",
       " 'clip',\n",
       " 'clongdouble',\n",
       " 'clongfloat',\n",
       " 'column_stack',\n",
       " 'common_type',\n",
       " 'compare_chararrays',\n",
       " 'compat',\n",
       " 'complex128',\n",
       " 'complex256',\n",
       " 'complex64',\n",
       " 'complex_',\n",
       " 'complexfloating',\n",
       " 'compress',\n",
       " 'concatenate',\n",
       " 'conj',\n",
       " 'conjugate',\n",
       " 'convolve',\n",
       " 'copy',\n",
       " 'copysign',\n",
       " 'copyto',\n",
       " 'corrcoef',\n",
       " 'correlate',\n",
       " 'cos',\n",
       " 'cosh',\n",
       " 'count_nonzero',\n",
       " 'cov',\n",
       " 'cross',\n",
       " 'csingle',\n",
       " 'ctypeslib',\n",
       " 'cumprod',\n",
       " 'cumproduct',\n",
       " 'cumsum',\n",
       " 'datetime64',\n",
       " 'datetime_as_string',\n",
       " 'datetime_data',\n",
       " 'deg2rad',\n",
       " 'degrees',\n",
       " 'delete',\n",
       " 'deprecate',\n",
       " 'deprecate_with_doc',\n",
       " 'diag',\n",
       " 'diag_indices',\n",
       " 'diag_indices_from',\n",
       " 'diagflat',\n",
       " 'diagonal',\n",
       " 'diff',\n",
       " 'digitize',\n",
       " 'disp',\n",
       " 'divide',\n",
       " 'divmod',\n",
       " 'dot',\n",
       " 'double',\n",
       " 'dsplit',\n",
       " 'dstack',\n",
       " 'dtype',\n",
       " 'dtypes',\n",
       " 'e',\n",
       " 'ediff1d',\n",
       " 'einsum',\n",
       " 'einsum_path',\n",
       " 'emath',\n",
       " 'empty',\n",
       " 'empty_like',\n",
       " 'equal',\n",
       " 'error_message',\n",
       " 'errstate',\n",
       " 'euler_gamma',\n",
       " 'exceptions',\n",
       " 'exp',\n",
       " 'exp2',\n",
       " 'expand_dims',\n",
       " 'expm1',\n",
       " 'extract',\n",
       " 'eye',\n",
       " 'fabs',\n",
       " 'fastCopyAndTranspose',\n",
       " 'fft',\n",
       " 'fill_diagonal',\n",
       " 'find_common_type',\n",
       " 'finfo',\n",
       " 'fix',\n",
       " 'flatiter',\n",
       " 'flatnonzero',\n",
       " 'flexible',\n",
       " 'flip',\n",
       " 'fliplr',\n",
       " 'flipud',\n",
       " 'float128',\n",
       " 'float16',\n",
       " 'float32',\n",
       " 'float64',\n",
       " 'float_',\n",
       " 'float_power',\n",
       " 'floating',\n",
       " 'floor',\n",
       " 'floor_divide',\n",
       " 'fmax',\n",
       " 'fmin',\n",
       " 'fmod',\n",
       " 'format_float_positional',\n",
       " 'format_float_scientific',\n",
       " 'format_parser',\n",
       " 'frexp',\n",
       " 'from_dlpack',\n",
       " 'frombuffer',\n",
       " 'fromfile',\n",
       " 'fromfunction',\n",
       " 'fromiter',\n",
       " 'frompyfunc',\n",
       " 'fromregex',\n",
       " 'fromstring',\n",
       " 'full',\n",
       " 'full_like',\n",
       " 'gcd',\n",
       " 'generic',\n",
       " 'genfromtxt',\n",
       " 'geomspace',\n",
       " 'get_array_wrap',\n",
       " 'get_include',\n",
       " 'get_printoptions',\n",
       " 'getbufsize',\n",
       " 'geterr',\n",
       " 'geterrcall',\n",
       " 'geterrobj',\n",
       " 'gradient',\n",
       " 'greater',\n",
       " 'greater_equal',\n",
       " 'half',\n",
       " 'hamming',\n",
       " 'hanning',\n",
       " 'heaviside',\n",
       " 'histogram',\n",
       " 'histogram2d',\n",
       " 'histogram_bin_edges',\n",
       " 'histogramdd',\n",
       " 'hsplit',\n",
       " 'hstack',\n",
       " 'hypot',\n",
       " 'i0',\n",
       " 'identity',\n",
       " 'iinfo',\n",
       " 'imag',\n",
       " 'in1d',\n",
       " 'index_exp',\n",
       " 'indices',\n",
       " 'inexact',\n",
       " 'inf',\n",
       " 'info',\n",
       " 'infty',\n",
       " 'inner',\n",
       " 'insert',\n",
       " 'int16',\n",
       " 'int32',\n",
       " 'int64',\n",
       " 'int8',\n",
       " 'int_',\n",
       " 'intc',\n",
       " 'integer',\n",
       " 'interp',\n",
       " 'intersect1d',\n",
       " 'intp',\n",
       " 'invert',\n",
       " 'is_busday',\n",
       " 'isclose',\n",
       " 'iscomplex',\n",
       " 'iscomplexobj',\n",
       " 'isfinite',\n",
       " 'isfortran',\n",
       " 'isin',\n",
       " 'isinf',\n",
       " 'isnan',\n",
       " 'isnat',\n",
       " 'isneginf',\n",
       " 'isposinf',\n",
       " 'isreal',\n",
       " 'isrealobj',\n",
       " 'isscalar',\n",
       " 'issctype',\n",
       " 'issubclass_',\n",
       " 'issubdtype',\n",
       " 'issubsctype',\n",
       " 'iterable',\n",
       " 'ix_',\n",
       " 'kaiser',\n",
       " 'kron',\n",
       " 'lcm',\n",
       " 'ldexp',\n",
       " 'left_shift',\n",
       " 'less',\n",
       " 'less_equal',\n",
       " 'lexsort',\n",
       " 'lib',\n",
       " 'linalg',\n",
       " 'linspace',\n",
       " 'little_endian',\n",
       " 'load',\n",
       " 'loadtxt',\n",
       " 'log',\n",
       " 'log10',\n",
       " 'log1p',\n",
       " 'log2',\n",
       " 'logaddexp',\n",
       " 'logaddexp2',\n",
       " 'logical_and',\n",
       " 'logical_not',\n",
       " 'logical_or',\n",
       " 'logical_xor',\n",
       " 'logspace',\n",
       " 'longcomplex',\n",
       " 'longdouble',\n",
       " 'longfloat',\n",
       " 'longlong',\n",
       " 'lookfor',\n",
       " 'ma',\n",
       " 'mask_indices',\n",
       " 'mat',\n",
       " 'matmul',\n",
       " 'matrix',\n",
       " 'max',\n",
       " 'maximum',\n",
       " 'maximum_sctype',\n",
       " 'may_share_memory',\n",
       " 'mean',\n",
       " 'median',\n",
       " 'memmap',\n",
       " 'meshgrid',\n",
       " 'mgrid',\n",
       " 'min',\n",
       " 'min_scalar_type',\n",
       " 'minimum',\n",
       " 'mintypecode',\n",
       " 'mkl',\n",
       " 'mod',\n",
       " 'modf',\n",
       " 'moveaxis',\n",
       " 'msort',\n",
       " 'multiply',\n",
       " 'nan',\n",
       " 'nan_to_num',\n",
       " 'nanargmax',\n",
       " 'nanargmin',\n",
       " 'nancumprod',\n",
       " 'nancumsum',\n",
       " 'nanmax',\n",
       " 'nanmean',\n",
       " 'nanmedian',\n",
       " 'nanmin',\n",
       " 'nanpercentile',\n",
       " 'nanprod',\n",
       " 'nanquantile',\n",
       " 'nanstd',\n",
       " 'nansum',\n",
       " 'nanvar',\n",
       " 'nbytes',\n",
       " 'ndarray',\n",
       " 'ndenumerate',\n",
       " 'ndim',\n",
       " 'ndindex',\n",
       " 'nditer',\n",
       " 'negative',\n",
       " 'nested_iters',\n",
       " 'newaxis',\n",
       " 'nextafter',\n",
       " 'nonzero',\n",
       " 'not_equal',\n",
       " 'numarray',\n",
       " 'number',\n",
       " 'obj2sctype',\n",
       " 'object_',\n",
       " 'ogrid',\n",
       " 'oldnumeric',\n",
       " 'ones',\n",
       " 'ones_like',\n",
       " 'outer',\n",
       " 'packbits',\n",
       " 'pad',\n",
       " 'partition',\n",
       " 'percentile',\n",
       " 'pi',\n",
       " 'piecewise',\n",
       " 'place',\n",
       " 'poly',\n",
       " 'poly1d',\n",
       " 'polyadd',\n",
       " 'polyder',\n",
       " 'polydiv',\n",
       " 'polyfit',\n",
       " 'polyint',\n",
       " 'polymul',\n",
       " 'polynomial',\n",
       " 'polysub',\n",
       " 'polyval',\n",
       " 'positive',\n",
       " 'power',\n",
       " 'printoptions',\n",
       " 'prod',\n",
       " 'product',\n",
       " 'promote_types',\n",
       " 'ptp',\n",
       " 'put',\n",
       " 'put_along_axis',\n",
       " 'putmask',\n",
       " 'quantile',\n",
       " 'r_',\n",
       " 'rad2deg',\n",
       " 'radians',\n",
       " 'random',\n",
       " 'ravel',\n",
       " 'ravel_multi_index',\n",
       " 'real',\n",
       " 'real_if_close',\n",
       " 'rec',\n",
       " 'recarray',\n",
       " 'recfromcsv',\n",
       " 'recfromtxt',\n",
       " 'reciprocal',\n",
       " 'record',\n",
       " 'remainder',\n",
       " 'repeat',\n",
       " 'require',\n",
       " 'reshape',\n",
       " 'resize',\n",
       " 'result_type',\n",
       " 'right_shift',\n",
       " 'rint',\n",
       " 'roll',\n",
       " 'rollaxis',\n",
       " 'roots',\n",
       " 'rot90',\n",
       " 'round',\n",
       " 'round_',\n",
       " 'row_stack',\n",
       " 's_',\n",
       " 'safe_eval',\n",
       " 'save',\n",
       " 'savetxt',\n",
       " 'savez',\n",
       " 'savez_compressed',\n",
       " 'sctype2char',\n",
       " 'sctypeDict',\n",
       " 'sctypes',\n",
       " 'searchsorted',\n",
       " 'select',\n",
       " 'set_numeric_ops',\n",
       " 'set_printoptions',\n",
       " 'set_string_function',\n",
       " 'setbufsize',\n",
       " 'setdiff1d',\n",
       " 'seterr',\n",
       " 'seterrcall',\n",
       " 'seterrobj',\n",
       " 'setxor1d',\n",
       " 'shape',\n",
       " 'shares_memory',\n",
       " 'short',\n",
       " 'show_config',\n",
       " 'show_runtime',\n",
       " 'sign',\n",
       " 'signbit',\n",
       " 'signedinteger',\n",
       " 'sin',\n",
       " 'sinc',\n",
       " 'single',\n",
       " 'singlecomplex',\n",
       " 'sinh',\n",
       " 'size',\n",
       " 'sometrue',\n",
       " 'sort',\n",
       " 'sort_complex',\n",
       " 'source',\n",
       " 'spacing',\n",
       " 'split',\n",
       " 'sqrt',\n",
       " 'square',\n",
       " 'squeeze',\n",
       " 'stack',\n",
       " 'std',\n",
       " 'str_',\n",
       " 'string_',\n",
       " 'subtract',\n",
       " 'sum',\n",
       " 'swapaxes',\n",
       " 'take',\n",
       " 'take_along_axis',\n",
       " 'tan',\n",
       " 'tanh',\n",
       " 'tensordot',\n",
       " 'test',\n",
       " 'testing',\n",
       " 'tile',\n",
       " 'timedelta64',\n",
       " 'trace',\n",
       " 'tracemalloc_domain',\n",
       " 'transpose',\n",
       " 'trapz',\n",
       " 'tri',\n",
       " 'tril',\n",
       " 'tril_indices',\n",
       " 'tril_indices_from',\n",
       " 'trim_zeros',\n",
       " 'triu',\n",
       " 'triu_indices',\n",
       " 'triu_indices_from',\n",
       " 'true_divide',\n",
       " 'trunc',\n",
       " 'typecodes',\n",
       " 'typename',\n",
       " 'ubyte',\n",
       " 'ufunc',\n",
       " 'uint',\n",
       " 'uint16',\n",
       " 'uint32',\n",
       " 'uint64',\n",
       " 'uint8',\n",
       " 'uintc',\n",
       " 'uintp',\n",
       " 'ulonglong',\n",
       " 'unicode_',\n",
       " 'union1d',\n",
       " 'unique',\n",
       " 'unpackbits',\n",
       " 'unravel_index',\n",
       " 'unsignedinteger',\n",
       " 'unwrap',\n",
       " 'ushort',\n",
       " 'vander',\n",
       " 'var',\n",
       " 'vdot',\n",
       " 'vectorize',\n",
       " 'version',\n",
       " 'void',\n",
       " 'vsplit',\n",
       " 'vstack',\n",
       " 'w',\n",
       " 'where',\n",
       " 'who',\n",
       " 'zeros',\n",
       " 'zeros_like']"
      ]
     },
     "execution_count": 136,
     "metadata": {},
     "output_type": "execute_result"
    }
   ],
   "source": [
    "dir(np)"
   ]
  },
  {
   "cell_type": "code",
   "execution_count": null,
   "id": "8f7d078f-ee29-4692-bb93-43652c9763b6",
   "metadata": {},
   "outputs": [],
   "source": []
  }
 ],
 "metadata": {
  "kernelspec": {
   "display_name": "Python 3 (ipykernel)",
   "language": "python",
   "name": "python3"
  },
  "language_info": {
   "codemirror_mode": {
    "name": "ipython",
    "version": 3
   },
   "file_extension": ".py",
   "mimetype": "text/x-python",
   "name": "python",
   "nbconvert_exporter": "python",
   "pygments_lexer": "ipython3",
   "version": "3.9.12"
  }
 },
 "nbformat": 4,
 "nbformat_minor": 5
}
