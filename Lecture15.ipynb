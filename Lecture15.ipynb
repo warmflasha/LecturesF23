{
 "cells": [
  {
   "cell_type": "markdown",
   "id": "a55f3083-8578-4f76-b193-7788bcb8f5f5",
   "metadata": {},
   "source": [
    "## BIOS 470/570 Lecture 15\n",
    "\n",
    "## Last time we covered:\n",
    "* ### Sequence alignment with Smith-Waterman\n",
    "\n",
    "## Today we will cover:\n",
    "* ### NCBI databases [Gene and nucleotide]\n",
    "* ### The blast algorithm and web interface\n",
    "* ### Accessing NCBI databases programmatically\n",
    "* ### Using the BLAST alignment tool programmatically"
   ]
  },
  {
   "cell_type": "code",
   "execution_count": 155,
   "id": "ebdd9513-4da3-44de-9da6-e788381412e6",
   "metadata": {},
   "outputs": [],
   "source": [
    "import numpy as np\n",
    "import pandas as pd\n",
    "import matplotlib.pyplot as plt\n",
    "from Bio import Entrez\n",
    "from Bio.Blast import NCBIWWW, NCBIXML"
   ]
  },
  {
   "cell_type": "markdown",
   "id": "b97e7f15-b428-46fe-b652-44552f868a8c",
   "metadata": {},
   "source": [
    "### The esearch function can be used to search the NCBI databases. Here we search for the gene Smad4 in the gene database:"
   ]
  },
  {
   "cell_type": "code",
   "execution_count": 92,
   "id": "e9551ed0-7e6c-4394-a9c5-ca749e3b3952",
   "metadata": {
    "tags": []
   },
   "outputs": [],
   "source": [
    "Entrez.email = \"aw21@rice.edu\" # \n",
    "hh = Entrez.esearch(\"Gene\",\"Smad4 [gene]\") #search the gene database for the term \"Smad4\""
   ]
  },
  {
   "cell_type": "markdown",
   "id": "079d7a03-a044-4540-8825-e7baab6af201",
   "metadata": {},
   "source": [
    "### The read function reads the result. Count gives the of results. IdList gives the database ids you can use to get the info from those entries:"
   ]
  },
  {
   "cell_type": "code",
   "execution_count": 93,
   "id": "4d8ee8f3-6533-47cf-9bab-6264feb7e661",
   "metadata": {
    "tags": []
   },
   "outputs": [
    {
     "data": {
      "text/plain": [
       "{'Count': '456', 'RetMax': '20', 'RetStart': '0', 'IdList': ['4089', '17128', '50554', '43725', '559111', '397142', '701803', '540248', '780764', '100038088', '476196', '443171', '122902875', '106037328', '468537', '100861019', '794669', '102390834', '778905', '101675099'], 'TranslationSet': [], 'TranslationStack': [{'Term': 'Smad4[gene]', 'Field': 'gene', 'Count': '456', 'Explode': 'N'}, 'GROUP'], 'QueryTranslation': 'Smad4[gene]'}"
      ]
     },
     "execution_count": 93,
     "metadata": {},
     "output_type": "execute_result"
    }
   ],
   "source": [
    "record = Entrez.read(hh)\n",
    "record"
   ]
  },
  {
   "cell_type": "markdown",
   "id": "b3a89429-8966-40a5-8776-9c92908f61eb",
   "metadata": {},
   "source": [
    "### Read the information in the ids list. A summary can be read with the esummary command:"
   ]
  },
  {
   "cell_type": "code",
   "execution_count": 95,
   "id": "01088ab3-f9ee-488c-a7c7-33ddeae205e5",
   "metadata": {
    "tags": []
   },
   "outputs": [],
   "source": [
    "summary = Entrez.esummary(db=\"gene\",  id=record[\"IdList\"][0])"
   ]
  },
  {
   "cell_type": "code",
   "execution_count": 97,
   "id": "9100e592-e24f-4f45-b1dd-7c25f51172da",
   "metadata": {},
   "outputs": [],
   "source": [
    "summary_read = Entrez.read(summary)"
   ]
  },
  {
   "cell_type": "markdown",
   "id": "321bee35-e39f-4976-9b8b-29f6f0a739f1",
   "metadata": {},
   "source": [
    "### Inside this is a dictionary with a lot of useful information:"
   ]
  },
  {
   "cell_type": "code",
   "execution_count": 120,
   "id": "f2ddb868-1338-416b-9064-e5e74df575e2",
   "metadata": {},
   "outputs": [
    {
     "data": {
      "text/plain": [
       "DictElement({'Name': 'SMAD4', 'Description': 'SMAD family member 4', 'Status': '0', 'CurrentID': '0', 'Chromosome': '18', 'GeneticSource': 'genomic', 'MapLocation': '18q21.2', 'OtherAliases': 'DPC4, JIP, MADH4, MYHRS', 'OtherDesignations': 'mothers against decapentaplegic homolog 4|MAD homolog 4|SMAD, mothers against DPP homolog 4|deleted in pancreatic carcinoma locus 4|deletion target in pancreatic carcinoma 4|mothers against decapentaplegic, Drosophila, homolog of, 4', 'NomenclatureSymbol': 'SMAD4', 'NomenclatureName': 'SMAD family member 4', 'NomenclatureStatus': 'Official', 'Mim': ['600993'], 'GenomicInfo': [{'ChrLoc': '18', 'ChrAccVer': 'NC_000018.10', 'ChrStart': '51030212', 'ChrStop': '51085041', 'ExonCount': '14'}], 'GeneWeight': '62661', 'Summary': 'This gene encodes a member of the Smad family of signal transduction proteins. Smad proteins are phosphorylated and activated by transmembrane serine-threonine receptor kinases in response to transforming growth factor (TGF)-beta signaling. The product of this gene forms homomeric complexes and heteromeric complexes with other activated Smad proteins, which then accumulate in the nucleus and regulate the transcription of target genes. This protein binds to DNA and recognizes an 8-bp palindromic sequence (GTCTAGAC) called the Smad-binding element (SBE). The protein acts as a tumor suppressor and inhibits epithelial cell proliferation. It may also have an inhibitory effect on tumors by reducing angiogenesis and increasing blood vessel hyperpermeability. The encoded protein is a crucial component of the bone morphogenetic protein signaling pathway. The Smad proteins are subject to complex regulation by post-translational modifications. Mutations or deletions in this gene have been shown to result in pancreatic cancer, juvenile polyposis syndrome, and hereditary hemorrhagic telangiectasia syndrome. [provided by RefSeq, May 2022]', 'ChrSort': '18', 'ChrStart': '51030212', 'Organism': {'ScientificName': 'Homo sapiens', 'CommonName': 'human', 'TaxID': '9606'}, 'LocationHist': [{'AnnotationRelease': 'RS_2023_10', 'AssemblyAccVer': 'GCF_000001405.40', 'ChrAccVer': 'NC_000018.10', 'ChrStart': '51030212', 'ChrStop': '51085041'}, {'AnnotationRelease': 'RS_2023_10', 'AssemblyAccVer': 'GCF_009914755.1', 'ChrAccVer': 'NC_060942.1', 'ChrStart': '51231925', 'ChrStop': '51286758'}, {'AnnotationRelease': 'RS_2023_03', 'AssemblyAccVer': 'GCF_000001405.40', 'ChrAccVer': 'NC_000018.10', 'ChrStart': '51030212', 'ChrStop': '51085041'}, {'AnnotationRelease': 'RS_2023_03', 'AssemblyAccVer': 'GCF_009914755.1', 'ChrAccVer': 'NC_060942.1', 'ChrStart': '51231925', 'ChrStop': '51286758'}, {'AnnotationRelease': '110', 'AssemblyAccVer': 'GCF_000001405.40', 'ChrAccVer': 'NC_000018.10', 'ChrStart': '51030212', 'ChrStop': '51085041'}, {'AnnotationRelease': '110', 'AssemblyAccVer': 'GCF_009914755.1', 'ChrAccVer': 'NC_060942.1', 'ChrStart': '51231925', 'ChrStop': '51286758'}, {'AnnotationRelease': '109.20211119', 'AssemblyAccVer': 'GCF_000001405.39', 'ChrAccVer': 'NC_000018.10', 'ChrStart': '51030212', 'ChrStop': '51085041'}, {'AnnotationRelease': '109.20210514', 'AssemblyAccVer': 'GCF_000001405.39', 'ChrAccVer': 'NC_000018.10', 'ChrStart': '51030212', 'ChrStop': '51085041'}, {'AnnotationRelease': '109.20210226', 'AssemblyAccVer': 'GCF_000001405.39', 'ChrAccVer': 'NC_000018.10', 'ChrStart': '51030212', 'ChrStop': '51085041'}, {'AnnotationRelease': '109.20201120', 'AssemblyAccVer': 'GCF_000001405.39', 'ChrAccVer': 'NC_000018.10', 'ChrStart': '51030212', 'ChrStop': '51085041'}, {'AnnotationRelease': '109.20200815', 'AssemblyAccVer': 'GCF_000001405.39', 'ChrAccVer': 'NC_000018.10', 'ChrStart': '51030212', 'ChrStop': '51085041'}, {'AnnotationRelease': '109.20200522', 'AssemblyAccVer': 'GCF_000001405.39', 'ChrAccVer': 'NC_000018.10', 'ChrStart': '51030212', 'ChrStop': '51085041'}, {'AnnotationRelease': '109.20200228', 'AssemblyAccVer': 'GCF_000001405.39', 'ChrAccVer': 'NC_000018.10', 'ChrStart': '51030212', 'ChrStop': '51085041'}, {'AnnotationRelease': '109.20191205', 'AssemblyAccVer': 'GCF_000001405.39', 'ChrAccVer': 'NC_000018.10', 'ChrStart': '51030212', 'ChrStop': '51085041'}, {'AnnotationRelease': '109.20190905', 'AssemblyAccVer': 'GCF_000001405.39', 'ChrAccVer': 'NC_000018.10', 'ChrStart': '51030212', 'ChrStop': '51085041'}, {'AnnotationRelease': '109.20190607', 'AssemblyAccVer': 'GCF_000001405.39', 'ChrAccVer': 'NC_000018.10', 'ChrStart': '51030212', 'ChrStop': '51085041'}, {'AnnotationRelease': '105.20220307', 'AssemblyAccVer': 'GCF_000001405.25', 'ChrAccVer': 'NC_000018.9', 'ChrStart': '48556582', 'ChrStop': '48611411'}, {'AnnotationRelease': '105.20201022', 'AssemblyAccVer': 'GCF_000001405.25', 'ChrAccVer': 'NC_000018.9', 'ChrStart': '48556582', 'ChrStop': '48611411'}, {'AnnotationRelease': '105', 'AssemblyAccVer': 'GCF_000001405.25', 'ChrAccVer': 'NC_000018.9', 'ChrStart': '48556582', 'ChrStop': '48611411'}, {'AnnotationRelease': '105', 'AssemblyAccVer': 'GCF_000002125.1', 'ChrAccVer': 'AC_000150.1', 'ChrStart': '45411926', 'ChrStop': '45466922'}, {'AnnotationRelease': '105', 'AssemblyAccVer': 'GCF_000306695.2', 'ChrAccVer': 'NC_018929.2', 'ChrStart': '48551996', 'ChrStop': '48606835'}]}, attributes={'uid': '4089'})"
      ]
     },
     "execution_count": 120,
     "metadata": {},
     "output_type": "execute_result"
    }
   ],
   "source": [
    "summary_read['DocumentSummarySet']['DocumentSummary'][0]"
   ]
  },
  {
   "cell_type": "markdown",
   "id": "12d9e7f8-7ab9-4f9e-974a-9f4f43966719",
   "metadata": {},
   "source": [
    "### Even more information can be retrieved with the efetch to get the record from the database:"
   ]
  },
  {
   "cell_type": "code",
   "execution_count": 104,
   "id": "b9a7fc19-9fc9-488e-827a-56e70566f6f2",
   "metadata": {
    "tags": []
   },
   "outputs": [],
   "source": [
    "h_fetch = Entrez.efetch(db=\"gene\", id=record[\"IdList\"][0],rettype = \"gb\",retmode = \"xml\") #return text in genbank mode"
   ]
  },
  {
   "cell_type": "code",
   "execution_count": 105,
   "id": "d1171b10-29bd-4b59-bb55-f926072d32d2",
   "metadata": {},
   "outputs": [],
   "source": [
    "fetch_read = Entrez.read(h_fetch)"
   ]
  },
  {
   "cell_type": "markdown",
   "id": "0a98d2b2-96cf-46a4-bf45-bef1898d7fc5",
   "metadata": {},
   "source": [
    "### Let's get the accession numbers of the gene products:"
   ]
  },
  {
   "cell_type": "code",
   "execution_count": 133,
   "id": "943f4a50-8200-477c-acd6-6f7f6fc637b0",
   "metadata": {},
   "outputs": [],
   "source": [
    "products = fetch_read[0][\"Entrezgene_locus\"][0][\"Gene-commentary_products\"] #This contains information about all the gene products\n",
    "transcript_list = []\n",
    "for ii in range(len(products)):\n",
    "    transcript_list.append(products[ii][\"Gene-commentary_accession\"])"
   ]
  },
  {
   "cell_type": "markdown",
   "id": "27e3ef21-1fa1-46d8-b06c-06a5784ca581",
   "metadata": {},
   "source": [
    "### Let's now get the information about one of the products from the nucleotide database, first the summary:"
   ]
  },
  {
   "cell_type": "code",
   "execution_count": 144,
   "id": "8ce1b740-448c-4488-8c5f-d0186d373500",
   "metadata": {},
   "outputs": [],
   "source": [
    "rna_summary = Entrez.esummary(db = \"nucleotide\",id = transcript_list[4])"
   ]
  },
  {
   "cell_type": "code",
   "execution_count": 145,
   "id": "539db859-faf3-4fe7-9873-5f9322d8a469",
   "metadata": {},
   "outputs": [],
   "source": [
    "rna_summary_read = Entrez.read(rna_summary)"
   ]
  },
  {
   "cell_type": "code",
   "execution_count": 146,
   "id": "1f26c78f-60ac-4d9b-b851-8ffe28c111fa",
   "metadata": {},
   "outputs": [
    {
     "data": {
      "text/plain": [
       "[{'Item': [], 'Id': '2244986580', 'Caption': 'NM_001407041', 'Title': 'Homo sapiens SMAD family member 4 (SMAD4), transcript variant 2, mRNA', 'Extra': 'gi|2244986580|ref|NM_001407041.1|[2244986580]', 'Gi': IntegerElement(2244986580, attributes={}), 'CreateDate': '2022/05/24', 'UpdateDate': '2023/09/24', 'Flags': IntegerElement(512, attributes={}), 'TaxId': IntegerElement(9606, attributes={}), 'Length': IntegerElement(8357, attributes={}), 'Status': 'live', 'ReplacedBy': '', 'Comment': '  ', 'AccessionVersion': 'NM_001407041.1'}]"
      ]
     },
     "execution_count": 146,
     "metadata": {},
     "output_type": "execute_result"
    }
   ],
   "source": [
    "rna_summary_read"
   ]
  },
  {
   "cell_type": "markdown",
   "id": "e7acf147-c983-4fff-9c66-6c54ea298f82",
   "metadata": {},
   "source": [
    "### Now the full entry, which incldues the sequence and annotations:"
   ]
  },
  {
   "cell_type": "code",
   "execution_count": 147,
   "id": "dbab24fe-c2b2-4edf-a734-599965978d61",
   "metadata": {},
   "outputs": [],
   "source": [
    "rna_fetch = Entrez.efetch(db=\"nucleotide\",id = transcript_list[4],rettype = \"gb\",retmode = \"xml\")"
   ]
  },
  {
   "cell_type": "code",
   "execution_count": 148,
   "id": "6567e4c7-67bc-4354-ad4a-f4d9dbd99791",
   "metadata": {},
   "outputs": [],
   "source": [
    "rna_fetch_read = Entrez.read(rna_fetch)"
   ]
  },
  {
   "cell_type": "code",
   "execution_count": 150,
   "id": "59660d79-dcc0-42c2-a482-986b2faf997a",
   "metadata": {},
   "outputs": [
    {
     "data": {
      "text/plain": [
       "'atgctcagtggcttctcgacaagttggcagcaacaacacggccctggtcgtcgtcgccgctgcggatcaaaattgcttcagaaattggagacatatttgatttaaaaggaaaaacttgaacaaatggacaatatgtctattacgaatacaccaacaagtaatgatgcctgtctgagcattgtgcatagtttgatgtgccatagacaaggtggagagagtgaaacatttgcaaaaagagcaattgaaagtttggtaaagaagctgaaggagaaaaaagatgaattggattctttaataacagctataactacaaatggagctcatcctagtaaatgtgttaccatacagagaacattggatgggaggcttcaggtggctggtcggaaaggatttcctcatgtgatctatgcccgtctctggaggtggcctgatcttcacaaaaatgaactaaaacatgttaaatattgtcagtatgcgtttgacttaaaatgtgatagtgtctgtgtgaatccatatcactacgaacgagttgtatcacctggaattgatctctcaggattaacactgcagagtaatgctccatcaagtatgatggtgaaggatgaatatgtgcatgactttgagggacagccatcgttgtccactgaaggacattcaattcaaaccatccagcatccaccaagtaatcgtgcatcgacagagacatacagcaccccagctctgttagccccatctgagtctaatgctaccagcactgccaactttcccaacattcctgtggcttccacaagtcagcctgccagtatactggggggcagccatagtgaaggactgttgcagatagcatcagggcctcagccaggacagcagcagaatggatttactggtcagccagctacttaccatcataacagcactaccacctggactggaagtaggactgcaccatacacacctaatttgcctcaccaccaaaacggccatcttcagcaccacccgcctatgccgccccatcccggacattactggcctgttcacaatgagcttgcattccagcctcccatttccaatcatcctgctcctgagtattggtgttccattgcttactttgaaatggatgttcaggtaggagagacatttaaggttccttcaagctgccctattgttactgttgatggatacgtggacccttctggaggagatcgcttttgtttgggtcaactctccaatgtccacaggacagaagccattgagagagcaaggttgcacataggcaaaggtgtgcagttggaatgtaaaggtgaaggtgatgtttgggtcaggtgccttagtgaccacgcggtctttgtacagagttactacttagacagagaagctgggcgtgcacctggagatgctgttcataagatctacccaagtgcatatataaaggtctttgatttgcgtcagtgtcatcgacagatgcagcagcaggcggctactgcacaagctgcagcagctgcccaggcagcagccgtggcaggaaacatccctggcccaggatcagtaggtggaatagctccagctatcagtctgtcagctgctgctggaattggtgttgatgaccttcgtcgcttatgcatactcaggatgagttttgtgaaaggctggggaccggattacccaagacagagcatcaaagaaacaccttgctggattgaaattcacttacaccgggccctccagctcctagacgaagtacttcataccatgccgattgcagacccacaacctttagactgaggtcttttaccgttggggcccttaaccttatcaggatggtggactacaaaatacaatcctgtttataatctgaagatatatttcacttttgttctgctttatcttttcataaagggttgaaaatgtgtttgctgccttgctcctagcagacagaaactggattaaaacaattttttttttcctcttcagaacttgtcaggcatggctcagagcttgaagattaggagaaacacattcttattaattcttcacctgttatgtatgaaggaatcattccagtgctagaaaatttagccctttaaaacgtcttagagccttttatctgcagaacatcgatatgtatatcattctacagaataatccagtattgctgattttaaaggcagagaagttctcaaagttaattcacctatgttattttgtgtacaagttgttattgttgaacatacttcaaaaataatgtgccatgtgggtgagttaattttaccaagagtaactttactctgtgtttaaaaagtaagttaataatgtattgtaatctttcatccaaaatattttttgcaagttatattagtgaagatggtttcaattcagattgtcttgcaacttcagttttatttttgccaaggcaaaaaactcttaatctgtgtgtatattgagaatcccttaaaattaccagacaaaaaaatttaaaattacgtttgttattcctagtggatgactgttgatgaagtatacttttcccctgttaaacagtagttgtattcttctgtatttctaggcacaaggttggttgctaagaagcctataagaggaatttcttttccttcattcatagggaaaggttttgtattttttaaaacactaaaagcagcgtcactctacctaatgtctcactgttctgcaaaggtggcaatgcttaaactaaataatgaataaactgaatattttggaaactgctaaattctatgttaaatactgtgcagaataatggaaacattacagttcataataggtagtttggatatttttgtacttgatttgatgtgactttttttggtataatgtttaaatcatgtatgttatgatattgtttaaaattcagtttttgtatcttggggcaagactgcaaacttttttatatcttttggttattctaagccctttgccatcaatgatcatatcaattggcagtgactttgtatagagaatttaagtagaaaagttgcagatgtattgactgtaccacagacacaatatgtatgctttttacctagctggtagcataaataaaactgaatctcaacatacaaagttgaattctaggtttgatttttaagattttttttttcttttgcacttttgagtccaatctcagtgatgaggtaccttctactaaatgacaggcaacagccagttctattgggcagctttgtttttttccctcacactctaccgggacttccccatggacattgtgtatcatgtgtagagttggttttttttttttttaatttttattttactatagcagaaatagacctgattatctacaagatgataaatagattgtctacaggataaatagtatgaaataaaatcaaggattatctttcagatgtgtttacttttgcctggagaacttttagctatagaaacacttgtgtgatgatagtcctccttatatcacctggaatgaacacagcttctactgccttgctcagaaggtcttttaaatagaccatcctagaaaccactgagtttgcttatttctgtgatttaaacatagatcttgatccaagctacatgacttttgtctttaaataacttatctaccacctcatttgtactcttgattacttacaaattctttcagtaaacacctaattttcttctgtaaaagtttggtgatttaagttttattggcagttttataaaaagacatcttctctagaaattgctaactttaggtccattttactgtgaatgaggaataggagtgagttttagaataacagatttttaaaaatccagatgatttgattaaaaccttaatcatacattgacataattcattgcttcttttttttgagatatggagtcttgctgtgttgcccaggcaggagtgcagtggtatgatctcagctcactgcaacctctgcctcccgggttcaactgattctcctgcctcagcctccctggtagctaggattacaggtgcccgccaccatgcctggctaacttttgtagttttagtagagacggggttttgcctgttggccaggctggtcttgaactcctgacctcaagtgatccatccaccttggcctcccaaagtgctgggattacgggcgtgagccactgtccctggcctcattgttcccttttctactttaaggaaagttttcatgtttaatcatctggggaaagtatgtgaaaaatatttgttaagaagtatctctttggagccaagccacctgtcttggtttctttctactaagagccataaagtatagaaatacttctagttgttaagtgcttatatttgtacctagatttagtcacacgcttttgagaaaacatctagtatgttatgatcagctattcctgagagcttggttgttaatctatatttctatttcttagtggtagtcatctttgatgaataagactaaagattctcacaggtttaaaattttatgtctactttaagggtaaaattatgaggttatggttctgggtgggttttctctagctaattcatatctcaaagagtctcaaaatgttgaatttcagtgcaagctgaatgagagatgagccatgtacacccaccgtaagacctcattccatgtttgtccagtgcctttcagtgcattatcaaagggaatccttcatggtgttgcctttattttccggggagtagatcgtgggatatagtctatctcatttttaatagtttaccgcccctggtatacaaagataatgacaataaatcactgccatataaccttgctttttccagaaacatggctgttttgtattgctgtaaccactaaataggttgcctataccattcctcctgtgaacagtgcagatttacaggttgcatggtctggcttaaggagagccatacttgagacatgtgagtaaactgaactcatattagctgtgctgcatttcagacttaaaatccatttttgtggggcagggtgtggtgtgtaaaggggggtgtttgtaatacaagttgaaggcaaaataaaatgtcctgtctcccagatgatatacatcttattatttttaaagtttattgctaattgtaggaaggtgagttgcaggtatctttgactatggtcatctggggaaggaaaattttacattttactattaatgctccttaagtgtctatggaggttaaagaataaaatggtaaatgtttctgtgcctggtttgatggtaactggttaatagttactcaccattttatgcagagtcacattagttcacaccctttctgagagccttttgggagaagcagttttattctctgagtggaacagagttctttttgttgataatttctagtttgctcccttcgttattgccaactttactggcattttatttaatgatagcagattgggaaaatggcaaatttaggttacggaggtaaatgagtatatgaaagcaattacctctaaagccagttaacaattattttgtaggtggggtacactcagcttaaagtaatgcatttttttttcccgtaaaggcagaatccatcttgttgcagatagctatctaaataatctcatatcctcttttgcaaagactacagagaataggctatgacaatcttgttcaagcctttccatttttttccctgataactaagtaatttctttgaacataccaagaagtatgtaaaaagtccatggccttattcatccacaaagtggcatcctaggcccagccttatccctagcagttgtcccagtgctgctaggttgcttatcttgtttatctggaatcactgtggagtgaaattttccacatcatccagaattgccttatttaagaagtaaaacgttttaatttttagcctttttttggtggagttatttaatatgtatatcagaggatatactagatggtaacatttctttctgtgcttggctatctttgtggacttcaggggcttctaaaacagacaggactgtgttgcctttactaaatggtctgagacagctatggttttgaatttttagttttttttttttaacccacttcccctcctggtctcttccctctctgataattaccattcatatgtgagtgttagtgtgcctccttttagcattttcttcttctctttctgattcttcatttctgactgcctaggcaaggaaaccagataaccaaacttactagaacgttctttaaaacacaagtacaaactctgggacaggacccaagacactttcctgtgaagtgctgaaaaagacctcattgtattggcatttgatatcagtttgatgtagcttagagtgcttcctgattcttgctgagtttcaggtagttgagatagagagaagtgagtcatattcatattttcccccttagaataatattttgaaaggtttcattgcttccacttgaatgctgctcttacaaaaactggggttacaagggttactaaattagcatcagtagccagaggcaataccgttgtctggaggacaccagcaaacaacacacaacaaagcaaaacaaaccttgggaaactaaggccatttgttttgttttggtgtcccctttgaagccctgccttctggccttactcctgtacagatatttttgacctataggtgcctttatgagaattgagggtctgacatcctgccccaaggagtagctaaagtaattgctagtgttttcagggattttaacatcagactggaatgaatgaatgaaactttttgtcctttttttttctgtttttttttttctaatgtagtaaggactaaggaaaacctttggtgaagacaatcatttctctctgttgatgtggatacttttcacaccgtttatttaaatgctttctcaataggtccagagccagtgttcttgttcaacctgaaagtaatggctctgggttgggccagacagttgcactctctagtttgccctctgccacaaatttgatgtgtgacctttgggcaagtcatttatcttctctgggccttagttgcctcatctgtaaaatgagggagttggagtagattaattattccagctctgaaattctaagtgaccttggctaccttgcagcagttttggatttcttccttatctttgttctgctgtttgagggggctttttacttatttccatgttattcaaaggagactaggcttgatattttattactgttcttttatggacaaaaggttacatagtatgcccttaagacttaattttaaccaaaggcctagcaccaccttaggggctgcaataaacacttaacgcgcgtgcgcacgcgcgcgcgcacacacacacacacacacacacacacacacaggtcagagtttaaggctttcgagtcatgacattctagcttttgaattgcgtgcacacacacacgcacgcacacactctggtcagagtttattaaggctttcgagtcatgacattatagcttttgagttggtgtgtgtgacaccaccctcctaagtggtgtgtgcttgtaattttttttttcagtgaaaatggattgaaaacctgttgttaatgcttagtgatattatgctcaaaacaaggaaattcccttgaaccgtgtcaattaaactggtttatatgactcaagaaaacaataccagtagatgattattaactttattcttggctctttttaggtccattttgattaagtgacttttggctggatcattcagagctctcttctagcctacccttggatgagtacaattaatgaaattcatattttcaaggacctgggagccttccttggggctgggttgagggtggggggttggggagtcctggtagaggccagctttgtggtagctggagaggaagggatgaaaccagctgctgttgcaaaggctgcttgtcattgatagaaggactcacgggcttggattgattaagactaaacatggagttggcaaactttcttcaagtattgagttctgttcaatgcattggacatgtgatttaagggaaaagtgtgaatgcttatagatgatgaaaacctggtgggctgcagagcccagtttagaagaagtgagttgggggttggggacagatttggtggtggtatttcccaactgtttcctcccctaaattcagaggaatgcagctatgccagaagccagagaagagccactcgtagcttctgctttggggacaactggtcagttgaaagtcccaggagttcctttgtggctttctgtatacttttgcctggttaaagtctgtggctaaaaaatagtcgaacctttcttgagaactctgtaacaaagtatgtttttgattaaaagagaaagccaactaaa'"
      ]
     },
     "execution_count": 150,
     "metadata": {},
     "output_type": "execute_result"
    }
   ],
   "source": [
    "rna_fetch_read[0][\"GBSeq_sequence\"]"
   ]
  },
  {
   "cell_type": "markdown",
   "id": "e7fb2409-bf6c-419d-874b-5696529ae31b",
   "metadata": {},
   "source": [
    "### Let's see what we get when we blast the beginning of this sequence. This runs a nucleotide blast (blastn), against the nucleotide database (nt) with the first 150 basepairs of the sequence:"
   ]
  },
  {
   "cell_type": "code",
   "execution_count": 160,
   "id": "12c706af-b081-45cd-8fa7-a5da20c1f585",
   "metadata": {},
   "outputs": [],
   "source": [
    "h_blast = NCBIWWW.qblast(\"blastn\",\"nt\",rna_fetch_read[0][\"GBSeq_sequence\"][:150])"
   ]
  },
  {
   "cell_type": "markdown",
   "id": "eefa6edb-0f26-4e09-b602-6026117d8881",
   "metadata": {},
   "source": [
    "### Note you can set parameter of the blast algorithm in the query such as word_size \n",
    "### The parameter hitlist_size determines the number of hits to return (default is 50)"
   ]
  },
  {
   "cell_type": "markdown",
   "id": "e3c0c931-c665-4ef1-a817-94590833aac6",
   "metadata": {},
   "source": [
    "### You can only read the blast result once, so it is recommended to save it and then read it back from the saved file to prevent losing it:"
   ]
  },
  {
   "cell_type": "code",
   "execution_count": 161,
   "id": "2498f5ba-1483-4c97-8300-1bf1ae179a8d",
   "metadata": {},
   "outputs": [
    {
     "data": {
      "text/plain": [
       "89921"
      ]
     },
     "execution_count": 161,
     "metadata": {},
     "output_type": "execute_result"
    }
   ],
   "source": [
    "save_file = open(\"blast.xml\",\"w\")\n",
    "save_file.write(h_blast.read())"
   ]
  },
  {
   "cell_type": "markdown",
   "id": "5b2fd23d-b99a-4f24-8d1a-fdd379d44245",
   "metadata": {},
   "source": [
    "### Now you can use the NCBIXML module to read this file and get the results of the blast operation. "
   ]
  },
  {
   "cell_type": "code",
   "execution_count": 175,
   "id": "422e1252-0d32-4422-8289-f8f8cf0aebd3",
   "metadata": {},
   "outputs": [],
   "source": [
    "blast_result = open(\"blast.xml\",'r')"
   ]
  },
  {
   "cell_type": "code",
   "execution_count": 176,
   "id": "00b2dd34-abb1-483f-8b01-088a5d0a1418",
   "metadata": {},
   "outputs": [],
   "source": [
    "blast_record = NCBIXML.read(blast_result)"
   ]
  },
  {
   "cell_type": "code",
   "execution_count": 185,
   "id": "a7d6550f-36ad-42b5-a033-6bae8f6850ac",
   "metadata": {},
   "outputs": [
    {
     "name": "stdout",
     "output_type": "stream",
     "text": [
      "****Alignment****\n",
      "sequence: gi|2244986580|ref|NM_001407041.1| Homo sapiens SMAD family member 4 (SMAD4), transcript variant 2, mRNA\n",
      "length: 8357\n",
      "e value: 2.3099e-68\n",
      "ATGCTCAGTGGCTTCTCGACAAGTTGGCAGCAACAACACGGCCCTGGTCGTCGTCGCCGCTGCGGATCAAAATTG...\n",
      "|||||||||||||||||||||||||||||||||||||||||||||||||||||||||||||||||||||||||||...\n",
      "ATGCTCAGTGGCTTCTCGACAAGTTGGCAGCAACAACACGGCCCTGGTCGTCGTCGCCGCTGCGGATCAAAATTG...\n",
      "****Alignment****\n",
      "sequence: gi|1743208121|ref|XM_030810408.1| PREDICTED: Nomascus leucogenys SMAD family member 4 (SMAD4), transcript variant X5, mRNA\n",
      "length: 3572\n",
      "e value: 3.66677e-34\n",
      "GGATCAAAATTGCTTCAGAAATTGGAGACATATTTGATTTAAAAGGAAAAACTTGAACAAATGGACAATATGTCT...\n",
      "|||||||||||||||||||||||||||||||||||||||||||||||||||||||||||||||||||||||||||...\n",
      "GGATCAAAATTGCTTCAGAAATTGGAGACATATTTGATTTAAAAGGAAAAACTTGAACAAATGGACAATATGTCT...\n",
      "****Alignment****\n",
      "sequence: gi|1743208121|ref|XM_030810408.1| PREDICTED: Nomascus leucogenys SMAD family member 4 (SMAD4), transcript variant X5, mRNA\n",
      "length: 3572\n",
      "e value: 1.66618e-19\n",
      "ATGCTCAGTGGCTTCTCGACAAGTTGGCAGCAACAACACGGCCCTGGTCGTCGTCGCCGCTGC...\n",
      "|||||||||||| ||||||||||||||||||||||||||||||||||||||||||||||||||...\n",
      "ATGCTCAGTGGCCTCTCGACAAGTTGGCAGCAACAACACGGCCCTGGTCGTCGTCGCCGCTGC...\n",
      "****Alignment****\n",
      "sequence: gi|1743208120|ref|XR_004029623.1| PREDICTED: Nomascus leucogenys SMAD family member 4 (SMAD4), transcript variant X4, misc_RNA\n",
      "length: 3977\n",
      "e value: 3.66677e-34\n",
      "GGATCAAAATTGCTTCAGAAATTGGAGACATATTTGATTTAAAAGGAAAAACTTGAACAAATGGACAATATGTCT...\n",
      "|||||||||||||||||||||||||||||||||||||||||||||||||||||||||||||||||||||||||||...\n",
      "GGATCAAAATTGCTTCAGAAATTGGAGACATATTTGATTTAAAAGGAAAAACTTGAACAAATGGACAATATGTCT...\n",
      "****Alignment****\n",
      "sequence: gi|1743208120|ref|XR_004029623.1| PREDICTED: Nomascus leucogenys SMAD family member 4 (SMAD4), transcript variant X4, misc_RNA\n",
      "length: 3977\n",
      "e value: 1.66618e-19\n",
      "ATGCTCAGTGGCTTCTCGACAAGTTGGCAGCAACAACACGGCCCTGGTCGTCGTCGCCGCTGC...\n",
      "|||||||||||| ||||||||||||||||||||||||||||||||||||||||||||||||||...\n",
      "ATGCTCAGTGGCCTCTCGACAAGTTGGCAGCAACAACACGGCCCTGGTCGTCGTCGCCGCTGC...\n",
      "****Alignment****\n",
      "sequence: gi|1743208118|ref|XM_030810407.1| PREDICTED: Nomascus leucogenys SMAD family member 4 (SMAD4), transcript variant X3, mRNA\n",
      "length: 2746\n",
      "e value: 3.66677e-34\n",
      "GGATCAAAATTGCTTCAGAAATTGGAGACATATTTGATTTAAAAGGAAAAACTTGAACAAATGGACAATATGTCT...\n",
      "|||||||||||||||||||||||||||||||||||||||||||||||||||||||||||||||||||||||||||...\n",
      "GGATCAAAATTGCTTCAGAAATTGGAGACATATTTGATTTAAAAGGAAAAACTTGAACAAATGGACAATATGTCT...\n",
      "****Alignment****\n",
      "sequence: gi|1743208118|ref|XM_030810407.1| PREDICTED: Nomascus leucogenys SMAD family member 4 (SMAD4), transcript variant X3, mRNA\n",
      "length: 2746\n",
      "e value: 1.66618e-19\n",
      "ATGCTCAGTGGCTTCTCGACAAGTTGGCAGCAACAACACGGCCCTGGTCGTCGTCGCCGCTGC...\n",
      "|||||||||||| ||||||||||||||||||||||||||||||||||||||||||||||||||...\n",
      "ATGCTCAGTGGCCTCTCGACAAGTTGGCAGCAACAACACGGCCCTGGTCGTCGTCGCCGCTGC...\n",
      "****Alignment****\n",
      "sequence: gi|1743208117|ref|XR_004029622.1| PREDICTED: Nomascus leucogenys SMAD family member 4 (SMAD4), transcript variant X2, misc_RNA\n",
      "length: 2183\n",
      "e value: 3.66677e-34\n",
      "GGATCAAAATTGCTTCAGAAATTGGAGACATATTTGATTTAAAAGGAAAAACTTGAACAAATGGACAATATGTCT...\n",
      "|||||||||||||||||||||||||||||||||||||||||||||||||||||||||||||||||||||||||||...\n",
      "GGATCAAAATTGCTTCAGAAATTGGAGACATATTTGATTTAAAAGGAAAAACTTGAACAAATGGACAATATGTCT...\n",
      "****Alignment****\n",
      "sequence: gi|1743208117|ref|XR_004029622.1| PREDICTED: Nomascus leucogenys SMAD family member 4 (SMAD4), transcript variant X2, misc_RNA\n",
      "length: 2183\n",
      "e value: 1.66618e-19\n",
      "ATGCTCAGTGGCTTCTCGACAAGTTGGCAGCAACAACACGGCCCTGGTCGTCGTCGCCGCTGC...\n",
      "|||||||||||| ||||||||||||||||||||||||||||||||||||||||||||||||||...\n",
      "ATGCTCAGTGGCCTCTCGACAAGTTGGCAGCAACAACACGGCCCTGGTCGTCGTCGCCGCTGC...\n"
     ]
    }
   ],
   "source": [
    "q = 0\n",
    "for alignment in blast_record.alignments[:5]:\n",
    "    for hsp in alignment.hsps:\n",
    "        print('****Alignment****')\n",
    "        print('sequence:', alignment.title)\n",
    "        print('length:', alignment.length)\n",
    "        print('e value:', hsp.expect)\n",
    "        print(hsp.query[0:75] + '...')\n",
    "        print(hsp.match[0:75] + '...')\n",
    "        print(hsp.sbjct[0:75] + '...')"
   ]
  },
  {
   "cell_type": "code",
   "execution_count": 194,
   "id": "1b3f851d-3322-40e3-8fbb-bc858432b49a",
   "metadata": {},
   "outputs": [
    {
     "name": "stdout",
     "output_type": "stream",
     "text": [
      "****Alignment****\n",
      "sequence: gi|2161870587|ref|XM_045377957.1| PREDICTED: Macaca fascicularis SMAD family member 4 (SMAD4), transcript variant X2, mRNA\n",
      "length: 2093\n",
      "e value: 5.44197e-32\n",
      "GATCAAAATTGCTTCAGAAATTGGAGACATATTTGATTTAAAAGGAAAAACTTGAACAAATGGACAATATGTCTA...\n",
      "||||||||||||| |||||||||||||||||||||||||||||||||||||||||||||||||||||||||||||...\n",
      "GATCAAAATTGCTCCAGAAATTGGAGACATATTTGATTTAAAAGGAAAAACTTGAACAAATGGACAATATGTCTA...\n",
      "****Alignment****\n",
      "sequence: gi|2161870587|ref|XM_045377957.1| PREDICTED: Macaca fascicularis SMAD family member 4 (SMAD4), transcript variant X2, mRNA\n",
      "length: 2093\n",
      "e value: 1.28096e-14\n",
      "AGTGGCTTCTCGACAAGTTGGCAGCAACAACACGGCCCTGGTCGTCGTCGCCGCTGCGG...\n",
      "||||  ||||||||||||||||||||||||||||||||||||||||||||| |||||||...\n",
      "AGTGTGTTCTCGACAAGTTGGCAGCAACAACACGGCCCTGGTCGTCGTCGCTGCTGCGG...\n",
      "****Alignment****\n",
      "sequence: gi|2161870586|ref|XM_005586675.3| PREDICTED: Macaca fascicularis SMAD family member 4 (SMAD4), transcript variant X1, mRNA\n",
      "length: 8684\n",
      "e value: 5.44197e-32\n",
      "GATCAAAATTGCTTCAGAAATTGGAGACATATTTGATTTAAAAGGAAAAACTTGAACAAATGGACAATATGTCTA...\n",
      "||||||||||||| |||||||||||||||||||||||||||||||||||||||||||||||||||||||||||||...\n",
      "GATCAAAATTGCTCCAGAAATTGGAGACATATTTGATTTAAAAGGAAAAACTTGAACAAATGGACAATATGTCTA...\n",
      "****Alignment****\n",
      "sequence: gi|2161870586|ref|XM_005586675.3| PREDICTED: Macaca fascicularis SMAD family member 4 (SMAD4), transcript variant X1, mRNA\n",
      "length: 8684\n",
      "e value: 1.28096e-14\n",
      "AGTGGCTTCTCGACAAGTTGGCAGCAACAACACGGCCCTGGTCGTCGTCGCCGCTGCGG...\n",
      "||||  ||||||||||||||||||||||||||||||||||||||||||||| |||||||...\n",
      "AGTGTGTTCTCGACAAGTTGGCAGCAACAACACGGCCCTGGTCGTCGTCGCTGCTGCGG...\n",
      "****Alignment****\n",
      "sequence: gi|1938886387|ref|XM_007973984.2| PREDICTED: Chlorocebus sabaeus SMAD family member 4 (SMAD4), transcript variant X3, mRNA\n",
      "length: 8201\n",
      "e value: 5.44197e-32\n",
      "GATCAAAATTGCTTCAGAAATTGGAGACATATTTGATTTAAAAGGAAAAACTTGAACAAATGGACAATATGTCTA...\n",
      "||||||||||||| |||||||||||||||||||||||||||||||||||||||||||||||||||||||||||||...\n",
      "GATCAAAATTGCTCCAGAAATTGGAGACATATTTGATTTAAAAGGAAAAACTTGAACAAATGGACAATATGTCTA...\n",
      "****Alignment****\n",
      "sequence: gi|1938886386|ref|XR_493336.2| PREDICTED: Chlorocebus sabaeus SMAD family member 4 (SMAD4), transcript variant X2, misc_RNA\n",
      "length: 8551\n",
      "e value: 5.44197e-32\n",
      "GATCAAAATTGCTTCAGAAATTGGAGACATATTTGATTTAAAAGGAAAAACTTGAACAAATGGACAATATGTCTA...\n",
      "||||||||||||| |||||||||||||||||||||||||||||||||||||||||||||||||||||||||||||...\n",
      "GATCAAAATTGCTCCAGAAATTGGAGACATATTTGATTTAAAAGGAAAAACTTGAACAAATGGACAATATGTCTA...\n",
      "****Alignment****\n",
      "sequence: gi|1938886385|ref|XM_007973983.2| PREDICTED: Chlorocebus sabaeus SMAD family member 4 (SMAD4), transcript variant X1, mRNA\n",
      "length: 8438\n",
      "e value: 5.44197e-32\n",
      "GATCAAAATTGCTTCAGAAATTGGAGACATATTTGATTTAAAAGGAAAAACTTGAACAAATGGACAATATGTCTA...\n",
      "||||||||||||| |||||||||||||||||||||||||||||||||||||||||||||||||||||||||||||...\n",
      "GATCAAAATTGCTCCAGAAATTGGAGACATATTTGATTTAAAAGGAAAAACTTGAACAAATGGACAATATGTCTA...\n"
     ]
    }
   ],
   "source": [
    "q = 0\n",
    "for alignment in blast_record.alignments[-5:]:\n",
    "    for hsp in alignment.hsps:\n",
    "        print('****Alignment****')\n",
    "        print('sequence:', alignment.title)\n",
    "        print('length:', alignment.length)\n",
    "        print('e value:', hsp.expect)\n",
    "        print(hsp.query[0:75] + '...')\n",
    "        print(hsp.match[0:75] + '...')\n",
    "        print(hsp.sbjct[0:75] + '...')"
   ]
  }
 ],
 "metadata": {
  "kernelspec": {
   "display_name": "Python 3 (ipykernel)",
   "language": "python",
   "name": "python3"
  },
  "language_info": {
   "codemirror_mode": {
    "name": "ipython",
    "version": 3
   },
   "file_extension": ".py",
   "mimetype": "text/x-python",
   "name": "python",
   "nbconvert_exporter": "python",
   "pygments_lexer": "ipython3",
   "version": "3.10.13"
  }
 },
 "nbformat": 4,
 "nbformat_minor": 5
}
