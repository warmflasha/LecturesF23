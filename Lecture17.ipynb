{
 "cells": [
  {
   "cell_type": "markdown",
   "id": "553ed83d-16a8-424b-a5c8-7d6ff9c27102",
   "metadata": {},
   "source": [
    "## BIOS 470/570 Lecture 17\n",
    "\n",
    "## Last time we covered:\n",
    "* ### Introduction to biological imaging\n",
    "* ### FIJI/ImageJ\n",
    "* ### Reading and displaying images in python\n",
    "\n",
    "## Today we will cover:\n",
    "* ### Image arithmetic\n",
    "* ### Morphological operations"
   ]
  },
  {
   "cell_type": "code",
   "execution_count": null,
   "id": "1d6318bd-9f49-4db7-ad99-cd9397eb93b2",
   "metadata": {
    "tags": []
   },
   "outputs": [],
   "source": [
    "import numpy as np\n",
    "from skimage import io, exposure, util, morphology\n",
    "import matplotlib.pyplot as plt\n",
    "from matplotlib import animation, rc\n",
    "\n",
    "# default colormap, figure size, and font size\n",
    "plt.rcParams['image.cmap']='gray'\n",
    "plt.rcParams['figure.figsize']=(8,8)\n",
    "plt.rcParams['font.size'] = 24"
   ]
  },
  {
   "cell_type": "markdown",
   "id": "c7d345a0-c20d-4c6d-a9ff-c35fc19ab27b",
   "metadata": {},
   "source": [
    "### We will work with an example file which has 3 channels and 3 timepoints:"
   ]
  },
  {
   "cell_type": "code",
   "execution_count": null,
   "id": "9aebe8b6-4648-4d75-b335-ee878537c4ea",
   "metadata": {
    "tags": []
   },
   "outputs": [],
   "source": [
    "img = io.imread('data/Example.tif',plugin='tifffile')\n",
    "img.shape"
   ]
  },
  {
   "cell_type": "markdown",
   "id": "78395be7-a58f-432c-a5da-5e91c4d6009b",
   "metadata": {},
   "source": [
    "### Using the first (timepoint) index, gives us the whole stack at that timepoint:"
   ]
  },
  {
   "cell_type": "code",
   "execution_count": null,
   "id": "34eb65b3-90b4-401b-bc2e-fda10ed09775",
   "metadata": {
    "tags": []
   },
   "outputs": [],
   "source": [
    "img1 = img[0]\n",
    "img2 = img[1]\n",
    "img1.shape"
   ]
  },
  {
   "cell_type": "markdown",
   "id": "44f4df19-5cba-4472-b38c-8a519de20a3e",
   "metadata": {},
   "source": [
    "### Let's define some functions to save time later:"
   ]
  },
  {
   "cell_type": "code",
   "execution_count": null,
   "id": "1fc9bc12-a82f-4200-b621-b2a2a34bed68",
   "metadata": {
    "tags": []
   },
   "outputs": [],
   "source": [
    "def showNoAxis(img):\n",
    "    \"\"\"display an image and turn off the axis\"\"\"\n",
    "    plt.imshow(img)\n",
    "    plt.axis('off')"
   ]
  },
  {
   "cell_type": "code",
   "execution_count": null,
   "id": "8a6075a4-cc1e-4264-9267-5213c2dfbe5f",
   "metadata": {
    "tags": []
   },
   "outputs": [],
   "source": [
    "def make8bit(img):\n",
    "    \"\"\"Convert an image to 8-bit by scaling its values in the 1st-99th percentile to the range 0,255\"\"\"\n",
    "    img_8bit = img\n",
    "    for cc in range(img.shape[2]):\n",
    "        Imin, Imax = np.percentile(img[:,:,cc],(1, 99))\n",
    "        img_8bit[:,:,cc] = exposure.rescale_intensity(img[:,:,cc],in_range=(Imin, Imax), out_range=(0,255))\n",
    "    return img_8bit"
   ]
  },
  {
   "cell_type": "code",
   "execution_count": null,
   "id": "1ca31948-3a0b-44ef-9cde-20855ead2d0c",
   "metadata": {
    "tags": []
   },
   "outputs": [],
   "source": [
    "def show8bit(img):\n",
    "    \"\"\"Convert an image to 8-bit and display it with no axis\"\"\"\n",
    "    img_8bit = make8bit(img.astype(int))\n",
    "    showNoAxis(img_8bit)"
   ]
  },
  {
   "cell_type": "markdown",
   "id": "751088f6-9251-494b-a346-02f8b2fdab22",
   "metadata": {},
   "source": [
    "### We can display the RGB version of the image if we convert to 8-bit"
   ]
  },
  {
   "cell_type": "code",
   "execution_count": null,
   "id": "2fab482d-1f1a-4bb2-a734-d658b32a53f2",
   "metadata": {
    "tags": []
   },
   "outputs": [],
   "source": [
    "show8bit(img1)"
   ]
  },
  {
   "cell_type": "markdown",
   "id": "c532fd96-2e92-463a-acad-47d54de7a644",
   "metadata": {},
   "source": [
    "### Let's see how we can break this image into individual channels and then put them back together. "
   ]
  },
  {
   "cell_type": "code",
   "execution_count": null,
   "id": "1d7c9f11-a6e2-411f-a31e-04c3e1c02eac",
   "metadata": {
    "tags": []
   },
   "outputs": [],
   "source": [
    "img1_chan1 = img1[:,:,0]\n",
    "img1_chan2 = img1[:,:,1]\n",
    "\n",
    "img1_merged = io.concatenate_images((img1_chan1,img1_chan2))\n",
    "img1_merged.shape"
   ]
  },
  {
   "cell_type": "markdown",
   "id": "08f03851-e80a-422d-87c5-e75ce5275d8a",
   "metadata": {},
   "source": [
    "### This has merged them along the first axis, but for channels to display correctly as RGB, they need to be the third axis (first one is good for time or z dimension). We can fix this with the move axis function:"
   ]
  },
  {
   "cell_type": "code",
   "execution_count": null,
   "id": "c7501f67-6d59-43ad-b428-46273f162ed9",
   "metadata": {
    "tags": []
   },
   "outputs": [],
   "source": [
    "img1_merged = np.moveaxis(img1_merged,[0,1,2],[2,0,1]) # make axis 0 into 2, 1 into 0, and 2 into 1\n",
    "img1_merged.shape"
   ]
  },
  {
   "cell_type": "markdown",
   "id": "c1a78a5a-dedd-49ae-aa89-aff11c4a97ac",
   "metadata": {},
   "source": [
    "### This is the right axes but for RGB we need 3. We can add an array of zeros to create an empty channel and allow this to be displayed:"
   ]
  },
  {
   "cell_type": "code",
   "execution_count": null,
   "id": "fe09e3fe-f6ee-464b-a731-3004d71d94ba",
   "metadata": {
    "tags": []
   },
   "outputs": [],
   "source": [
    "zz = np.zeros(img1_chan1.shape)\n",
    "zz.shape"
   ]
  },
  {
   "cell_type": "markdown",
   "id": "6f62c11e-3c70-4cc0-82a1-624e12c9aa75",
   "metadata": {},
   "source": [
    "### np.dstack works along the third dimension:"
   ]
  },
  {
   "cell_type": "code",
   "execution_count": null,
   "id": "9ece2a21-fc0d-4b9f-9db3-0a7a0c365229",
   "metadata": {
    "tags": []
   },
   "outputs": [],
   "source": [
    "img1_merged = np.dstack((img1_merged,zz))"
   ]
  },
  {
   "cell_type": "code",
   "execution_count": null,
   "id": "b607b869-20ff-40b5-833a-d1f4ebbbc5ac",
   "metadata": {
    "tags": []
   },
   "outputs": [],
   "source": [
    "show8bit(img1_merged)"
   ]
  },
  {
   "cell_type": "markdown",
   "id": "cd1af692-2ab5-4092-b5b0-cb73872b3b9f",
   "metadata": {},
   "source": [
    "### Some other possible color choices we could make just by shifting around the channels:"
   ]
  },
  {
   "cell_type": "code",
   "execution_count": null,
   "id": "9d83a589-1b67-49f9-b4b0-38836322e226",
   "metadata": {
    "tags": []
   },
   "outputs": [],
   "source": [
    "show8bit(np.dstack((zz,img1_chan1,img1_chan2)))"
   ]
  },
  {
   "cell_type": "code",
   "execution_count": null,
   "id": "07d5144b-ab4c-4ce3-b637-b5b8acff7f0a",
   "metadata": {
    "tags": []
   },
   "outputs": [],
   "source": [
    "show8bit(np.dstack((img1_chan1,zz,img1_chan2)))"
   ]
  },
  {
   "cell_type": "code",
   "execution_count": null,
   "id": "66e2695f-5713-49c9-9b22-8d3e8fe66f4d",
   "metadata": {
    "tags": []
   },
   "outputs": [],
   "source": [
    "show8bit(np.dstack((img1_chan1,img1_chan1,img1_chan2)))"
   ]
  },
  {
   "cell_type": "code",
   "execution_count": null,
   "id": "acc7cbc9-3b5f-4ee1-9e49-e9b1da4051c7",
   "metadata": {
    "tags": []
   },
   "outputs": [],
   "source": [
    "show8bit(np.dstack((img1_chan2,img1_chan1,img1_chan2)))"
   ]
  },
  {
   "cell_type": "markdown",
   "id": "6d004374-9b35-4635-b9b7-74ed58c67c33",
   "metadata": {},
   "source": [
    "### These images are 16 bit integer arrays and this affects what happens when you do arithmetic with them:"
   ]
  },
  {
   "cell_type": "code",
   "execution_count": null,
   "id": "ec67e4d1-c5e3-4481-a23a-62ac607c34b8",
   "metadata": {
    "tags": []
   },
   "outputs": [],
   "source": [
    "showNoAxis(img1_chan1);"
   ]
  },
  {
   "cell_type": "code",
   "execution_count": null,
   "id": "f2db52fa-d54c-4f1e-9ccb-1093817744b5",
   "metadata": {
    "tags": []
   },
   "outputs": [],
   "source": [
    "showNoAxis(img1_chan1*10)"
   ]
  },
  {
   "cell_type": "code",
   "execution_count": null,
   "id": "95d6cb4b-b845-48dc-9606-f75b751f9448",
   "metadata": {
    "tags": []
   },
   "outputs": [],
   "source": [
    "showNoAxis(img1_chan1*1000)"
   ]
  },
  {
   "cell_type": "markdown",
   "id": "7e61117c-4b31-4636-9251-06c16dc3c849",
   "metadata": {},
   "source": [
    "### What happened? We reached the limit on the 16bit integers. Even the background reaches the max now, and no image is visible:"
   ]
  },
  {
   "cell_type": "code",
   "execution_count": null,
   "id": "62c26426-bcaf-4430-adad-a04e4bb6a187",
   "metadata": {
    "tags": []
   },
   "outputs": [],
   "source": [
    "img1_chan1.max()"
   ]
  },
  {
   "cell_type": "code",
   "execution_count": null,
   "id": "42e3cae2-48f6-4af8-b8be-d4a27d950999",
   "metadata": {
    "tags": []
   },
   "outputs": [],
   "source": [
    "(img1_chan1*1000).max()"
   ]
  },
  {
   "cell_type": "markdown",
   "id": "7f6dad13-8fa5-4ec4-a336-0b00c59d2011",
   "metadata": {},
   "source": [
    "### Some operations will result in conversions to float and the order in which you do them will matter:"
   ]
  },
  {
   "cell_type": "code",
   "execution_count": null,
   "id": "6d3ee472-dfb5-4332-a934-3bfe28351923",
   "metadata": {
    "tags": []
   },
   "outputs": [],
   "source": [
    "img_scale = (2**16-1)*img1_chan1/img1_chan1.max();\n",
    "showNoAxis(img_scale)"
   ]
  },
  {
   "cell_type": "code",
   "execution_count": null,
   "id": "1283c47b-c2ec-40f4-9412-97e837016f8c",
   "metadata": {
    "tags": []
   },
   "outputs": [],
   "source": [
    "img_scale.max()"
   ]
  },
  {
   "cell_type": "code",
   "execution_count": null,
   "id": "bc5daa5b-cebd-48c6-b46f-ae9914d893a2",
   "metadata": {
    "tags": []
   },
   "outputs": [],
   "source": [
    "img_scale = (img1_chan1/img1_chan1.max())*(2**16-1);\n",
    "showNoAxis(img_scale);\n"
   ]
  },
  {
   "cell_type": "code",
   "execution_count": null,
   "id": "85cdc500-7ad1-4c3b-bf09-3643223243cd",
   "metadata": {
    "tags": []
   },
   "outputs": [],
   "source": [
    "img_scale.max()"
   ]
  },
  {
   "cell_type": "markdown",
   "id": "20f939ce-9253-4565-91de-e200c0719a9e",
   "metadata": {},
   "source": [
    "### We see that this is no longer an integer array. We can turn it back into one with astype. Specifically, this is for 16 bit integers:"
   ]
  },
  {
   "cell_type": "code",
   "execution_count": null,
   "id": "37fefb38-5200-45ac-bf96-40c8fd1ff2e6",
   "metadata": {
    "tags": []
   },
   "outputs": [],
   "source": [
    "img_scale = img_scale.astype('uint16')"
   ]
  },
  {
   "cell_type": "code",
   "execution_count": null,
   "id": "98523c28-d420-4352-8770-5ea918a63b84",
   "metadata": {
    "tags": []
   },
   "outputs": [],
   "source": [
    "img_scale.max()"
   ]
  },
  {
   "cell_type": "markdown",
   "id": "53d99cf3-17a4-4dc6-8c2a-34057208f8fc",
   "metadata": {},
   "source": [
    "### We can avoid the automatic conversions and confusing code that comes with them by doing the conversion to float ourselves before doing the arithmetic. skimage has a set of tools for this in the util module:"
   ]
  },
  {
   "cell_type": "code",
   "execution_count": null,
   "id": "bdb65933-cc6c-4790-aca7-c3416118fa7b",
   "metadata": {
    "tags": []
   },
   "outputs": [],
   "source": [
    "img_float = util.img_as_float(img1_chan1)"
   ]
  },
  {
   "cell_type": "markdown",
   "id": "21ade95a-60a2-438c-816b-00ade4a35e25",
   "metadata": {},
   "source": [
    "### This scales the image range so that the total possible range (0 to 2^16-1 for 16 bit) scales onto the interval from 0 to 1:"
   ]
  },
  {
   "cell_type": "code",
   "execution_count": null,
   "id": "071c6744-0f0a-4d71-af01-38a52822692f",
   "metadata": {
    "tags": []
   },
   "outputs": [],
   "source": [
    "img_float.max()"
   ]
  },
  {
   "cell_type": "code",
   "execution_count": null,
   "id": "966925cc-ff0e-4a89-b145-1a707a972d37",
   "metadata": {
    "tags": []
   },
   "outputs": [],
   "source": [
    "img_float = img_float/img_float.max()*(2**16-1)"
   ]
  },
  {
   "cell_type": "code",
   "execution_count": null,
   "id": "ad2586bd-1d1d-441a-9d34-ef9bf4dcb9d6",
   "metadata": {
    "tags": []
   },
   "outputs": [],
   "source": [
    "showNoAxis(img_float)"
   ]
  },
  {
   "cell_type": "markdown",
   "id": "359aa475-6c83-4d34-bc1b-68a65f1a2ec0",
   "metadata": {},
   "source": [
    "### Binary masks can be used to identify features in images. Here we look at a simple thresholding:"
   ]
  },
  {
   "cell_type": "code",
   "execution_count": null,
   "id": "f2fd7bbe-d0c0-43b0-9c62-9de842b118f5",
   "metadata": {
    "tags": []
   },
   "outputs": [],
   "source": [
    "showNoAxis(img1_chan2)"
   ]
  },
  {
   "cell_type": "code",
   "execution_count": null,
   "id": "ecd91591-0c15-4081-b8c9-08e304987094",
   "metadata": {
    "tags": []
   },
   "outputs": [],
   "source": [
    "img_binary = img1_chan2 > 800"
   ]
  },
  {
   "cell_type": "code",
   "execution_count": null,
   "id": "6471a05d-b5ae-4709-9321-a82046704f95",
   "metadata": {
    "tags": []
   },
   "outputs": [],
   "source": [
    "showNoAxis(img_binary)"
   ]
  },
  {
   "cell_type": "markdown",
   "id": "9c12a827-1d8e-45e4-bfec-ebe8bac7ea14",
   "metadata": {},
   "source": [
    "### Basic morphological operations: erosion and dilation. "
   ]
  },
  {
   "cell_type": "code",
   "execution_count": null,
   "id": "f17334eb-dbae-43c8-a672-e9c4abd2d6a8",
   "metadata": {
    "tags": []
   },
   "outputs": [],
   "source": [
    "img_dilate = morphology.dilation(img_binary,morphology.disk(4))\n",
    "showNoAxis(img_dilate)"
   ]
  },
  {
   "cell_type": "code",
   "execution_count": null,
   "id": "0a33bf00-40da-4470-b1da-296aa1b9ebb2",
   "metadata": {
    "tags": []
   },
   "outputs": [],
   "source": [
    "img_erode = morphology.erosion(img_binary,morphology.disk(4))\n",
    "showNoAxis(img_erode)"
   ]
  },
  {
   "cell_type": "markdown",
   "id": "ced71060-3ed3-4a61-be08-a26abb65e36b",
   "metadata": {},
   "source": [
    "### skimage has various functions to define the neighborhood for the morphological operation:"
   ]
  },
  {
   "cell_type": "code",
   "execution_count": null,
   "id": "26e55e5b-9aa2-47ea-9028-53a8bc96e290",
   "metadata": {
    "tags": []
   },
   "outputs": [],
   "source": [
    "morphology.disk(4)"
   ]
  },
  {
   "cell_type": "code",
   "execution_count": null,
   "id": "d49858a6-73d9-4e16-993a-11f288c8baba",
   "metadata": {
    "tags": []
   },
   "outputs": [],
   "source": [
    "morphology.square(4)"
   ]
  },
  {
   "cell_type": "code",
   "execution_count": null,
   "id": "14f1b5ac-cc56-4308-99c6-9cf86dbcc0fe",
   "metadata": {
    "tags": []
   },
   "outputs": [],
   "source": [
    "img_dilate = morphology.dilation(img_binary,morphology.square(10))\n",
    "showNoAxis(img_dilate)"
   ]
  },
  {
   "cell_type": "markdown",
   "id": "c58e5565-e7d1-4079-90b5-6ced30af9f6a",
   "metadata": {},
   "source": [
    "### Let's see how these work on an image with a single bright pixel:"
   ]
  },
  {
   "cell_type": "code",
   "execution_count": null,
   "id": "4ac40772-83a6-4364-af6b-08d9b2482c43",
   "metadata": {
    "tags": []
   },
   "outputs": [],
   "source": [
    "img1pix = np.zeros((256,256))\n",
    "img1pix[128,128] = 1\n",
    "showNoAxis(img1pix)"
   ]
  },
  {
   "cell_type": "code",
   "execution_count": null,
   "id": "03475d1a-df95-47a8-9fc2-fc65cb5f9e7e",
   "metadata": {
    "tags": []
   },
   "outputs": [],
   "source": [
    "showNoAxis(morphology.dilation(img1pix,morphology.disk(10)))"
   ]
  },
  {
   "cell_type": "code",
   "execution_count": null,
   "id": "5ad0226f-f165-4c5c-a99f-c76ef436ba8d",
   "metadata": {
    "tags": []
   },
   "outputs": [],
   "source": [
    "showNoAxis(morphology.dilation(img1pix,morphology.square(10)))"
   ]
  },
  {
   "cell_type": "code",
   "execution_count": null,
   "id": "55afc6d2-b48b-430c-adbe-2d600a84c483",
   "metadata": {
    "tags": []
   },
   "outputs": [],
   "source": [
    "showNoAxis(morphology.dilation(img1pix,morphology.diamond(10)))"
   ]
  },
  {
   "cell_type": "markdown",
   "id": "30c57ad0-6666-4666-aee8-fd6ca6187e23",
   "metadata": {},
   "source": [
    "### Compound operations. Opening and closing:\n",
    "\n",
    "#### Opening: erosion followed by dilation. "
   ]
  },
  {
   "cell_type": "code",
   "execution_count": null,
   "id": "0d484c6b-22f1-4a56-8026-3fee97465ca8",
   "metadata": {
    "tags": []
   },
   "outputs": [],
   "source": [
    "img_open = morphology.opening(img_binary,morphology.disk(8))\n",
    "fig = plt.figure(figsize=(16,8))\n",
    "fig.add_subplot(1,2,1)\n",
    "showNoAxis(img_binary)\n",
    "fig.add_subplot(1,2,2)\n",
    "showNoAxis(img_open)"
   ]
  },
  {
   "cell_type": "markdown",
   "id": "7366c7ac-0ee2-42ef-b584-7f829cba0c5e",
   "metadata": {},
   "source": [
    "#### Closing: dilation followed by erosion:"
   ]
  },
  {
   "cell_type": "code",
   "execution_count": null,
   "id": "4c1b2ccf-ee9a-430f-968e-ba7112da23b7",
   "metadata": {
    "tags": []
   },
   "outputs": [],
   "source": [
    "img_close = morphology.closing(img_binary,morphology.disk(8))\n",
    "fig = plt.figure(figsize=(16,8))\n",
    "fig.add_subplot(1,2,1)\n",
    "showNoAxis(img_binary)\n",
    "fig.add_subplot(1,2,2)\n",
    "showNoAxis(img_close)"
   ]
  },
  {
   "cell_type": "markdown",
   "id": "428f2307-cbb4-4334-8eca-c82ce1c644af",
   "metadata": {},
   "source": [
    "### You can use overlays into RGB images to see the effects of these operations"
   ]
  },
  {
   "cell_type": "code",
   "execution_count": null,
   "id": "4fcd8f5f-659e-4873-bed4-0d2e78bdb680",
   "metadata": {
    "tags": []
   },
   "outputs": [],
   "source": [
    "fig = plt.figure(figsize=(16,8))\n",
    "fig.add_subplot(1,2,1)\n",
    "showNoAxis(np.dstack((img_binary,img_open,zz)))\n",
    "plt.title('Opening')\n",
    "fig.add_subplot(1,2,2)\n",
    "showNoAxis(np.dstack((img_binary,img_close,zz)))\n",
    "plt.title('Closing');\n"
   ]
  },
  {
   "cell_type": "markdown",
   "id": "94644dab-7977-4e4d-b2f7-397e28095d26",
   "metadata": {},
   "source": [
    "### Morphological operations can also be performed on intensity images:"
   ]
  },
  {
   "cell_type": "code",
   "execution_count": null,
   "id": "4f855ad1-d52a-41b7-ba1f-3844d7d0f503",
   "metadata": {
    "tags": []
   },
   "outputs": [],
   "source": [
    "img_dilate = morphology.opening(img1_chan2,morphology.disk(8))\n",
    "fig = plt.figure(figsize=(16,8))\n",
    "fig.add_subplot(1,2,1)\n",
    "showNoAxis(img1_chan2)\n",
    "fig.add_subplot(1,2,2)\n",
    "showNoAxis(img_dilate)"
   ]
  }
 ],
 "metadata": {
  "kernelspec": {
   "display_name": "Python 3 (ipykernel)",
   "language": "python",
   "name": "python3"
  },
  "language_info": {
   "codemirror_mode": {
    "name": "ipython",
    "version": 3
   },
   "file_extension": ".py",
   "mimetype": "text/x-python",
   "name": "python",
   "nbconvert_exporter": "python",
   "pygments_lexer": "ipython3",
   "version": "3.10.13"
  }
 },
 "nbformat": 4,
 "nbformat_minor": 5
}
