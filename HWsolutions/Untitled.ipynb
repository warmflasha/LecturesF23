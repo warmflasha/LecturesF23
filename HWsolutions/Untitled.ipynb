{
 "cells": [
  {
   "cell_type": "code",
   "execution_count": 2,
   "id": "10c4630a-5055-4dd0-88e6-47ffd3ca3467",
   "metadata": {},
   "outputs": [],
   "source": [
    "def fakeFunction():\n",
    "    x = 3\n",
    "    y = 4\n",
    "    return x,y"
   ]
  },
  {
   "cell_type": "code",
   "execution_count": 3,
   "id": "a023dd13-9384-4650-a21c-8b731c39c6f0",
   "metadata": {},
   "outputs": [],
   "source": [
    "a = fakeFunction()"
   ]
  },
  {
   "cell_type": "code",
   "execution_count": 4,
   "id": "167b97ff-484a-4b0c-a266-f4cda44b27e0",
   "metadata": {},
   "outputs": [
    {
     "data": {
      "text/plain": [
       "(3, 4)"
      ]
     },
     "execution_count": 4,
     "metadata": {},
     "output_type": "execute_result"
    }
   ],
   "source": [
    "a"
   ]
  },
  {
   "cell_type": "code",
   "execution_count": 5,
   "id": "2011fdf6-06a6-4ace-98c6-7ecadbdb7ae8",
   "metadata": {},
   "outputs": [],
   "source": [
    "a,b = fakeFunction()"
   ]
  },
  {
   "cell_type": "code",
   "execution_count": 6,
   "id": "0c35ffd7-3c2e-4bec-9b45-17ccec58bb6c",
   "metadata": {},
   "outputs": [
    {
     "data": {
      "text/plain": [
       "3"
      ]
     },
     "execution_count": 6,
     "metadata": {},
     "output_type": "execute_result"
    }
   ],
   "source": [
    "a"
   ]
  },
  {
   "cell_type": "code",
   "execution_count": 7,
   "id": "8f0622ed-d064-414d-ab85-bb8d568afefa",
   "metadata": {},
   "outputs": [
    {
     "data": {
      "text/plain": [
       "4"
      ]
     },
     "execution_count": 7,
     "metadata": {},
     "output_type": "execute_result"
    }
   ],
   "source": [
    "b"
   ]
  },
  {
   "cell_type": "code",
   "execution_count": null,
   "id": "9f59fdc0-7f47-4e2a-9935-83a147da744e",
   "metadata": {},
   "outputs": [],
   "source": []
  }
 ],
 "metadata": {
  "kernelspec": {
   "display_name": "Python 3 (ipykernel)",
   "language": "python",
   "name": "python3"
  },
  "language_info": {
   "codemirror_mode": {
    "name": "ipython",
    "version": 3
   },
   "file_extension": ".py",
   "mimetype": "text/x-python",
   "name": "python",
   "nbconvert_exporter": "python",
   "pygments_lexer": "ipython3",
   "version": "3.9.12"
  }
 },
 "nbformat": 4,
 "nbformat_minor": 5
}
