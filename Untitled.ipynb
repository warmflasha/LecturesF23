{
 "cells": [
  {
   "cell_type": "code",
   "execution_count": 1,
   "id": "4d508b90-12e3-4a7c-96b9-3115ec7c5800",
   "metadata": {},
   "outputs": [],
   "source": [
    "from Bio.Blast import NCBIWWW, NCBIXML\n",
    "from Bio import Entrez"
   ]
  },
  {
   "cell_type": "code",
   "execution_count": 23,
   "id": "ab61668e-bbb3-4ad5-aadb-f87012c27ff6",
   "metadata": {},
   "outputs": [],
   "source": [
    "Entrez.email = \"aw21@rice.edu\"\n",
    "sum1 = Entrez.esummary(db = \"nucleotide\", id = \"AF308602\")"
   ]
  },
  {
   "cell_type": "code",
   "execution_count": 24,
   "id": "9edfb053-5fbe-42c3-84d3-abb2852472e4",
   "metadata": {},
   "outputs": [],
   "source": [
    "s2 = Entrez.read(sum1)"
   ]
  },
  {
   "cell_type": "code",
   "execution_count": 25,
   "id": "7c326a8b-e47b-40d3-b7a5-0bf0febe7974",
   "metadata": {},
   "outputs": [
    {
     "data": {
      "text/plain": [
       "[{'Item': [], 'Id': '11275979', 'Caption': 'AF308602', 'Title': 'Homo sapiens NOTCH 1 (N1) mRNA, complete cds', 'Extra': 'gi|11275979|gb|AF308602.1|[11275979]', 'Gi': IntegerElement(11275979, attributes={}), 'CreateDate': '2000/11/22', 'UpdateDate': '2000/11/22', 'Flags': IntegerElement(0, attributes={}), 'TaxId': IntegerElement(9606, attributes={}), 'Length': IntegerElement(7693, attributes={}), 'Status': 'live', 'ReplacedBy': '', 'Comment': '  ', 'AccessionVersion': 'AF308602.1'}]"
      ]
     },
     "execution_count": 25,
     "metadata": {},
     "output_type": "execute_result"
    }
   ],
   "source": [
    "s2"
   ]
  },
  {
   "cell_type": "code",
   "execution_count": 17,
   "id": "dbc9d316-37ef-4a87-81ba-328f55d93294",
   "metadata": {},
   "outputs": [],
   "source": [
    "result = Entrez.einfo()"
   ]
  },
  {
   "cell_type": "code",
   "execution_count": 11,
   "id": "99d1b426-531a-4648-ad47-e880a5cf301d",
   "metadata": {},
   "outputs": [],
   "source": [
    "x = result.read()"
   ]
  },
  {
   "cell_type": "code",
   "execution_count": 18,
   "id": "c39af8ee-c00c-4bb3-9cbe-437c3be2f4a7",
   "metadata": {},
   "outputs": [],
   "source": [
    "x2 = Entrez.read(result)"
   ]
  },
  {
   "cell_type": "code",
   "execution_count": 19,
   "id": "e82d85fc-39c9-4f2a-8334-065086f3b952",
   "metadata": {},
   "outputs": [
    {
     "data": {
      "text/plain": [
       "{'DbList': ['pubmed', 'protein', 'nuccore', 'ipg', 'nucleotide', 'structure', 'genome', 'annotinfo', 'assembly', 'bioproject', 'biosample', 'blastdbinfo', 'books', 'cdd', 'clinvar', 'gap', 'gapplus', 'grasp', 'dbvar', 'gene', 'gds', 'geoprofiles', 'homologene', 'medgen', 'mesh', 'nlmcatalog', 'omim', 'orgtrack', 'pmc', 'popset', 'proteinclusters', 'pcassay', 'protfam', 'pccompound', 'pcsubstance', 'seqannot', 'snp', 'sra', 'taxonomy', 'biocollections', 'gtr']}"
      ]
     },
     "execution_count": 19,
     "metadata": {},
     "output_type": "execute_result"
    }
   ],
   "source": [
    "x2"
   ]
  },
  {
   "cell_type": "code",
   "execution_count": 26,
   "id": "fc4195b5-b8ca-43d8-8614-0e026872e809",
   "metadata": {},
   "outputs": [],
   "source": [
    "h1 = NCBIWWW.qblast(\"blastn\",\"refseq_rna\",\"tgccttagtgaccacgcggtctttgtacagagttactacttagacagagaagctgggcgtgcacctggagatgctgttcataagatctacccaagtgcatatataaaggtctttgatttgcgtcagtgtcatcgacagatgcagcagcaggcggctactgcacaagctgcagcagctgcccaggcagcagccgtggcaggaaacatccctggcccaggatcagtaggtggaatagctccagctatcagtctgtcagctgctgctggaattggtgttgatgaccttcgtcgcttatgcatactcaggatgagttttgtgaaaggctggggaccggattacccaagacagagcatcaaagaaacaccttgctggattgaaattcacttacaccgggccctccagctcctagacgaagtacttcatacc\")"
   ]
  },
  {
   "cell_type": "code",
   "execution_count": null,
   "id": "763a698b-a631-4809-9fec-4186eb724a46",
   "metadata": {},
   "outputs": [],
   "source": []
  }
 ],
 "metadata": {
  "kernelspec": {
   "display_name": "Python 3 (ipykernel)",
   "language": "python",
   "name": "python3"
  },
  "language_info": {
   "codemirror_mode": {
    "name": "ipython",
    "version": 3
   },
   "file_extension": ".py",
   "mimetype": "text/x-python",
   "name": "python",
   "nbconvert_exporter": "python",
   "pygments_lexer": "ipython3",
   "version": "3.11.6"
  }
 },
 "nbformat": 4,
 "nbformat_minor": 5
}
