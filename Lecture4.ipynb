{
 "cells": [
  {
   "cell_type": "markdown",
   "id": "b183ae7f-a0fe-4cbe-8343-645733e4b702",
   "metadata": {
    "slideshow": {
     "slide_type": "slide"
    },
    "tags": []
   },
   "source": [
    "## Last time we covered:\n",
    "* ### Numpy arrays and numpy indexing\n",
    "* ### Starting plots with matplotlib"
   ]
  },
  {
   "cell_type": "markdown",
   "id": "ca8bdb5e-1edf-477f-985e-ca0bd450e0db",
   "metadata": {
    "slideshow": {
     "slide_type": "fragment"
    },
    "tags": []
   },
   "source": [
    "## Today we will cover:\n",
    "* ### Examples: Numpy indexing review and vectorizing code\n",
    "* ### Examples: more types of plotting, axis and figure handles\n",
    "* ### data input and output"
   ]
  },
  {
   "cell_type": "markdown",
   "id": "6f5842f1-ab49-411a-8e23-36095e9d4106",
   "metadata": {
    "slideshow": {
     "slide_type": "slide"
    },
    "tags": []
   },
   "source": [
    "## Numpy indexing/matplotlib examples"
   ]
  },
  {
   "cell_type": "code",
   "execution_count": 2,
   "id": "94e9808a-6858-4941-8537-b4d8feea4464",
   "metadata": {
    "slideshow": {
     "slide_type": "fragment"
    },
    "tags": []
   },
   "outputs": [],
   "source": [
    "import numpy as np"
   ]
  },
  {
   "cell_type": "markdown",
   "id": "a4fb02fc-5a19-4377-9d20-d4452e243334",
   "metadata": {
    "slideshow": {
     "slide_type": "fragment"
    },
    "tags": []
   },
   "source": [
    "### Lets say we have some data which represents individual points in 5 groups. We want to make a bar graph of the means over each group\n",
    "\n",
    "#### First we make some data like this: "
   ]
  },
  {
   "cell_type": "code",
   "execution_count": 3,
   "id": "a995db22-96f7-4138-a134-c14f024d2dd9",
   "metadata": {
    "slideshow": {
     "slide_type": "fragment"
    },
    "tags": []
   },
   "outputs": [],
   "source": [
    "data = np.random.rand(50)\n",
    "groups = np.array(['A']*10+['B']*10+['C']*10+['D']*10+['E']*10) "
   ]
  },
  {
   "cell_type": "markdown",
   "id": "5e96e29a-7164-4e75-97e5-9300eca4fd40",
   "metadata": {
    "slideshow": {
     "slide_type": "fragment"
    },
    "tags": []
   },
   "source": [
    "#### Note the brackets around each letter e.g. ['A']. The following code doesn't work, why?"
   ]
  },
  {
   "cell_type": "code",
   "execution_count": 4,
   "id": "1a22506f-2c00-43d8-9c26-d1b035b2c59b",
   "metadata": {
    "slideshow": {
     "slide_type": "fragment"
    },
    "tags": []
   },
   "outputs": [],
   "source": [
    "groups_try = np.array('A'*10+'B'*10+'C'*10+'D'*10+'E'*10) #this doesn't work"
   ]
  },
  {
   "cell_type": "code",
   "execution_count": 8,
   "id": "5d428312-dcb6-4ac4-a2f4-57f6764d72ec",
   "metadata": {
    "slideshow": {
     "slide_type": "fragment"
    },
    "tags": []
   },
   "outputs": [
    {
     "data": {
      "text/plain": [
       "array('AAAAAAAAAABBBBBBBBBBCCCCCCCCCCDDDDDDDDDDEEEEEEEEEE', dtype='<U50')"
      ]
     },
     "execution_count": 8,
     "metadata": {},
     "output_type": "execute_result"
    }
   ],
   "source": [
    "groups_try"
   ]
  },
  {
   "cell_type": "markdown",
   "id": "79f2994e-be9a-4a6a-ba0d-17ab66c4b71e",
   "metadata": {
    "slideshow": {
     "slide_type": "slide"
    },
    "tags": []
   },
   "source": [
    "#### You can see the difference between these with the shape property"
   ]
  },
  {
   "cell_type": "code",
   "execution_count": 9,
   "id": "9bc99b63-060a-4a84-a3d0-0fbdee016bc6",
   "metadata": {
    "slideshow": {
     "slide_type": "fragment"
    },
    "tags": []
   },
   "outputs": [
    {
     "name": "stdout",
     "output_type": "stream",
     "text": [
      "(50,)\n",
      "()\n"
     ]
    }
   ],
   "source": [
    "print(groups.shape)\n",
    "print(groups_try.shape)"
   ]
  },
  {
   "cell_type": "markdown",
   "id": "158b7f09-512b-45f4-8157-f067e4f3db35",
   "metadata": {
    "slideshow": {
     "slide_type": "slide"
    },
    "tags": []
   },
   "source": [
    "#### So we have 50 datapoints and their corresponding groups:"
   ]
  },
  {
   "cell_type": "code",
   "execution_count": 35,
   "id": "62329189-d019-4179-a9f9-eb3c60a322e9",
   "metadata": {
    "slideshow": {
     "slide_type": "fragment"
    },
    "tags": []
   },
   "outputs": [
    {
     "data": {
      "text/plain": [
       "array([0.15695562, 0.88660066, 0.30550159, 0.23163472, 0.60457086,\n",
       "       0.47826975, 0.39568274, 0.59126342, 0.78156324, 0.1140425 ,\n",
       "       0.90895599, 0.63810058, 0.47233332, 0.04182674, 0.09306013,\n",
       "       0.77877909, 0.00132412, 0.50853416, 0.19511657, 0.65795809,\n",
       "       0.74880703, 0.02260119, 0.50484315, 0.25027597, 0.20094055,\n",
       "       0.98549429, 0.60550168, 0.69074587, 0.87004494, 0.57317465,\n",
       "       0.8308576 , 0.27524813, 0.24542447, 0.06365842, 0.45708618,\n",
       "       0.90617434, 0.60351391, 0.6545142 , 0.75154986, 0.72336429,\n",
       "       0.77610739, 0.36161592, 0.86930323, 0.74868178, 0.72920669,\n",
       "       0.3789684 , 0.28795788, 0.94572424, 0.66610457, 0.23217328])"
      ]
     },
     "execution_count": 35,
     "metadata": {},
     "output_type": "execute_result"
    }
   ],
   "source": [
    "data"
   ]
  },
  {
   "cell_type": "code",
   "execution_count": 36,
   "id": "e5c2ecdf-15cb-4787-8b2e-0a3ed5ebbd64",
   "metadata": {
    "slideshow": {
     "slide_type": "fragment"
    },
    "tags": []
   },
   "outputs": [
    {
     "data": {
      "text/plain": [
       "array(['A', 'A', 'A', 'A', 'A', 'A', 'A', 'A', 'A', 'A', 'B', 'B', 'B',\n",
       "       'B', 'B', 'B', 'B', 'B', 'B', 'B', 'C', 'C', 'C', 'C', 'C', 'C',\n",
       "       'C', 'C', 'C', 'C', 'D', 'D', 'D', 'D', 'D', 'D', 'D', 'D', 'D',\n",
       "       'D', 'E', 'E', 'E', 'E', 'E', 'E', 'E', 'E', 'E', 'E'], dtype='<U1')"
      ]
     },
     "execution_count": 36,
     "metadata": {},
     "output_type": "execute_result"
    }
   ],
   "source": [
    "groups"
   ]
  },
  {
   "cell_type": "markdown",
   "id": "5e1748df-195a-436a-af15-6335a3ba65ca",
   "metadata": {},
   "source": [
    "### Let's get the means of each group in an array using a loop:"
   ]
  },
  {
   "cell_type": "code",
   "execution_count": 11,
   "id": "c3e3337d-16bb-4146-bc69-2ab55354e6b2",
   "metadata": {
    "slideshow": {
     "slide_type": "slide"
    },
    "tags": []
   },
   "outputs": [],
   "source": [
    "uniqueGroups = np.unique(groups) #make an array with each group only once\n",
    "group_index = np.arange(len(uniqueGroups)) #index to use when looping. \n",
    "storeMeans = np.zeros(len(uniqueGroups)) #array for storing the means\n",
    "for n in group_index:\n",
    "    storeMeans[n] = data[groups==uniqueGroups[n]].mean()"
   ]
  },
  {
   "cell_type": "markdown",
   "id": "e3bb95e2-4fd8-466f-bc27-6067e6d665da",
   "metadata": {},
   "source": [
    "### Note: the enumerate function makes it wasy to do this without defining an index variable:"
   ]
  },
  {
   "cell_type": "code",
   "execution_count": 16,
   "id": "7a79a528-da58-484c-a734-58f0f19dc323",
   "metadata": {},
   "outputs": [
    {
     "data": {
      "text/plain": [
       "[(0, 'A'), (1, 'B'), (2, 'C'), (3, 'D'), (4, 'E')]"
      ]
     },
     "execution_count": 16,
     "metadata": {},
     "output_type": "execute_result"
    }
   ],
   "source": [
    "list(enumerate(uniqueGroups)) # this is a list of tuples, with the index and object in each tuple:"
   ]
  },
  {
   "cell_type": "code",
   "execution_count": 39,
   "id": "7d1e8f99-ff20-406d-bc65-815af37e9369",
   "metadata": {
    "slideshow": {
     "slide_type": "slide"
    },
    "tags": []
   },
   "outputs": [],
   "source": [
    "uniqueGroups = np.unique(groups)\n",
    "storeMeans = np.zeros(len(uniqueGroups))\n",
    "for n,g in enumerate(uniqueGroups):\n",
    "    storeMeans[n] = data[groups==g].mean()"
   ]
  },
  {
   "cell_type": "markdown",
   "id": "8863efd3-dbbe-445f-83d3-fc83010567c8",
   "metadata": {},
   "source": [
    "### Now let's make the plot. This time we will make figure and axes objects and use them to plot:\n"
   ]
  },
  {
   "cell_type": "code",
   "execution_count": 17,
   "id": "16e21107-fde0-4ce5-b0b3-1a010807a750",
   "metadata": {},
   "outputs": [],
   "source": [
    "import matplotlib.pyplot as plt"
   ]
  },
  {
   "cell_type": "markdown",
   "id": "80734195-0324-4947-967b-9203ff6e0cf7",
   "metadata": {},
   "source": [
    "### We will use the rcParams to set the default parameters. This will apply throughout the notebook so we don't need to set again."
   ]
  },
  {
   "cell_type": "code",
   "execution_count": 34,
   "id": "3a0b7b4e-1126-413d-a9ca-b2c054100315",
   "metadata": {},
   "outputs": [],
   "source": [
    "plt.rcParams.update({'font.size':32,'figure.figsize':(10,10)})"
   ]
  },
  {
   "cell_type": "markdown",
   "id": "49bbb9c0-c80d-4571-9bf5-a7ceddb00b96",
   "metadata": {},
   "source": [
    "### This lets you see all the parameters that can be set:"
   ]
  },
  {
   "cell_type": "code",
   "execution_count": 39,
   "id": "8d737081-aecc-4dec-951c-05ad0b14adbf",
   "metadata": {
    "collapsed": true,
    "jupyter": {
     "outputs_hidden": true
    },
    "tags": []
   },
   "outputs": [
    {
     "data": {
      "text/plain": [
       "KeysView(RcParams({'_internal.classic_mode': False,\n",
       "          'agg.path.chunksize': 0,\n",
       "          'animation.bitrate': -1,\n",
       "          'animation.codec': 'h264',\n",
       "          'animation.convert_args': [],\n",
       "          'animation.convert_path': 'convert',\n",
       "          'animation.embed_limit': 20.0,\n",
       "          'animation.ffmpeg_args': [],\n",
       "          'animation.ffmpeg_path': 'ffmpeg',\n",
       "          'animation.frame_format': 'png',\n",
       "          'animation.html': 'none',\n",
       "          'animation.writer': 'ffmpeg',\n",
       "          'axes.autolimit_mode': 'data',\n",
       "          'axes.axisbelow': 'line',\n",
       "          'axes.edgecolor': 'black',\n",
       "          'axes.facecolor': 'white',\n",
       "          'axes.formatter.limits': [-5, 6],\n",
       "          'axes.formatter.min_exponent': 0,\n",
       "          'axes.formatter.offset_threshold': 4,\n",
       "          'axes.formatter.use_locale': False,\n",
       "          'axes.formatter.use_mathtext': False,\n",
       "          'axes.formatter.useoffset': True,\n",
       "          'axes.grid': False,\n",
       "          'axes.grid.axis': 'both',\n",
       "          'axes.grid.which': 'major',\n",
       "          'axes.labelcolor': 'black',\n",
       "          'axes.labelpad': 4.0,\n",
       "          'axes.labelsize': 'medium',\n",
       "          'axes.labelweight': 'normal',\n",
       "          'axes.linewidth': 0.8,\n",
       "          'axes.prop_cycle': cycler('color', ['#1f77b4', '#ff7f0e', '#2ca02c', '#d62728', '#9467bd', '#8c564b', '#e377c2', '#7f7f7f', '#bcbd22', '#17becf']),\n",
       "          'axes.spines.bottom': True,\n",
       "          'axes.spines.left': True,\n",
       "          'axes.spines.right': True,\n",
       "          'axes.spines.top': True,\n",
       "          'axes.titlecolor': 'auto',\n",
       "          'axes.titlelocation': 'center',\n",
       "          'axes.titlepad': 6.0,\n",
       "          'axes.titlesize': 'large',\n",
       "          'axes.titleweight': 'normal',\n",
       "          'axes.titley': None,\n",
       "          'axes.unicode_minus': True,\n",
       "          'axes.xmargin': 0.05,\n",
       "          'axes.ymargin': 0.05,\n",
       "          'axes.zmargin': 0.05,\n",
       "          'axes3d.grid': True,\n",
       "          'backend': 'module://matplotlib_inline.backend_inline',\n",
       "          'backend_fallback': True,\n",
       "          'boxplot.bootstrap': None,\n",
       "          'boxplot.boxprops.color': 'black',\n",
       "          'boxplot.boxprops.linestyle': '-',\n",
       "          'boxplot.boxprops.linewidth': 1.0,\n",
       "          'boxplot.capprops.color': 'black',\n",
       "          'boxplot.capprops.linestyle': '-',\n",
       "          'boxplot.capprops.linewidth': 1.0,\n",
       "          'boxplot.flierprops.color': 'black',\n",
       "          'boxplot.flierprops.linestyle': 'none',\n",
       "          'boxplot.flierprops.linewidth': 1.0,\n",
       "          'boxplot.flierprops.marker': 'o',\n",
       "          'boxplot.flierprops.markeredgecolor': 'black',\n",
       "          'boxplot.flierprops.markeredgewidth': 1.0,\n",
       "          'boxplot.flierprops.markerfacecolor': 'none',\n",
       "          'boxplot.flierprops.markersize': 6.0,\n",
       "          'boxplot.meanline': False,\n",
       "          'boxplot.meanprops.color': 'C2',\n",
       "          'boxplot.meanprops.linestyle': '--',\n",
       "          'boxplot.meanprops.linewidth': 1.0,\n",
       "          'boxplot.meanprops.marker': '^',\n",
       "          'boxplot.meanprops.markeredgecolor': 'C2',\n",
       "          'boxplot.meanprops.markerfacecolor': 'C2',\n",
       "          'boxplot.meanprops.markersize': 6.0,\n",
       "          'boxplot.medianprops.color': 'C1',\n",
       "          'boxplot.medianprops.linestyle': '-',\n",
       "          'boxplot.medianprops.linewidth': 1.0,\n",
       "          'boxplot.notch': False,\n",
       "          'boxplot.patchartist': False,\n",
       "          'boxplot.showbox': True,\n",
       "          'boxplot.showcaps': True,\n",
       "          'boxplot.showfliers': True,\n",
       "          'boxplot.showmeans': False,\n",
       "          'boxplot.vertical': True,\n",
       "          'boxplot.whiskerprops.color': 'black',\n",
       "          'boxplot.whiskerprops.linestyle': '-',\n",
       "          'boxplot.whiskerprops.linewidth': 1.0,\n",
       "          'boxplot.whiskers': 1.5,\n",
       "          'contour.corner_mask': True,\n",
       "          'contour.linewidth': None,\n",
       "          'contour.negative_linestyle': 'dashed',\n",
       "          'date.autoformatter.day': '%Y-%m-%d',\n",
       "          'date.autoformatter.hour': '%m-%d %H',\n",
       "          'date.autoformatter.microsecond': '%M:%S.%f',\n",
       "          'date.autoformatter.minute': '%d %H:%M',\n",
       "          'date.autoformatter.month': '%Y-%m',\n",
       "          'date.autoformatter.second': '%H:%M:%S',\n",
       "          'date.autoformatter.year': '%Y',\n",
       "          'date.converter': 'auto',\n",
       "          'date.epoch': '1970-01-01T00:00:00',\n",
       "          'date.interval_multiples': True,\n",
       "          'docstring.hardcopy': False,\n",
       "          'errorbar.capsize': 0.0,\n",
       "          'figure.autolayout': False,\n",
       "          'figure.constrained_layout.h_pad': 0.04167,\n",
       "          'figure.constrained_layout.hspace': 0.02,\n",
       "          'figure.constrained_layout.use': False,\n",
       "          'figure.constrained_layout.w_pad': 0.04167,\n",
       "          'figure.constrained_layout.wspace': 0.02,\n",
       "          'figure.dpi': 72.0,\n",
       "          'figure.edgecolor': (1, 1, 1, 0),\n",
       "          'figure.facecolor': (1, 1, 1, 0),\n",
       "          'figure.figsize': [10.0, 10.0],\n",
       "          'figure.frameon': True,\n",
       "          'figure.max_open_warning': 20,\n",
       "          'figure.raise_window': True,\n",
       "          'figure.subplot.bottom': 0.125,\n",
       "          'figure.subplot.hspace': 0.2,\n",
       "          'figure.subplot.left': 0.125,\n",
       "          'figure.subplot.right': 0.9,\n",
       "          'figure.subplot.top': 0.88,\n",
       "          'figure.subplot.wspace': 0.2,\n",
       "          'figure.titlesize': 'large',\n",
       "          'figure.titleweight': 'normal',\n",
       "          'font.cursive': ['Apple Chancery',\n",
       "                           'Textile',\n",
       "                           'Zapf Chancery',\n",
       "                           'Sand',\n",
       "                           'Script MT',\n",
       "                           'Felipa',\n",
       "                           'Comic Neue',\n",
       "                           'Comic Sans MS',\n",
       "                           'cursive'],\n",
       "          'font.family': ['sans-serif'],\n",
       "          'font.fantasy': ['Chicago',\n",
       "                           'Charcoal',\n",
       "                           'Impact',\n",
       "                           'Western',\n",
       "                           'Humor Sans',\n",
       "                           'xkcd',\n",
       "                           'fantasy'],\n",
       "          'font.monospace': ['DejaVu Sans Mono',\n",
       "                             'Bitstream Vera Sans Mono',\n",
       "                             'Computer Modern Typewriter',\n",
       "                             'Andale Mono',\n",
       "                             'Nimbus Mono L',\n",
       "                             'Courier New',\n",
       "                             'Courier',\n",
       "                             'Fixed',\n",
       "                             'Terminal',\n",
       "                             'monospace'],\n",
       "          'font.sans-serif': ['DejaVu Sans',\n",
       "                              'Bitstream Vera Sans',\n",
       "                              'Computer Modern Sans Serif',\n",
       "                              'Lucida Grande',\n",
       "                              'Verdana',\n",
       "                              'Geneva',\n",
       "                              'Lucid',\n",
       "                              'Arial',\n",
       "                              'Helvetica',\n",
       "                              'Avant Garde',\n",
       "                              'sans-serif'],\n",
       "          'font.serif': ['DejaVu Serif',\n",
       "                         'Bitstream Vera Serif',\n",
       "                         'Computer Modern Roman',\n",
       "                         'New Century Schoolbook',\n",
       "                         'Century Schoolbook L',\n",
       "                         'Utopia',\n",
       "                         'ITC Bookman',\n",
       "                         'Bookman',\n",
       "                         'Nimbus Roman No9 L',\n",
       "                         'Times New Roman',\n",
       "                         'Times',\n",
       "                         'Palatino',\n",
       "                         'Charter',\n",
       "                         'serif'],\n",
       "          'font.size': 32.0,\n",
       "          'font.stretch': 'normal',\n",
       "          'font.style': 'normal',\n",
       "          'font.variant': 'normal',\n",
       "          'font.weight': 'normal',\n",
       "          'grid.alpha': 1.0,\n",
       "          'grid.color': '#b0b0b0',\n",
       "          'grid.linestyle': '-',\n",
       "          'grid.linewidth': 0.8,\n",
       "          'hatch.color': 'black',\n",
       "          'hatch.linewidth': 1.0,\n",
       "          'hist.bins': 10,\n",
       "          'image.aspect': 'equal',\n",
       "          'image.cmap': 'viridis',\n",
       "          'image.composite_image': True,\n",
       "          'image.interpolation': 'antialiased',\n",
       "          'image.lut': 256,\n",
       "          'image.origin': 'upper',\n",
       "          'image.resample': True,\n",
       "          'interactive': True,\n",
       "          'keymap.back': ['left', 'c', 'backspace', 'MouseButton.BACK'],\n",
       "          'keymap.copy': ['ctrl+c', 'cmd+c'],\n",
       "          'keymap.forward': ['right', 'v', 'MouseButton.FORWARD'],\n",
       "          'keymap.fullscreen': ['f', 'ctrl+f'],\n",
       "          'keymap.grid': ['g'],\n",
       "          'keymap.grid_minor': ['G'],\n",
       "          'keymap.help': ['f1'],\n",
       "          'keymap.home': ['h', 'r', 'home'],\n",
       "          'keymap.pan': ['p'],\n",
       "          'keymap.quit': ['ctrl+w', 'cmd+w', 'q'],\n",
       "          'keymap.quit_all': [],\n",
       "          'keymap.save': ['s', 'ctrl+s'],\n",
       "          'keymap.xscale': ['k', 'L'],\n",
       "          'keymap.yscale': ['l'],\n",
       "          'keymap.zoom': ['o'],\n",
       "          'legend.borderaxespad': 0.5,\n",
       "          'legend.borderpad': 0.4,\n",
       "          'legend.columnspacing': 2.0,\n",
       "          'legend.edgecolor': '0.8',\n",
       "          'legend.facecolor': 'inherit',\n",
       "          'legend.fancybox': True,\n",
       "          'legend.fontsize': 'medium',\n",
       "          'legend.framealpha': 0.8,\n",
       "          'legend.frameon': True,\n",
       "          'legend.handleheight': 0.7,\n",
       "          'legend.handlelength': 2.0,\n",
       "          'legend.handletextpad': 0.8,\n",
       "          'legend.labelcolor': 'None',\n",
       "          'legend.labelspacing': 0.5,\n",
       "          'legend.loc': 'best',\n",
       "          'legend.markerscale': 1.0,\n",
       "          'legend.numpoints': 1,\n",
       "          'legend.scatterpoints': 1,\n",
       "          'legend.shadow': False,\n",
       "          'legend.title_fontsize': None,\n",
       "          'lines.antialiased': True,\n",
       "          'lines.color': 'C0',\n",
       "          'lines.dash_capstyle': <CapStyle.butt: 'butt'>,\n",
       "          'lines.dash_joinstyle': <JoinStyle.round: 'round'>,\n",
       "          'lines.dashdot_pattern': [6.4, 1.6, 1.0, 1.6],\n",
       "          'lines.dashed_pattern': [3.7, 1.6],\n",
       "          'lines.dotted_pattern': [1.0, 1.65],\n",
       "          'lines.linestyle': '-',\n",
       "          'lines.linewidth': 1.5,\n",
       "          'lines.marker': 'None',\n",
       "          'lines.markeredgecolor': 'auto',\n",
       "          'lines.markeredgewidth': 1.0,\n",
       "          'lines.markerfacecolor': 'auto',\n",
       "          'lines.markersize': 6.0,\n",
       "          'lines.scale_dashes': True,\n",
       "          'lines.solid_capstyle': <CapStyle.projecting: 'projecting'>,\n",
       "          'lines.solid_joinstyle': <JoinStyle.round: 'round'>,\n",
       "          'markers.fillstyle': 'full',\n",
       "          'mathtext.bf': 'sans:bold',\n",
       "          'mathtext.cal': 'cursive',\n",
       "          'mathtext.default': 'it',\n",
       "          'mathtext.fallback': 'cm',\n",
       "          'mathtext.fontset': 'dejavusans',\n",
       "          'mathtext.it': 'sans:italic',\n",
       "          'mathtext.rm': 'sans',\n",
       "          'mathtext.sf': 'sans',\n",
       "          'mathtext.tt': 'monospace',\n",
       "          'patch.antialiased': True,\n",
       "          'patch.edgecolor': 'black',\n",
       "          'patch.facecolor': 'C0',\n",
       "          'patch.force_edgecolor': False,\n",
       "          'patch.linewidth': 1.0,\n",
       "          'path.effects': [],\n",
       "          'path.simplify': True,\n",
       "          'path.simplify_threshold': 0.111111111111,\n",
       "          'path.sketch': None,\n",
       "          'path.snap': True,\n",
       "          'pcolor.shading': 'auto',\n",
       "          'pcolormesh.snap': True,\n",
       "          'pdf.compression': 6,\n",
       "          'pdf.fonttype': 3,\n",
       "          'pdf.inheritcolor': False,\n",
       "          'pdf.use14corefonts': False,\n",
       "          'pgf.preamble': '',\n",
       "          'pgf.rcfonts': True,\n",
       "          'pgf.texsystem': 'xelatex',\n",
       "          'polaraxes.grid': True,\n",
       "          'ps.distiller.res': 6000,\n",
       "          'ps.fonttype': 3,\n",
       "          'ps.papersize': 'letter',\n",
       "          'ps.useafm': False,\n",
       "          'ps.usedistiller': None,\n",
       "          'savefig.bbox': None,\n",
       "          'savefig.directory': '~',\n",
       "          'savefig.dpi': 'figure',\n",
       "          'savefig.edgecolor': 'auto',\n",
       "          'savefig.facecolor': 'auto',\n",
       "          'savefig.format': 'png',\n",
       "          'savefig.orientation': 'portrait',\n",
       "          'savefig.pad_inches': 0.1,\n",
       "          'savefig.transparent': False,\n",
       "          'scatter.edgecolors': 'face',\n",
       "          'scatter.marker': 'o',\n",
       "          'svg.fonttype': 'path',\n",
       "          'svg.hashsalt': None,\n",
       "          'svg.image_inline': True,\n",
       "          'text.antialiased': True,\n",
       "          'text.color': 'black',\n",
       "          'text.hinting': 'force_autohint',\n",
       "          'text.hinting_factor': 8,\n",
       "          'text.kerning_factor': 0,\n",
       "          'text.latex.preamble': '',\n",
       "          'text.usetex': False,\n",
       "          'timezone': 'UTC',\n",
       "          'tk.window_focus': False,\n",
       "          'toolbar': 'toolbar2',\n",
       "          'webagg.address': '127.0.0.1',\n",
       "          'webagg.open_in_browser': True,\n",
       "          'webagg.port': 8988,\n",
       "          'webagg.port_retries': 50,\n",
       "          'xaxis.labellocation': 'center',\n",
       "          'xtick.alignment': 'center',\n",
       "          'xtick.bottom': True,\n",
       "          'xtick.color': 'black',\n",
       "          'xtick.direction': 'out',\n",
       "          'xtick.labelbottom': True,\n",
       "          'xtick.labelcolor': 'inherit',\n",
       "          'xtick.labelsize': 'medium',\n",
       "          'xtick.labeltop': False,\n",
       "          'xtick.major.bottom': True,\n",
       "          'xtick.major.pad': 3.5,\n",
       "          'xtick.major.size': 3.5,\n",
       "          'xtick.major.top': True,\n",
       "          'xtick.major.width': 0.8,\n",
       "          'xtick.minor.bottom': True,\n",
       "          'xtick.minor.pad': 3.4,\n",
       "          'xtick.minor.size': 2.0,\n",
       "          'xtick.minor.top': True,\n",
       "          'xtick.minor.visible': False,\n",
       "          'xtick.minor.width': 0.6,\n",
       "          'xtick.top': False,\n",
       "          'yaxis.labellocation': 'center',\n",
       "          'ytick.alignment': 'center_baseline',\n",
       "          'ytick.color': 'black',\n",
       "          'ytick.direction': 'out',\n",
       "          'ytick.labelcolor': 'inherit',\n",
       "          'ytick.labelleft': True,\n",
       "          'ytick.labelright': False,\n",
       "          'ytick.labelsize': 'medium',\n",
       "          'ytick.left': True,\n",
       "          'ytick.major.left': True,\n",
       "          'ytick.major.pad': 3.5,\n",
       "          'ytick.major.right': True,\n",
       "          'ytick.major.size': 3.5,\n",
       "          'ytick.major.width': 0.8,\n",
       "          'ytick.minor.left': True,\n",
       "          'ytick.minor.pad': 3.4,\n",
       "          'ytick.minor.right': True,\n",
       "          'ytick.minor.size': 2.0,\n",
       "          'ytick.minor.visible': False,\n",
       "          'ytick.minor.width': 0.6,\n",
       "          'ytick.right': False}))"
      ]
     },
     "execution_count": 39,
     "metadata": {},
     "output_type": "execute_result"
    }
   ],
   "source": [
    "plt.rcParams.keys()"
   ]
  },
  {
   "cell_type": "markdown",
   "id": "8a3945a7-352a-400d-9635-9054220daa84",
   "metadata": {},
   "source": [
    "### Make a figure, add a subplot, make the barplot, and set the labels:"
   ]
  },
  {
   "cell_type": "code",
   "execution_count": 38,
   "id": "368cbe83-e863-41ab-b0d5-3ccdd9816f1f",
   "metadata": {},
   "outputs": [
    {
     "data": {
      "image/png": "[encoded data removed]",
      "text/plain": [
       "<Figure size 720x720 with 1 Axes>"
      ]
     },
     "metadata": {
      "needs_background": "light"
     },
     "output_type": "display_data"
    }
   ],
   "source": [
    "fig = plt.figure()\n",
    "ax = fig.add_subplot()\n",
    "ax.bar(np.arange(len(storeMeans)),storeMeans)\n",
    "ax.set_ylabel(\"Group mean\",fontsize = 32)\n",
    "ax.set_xticks(np.arange(len(storeMeans)))\n",
    "ax.set_xticklabels(uniqueGroups);"
   ]
  },
  {
   "cell_type": "markdown",
   "id": "234dd346-f4da-4e58-8150-6667233821c9",
   "metadata": {},
   "source": [
    "### Another example. Let's make a scatter plot and color code the points by the distance to the x-axis:"
   ]
  },
  {
   "cell_type": "markdown",
   "id": "b77405e6-cc28-48b0-a65e-84b849ac6be1",
   "metadata": {},
   "source": [
    "### First lets make the data and compute distances:"
   ]
  },
  {
   "cell_type": "code",
   "execution_count": 41,
   "id": "3cab2018-f4f5-4a7d-91ae-e04709392b0f",
   "metadata": {},
   "outputs": [],
   "source": [
    "x = np.random.rand(100)\n",
    "y = np.random.rand(100)\n",
    "dists = np.zeros(100)\n",
    "\n",
    "for ii in np.arange(len(x)):\n",
    "    dists[ii] = x[ii]*x[ii]+y[ii]*y[ii]\n",
    "    dists[ii] = np.sqrt(dists[ii])"
   ]
  },
  {
   "cell_type": "markdown",
   "id": "96689f98-cda3-4108-9398-66a595ec6a5a",
   "metadata": {},
   "source": [
    "### Better, we can compute the distances without a loop, using the elementwise operations. This is referred to as \"vectorizing\" the code. Note that the built in numpy function sqrt automatically works on the vector in an elementwise way."
   ]
  },
  {
   "cell_type": "code",
   "execution_count": 42,
   "id": "d69f6f12-575d-449e-a62d-96ae08949e30",
   "metadata": {},
   "outputs": [],
   "source": [
    "x = np.random.rand(100)\n",
    "y = np.random.rand(100)\n",
    "dists = np.sqrt(x*x+y*y)"
   ]
  },
  {
   "cell_type": "markdown",
   "id": "1229d141-1524-471e-a5cd-722a0da4ec6b",
   "metadata": {},
   "source": [
    "### Now make the plot. Using the scatter command we can color code the points:"
   ]
  },
  {
   "cell_type": "code",
   "execution_count": 49,
   "id": "b7ddcf64-94fb-4b1c-a0ab-e3e51d102f57",
   "metadata": {},
   "outputs": [
    {
     "data": {
      "text/plain": [
       "<matplotlib.collections.PathCollection at 0x7fd0b81e6d90>"
      ]
     },
     "execution_count": 49,
     "metadata": {},
     "output_type": "execute_result"
    },
    {
     "data": {
      "image/png": "[encoded data removed]",
      "text/plain": [
       "<Figure size 720x720 with 1 Axes>"
      ]
     },
     "metadata": {
      "needs_background": "light"
     },
     "output_type": "display_data"
    }
   ],
   "source": [
    "fig = plt.figure()\n",
    "ax = fig.add_subplot()\n",
    "ax.scatter(x,y,c=dists)"
   ]
  },
  {
   "cell_type": "markdown",
   "id": "0bcb7426-bb27-4103-ac1a-4fa5448cd7a9",
   "metadata": {},
   "source": [
    "### We can even add a 4th dimension of data encoded in the size of the points"
   ]
  },
  {
   "cell_type": "code",
   "execution_count": 53,
   "id": "9a282959-680f-49bc-b871-f54f2f10a106",
   "metadata": {},
   "outputs": [
    {
     "data": {
      "image/png": "[encoded data removed]",
      "text/plain": [
       "<Figure size 720x720 with 1 Axes>"
      ]
     },
     "metadata": {
      "needs_background": "light"
     },
     "output_type": "display_data"
    }
   ],
   "source": [
    "fig = plt.figure()\n",
    "ax = fig.add_subplot()\n",
    "ax.scatter(x,y,c=dists,s = 100*np.random.rand(100));"
   ]
  },
  {
   "cell_type": "markdown",
   "id": "d57a9640-f5a0-45ab-a809-37eaa7f0e9de",
   "metadata": {},
   "source": [
    "## Inputting and outputting data:\n",
    "* ### You may need to stop/start your analysis or your data may be too large to work with all at once.\n",
    "* ### Data comes in a variety of formats (different instruments, collaborators, online sources etc) you need to be able to get it into python in order to work with it\n",
    "* ### Other applications or people may require data formatted in particular ways"
   ]
  },
  {
   "cell_type": "markdown",
   "id": "4d71b82d-befa-4f32-812a-369c01946de6",
   "metadata": {},
   "source": [
    "### The simplest way is to use the builtin numpy functions save and load to read from and write to disk:\n",
    "\n",
    "### This writes the array x into the file x.npy. .npy is the format for storing a single numpy array."
   ]
  },
  {
   "cell_type": "code",
   "execution_count": 54,
   "id": "3617bf0f-6f43-40d0-8aae-bd651a74cee2",
   "metadata": {},
   "outputs": [],
   "source": [
    "x = np.random.rand(100)\n",
    "y = np.random.rand(100)\n",
    "np.save(\"x.npy\",x)"
   ]
  },
  {
   "cell_type": "markdown",
   "id": "94b07a3f-2a3b-4374-b7b6-1c53e03e295b",
   "metadata": {},
   "source": [
    "### this file can be loaded with the np.load function. Note this funciton simply returns the array, which can be assigned to any variable"
   ]
  },
  {
   "cell_type": "code",
   "execution_count": 58,
   "id": "c5e32735-1329-469c-8d07-8083c89a39a7",
   "metadata": {},
   "outputs": [
    {
     "data": {
      "text/plain": [
       "array([0., 0., 0., 0., 0., 0., 0., 0., 0., 0., 0., 0., 0., 0., 0., 0., 0.,\n",
       "       0., 0., 0., 0., 0., 0., 0., 0., 0., 0., 0., 0., 0., 0., 0., 0., 0.,\n",
       "       0., 0., 0., 0., 0., 0., 0., 0., 0., 0., 0., 0., 0., 0., 0., 0., 0.,\n",
       "       0., 0., 0., 0., 0., 0., 0., 0., 0., 0., 0., 0., 0., 0., 0., 0., 0.,\n",
       "       0., 0., 0., 0., 0., 0., 0., 0., 0., 0., 0., 0., 0., 0., 0., 0., 0.,\n",
       "       0., 0., 0., 0., 0., 0., 0., 0., 0., 0., 0., 0., 0., 0., 0.])"
      ]
     },
     "execution_count": 58,
     "metadata": {},
     "output_type": "execute_result"
    }
   ],
   "source": [
    "x_loaded = np.load(\"x.npy\")\n",
    "x_loaded-x # they are the same"
   ]
  },
  {
   "cell_type": "markdown",
   "id": "5eada57b-9b2b-4c46-9cd1-98ba2d8be5d1",
   "metadata": {},
   "source": [
    "### If we want to save more than one array in the file, we can use savez and the npz format and specify the arrays to save and what they should be called: "
   ]
  },
  {
   "cell_type": "code",
   "execution_count": 64,
   "id": "a5692a05-3e56-4835-a488-9530132e1862",
   "metadata": {},
   "outputs": [],
   "source": [
    "np.savez(\"xy.npz\",x=x, y=y)"
   ]
  },
  {
   "cell_type": "code",
   "execution_count": 65,
   "id": "66504cb0-4a34-47d7-93f4-e56736e742ce",
   "metadata": {},
   "outputs": [
    {
     "data": {
      "text/plain": [
       "array([0.53195257, 0.82461498, 0.98198838, 0.12687955, 0.01154246,\n",
       "       0.87340931, 0.66006709, 0.99015455, 0.37864795, 0.39940096,\n",
       "       0.92140632, 0.13254291, 0.7901828 , 0.96329004, 0.63549865,\n",
       "       0.62358653, 0.36795679, 0.27666645, 0.60671751, 0.37158654,\n",
       "       0.09560764, 0.06780099, 0.16632874, 0.11686128, 0.23555829,\n",
       "       0.73999058, 0.43607399, 0.30391985, 0.54063237, 0.47762357,\n",
       "       0.16527867, 0.38814203, 0.60071654, 0.34185465, 0.06469403,\n",
       "       0.86652879, 0.10158582, 0.39636863, 0.19245471, 0.21905725,\n",
       "       0.44280344, 0.87649057, 0.07493979, 0.6959226 , 0.64878125,\n",
       "       0.50030443, 0.69286735, 0.84012263, 0.96510817, 0.92307311,\n",
       "       0.19587663, 0.6310619 , 0.77880592, 0.92277197, 0.35230672,\n",
       "       0.64952589, 0.92825313, 0.61394214, 0.61246942, 0.64650926,\n",
       "       0.88635135, 0.14934782, 0.69947215, 0.9544156 , 0.40963825,\n",
       "       0.09286051, 0.11106173, 0.61102516, 0.40550659, 0.2870538 ,\n",
       "       0.02559242, 0.09170903, 0.19671699, 0.47623631, 0.68319142,\n",
       "       0.09257246, 0.45392858, 0.58263215, 0.78904033, 0.74871114,\n",
       "       0.79528478, 0.60802471, 0.74240691, 0.6613684 , 0.51581052,\n",
       "       0.20940539, 0.10076576, 0.09304727, 0.58639311, 0.02081137,\n",
       "       0.7077176 , 0.9896286 , 0.68790225, 0.39381126, 0.93868165,\n",
       "       0.49731219, 0.87769516, 0.30379755, 0.16415523, 0.67363545])"
      ]
     },
     "execution_count": 65,
     "metadata": {},
     "output_type": "execute_result"
    }
   ],
   "source": [
    "xy_loaded = np.load(\"xy.npz\")\n",
    "xy_loaded[\"y\"]"
   ]
  },
  {
   "cell_type": "code",
   "execution_count": 66,
   "id": "6cad46fa-4ada-4427-bc5b-c43461801101",
   "metadata": {},
   "outputs": [
    {
     "data": {
      "text/plain": [
       "array([0., 0., 0., 0., 0., 0., 0., 0., 0., 0., 0., 0., 0., 0., 0., 0., 0.,\n",
       "       0., 0., 0., 0., 0., 0., 0., 0., 0., 0., 0., 0., 0., 0., 0., 0., 0.,\n",
       "       0., 0., 0., 0., 0., 0., 0., 0., 0., 0., 0., 0., 0., 0., 0., 0., 0.,\n",
       "       0., 0., 0., 0., 0., 0., 0., 0., 0., 0., 0., 0., 0., 0., 0., 0., 0.,\n",
       "       0., 0., 0., 0., 0., 0., 0., 0., 0., 0., 0., 0., 0., 0., 0., 0., 0.,\n",
       "       0., 0., 0., 0., 0., 0., 0., 0., 0., 0., 0., 0., 0., 0., 0.])"
      ]
     },
     "execution_count": 66,
     "metadata": {},
     "output_type": "execute_result"
    }
   ],
   "source": [
    "xy_loaded[\"y\"] - y"
   ]
  },
  {
   "cell_type": "markdown",
   "id": "b3112cea-9fa4-4e74-aa13-21046f27e61c",
   "metadata": {},
   "source": [
    "### This is very convenient if you data is going to be read back into numpy. But if it isn't, you may want to save it as text:"
   ]
  },
  {
   "cell_type": "code",
   "execution_count": 70,
   "id": "72aa0ffa-3629-428e-86b8-443ebfc8a8c6",
   "metadata": {},
   "outputs": [],
   "source": [
    "x = np.random.random((100,10))\n",
    "np.savetxt(\"x.txt\",x)\n",
    "np.savetxt(\"xcomma.txt\",x,delimiter=\",\")"
   ]
  },
  {
   "cell_type": "markdown",
   "id": "c32daa68-f9b7-4c16-a5a6-e6b1056d5160",
   "metadata": {},
   "source": [
    "### The load text function can then be used to read this in. Or to read text generated from any other application. "
   ]
  },
  {
   "cell_type": "code",
   "execution_count": 71,
   "id": "dffa2973-8cd5-45b2-987c-838c498859eb",
   "metadata": {},
   "outputs": [],
   "source": [
    "x_loaded = np.loadtxt(\"x.txt\") "
   ]
  },
  {
   "cell_type": "markdown",
   "id": "9514ff38-c8ca-497e-87d4-eed0405769af",
   "metadata": {},
   "source": [
    "### An issue with this is that numpy only uses arrays with a single datatype. So this won't work well if you have mixed data. Next week we will learn about the pandas library which can handle this issue. "
   ]
  },
  {
   "cell_type": "markdown",
   "id": "bb975450-4232-4088-9242-850c59ff7c23",
   "metadata": {},
   "source": [
    "### You can also deal with it more manually by reading the data one line at a time."
   ]
  },
  {
   "cell_type": "code",
   "execution_count": 74,
   "id": "4ffc1208-f547-4ea5-a933-edf235e62186",
   "metadata": {},
   "outputs": [],
   "source": [
    "f = open(\"x.txt\",\"r\") #open the file for reading"
   ]
  },
  {
   "cell_type": "markdown",
   "id": "65855cfd-bc51-407b-8b7a-dc38712a5b97",
   "metadata": {},
   "source": [
    "### You can then read the file one line at a time. "
   ]
  },
  {
   "cell_type": "code",
   "execution_count": 77,
   "id": "29e119fc-8fa5-4b2c-a910-b482fd42a189",
   "metadata": {},
   "outputs": [],
   "source": [
    "for line in f:\n",
    "    print(line)"
   ]
  },
  {
   "cell_type": "markdown",
   "id": "8b630de9-b9da-4954-9237-c5cc831c95f2",
   "metadata": {},
   "source": [
    "### Note each line is read as a string regardless of what is in it. "
   ]
  },
  {
   "cell_type": "code",
   "execution_count": 79,
   "id": "d5dff92d-e8c8-4b36-810f-a95c87a4cae0",
   "metadata": {},
   "outputs": [
    {
     "data": {
      "text/plain": [
       "str"
      ]
     },
     "execution_count": 79,
     "metadata": {},
     "output_type": "execute_result"
    }
   ],
   "source": [
    "type(line)"
   ]
  },
  {
   "cell_type": "markdown",
   "id": "739a3523-acea-4b6d-85c4-a2c820614f89",
   "metadata": {},
   "source": [
    "### This will break up the line, but notice each element of the list is still a string. "
   ]
  },
  {
   "cell_type": "code",
   "execution_count": 82,
   "id": "f44d37b1-2a03-4fff-9c79-4322a4644946",
   "metadata": {},
   "outputs": [],
   "source": [
    "line_split = line.split()"
   ]
  },
  {
   "cell_type": "code",
   "execution_count": 83,
   "id": "9480baaf-8770-46b5-96e3-dbaf053ef898",
   "metadata": {},
   "outputs": [],
   "source": [
    "line_split_numpy = np.array(line_split)"
   ]
  },
  {
   "cell_type": "markdown",
   "id": "94568b43-1252-48de-91a4-338c54580f7e",
   "metadata": {},
   "source": [
    "### Let's turn this into a numpy array. Note that the dtype is still string. "
   ]
  },
  {
   "cell_type": "code",
   "execution_count": 85,
   "id": "a2f1fddd-30f1-49ee-85e3-addcd23debd0",
   "metadata": {},
   "outputs": [
    {
     "data": {
      "text/plain": [
       "array(['5.993591260631541129e-01', '7.737817434916767212e-01',\n",
       "       '9.032695328292622561e-01', '1.891786483340602842e-01',\n",
       "       '4.300903493326257987e-01', '5.404260819261660354e-01',\n",
       "       '1.998558851436023076e-01', '1.679597924088308547e-01',\n",
       "       '8.155938894244958437e-01', '8.684718482018948249e-01'],\n",
       "      dtype='<U24')"
      ]
     },
     "execution_count": 85,
     "metadata": {},
     "output_type": "execute_result"
    }
   ],
   "source": [
    "line_split_numpy"
   ]
  },
  {
   "cell_type": "markdown",
   "id": "07b1b370-abdd-4274-96c7-ee0518433735",
   "metadata": {},
   "source": [
    "### We can now use the numpy function astype to convert these strings to numbers."
   ]
  },
  {
   "cell_type": "code",
   "execution_count": 88,
   "id": "2b6d95d2-15ab-4486-a239-460bd95b79c7",
   "metadata": {},
   "outputs": [],
   "source": [
    "line_split_numpy_floats = line_split_numpy.astype(\"float\")"
   ]
  },
  {
   "cell_type": "code",
   "execution_count": 89,
   "id": "ee240643-b3b2-4c77-8e10-e81f4465d04d",
   "metadata": {},
   "outputs": [
    {
     "data": {
      "text/plain": [
       "array([0.59935913, 0.77378174, 0.90326953, 0.18917865, 0.43009035,\n",
       "       0.54042608, 0.19985589, 0.16795979, 0.81559389, 0.86847185])"
      ]
     },
     "execution_count": 89,
     "metadata": {},
     "output_type": "execute_result"
    }
   ],
   "source": [
    "line_split_numpy_floats"
   ]
  },
  {
   "cell_type": "markdown",
   "id": "592eb45c-adc6-4dd9-8241-682855b2dcd1",
   "metadata": {},
   "source": [
    "### We can also open a file and write to it one line at a time. Be careful, this will overwrite the file that is there. "
   ]
  },
  {
   "cell_type": "code",
   "execution_count": 96,
   "id": "62ff5221-57ca-41c1-8758-37820d750c12",
   "metadata": {},
   "outputs": [],
   "source": [
    "f_write = open(\"fileToWrite.txt\",\"w\") #open file for writing. \n",
    "f_write.write(\"Line 1\\n\")\n",
    "f_write.write(\"Line 2\\n\")\n",
    "f_write.write(\"Line 3\\n\")\n",
    "f_write.close()"
   ]
  },
  {
   "cell_type": "markdown",
   "id": "0a282013-c1c5-4f50-8be1-efb72a6b24e3",
   "metadata": {},
   "source": [
    "### If we use \"a\" flag instead of \"w\", the text will be appended at the bottom of the file:"
   ]
  },
  {
   "cell_type": "code",
   "execution_count": 98,
   "id": "139192e8-97a3-48cd-a37f-996fbb69968b",
   "metadata": {},
   "outputs": [],
   "source": [
    "f_append = open(\"fileToWrite.txt\",\"a\") \n",
    "f_append.write(\"Line 4\\n\")\n",
    "f_append.write(\"Line 5\\n\")\n",
    "f_append.close()"
   ]
  }
 ],
 "metadata": {
  "kernelspec": {
   "display_name": "Python 3 (ipykernel)",
   "language": "python",
   "name": "python3"
  },
  "language_info": {
   "codemirror_mode": {
    "name": "ipython",
    "version": 3
   },
   "file_extension": ".py",
   "mimetype": "text/x-python",
   "name": "python",
   "nbconvert_exporter": "python",
   "pygments_lexer": "ipython3",
   "version": "3.9.12"
  }
 },
 "nbformat": 4,
 "nbformat_minor": 5
}
