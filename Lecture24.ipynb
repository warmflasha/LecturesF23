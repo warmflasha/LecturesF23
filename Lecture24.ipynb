{
 "cells": [
  {
   "cell_type": "markdown",
   "id": "4c877258-7c44-4490-97f4-36e562b4397f",
   "metadata": {},
   "source": [
    "### BIOS470/570 Lecture 24 Statistics with python"
   ]
  },
  {
   "cell_type": "code",
   "execution_count": null,
   "id": "82959f83-711a-470c-9812-9a184ba44ed0",
   "metadata": {},
   "outputs": [],
   "source": [
    "import numpy as np\n",
    "import matplotlib.pyplot as plt\n",
    "import seaborn as sns\n",
    "import pandas as pd\n",
    "import scipy.stats as stats\n",
    "\n",
    "import warnings\n",
    "warnings.simplefilter(action=\"ignore\",category=FutureWarning)"
   ]
  },
  {
   "cell_type": "markdown",
   "id": "92ceb438-1257-4afd-be65-beee09b2412c",
   "metadata": {},
   "source": [
    "### Statistical testing is a means of determining whether data support a particular hypothesis typically when compared to a null hypothesis. A common example is whether two groups of data are different or the same. If I treat one set of samples with a chemical and another with a control does my outcome differ between the groups in a statistically signficant way. "
   ]
  },
  {
   "cell_type": "markdown",
   "id": "9a4f94ce-aed8-4771-86fb-163d9325f15e",
   "metadata": {},
   "source": [
    "### A t-test is used to determine whether the means of 2 samples are statistically different (i.e. whether the samples were drawn from distributions with different means). \n",
    "\n",
    "### Create two normal distributions same mean, different variance:"
   ]
  },
  {
   "cell_type": "code",
   "execution_count": null,
   "id": "48091963-c8ee-46ef-b7b2-772f844a8e67",
   "metadata": {},
   "outputs": [],
   "source": [
    "rand1 = np.random.normal(0,3,100000)\n",
    "rand2 = np.random.normal(0,1,100000)\n",
    "dists = pd.DataFrame({\"rand1\":rand1,\"rand2\":rand2})"
   ]
  },
  {
   "cell_type": "markdown",
   "id": "cc26214f-c31c-4742-800a-b79d25d766a9",
   "metadata": {},
   "source": [
    "### Plot the distributions using the matplotlib hist function:"
   ]
  },
  {
   "cell_type": "code",
   "execution_count": null,
   "id": "26b74ac7-6cb2-44be-83c6-c3634caff654",
   "metadata": {},
   "outputs": [],
   "source": [
    "bins = np.arange(-10,10,0.1)\n",
    "plt.hist(dists.rand1,bins,label = 'mean 0, sigma 3')\n",
    "plt.hist(dists.rand2,bins,alpha=0.6,label = 'mean 0, sigma 1');\n",
    "plt.legend()\n",
    "plt.xlabel('Value')\n",
    "plt.ylabel('Frequency');"
   ]
  },
  {
   "cell_type": "markdown",
   "id": "e685bc08-fd0f-476d-b436-61b05eddd3ed",
   "metadata": {},
   "source": [
    "### Seaborn also has good tools for visualizing this data:"
   ]
  },
  {
   "cell_type": "code",
   "execution_count": null,
   "id": "fe805e32-9059-4d21-9cd7-c9ee7abb71e7",
   "metadata": {},
   "outputs": [],
   "source": [
    "sns.boxplot(dists);"
   ]
  },
  {
   "cell_type": "code",
   "execution_count": null,
   "id": "62114ba0-e0b3-4206-bdf6-9977b7d3b3f4",
   "metadata": {},
   "outputs": [],
   "source": [
    "sns.violinplot(dists);"
   ]
  },
  {
   "cell_type": "markdown",
   "id": "84c78d08-28d7-4eef-9129-cb6f1b41370a",
   "metadata": {},
   "source": [
    "### A t-test is used to determine whether the means of 2 samples are statistically different (i.e. whether the samples were drawn from distributions with different means). "
   ]
  },
  {
   "cell_type": "code",
   "execution_count": null,
   "id": "7da2ec11-97e3-4f64-9e29-2482feda7592",
   "metadata": {},
   "outputs": [],
   "source": [
    "test_result = stats.ttest_ind(dists.rand1,dists.rand2)\n",
    "test_result"
   ]
  },
  {
   "cell_type": "code",
   "execution_count": null,
   "id": "f1103437-80e2-4c4d-9b5c-9f3147b93df7",
   "metadata": {},
   "outputs": [],
   "source": [
    "test_result.pvalue"
   ]
  },
  {
   "cell_type": "markdown",
   "id": "819822d7-9500-4f3b-a601-6f6a205c6c50",
   "metadata": {},
   "source": [
    "### What happens if we have two normal distributions with different means:"
   ]
  },
  {
   "cell_type": "code",
   "execution_count": null,
   "id": "157a7697-7ef0-4d01-8e66-8a7fbda8d5c7",
   "metadata": {},
   "outputs": [],
   "source": [
    "rand1 = np.random.normal(1,1,100)\n",
    "rand2 = np.random.normal(0,1,100)\n",
    "dists = pd.DataFrame({\"rand1\":rand1,\"rand2\":rand2})"
   ]
  },
  {
   "cell_type": "code",
   "execution_count": null,
   "id": "7397cc69-b710-4466-a9ef-9cb9ae56c85e",
   "metadata": {},
   "outputs": [],
   "source": [
    "sns.violinplot(dists);"
   ]
  },
  {
   "cell_type": "code",
   "execution_count": null,
   "id": "d6f994a1-0b21-492e-9ff7-9e602211774b",
   "metadata": {},
   "outputs": [],
   "source": [
    "sns.boxplot(dists);"
   ]
  },
  {
   "cell_type": "code",
   "execution_count": null,
   "id": "c5900acf-3384-454c-8c1e-12dea1c97ea9",
   "metadata": {},
   "outputs": [],
   "source": [
    "test_result = stats.ttest_ind(dists.rand1,dists.rand2)\n",
    "test_result"
   ]
  },
  {
   "cell_type": "markdown",
   "id": "61ab0295-8d71-42b1-9934-c95978261655",
   "metadata": {},
   "source": [
    "#### Even though these distributions have substantial overlap, the difference in the means is highly significant. \n",
    "\n",
    "### What if we measure fewer samples?"
   ]
  },
  {
   "cell_type": "code",
   "execution_count": null,
   "id": "f6c54f43-945e-4a2f-8310-5136579c92cf",
   "metadata": {},
   "outputs": [],
   "source": [
    "rand1 = np.random.normal(1,1,5)\n",
    "rand2 = np.random.normal(0,1,5)\n",
    "dists = pd.DataFrame({\"rand1\":rand1,\"rand2\":rand2})"
   ]
  },
  {
   "cell_type": "code",
   "execution_count": null,
   "id": "14f8207e-9a87-474e-9e56-e4217f6f9dee",
   "metadata": {},
   "outputs": [],
   "source": [
    "test_result = stats.ttest_ind(dists.rand1,dists.rand2)\n",
    "test_result"
   ]
  },
  {
   "cell_type": "markdown",
   "id": "d4e7c8ee-8b74-4cc3-a6f8-05c5c5b8cb7e",
   "metadata": {},
   "source": [
    "### Let's run this many times and compute the p-values each time:"
   ]
  },
  {
   "cell_type": "code",
   "execution_count": null,
   "id": "b8cd3cd4-ca31-4013-b54e-bcf9b75de719",
   "metadata": {},
   "outputs": [],
   "source": [
    "pvalues = []\n",
    "for n in range(1000):\n",
    "    rand1 = np.random.normal(1,1,5)\n",
    "    rand2 = np.random.normal(0,1,5)\n",
    "    dists = pd.DataFrame({\"rand1\":rand1,\"rand2\":rand2})\n",
    "    test_result = stats.ttest_ind(dists.rand1,dists.rand2)\n",
    "    pvalues.append(test_result.pvalue)"
   ]
  },
  {
   "cell_type": "code",
   "execution_count": null,
   "id": "8de1f8a9-e1df-4aca-84e8-d5298e94b4f8",
   "metadata": {},
   "outputs": [],
   "source": [
    "plt.hist(pvalues,20);"
   ]
  },
  {
   "cell_type": "markdown",
   "id": "05a6c0ec-d0ba-464c-bead-4f43488fd1ea",
   "metadata": {},
   "source": [
    "### How many of these trials are \"statisically signficant\"?"
   ]
  },
  {
   "cell_type": "code",
   "execution_count": null,
   "id": "5f5df447-1b5c-4f52-89d5-3a549a4099d2",
   "metadata": {},
   "outputs": [],
   "source": [
    "(np.array(pvalues) < 0.05).sum()"
   ]
  },
  {
   "cell_type": "markdown",
   "id": "622f7b83-6c7a-4c5e-83df-b3617e581db8",
   "metadata": {},
   "source": [
    "### Reduce the variance in the distributions:"
   ]
  },
  {
   "cell_type": "code",
   "execution_count": null,
   "id": "9da489f8-11ff-42ab-a21b-9881cf280a98",
   "metadata": {},
   "outputs": [],
   "source": [
    "pvalues = []\n",
    "for n in range(1000):\n",
    "    rand1 = np.random.normal(1,0.3,5)\n",
    "    rand2 = np.random.normal(0,0.3,5)\n",
    "    dists = pd.DataFrame({\"rand1\":rand1,\"rand2\":rand2})\n",
    "    test_result = stats.ttest_ind(dists.rand1,dists.rand2)\n",
    "    pvalues.append(test_result.pvalue)"
   ]
  },
  {
   "cell_type": "code",
   "execution_count": null,
   "id": "f0f48c1f-ab06-4053-956f-677ff8efea56",
   "metadata": {},
   "outputs": [],
   "source": [
    "plt.hist(pvalues,20);"
   ]
  },
  {
   "cell_type": "code",
   "execution_count": null,
   "id": "eb5de079-b3cf-414c-a1eb-8ad4fedba40e",
   "metadata": {},
   "outputs": [],
   "source": [
    "(np.array(pvalues) < 0.05).sum()"
   ]
  },
  {
   "cell_type": "code",
   "execution_count": null,
   "id": "542f7bf7-271e-424b-b8af-2381697beb1b",
   "metadata": {},
   "outputs": [],
   "source": [
    "### Keep the large variance, but separate the means further:"
   ]
  },
  {
   "cell_type": "code",
   "execution_count": null,
   "id": "eb3b8675-71be-4851-9420-7d87d39270d9",
   "metadata": {},
   "outputs": [],
   "source": [
    "pvalues = []\n",
    "for n in range(1000):\n",
    "    rand1 = np.random.normal(5,1,5)\n",
    "    rand2 = np.random.normal(0,1,5)\n",
    "    dists = pd.DataFrame({\"rand1\":rand1,\"rand2\":rand2})\n",
    "    test_result = stats.ttest_ind(dists.rand1,dists.rand2)\n",
    "    pvalues.append(test_result.pvalue)"
   ]
  },
  {
   "cell_type": "code",
   "execution_count": null,
   "id": "f3448272-4585-4510-85fc-1968692a6166",
   "metadata": {},
   "outputs": [],
   "source": [
    "plt.hist(pvalues,20);"
   ]
  },
  {
   "cell_type": "code",
   "execution_count": null,
   "id": "366a7b8e-dd51-49f5-988e-7b2f79971e6a",
   "metadata": {},
   "outputs": [],
   "source": [
    "(np.array(pvalues) < 0.05).sum()"
   ]
  },
  {
   "cell_type": "markdown",
   "id": "acfbf75f-d1d8-4af4-bb48-d5bcf7564dba",
   "metadata": {},
   "source": [
    "### We see that the number of samples we need to measure to get a significant effect depends on the size of the effect we are measuring (i.e. the difference between the means) and the variability of our measurements (the standard deviation of the distributions). "
   ]
  },
  {
   "cell_type": "markdown",
   "id": "ab207c16-432b-4280-a0d6-864421678ee4",
   "metadata": {},
   "source": [
    "### Recall our original case, many samples, same mean, different variances. What if we want to determine if the distributions are different (not just the means)?"
   ]
  },
  {
   "cell_type": "code",
   "execution_count": null,
   "id": "ee05c2de-60dc-49a2-9635-c77ec074469c",
   "metadata": {},
   "outputs": [],
   "source": [
    "rand1 = np.random.normal(0,3,100000)\n",
    "rand2 = np.random.normal(0,1,100000)\n",
    "dists = pd.DataFrame({\"rand1\":rand1,\"rand2\":rand2})"
   ]
  },
  {
   "cell_type": "code",
   "execution_count": null,
   "id": "1153fbb8-bb19-4054-98f6-1b8f280e2345",
   "metadata": {},
   "outputs": [],
   "source": [
    "bins = np.arange(-10,10,0.1)\n",
    "plt.hist(dists.rand1,bins,label = 'mean 0, sigma 3')\n",
    "plt.hist(dists.rand2,bins,alpha=0.6,label = 'mean 0, sigma 1');\n",
    "plt.legend()\n",
    "plt.xlabel('Value')\n",
    "plt.ylabel('Frequency');"
   ]
  },
  {
   "cell_type": "markdown",
   "id": "d252419e-4d56-40d7-ac56-5a8ffef1e01e",
   "metadata": {},
   "source": [
    "### Another way to look at this is the cumulative distribution, which plots the fraction of the distribution that is above a particular value:"
   ]
  },
  {
   "cell_type": "code",
   "execution_count": null,
   "id": "0dbb0c81-78f3-4bd7-a06d-f5ff233088a0",
   "metadata": {},
   "outputs": [],
   "source": [
    "plt.hist(dists.rand1,bins,density = True, cumulative=True,label = 'mean 0, sigma 3')\n",
    "plt.hist(dists.rand2,bins,density=True,cumulative=True, alpha=0.4,label = 'mean 0, sigma 1');\n",
    "plt.legend()\n",
    "plt.xlabel('Value')\n",
    "plt.ylabel('Frequency');"
   ]
  },
  {
   "cell_type": "markdown",
   "id": "73612944-121e-4bea-9472-e8a5fced6632",
   "metadata": {},
   "source": [
    "### The Kolmogorov-Smirnov KS test uses the distance between two cumulative distributions to determine whether the distributions are different:"
   ]
  },
  {
   "cell_type": "code",
   "execution_count": null,
   "id": "cf783476-ea59-489a-9779-1b397fe666f7",
   "metadata": {},
   "outputs": [],
   "source": [
    "stats.ks_2samp(dists.rand1,dists.rand2)"
   ]
  },
  {
   "cell_type": "code",
   "execution_count": null,
   "id": "523c14fc-854d-4233-a4af-25e0688384d4",
   "metadata": {},
   "outputs": [],
   "source": [
    "stats.ttest_ind(dists.rand1,dists.rand2)"
   ]
  },
  {
   "cell_type": "markdown",
   "id": "eb885190-3bb5-4125-8800-2b6131460da7",
   "metadata": {},
   "source": [
    "### So the difference between these distributions is highly signficant even though the means are the same. "
   ]
  },
  {
   "cell_type": "markdown",
   "id": "a32f5085-a2da-4436-8992-bb65a94ae9b4",
   "metadata": {},
   "source": [
    "### Let's look at these tests applied to a more realistic dataset, seaborn has a number of example datasets that can be loaded with load_dataset. "
   ]
  },
  {
   "cell_type": "code",
   "execution_count": null,
   "id": "8f0dae67-8709-4abb-9ae8-5a52233074e6",
   "metadata": {},
   "outputs": [],
   "source": [
    "dat = sns.load_dataset('iris')"
   ]
  },
  {
   "cell_type": "code",
   "execution_count": null,
   "id": "1950033c-d0dc-420d-8730-266fae53494f",
   "metadata": {},
   "outputs": [],
   "source": [
    "dat"
   ]
  },
  {
   "cell_type": "code",
   "execution_count": null,
   "id": "3b4fc52c-1ef0-4bfd-93c3-3b7db741c100",
   "metadata": {},
   "outputs": [],
   "source": [
    "dat.species.unique()"
   ]
  },
  {
   "cell_type": "code",
   "execution_count": null,
   "id": "128bb869-b01f-4f71-ad69-834305b4cac6",
   "metadata": {},
   "outputs": [],
   "source": [
    "sns.boxplot(dat);"
   ]
  },
  {
   "cell_type": "code",
   "execution_count": null,
   "id": "69967a27-0378-46eb-9564-b784c092d230",
   "metadata": {},
   "outputs": [],
   "source": [
    "sns.boxplot(dat,x='species',y = 'sepal_width');"
   ]
  },
  {
   "cell_type": "code",
   "execution_count": null,
   "id": "7796fcc6-b451-4fa3-b81a-cca14f99fe4d",
   "metadata": {},
   "outputs": [],
   "source": [
    "sns.violinplot(dat,x = 'species', y = 'sepal_length');"
   ]
  },
  {
   "cell_type": "markdown",
   "id": "725b52da-8cf7-45f7-8b79-cb73cbf66a20",
   "metadata": {},
   "source": [
    "### Are these difference in sepal width signicant between species?"
   ]
  },
  {
   "cell_type": "code",
   "execution_count": null,
   "id": "23fd58a1-45a2-48bf-a8e0-02740d6a8fe2",
   "metadata": {},
   "outputs": [],
   "source": [
    "species = ['setosa','versicolor','virginica']\n",
    "swidth = pd.DataFrame()\n",
    "for ii in range(3):\n",
    "    swidth[species[ii]] = dat.loc[dat.species==species[ii],\"sepal_width\"].reset_index(drop=True)\n",
    "    "
   ]
  },
  {
   "cell_type": "code",
   "execution_count": null,
   "id": "700c65e1-eac3-4197-aa81-cba332b6a9f4",
   "metadata": {},
   "outputs": [],
   "source": [
    "swidth"
   ]
  },
  {
   "cell_type": "code",
   "execution_count": null,
   "id": "7fcd9bd3-3e28-4410-8300-5ccf40f7f24c",
   "metadata": {},
   "outputs": [],
   "source": [
    "stats.ttest_ind(swidth.versicolor,swidth.virginica)"
   ]
  },
  {
   "cell_type": "code",
   "execution_count": null,
   "id": "bf543b99-c5f8-4927-b722-f61720e93d9a",
   "metadata": {},
   "outputs": [],
   "source": [
    "stats.ttest_ind(swidth.setosa,swidth.virginica)"
   ]
  },
  {
   "cell_type": "code",
   "execution_count": null,
   "id": "26591cfa-a44b-47bf-b2a4-608161ab9eb3",
   "metadata": {},
   "outputs": [],
   "source": [
    "species = ['setosa','versicolor','virginica']\n",
    "slength = pd.DataFrame()\n",
    "for ii in range(3):\n",
    "    slength[species[ii]] = dat.loc[dat.species==species[ii],\"sepal_length\"].reset_index(drop=True)\n",
    "stats.ttest_ind(slength.versicolor,slength.virginica)"
   ]
  },
  {
   "cell_type": "code",
   "execution_count": null,
   "id": "cdd8a3ea-648b-4b70-9242-d2fc5e2c82e7",
   "metadata": {},
   "outputs": [],
   "source": [
    "stats.ks_2samp(slength.versicolor,slength.virginica)"
   ]
  },
  {
   "cell_type": "code",
   "execution_count": null,
   "id": "c57f6bbf-8ae2-4d7e-8b41-b0b4f2950039",
   "metadata": {},
   "outputs": [],
   "source": []
  }
 ],
 "metadata": {
  "kernelspec": {
   "display_name": "Python 3 (ipykernel)",
   "language": "python",
   "name": "python3"
  },
  "language_info": {
   "codemirror_mode": {
    "name": "ipython",
    "version": 3
   },
   "file_extension": ".py",
   "mimetype": "text/x-python",
   "name": "python",
   "nbconvert_exporter": "python",
   "pygments_lexer": "ipython3",
   "version": "3.11.5"
  }
 },
 "nbformat": 4,
 "nbformat_minor": 5
}
