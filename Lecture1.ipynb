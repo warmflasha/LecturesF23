{
 "cells": [
  {
   "cell_type": "markdown",
   "id": "d58c0347-7875-404c-aa1e-951721c47583",
   "metadata": {},
   "source": [
    "## Text uses a simple language called markdown "
   ]
  },
  {
   "cell_type": "markdown",
   "id": "aa5e7874-7364-42a7-b57e-678a81ebf6e4",
   "metadata": {},
   "source": [
    "### Heading levels are denoted with \\# \n",
    "# \\# Level 1\n",
    "## \\## Level 2\n",
    "### \\### Level 3\n",
    "#### \\#### Level 4\n",
    "##### \\##### Level 5"
   ]
  },
  {
   "cell_type": "markdown",
   "id": "fff88e68-9bf0-49c4-8dd3-0d6c17350eb8",
   "metadata": {},
   "source": [
    "Text can use **bold** or *italics*\n",
    "You can also include [links](https://nestacms.com/docs/creating-content/markdown-cheat-sheet). This one takes you to a useful cheatsheet for markdown. "
   ]
  },
  {
   "cell_type": "markdown",
   "id": "03b94c93-af74-4634-ac9e-d37d214cd30b",
   "metadata": {},
   "source": [
    "You can make bulleted lists:\n",
    "* Bullet 1\n",
    "* Bullet 2\n",
    "    * sub bullet"
   ]
  },
  {
   "cell_type": "markdown",
   "id": "85df7b32-4a07-4f73-a594-80ec7596efd4",
   "metadata": {},
   "source": [
    "### There is a toggle at the top which can set each cell to markdown or code. Executing the cell runs the code or formats the markdown.  "
   ]
  },
  {
   "cell_type": "markdown",
   "id": "d6aad505-36f0-4e0d-aad9-f6726e4fa2c6",
   "metadata": {},
   "source": [
    "### Use the = to store a value in a variable. The next cell assigns values to three variables. Note the use of the builtin keyword True"
   ]
  },
  {
   "cell_type": "code",
   "execution_count": 1,
   "id": "dd8bb561-79e7-4fbd-8efa-90847d9c732a",
   "metadata": {
    "tags": []
   },
   "outputs": [],
   "source": [
    "x = 2\n",
    "y = 1.1 \n",
    "s = \"foo\""
   ]
  },
  {
   "cell_type": "markdown",
   "id": "9b9e86aa-a9e9-4800-ad32-18a544c88883",
   "metadata": {},
   "source": [
    "### This doesn't produce any output. The most reliable way to see the value stored is to use the built in print function. "
   ]
  },
  {
   "cell_type": "code",
   "execution_count": 2,
   "id": "1b3500b1-b6fe-41ae-a5da-9a2a26c47d4f",
   "metadata": {
    "tags": []
   },
   "outputs": [
    {
     "name": "stdout",
     "output_type": "stream",
     "text": [
      "2\n",
      "1.1\n",
      "foo\n"
     ]
    }
   ],
   "source": [
    "print(x)\n",
    "print(y)\n",
    "print(s)"
   ]
  },
  {
   "cell_type": "markdown",
   "id": "b19e6705-eb11-4b98-89bd-d88145cd75d3",
   "metadata": {
    "tags": []
   },
   "source": [
    "### You can use the dir function on the object \\_\\_builtin\\_\\_ to see all the builtin functions and objects"
   ]
  },
  {
   "cell_type": "code",
   "execution_count": 3,
   "id": "cbba82e5-7826-4a39-9973-263c71090492",
   "metadata": {
    "collapsed": true,
    "jupyter": {
     "outputs_hidden": true
    },
    "tags": []
   },
   "outputs": [
    {
     "data": {
      "text/plain": [
       "['ArithmeticError',\n",
       " 'AssertionError',\n",
       " 'AttributeError',\n",
       " 'BaseException',\n",
       " 'BaseExceptionGroup',\n",
       " 'BlockingIOError',\n",
       " 'BrokenPipeError',\n",
       " 'BufferError',\n",
       " 'BytesWarning',\n",
       " 'ChildProcessError',\n",
       " 'ConnectionAbortedError',\n",
       " 'ConnectionError',\n",
       " 'ConnectionRefusedError',\n",
       " 'ConnectionResetError',\n",
       " 'DeprecationWarning',\n",
       " 'EOFError',\n",
       " 'Ellipsis',\n",
       " 'EncodingWarning',\n",
       " 'EnvironmentError',\n",
       " 'Exception',\n",
       " 'ExceptionGroup',\n",
       " 'False',\n",
       " 'FileExistsError',\n",
       " 'FileNotFoundError',\n",
       " 'FloatingPointError',\n",
       " 'FutureWarning',\n",
       " 'GeneratorExit',\n",
       " 'IOError',\n",
       " 'ImportError',\n",
       " 'ImportWarning',\n",
       " 'IndentationError',\n",
       " 'IndexError',\n",
       " 'InterruptedError',\n",
       " 'IsADirectoryError',\n",
       " 'KeyError',\n",
       " 'KeyboardInterrupt',\n",
       " 'LookupError',\n",
       " 'MemoryError',\n",
       " 'ModuleNotFoundError',\n",
       " 'NameError',\n",
       " 'None',\n",
       " 'NotADirectoryError',\n",
       " 'NotImplemented',\n",
       " 'NotImplementedError',\n",
       " 'OSError',\n",
       " 'OverflowError',\n",
       " 'PendingDeprecationWarning',\n",
       " 'PermissionError',\n",
       " 'ProcessLookupError',\n",
       " 'RecursionError',\n",
       " 'ReferenceError',\n",
       " 'ResourceWarning',\n",
       " 'RuntimeError',\n",
       " 'RuntimeWarning',\n",
       " 'StopAsyncIteration',\n",
       " 'StopIteration',\n",
       " 'SyntaxError',\n",
       " 'SyntaxWarning',\n",
       " 'SystemError',\n",
       " 'SystemExit',\n",
       " 'TabError',\n",
       " 'TimeoutError',\n",
       " 'True',\n",
       " 'TypeError',\n",
       " 'UnboundLocalError',\n",
       " 'UnicodeDecodeError',\n",
       " 'UnicodeEncodeError',\n",
       " 'UnicodeError',\n",
       " 'UnicodeTranslateError',\n",
       " 'UnicodeWarning',\n",
       " 'UserWarning',\n",
       " 'ValueError',\n",
       " 'Warning',\n",
       " 'ZeroDivisionError',\n",
       " '__IPYTHON__',\n",
       " '__build_class__',\n",
       " '__debug__',\n",
       " '__doc__',\n",
       " '__import__',\n",
       " '__loader__',\n",
       " '__name__',\n",
       " '__package__',\n",
       " '__spec__',\n",
       " 'abs',\n",
       " 'aiter',\n",
       " 'all',\n",
       " 'anext',\n",
       " 'any',\n",
       " 'ascii',\n",
       " 'bin',\n",
       " 'bool',\n",
       " 'breakpoint',\n",
       " 'bytearray',\n",
       " 'bytes',\n",
       " 'callable',\n",
       " 'chr',\n",
       " 'classmethod',\n",
       " 'compile',\n",
       " 'complex',\n",
       " 'copyright',\n",
       " 'credits',\n",
       " 'delattr',\n",
       " 'dict',\n",
       " 'dir',\n",
       " 'display',\n",
       " 'divmod',\n",
       " 'enumerate',\n",
       " 'eval',\n",
       " 'exec',\n",
       " 'execfile',\n",
       " 'filter',\n",
       " 'float',\n",
       " 'format',\n",
       " 'frozenset',\n",
       " 'get_ipython',\n",
       " 'getattr',\n",
       " 'globals',\n",
       " 'hasattr',\n",
       " 'hash',\n",
       " 'help',\n",
       " 'hex',\n",
       " 'id',\n",
       " 'input',\n",
       " 'int',\n",
       " 'isinstance',\n",
       " 'issubclass',\n",
       " 'iter',\n",
       " 'len',\n",
       " 'license',\n",
       " 'list',\n",
       " 'locals',\n",
       " 'map',\n",
       " 'max',\n",
       " 'memoryview',\n",
       " 'min',\n",
       " 'next',\n",
       " 'object',\n",
       " 'oct',\n",
       " 'open',\n",
       " 'ord',\n",
       " 'pow',\n",
       " 'print',\n",
       " 'property',\n",
       " 'range',\n",
       " 'repr',\n",
       " 'reversed',\n",
       " 'round',\n",
       " 'runfile',\n",
       " 'set',\n",
       " 'setattr',\n",
       " 'slice',\n",
       " 'sorted',\n",
       " 'staticmethod',\n",
       " 'str',\n",
       " 'sum',\n",
       " 'super',\n",
       " 'tuple',\n",
       " 'type',\n",
       " 'vars',\n",
       " 'zip']"
      ]
     },
     "execution_count": 3,
     "metadata": {},
     "output_type": "execute_result"
    }
   ],
   "source": [
    "dir(__builtin__)"
   ]
  },
  {
   "cell_type": "markdown",
   "id": "ae6f4b2b-96ce-4687-a08d-ba9f2bf5c65d",
   "metadata": {
    "tags": []
   },
   "source": [
    "### = is the assignment operator and == is a test for equality. "
   ]
  },
  {
   "cell_type": "code",
   "execution_count": 4,
   "id": "8e35f26d-f684-48d0-ba55-c22c5de84ece",
   "metadata": {
    "tags": []
   },
   "outputs": [
    {
     "data": {
      "text/plain": [
       "False"
      ]
     },
     "execution_count": 4,
     "metadata": {},
     "output_type": "execute_result"
    }
   ],
   "source": [
    "b = 1\n",
    "b == 2"
   ]
  },
  {
   "cell_type": "code",
   "execution_count": 5,
   "id": "d94ebc5b-11df-44fc-b6b5-509ecc269cbe",
   "metadata": {
    "tags": []
   },
   "outputs": [
    {
     "data": {
      "text/plain": [
       "True"
      ]
     },
     "execution_count": 5,
     "metadata": {},
     "output_type": "execute_result"
    }
   ],
   "source": [
    "b = 2 \n",
    "b == 1\n",
    "b == 2"
   ]
  },
  {
   "cell_type": "markdown",
   "id": "6bc70de9-d898-41f9-8627-4465e146ca60",
   "metadata": {},
   "source": [
    "### You can return the result of this test to a variable"
   ]
  },
  {
   "cell_type": "code",
   "execution_count": 6,
   "id": "48bb6a0a-6f06-4d53-820d-c4452c4a0dac",
   "metadata": {
    "tags": []
   },
   "outputs": [
    {
     "name": "stdout",
     "output_type": "stream",
     "text": [
      "True\n"
     ]
    }
   ],
   "source": [
    "c = b == 2\n",
    "print(c)"
   ]
  },
  {
   "cell_type": "markdown",
   "id": "6e423e5a-4c31-40d5-a59e-0ba1eda1b529",
   "metadata": {},
   "source": [
    "### Variables have types. You can see the type of a variable using the built in type function:"
   ]
  },
  {
   "cell_type": "code",
   "execution_count": 7,
   "id": "5b5ff252-11d4-4646-9379-d635363b0c18",
   "metadata": {
    "tags": []
   },
   "outputs": [
    {
     "name": "stdout",
     "output_type": "stream",
     "text": [
      "<class 'int'>\n",
      "<class 'float'>\n",
      "<class 'str'>\n",
      "<class 'bool'>\n"
     ]
    }
   ],
   "source": [
    "print(type(x))\n",
    "print(type(y))\n",
    "print(type(s))\n",
    "print(type(c))"
   ]
  },
  {
   "cell_type": "markdown",
   "id": "ee3c8845-133c-4e21-8436-a2f4a1f68b2b",
   "metadata": {
    "tags": []
   },
   "source": [
    "### Arithmetic with numbers works as you would expect"
   ]
  },
  {
   "cell_type": "code",
   "execution_count": 8,
   "id": "324c48e1-9639-4a66-b238-91c876eaa48c",
   "metadata": {
    "tags": []
   },
   "outputs": [
    {
     "name": "stdout",
     "output_type": "stream",
     "text": [
      "3.1\n",
      "2.2\n",
      "1.2100000000000002\n"
     ]
    }
   ],
   "source": [
    "print(x+y)\n",
    "print(x*y)\n",
    "print(y**x) #this is an exponent"
   ]
  },
  {
   "cell_type": "markdown",
   "id": "3d5fe2a3-e212-4ea9-a8db-38ef6e334996",
   "metadata": {},
   "source": [
    "### Some operators can also be used to manipulate strings"
   ]
  },
  {
   "cell_type": "code",
   "execution_count": 9,
   "id": "7ecd914b-c46e-4cc2-a152-89ade12029f6",
   "metadata": {
    "tags": []
   },
   "outputs": [
    {
     "name": "stdout",
     "output_type": "stream",
     "text": [
      "foofoo\n",
      "foofoofoofoo\n"
     ]
    }
   ],
   "source": [
    "print(s+s)\n",
    "print(4*s)"
   ]
  },
  {
   "cell_type": "markdown",
   "id": "528208c9-8bf2-49ea-89ab-819d9e2f496a",
   "metadata": {
    "tags": []
   },
   "source": [
    "### But some cannot. Note the information in the error message:"
   ]
  },
  {
   "cell_type": "code",
   "execution_count": 10,
   "id": "70b7bf93-404d-48af-99c5-c6d346db5a9c",
   "metadata": {
    "tags": []
   },
   "outputs": [
    {
     "ename": "TypeError",
     "evalue": "unsupported operand type(s) for ** or pow(): 'str' and 'int'",
     "output_type": "error",
     "traceback": [
      "\u001b[0;31m---------------------------------------------------------------------------\u001b[0m",
      "\u001b[0;31mTypeError\u001b[0m                                 Traceback (most recent call last)",
      "Cell \u001b[0;32mIn[10], line 1\u001b[0m\n\u001b[0;32m----> 1\u001b[0m \u001b[38;5;28mprint\u001b[39m(s\u001b[38;5;241m*\u001b[39m\u001b[38;5;241m*\u001b[39m\u001b[38;5;241m2\u001b[39m)\n",
      "\u001b[0;31mTypeError\u001b[0m: unsupported operand type(s) for ** or pow(): 'str' and 'int'"
     ]
    }
   ],
   "source": [
    "print(s**2)"
   ]
  },
  {
   "cell_type": "markdown",
   "id": "530b54d4-10a6-42cf-8dae-5279344692ad",
   "metadata": {},
   "source": [
    "### Some other things that can go wrong:\n",
    "### White space is important in python"
   ]
  },
  {
   "cell_type": "code",
   "execution_count": 11,
   "id": "3aca0a41-9f8c-4e05-952e-311e728b3d1c",
   "metadata": {
    "tags": []
   },
   "outputs": [
    {
     "ename": "IndentationError",
     "evalue": "unexpected indent (1673693183.py, line 2)",
     "output_type": "error",
     "traceback": [
      "\u001b[0;36m  Cell \u001b[0;32mIn[11], line 2\u001b[0;36m\u001b[0m\n\u001b[0;31m    print(s)\u001b[0m\n\u001b[0m    ^\u001b[0m\n\u001b[0;31mIndentationError\u001b[0m\u001b[0;31m:\u001b[0m unexpected indent\n"
     ]
    }
   ],
   "source": [
    "print(x)\n",
    "    print(s)"
   ]
  },
  {
   "cell_type": "markdown",
   "id": "3803c915-bc51-4120-9c61-f1840554ab41",
   "metadata": {},
   "source": [
    "### You cannot call a variable without defining it"
   ]
  },
  {
   "cell_type": "code",
   "execution_count": 12,
   "id": "523fafdd-c512-497c-a8d3-5f9bb13d67c7",
   "metadata": {
    "tags": []
   },
   "outputs": [
    {
     "ename": "NameError",
     "evalue": "name 'z' is not defined",
     "output_type": "error",
     "traceback": [
      "\u001b[0;31m---------------------------------------------------------------------------\u001b[0m",
      "\u001b[0;31mNameError\u001b[0m                                 Traceback (most recent call last)",
      "Cell \u001b[0;32mIn[12], line 1\u001b[0m\n\u001b[0;32m----> 1\u001b[0m \u001b[38;5;28mprint\u001b[39m(z)\n",
      "\u001b[0;31mNameError\u001b[0m: name 'z' is not defined"
     ]
    }
   ],
   "source": [
    "print(z)"
   ]
  },
  {
   "cell_type": "markdown",
   "id": "a9fe44e7-5943-45c1-9991-21bedbea6738",
   "metadata": {},
   "source": [
    "### Built in functions such as int, str, float can be used to convert between types"
   ]
  },
  {
   "cell_type": "code",
   "execution_count": 13,
   "id": "7d31b2e8-e6b3-4a25-b732-56c1f6b6bde5",
   "metadata": {
    "tags": []
   },
   "outputs": [
    {
     "name": "stdout",
     "output_type": "stream",
     "text": [
      "2\n",
      "4\n",
      "22\n"
     ]
    }
   ],
   "source": [
    "print(x)\n",
    "print(x+x)\n",
    "str1 = str(x)\n",
    "print(str1+str1)"
   ]
  },
  {
   "cell_type": "markdown",
   "id": "c42e116c-1abc-4a43-835c-37e7a4efaa2e",
   "metadata": {},
   "source": [
    "### You can use the + operator to assemble longer strings with variables"
   ]
  },
  {
   "cell_type": "code",
   "execution_count": 14,
   "id": "6d6f0317-f031-4ec2-b334-86717792a4a0",
   "metadata": {
    "tags": []
   },
   "outputs": [
    {
     "name": "stdout",
     "output_type": "stream",
     "text": [
      "The value of x is 2\n"
     ]
    }
   ],
   "source": [
    "str2 = \"The value of x is \" + str(x)\n",
    "print(str2)"
   ]
  },
  {
   "cell_type": "markdown",
   "id": "d49021d6-d776-46e7-bcf6-f5d280ef3e05",
   "metadata": {
    "jupyter": {
     "source_hidden": true
    },
    "tags": []
   },
   "source": [
    "### Python has built in types for storing collections of objects. The most common is a list denote by square brackets. You can define a list manually:"
   ]
  },
  {
   "cell_type": "code",
   "execution_count": 15,
   "id": "b7dfb4bc-a591-466f-bf67-d34ebc4926f5",
   "metadata": {
    "tags": []
   },
   "outputs": [],
   "source": [
    "list1 = [1, 2, 3, 4, 5]"
   ]
  },
  {
   "cell_type": "markdown",
   "id": "80b1f6cf-5e08-4c67-9923-879fe14a8b72",
   "metadata": {
    "jp-MarkdownHeadingCollapsed": true,
    "tags": []
   },
   "source": [
    "### You can access individual elements in the list by number using square brackets. Note that the first element is assigned to 0:"
   ]
  },
  {
   "cell_type": "code",
   "execution_count": 16,
   "id": "b43fface-cc08-422f-b53f-ebdf0bd1bc3a",
   "metadata": {
    "tags": []
   },
   "outputs": [
    {
     "name": "stdout",
     "output_type": "stream",
     "text": [
      "1\n",
      "4\n"
     ]
    }
   ],
   "source": [
    "print(list1[0])\n",
    "print(list1[3])"
   ]
  },
  {
   "cell_type": "markdown",
   "id": "07d82f40-702a-4588-bf87-9e83887605ce",
   "metadata": {
    "tags": []
   },
   "source": [
    "### You can access multiple elements at once by slicing. Slice goes from the first index (included) to the second one (not included). Leaving if the first index is omitted, it is assumed to be 0, while if the last one is omitted it is assumed to be the length of the list. "
   ]
  },
  {
   "cell_type": "code",
   "execution_count": 17,
   "id": "cfd374aa-8e70-4c09-bf6a-d541113092dc",
   "metadata": {
    "tags": []
   },
   "outputs": [
    {
     "name": "stdout",
     "output_type": "stream",
     "text": [
      "[1, 2]\n"
     ]
    }
   ],
   "source": [
    "print(list1[0:2])"
   ]
  },
  {
   "cell_type": "code",
   "execution_count": 18,
   "id": "7a962653-9899-46ac-9cba-dcad9bd9e079",
   "metadata": {
    "tags": []
   },
   "outputs": [
    {
     "name": "stdout",
     "output_type": "stream",
     "text": [
      "[3, 4, 5]\n"
     ]
    }
   ],
   "source": [
    "print(list1[2:])"
   ]
  },
  {
   "cell_type": "code",
   "execution_count": 19,
   "id": "ce534d80-3051-4c86-ac56-189dfe00bb2c",
   "metadata": {
    "tags": []
   },
   "outputs": [
    {
     "name": "stdout",
     "output_type": "stream",
     "text": [
      "[1, 2, 3]\n"
     ]
    }
   ],
   "source": [
    "print(list1[:3])"
   ]
  },
  {
   "cell_type": "markdown",
   "id": "199c4b14-d50b-4ba1-bd6b-245ae8a2c496",
   "metadata": {
    "tags": []
   },
   "source": [
    "### If a third number is included in the slice, it is the step. Default is 1"
   ]
  },
  {
   "cell_type": "code",
   "execution_count": 20,
   "id": "1e481bfa-4824-47a4-a86c-5c7bff688c3e",
   "metadata": {
    "tags": []
   },
   "outputs": [
    {
     "name": "stdout",
     "output_type": "stream",
     "text": [
      "[1, 3]\n"
     ]
    }
   ],
   "source": [
    "print(list1[0:3:2])"
   ]
  },
  {
   "cell_type": "code",
   "execution_count": 21,
   "id": "09668deb-30ad-4a7a-9157-7418acc1a155",
   "metadata": {
    "tags": []
   },
   "outputs": [
    {
     "name": "stdout",
     "output_type": "stream",
     "text": [
      "[1, 3, 5]\n"
     ]
    }
   ],
   "source": [
    "print(list1[::2])"
   ]
  },
  {
   "cell_type": "markdown",
   "id": "99931dab-7794-4ab2-b49d-8ac7a67b6794",
   "metadata": {
    "tags": []
   },
   "source": [
    "### Some useful list methods (use dir function on list1 to see all available methods)"
   ]
  },
  {
   "cell_type": "code",
   "execution_count": 22,
   "id": "549a6bce-4831-46eb-ad43-ad971c22e765",
   "metadata": {
    "tags": []
   },
   "outputs": [
    {
     "name": "stdout",
     "output_type": "stream",
     "text": [
      "[1, 2, 3, 4, 5, 17]\n"
     ]
    }
   ],
   "source": [
    "list1.append(17)\n",
    "print(list1)"
   ]
  },
  {
   "cell_type": "code",
   "execution_count": 23,
   "id": "4b8a71d4-e632-4fdd-9667-b077215d5494",
   "metadata": {
    "tags": []
   },
   "outputs": [
    {
     "data": {
      "text/plain": [
       "6"
      ]
     },
     "execution_count": 23,
     "metadata": {},
     "output_type": "execute_result"
    }
   ],
   "source": [
    "len(list1) #len is a builtin function not specific to lists"
   ]
  },
  {
   "cell_type": "code",
   "execution_count": 24,
   "id": "d5683f15-9993-4eea-8a2f-7ad7f6231f7c",
   "metadata": {
    "tags": []
   },
   "outputs": [
    {
     "data": {
      "text/plain": [
       "2"
      ]
     },
     "execution_count": 24,
     "metadata": {},
     "output_type": "execute_result"
    }
   ],
   "source": [
    "list1.append(1)\n",
    "list1.count(1) # how many times is 1 in list 1"
   ]
  },
  {
   "cell_type": "code",
   "execution_count": 25,
   "id": "45a58c90-9d28-46d2-afc3-30bb2f30d5da",
   "metadata": {
    "tags": []
   },
   "outputs": [
    {
     "data": {
      "text/plain": [
       "0"
      ]
     },
     "execution_count": 25,
     "metadata": {},
     "output_type": "execute_result"
    }
   ],
   "source": [
    "list1.index(1) # what is the index of 1 in list one (returns the first one)"
   ]
  },
  {
   "cell_type": "code",
   "execution_count": 26,
   "id": "720e8666-be28-4390-afd0-17c417ddffab",
   "metadata": {
    "tags": []
   },
   "outputs": [
    {
     "name": "stdout",
     "output_type": "stream",
     "text": [
      "[1, 2, 3, 5, 4, 5, 17, 1]\n"
     ]
    }
   ],
   "source": [
    "list1.insert(3,5) #insert 5 at position 3\n",
    "print(list1)"
   ]
  },
  {
   "cell_type": "markdown",
   "id": "d931c10b-5d04-4d90-88c2-7324521f77c1",
   "metadata": {},
   "source": [
    "### Lists can contain objects of multiple types. Lists can contain other lists"
   ]
  },
  {
   "cell_type": "code",
   "execution_count": 27,
   "id": "b51b5d04-9952-49d4-9772-9676dc57a861",
   "metadata": {
    "tags": []
   },
   "outputs": [
    {
     "name": "stdout",
     "output_type": "stream",
     "text": [
      "[1, 2, 3, 5, 4, 5, 'goo', 17, 1, ['list', 'of', 'strings']]\n"
     ]
    }
   ],
   "source": [
    "list1.insert(6,\"goo\")\n",
    "list1.append([\"list\", \"of\", \"strings\"])\n",
    "print(list1)"
   ]
  },
  {
   "cell_type": "markdown",
   "id": "d63e7563-b1b7-40c3-83d5-493ac5e31da8",
   "metadata": {
    "tags": []
   },
   "source": [
    "### Using the dir function, you will notice that there aren't very many functions built in to the base python. For example, basic mathematical functions such as logarithms or triginometric functions are missing. a common operation in processing transcriptomic data is to the log base 2 of the count numbers. Where can we find a function to do this? The numpy packages contains a wealth of functions for mathematical operations. "
   ]
  },
  {
   "cell_type": "code",
   "execution_count": null,
   "id": "fbc090ae-56f3-4c41-b5ea-d569be627b9a",
   "metadata": {
    "tags": []
   },
   "outputs": [],
   "source": [
    "import numpy "
   ]
  },
  {
   "cell_type": "code",
   "execution_count": null,
   "id": "04e9a176-c15d-4b4b-b1b8-817bef997ea1",
   "metadata": {
    "tags": []
   },
   "outputs": [],
   "source": [
    "expr = [23, 81, 2, 19, 1000]\n",
    "expr_log = numpy.log2(expr)\n",
    "print(expr_log)"
   ]
  },
  {
   "cell_type": "markdown",
   "id": "6b77b34c-201b-48d1-b722-b5d768f0121c",
   "metadata": {},
   "source": [
    "### Note the type of expr_log. This is a very useful data type that we will discuss in detail next week. "
   ]
  },
  {
   "cell_type": "code",
   "execution_count": null,
   "id": "5dc4e1df-00d2-4868-82bc-131bdbf017dc",
   "metadata": {
    "tags": []
   },
   "outputs": [],
   "source": [
    "type(expr_log)"
   ]
  },
  {
   "cell_type": "code",
   "execution_count": 28,
   "id": "e9d3df66-ecc0-4ae5-b8b2-9ebb6713c8f2",
   "metadata": {
    "tags": []
   },
   "outputs": [
    {
     "data": {
      "text/plain": [
       "'/Users/aw21/Library/CloudStorage/Box-Box/Teaching/F23_BIOS470570'"
      ]
     },
     "execution_count": 28,
     "metadata": {},
     "output_type": "execute_result"
    }
   ],
   "source": [
    "pwd"
   ]
  },
  {
   "cell_type": "markdown",
   "id": "4feb7051-87a8-4800-a00b-ef782f13ed13",
   "metadata": {},
   "source": [
    "### you can import a package and give it any name you want. This is the standard convention for numpy. "
   ]
  },
  {
   "cell_type": "code",
   "execution_count": null,
   "id": "def8a51e-99b7-405e-92d0-def55ab513ce",
   "metadata": {
    "tags": []
   },
   "outputs": [],
   "source": [
    "import numpy as np\n",
    "np.log2(expr)"
   ]
  },
  {
   "cell_type": "markdown",
   "id": "59e179d6-a4fe-4d78-8a92-bb833f18314b",
   "metadata": {},
   "source": [
    "### If you only need one function, you can import it directly to your current workspace without a name:"
   ]
  },
  {
   "cell_type": "code",
   "execution_count": null,
   "id": "9abea152-5835-4661-9d58-b803be98c97f",
   "metadata": {
    "tags": []
   },
   "outputs": [],
   "source": [
    "from numpy import log2\n",
    "log2(expr)"
   ]
  },
  {
   "cell_type": "markdown",
   "id": "e834c448-456d-4fdd-87c9-ef0f2f124949",
   "metadata": {},
   "source": [
    "#### 'from numpy import *' will import all functions but this is not recommended as it can lead to conflicts with other packages. "
   ]
  },
  {
   "cell_type": "code",
   "execution_count": null,
   "id": "ed83b649-0c46-46de-8bde-1c90798461dc",
   "metadata": {},
   "outputs": [],
   "source": []
  }
 ],
 "metadata": {
  "kernelspec": {
   "display_name": "Python 3 (ipykernel)",
   "language": "python",
   "name": "python3"
  },
  "language_info": {
   "codemirror_mode": {
    "name": "ipython",
    "version": 3
   },
   "file_extension": ".py",
   "mimetype": "text/x-python",
   "name": "python",
   "nbconvert_exporter": "python",
   "pygments_lexer": "ipython3",
   "version": "3.11.5"
  }
 },
 "nbformat": 4,
 "nbformat_minor": 5
}
