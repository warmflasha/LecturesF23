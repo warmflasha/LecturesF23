{
 "cells": [
  {
   "cell_type": "markdown",
   "id": "6c1e1251-65e0-4971-a3b8-f132db0f69e7",
   "metadata": {},
   "source": [
    "# BIOS470/570 Lecture 6"
   ]
  },
  {
   "cell_type": "markdown",
   "id": "2a669ff5-8e23-4451-ab01-279d848d98b7",
   "metadata": {},
   "source": [
    "## Last time we covered:\n",
    "* ### Writing functions in python\n",
    "* ### pandas data series"
   ]
  },
  {
   "cell_type": "markdown",
   "id": "ab6c32d7-6af9-4285-b3f4-514ff88cd9ed",
   "metadata": {},
   "source": [
    "## Today we will cover:\n",
    "* ### Introduction to gene expression measurements\n",
    "* ### pandas data frames"
   ]
  },
  {
   "cell_type": "markdown",
   "id": "18af3052-1419-47d7-bf99-30ba0f1d06ea",
   "metadata": {},
   "source": [
    "### First import the packages we need with the standard conventions"
   ]
  },
  {
   "cell_type": "code",
   "execution_count": null,
   "id": "69f63c64-9f97-46f2-8c7e-088248d6992c",
   "metadata": {},
   "outputs": [],
   "source": [
    "import numpy as np\n",
    "import matplotlib.pyplot as plt\n",
    "import pandas as pd"
   ]
  },
  {
   "cell_type": "markdown",
   "id": "8f8ff595-2853-42af-895a-bda0d7c38521",
   "metadata": {},
   "source": [
    "### Pandas is very good for reading tabular data. In the data folder, I have two files with RNAseq data directly downloaded from the supplementary information of the relevant papers. One is an excel file and one is tab separate (tsv). Both of these can be read with pandas without further modification"
   ]
  },
  {
   "cell_type": "code",
   "execution_count": null,
   "id": "ad345140-5948-482b-9e5c-9756e046e828",
   "metadata": {},
   "outputs": [],
   "source": [
    "human_data = pd.read_excel('data/GSE137492_SupplementaryTable1.xlsx')\n",
    "human_data"
   ]
  },
  {
   "cell_type": "code",
   "execution_count": null,
   "id": "96227406-950f-495b-beba-58734a3577fb",
   "metadata": {},
   "outputs": [],
   "source": [
    "frog_data = pd.read_csv('data/xen_uic_hik_stage8_13_30min.tsv',delimiter='\\t')\n",
    "frog_data"
   ]
  },
  {
   "cell_type": "markdown",
   "id": "2a6bfd34-dae9-4cb9-ac92-547d278fec0e",
   "metadata": {},
   "source": [
    "### These objects are pandas dataframes. Similar to a series, they have an index with names the row. They also have another index object called \"columns\" with names the columns:"
   ]
  },
  {
   "cell_type": "code",
   "execution_count": null,
   "id": "d4a6dfff-0d6f-48cd-8267-16477a0436fb",
   "metadata": {},
   "outputs": [],
   "source": [
    "human_data.index #this is just an integer index"
   ]
  },
  {
   "cell_type": "code",
   "execution_count": null,
   "id": "675cd832-21cc-4781-b94d-19684b5ab913",
   "metadata": {},
   "outputs": [],
   "source": [
    "human_data.columns #this is an index object with the column names taken from the file"
   ]
  },
  {
   "cell_type": "markdown",
   "id": "c8fa7933-58b4-49a7-a66f-a5cf8357267a",
   "metadata": {},
   "source": [
    "### Dataframes can be indexed either by integer index (as for python lists and numpy arrays) or by name in the index. To make this explicit there are two methods for this .loc (for index) and .iloc (for integer)"
   ]
  },
  {
   "cell_type": "code",
   "execution_count": null,
   "id": "be09798f-6b4e-491c-a2f4-79d04c2e6659",
   "metadata": {},
   "outputs": [],
   "source": [
    "human_data.loc[:,\"media_1\"]"
   ]
  },
  {
   "cell_type": "code",
   "execution_count": null,
   "id": "41295240-0fef-4348-a0a5-eaae49ca0029",
   "metadata": {},
   "outputs": [],
   "source": [
    "human_data.iloc[:,2]"
   ]
  },
  {
   "cell_type": "markdown",
   "id": "bf5ef7e4-4250-4eab-aa1a-d24461bfcda5",
   "metadata": {},
   "source": [
    "### Note that pandas gets the datatype right and mixed datatypes are okay. The data type for the above is float while for the gene ids it is not a numeric type:"
   ]
  },
  {
   "cell_type": "code",
   "execution_count": null,
   "id": "1d3b5cf2-204f-46d2-83c3-9a78fedd0c4e",
   "metadata": {},
   "outputs": [],
   "source": [
    "human_data.loc[:,\"geneIds\"]"
   ]
  },
  {
   "cell_type": "markdown",
   "id": "3776b30f-5596-45e0-b339-8efc27e4c409",
   "metadata": {},
   "source": [
    "### In this case, for the rows, these are equivalent since the index is just the integers"
   ]
  },
  {
   "cell_type": "code",
   "execution_count": null,
   "id": "d03b688c-27df-4c9a-b69f-e6c1293b0a98",
   "metadata": {},
   "outputs": [],
   "source": [
    "human_data.loc[0] #first row"
   ]
  },
  {
   "cell_type": "code",
   "execution_count": null,
   "id": "e921ac83-4c3a-4f9c-b293-39566dbc7ec1",
   "metadata": {},
   "outputs": [],
   "source": [
    "human_data.iloc[0]"
   ]
  },
  {
   "cell_type": "markdown",
   "id": "05dcea54-e216-40fb-ad02-d6addf93c0e3",
   "metadata": {},
   "source": [
    "### This isn't convenient as we'd like to be able to access the data by gene name. Lets drop the rows without gene names and then make the index the gene name. As there are NaNs in the gene name column, we can easily do this with the dropna method:"
   ]
  },
  {
   "cell_type": "code",
   "execution_count": null,
   "id": "dd6d10a9-9bc0-4fab-8268-7ccd217f5a4b",
   "metadata": {},
   "outputs": [],
   "source": [
    "human_data.dropna()"
   ]
  },
  {
   "cell_type": "markdown",
   "id": "0854e4ec-c55a-42ec-a712-6355cc2924c9",
   "metadata": {},
   "source": [
    "### More generally, we can use indexing. The .loc method can also use a boolean series, which enables us to do this. Note that the index for each row has not changed so the first row no longer has index 0"
   ]
  },
  {
   "cell_type": "code",
   "execution_count": null,
   "id": "b199dcfe-9997-4973-b426-7fa77619eff9",
   "metadata": {},
   "outputs": [],
   "source": [
    "human_data = human_data.loc[~human_data[\"genes\"].isna()]\n",
    "human_data"
   ]
  },
  {
   "cell_type": "markdown",
   "id": "4b964c78-91e1-4718-871b-9fc3834e6564",
   "metadata": {},
   "source": [
    "### Now set the index"
   ]
  },
  {
   "cell_type": "code",
   "execution_count": null,
   "id": "f568f37f-158c-41cb-ab2a-3f4b1ef2bce0",
   "metadata": {},
   "outputs": [],
   "source": [
    "human_data.index = human_data[\"genes\"]\n",
    "human_data"
   ]
  },
  {
   "cell_type": "markdown",
   "id": "ceabeaf1-6dce-4410-9285-b7ce5e998afc",
   "metadata": {},
   "source": [
    "### Use the drop method to drop the \"genes\" column as it is now the index"
   ]
  },
  {
   "cell_type": "code",
   "execution_count": null,
   "id": "e778b9ab-168c-49e7-8064-127e628da58d",
   "metadata": {},
   "outputs": [],
   "source": [
    "human_data = human_data.drop(\"genes\", axis=1) #drop the genes column as we are using it for the index\n",
    "human_data"
   ]
  },
  {
   "cell_type": "markdown",
   "id": "1a911a58-ce34-415e-a834-54d910683592",
   "metadata": {},
   "source": [
    "### Now we can get data by gene name:"
   ]
  },
  {
   "cell_type": "code",
   "execution_count": null,
   "id": "a4ed7aba-1154-43eb-8297-966efa8e0d06",
   "metadata": {},
   "outputs": [],
   "source": [
    "human_data.loc[\"NANOG\"]"
   ]
  },
  {
   "cell_type": "markdown",
   "id": "bed601f0-478e-4c24-a30e-ddf2eba405df",
   "metadata": {},
   "source": [
    "### Let's see a scatter plot of gene expression for two genes, color coded by a third. Note that we need to not take the geneId column as this doesn't have numeric data. "
   ]
  },
  {
   "cell_type": "code",
   "execution_count": null,
   "id": "3238b83a-e9e7-423c-9da2-5b4f9e347117",
   "metadata": {},
   "outputs": [],
   "source": [
    "fs = 32\n",
    "nanog = human_data.loc[\"NANOG\"].iloc[1:] \n",
    "cdx2 = human_data.loc[\"CDX2\"].iloc[1:] \n",
    "isl1 = human_data.loc[\"ISL1\"].iloc[1:] \n",
    "fig = plt.figure(figsize=(10,10))\n",
    "ax = fig.add_subplot()\n",
    "ax.scatter(nanog,cdx2,c = isl1)\n",
    "ax.set_ylabel(\"CDX2\",fontsize = fs)\n",
    "ax.set_xlabel(\"NANOG\",fontsize = fs);"
   ]
  },
  {
   "cell_type": "markdown",
   "id": "c7dc0d31-ff1c-498d-be00-b9d4e2e171e6",
   "metadata": {},
   "source": [
    "### This suggests that NANOG and CDX2 expression are mutually exclusive and ISL1 is expressed together with CDX2"
   ]
  },
  {
   "cell_type": "code",
   "execution_count": null,
   "id": "127cf1ba-067f-4df4-97e4-ee8f02188e58",
   "metadata": {},
   "outputs": [],
   "source": [
    "frog_data.iloc[4000:]"
   ]
  },
  {
   "cell_type": "markdown",
   "id": "d93a277a-195c-414a-b830-a78896296bf7",
   "metadata": {},
   "source": [
    "### Other ways to make dataframes:\n",
    "* ### Dictionary of equal length lists. List keys are columns. Rows get a default index"
   ]
  },
  {
   "cell_type": "code",
   "execution_count": null,
   "id": "e12239a1-4b64-433d-9bee-a544a9d363ac",
   "metadata": {},
   "outputs": [],
   "source": [
    "frame1 = pd.DataFrame({'NANOG':[3, 6, 98, 1],'CDX2':[76, 64, 2, 88]})\n",
    "frame1"
   ]
  },
  {
   "cell_type": "markdown",
   "id": "572e30a0-e7c2-4433-8463-5cf724170686",
   "metadata": {},
   "source": [
    "* ### Dictionary of series. Recall we made some series out of our gene expression data before. Let's use a couple to make a dataframe. Again, column names are dictionary keys. Row index is taken from the index of the series:"
   ]
  },
  {
   "cell_type": "code",
   "execution_count": null,
   "id": "feebe9f7-c883-4f5c-acc9-5e7b614b0101",
   "metadata": {},
   "outputs": [],
   "source": [
    "nanog"
   ]
  },
  {
   "cell_type": "code",
   "execution_count": null,
   "id": "9c2726e6-d5b5-4fa7-8ebe-cd1cea8fca45",
   "metadata": {},
   "outputs": [],
   "source": [
    "frame1 = pd.DataFrame({'NANOG':nanog,'CDX2':cdx2})\n",
    "frame1"
   ]
  },
  {
   "cell_type": "markdown",
   "id": "394ef628-9404-4d5f-bd6d-761ad89a39aa",
   "metadata": {},
   "source": [
    "### This is the transpose of what we had before where genes where columns, not rows. We can transpose this if we want:"
   ]
  },
  {
   "cell_type": "code",
   "execution_count": null,
   "id": "06073d61-ade7-4ab7-806d-a7a044af40b5",
   "metadata": {},
   "outputs": [],
   "source": [
    "frame1T = frame1.transpose()\n",
    "frame1T"
   ]
  },
  {
   "cell_type": "markdown",
   "id": "d25400ad-e7b9-4dc1-97aa-237ca4f8893e",
   "metadata": {},
   "source": [
    "### As with numpy, slicing, transposing etc does not make a copy. Changing this new variable will also change the original. "
   ]
  },
  {
   "cell_type": "code",
   "execution_count": null,
   "id": "8c05e920-204e-4d41-aebc-bfab95042963",
   "metadata": {},
   "outputs": [],
   "source": [
    "frame1T.iloc[0,0] = 1\n",
    "frame1"
   ]
  },
  {
   "cell_type": "markdown",
   "id": "9732e154-0ff8-4b06-9aef-d3dc7ac81ca8",
   "metadata": {},
   "source": [
    "### You can also convert a numpy array into a dataframe. Both rows and columns will get a default index:"
   ]
  },
  {
   "cell_type": "code",
   "execution_count": null,
   "id": "2784e84b-e525-4f68-9dee-9d381acb57d8",
   "metadata": {},
   "outputs": [],
   "source": [
    "pd.DataFrame(np.random.random((3,3)))"
   ]
  },
  {
   "cell_type": "markdown",
   "id": "160f8aef-e657-4a11-b923-61c044b14b86",
   "metadata": {},
   "source": [
    "### You can set the index and column names when specifying the data frame. "
   ]
  },
  {
   "cell_type": "code",
   "execution_count": null,
   "id": "677e48d2-ebf0-4323-a4b9-e85ee8209878",
   "metadata": {},
   "outputs": [],
   "source": [
    "frame2 = pd.DataFrame(np.random.random((3,3)), index = [\"NANOG\",\"CDX2\",\"ISL1\"], columns=[\"Condition 1\", \"Condition 2\", \"Condition 3\"])\n",
    "frame2"
   ]
  },
  {
   "cell_type": "markdown",
   "id": "7078b8e0-ba6d-4604-8e53-cd95ef2e5c9b",
   "metadata": {},
   "source": [
    "### Numpy functions will also work on dataframes in an element-wise fashion just like on ndarrays:"
   ]
  },
  {
   "cell_type": "code",
   "execution_count": null,
   "id": "b2264775-8dad-4343-a807-f14b5a343df2",
   "metadata": {},
   "outputs": [],
   "source": [
    "np.sqrt(frame2)"
   ]
  },
  {
   "cell_type": "markdown",
   "id": "9046fd17-a9eb-4394-a7cb-48c50d6e3c31",
   "metadata": {},
   "source": [
    "### Many useful data operations can be performed on dataframes"
   ]
  },
  {
   "cell_type": "code",
   "execution_count": null,
   "id": "158dd75c-a166-4491-9483-d7c50cedb40c",
   "metadata": {},
   "outputs": [],
   "source": [
    "frame2.sort_index()"
   ]
  },
  {
   "cell_type": "code",
   "execution_count": null,
   "id": "9048c8ff-6059-4fd5-9440-52867161da80",
   "metadata": {},
   "outputs": [],
   "source": [
    "frame2.sort_index(ascending=False, axis = 'columns') #axis = 1 also works"
   ]
  },
  {
   "cell_type": "code",
   "execution_count": null,
   "id": "f04fab2b-6a1a-4fba-91f9-3e7daaa68918",
   "metadata": {},
   "outputs": [],
   "source": [
    "frame2.sort_values(\"Condition 1\")"
   ]
  },
  {
   "cell_type": "code",
   "execution_count": null,
   "id": "f8b0ce64-0f2d-4b22-a0a7-6fd9784272a1",
   "metadata": {},
   "outputs": [],
   "source": [
    "frame2.sort_values(\"NANOG\", axis = 1)"
   ]
  },
  {
   "cell_type": "code",
   "execution_count": null,
   "id": "e07fb255-87eb-4082-9d17-7c41447bdd2c",
   "metadata": {},
   "outputs": [],
   "source": [
    "frame2.mean()"
   ]
  },
  {
   "cell_type": "code",
   "execution_count": null,
   "id": "886939ea-79fe-4a64-b024-8e522f8b191f",
   "metadata": {},
   "outputs": [],
   "source": [
    "frame2.mean(axis = 1)"
   ]
  }
 ],
 "metadata": {
  "kernelspec": {
   "display_name": "Python 3 (ipykernel)",
   "language": "python",
   "name": "python3"
  },
  "language_info": {
   "codemirror_mode": {
    "name": "ipython",
    "version": 3
   },
   "file_extension": ".py",
   "mimetype": "text/x-python",
   "name": "python",
   "nbconvert_exporter": "python",
   "pygments_lexer": "ipython3",
   "version": "3.9.12"
  }
 },
 "nbformat": 4,
 "nbformat_minor": 5
}
