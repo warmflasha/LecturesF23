{
 "cells": [
  {
   "cell_type": "markdown",
   "id": "b6fc57f5-2727-4dbc-82ac-d77c9a2883f6",
   "metadata": {},
   "source": [
    "# BIOS470/570 Lecture 8\n",
    "\n",
    "## Last time we covered:\n",
    "* ### Missing data, duplicated data, and string operations\n",
    "* ### merging multiple data sets with pandas\n",
    "\n",
    "## Today we will cover:\n",
    "* ### Clustering data \n",
    "* ### seaborn plotting package\n",
    "* ### Gene ontology"
   ]
  },
  {
   "cell_type": "markdown",
   "id": "1a1e2575-b835-476b-9082-54815ee7b2d6",
   "metadata": {},
   "source": [
    "### Import the usual packages"
   ]
  },
  {
   "cell_type": "code",
   "execution_count": null,
   "id": "bda0b544-5f40-4630-ab8a-0371d3f404d7",
   "metadata": {
    "tags": []
   },
   "outputs": [],
   "source": [
    "import numpy as np\n",
    "import pandas as pd\n",
    "import matplotlib.pyplot as plt"
   ]
  },
  {
   "cell_type": "markdown",
   "id": "1cc9facd-82d1-4a81-8260-697c5f2420c4",
   "metadata": {},
   "source": [
    "### We will need three new packages today: seaborn, scipy, and gget. \n",
    "* #### seaborn is a plotting package built on top of matplotlib for stastical plotting. It allows for making complex plots with high level functions and is built to run on pandas dataframes. \n",
    "* #### scipy has packages for scientific computing. It contains a clustering package that we will use today. \n",
    "* #### gget is a new package used for querying a variety of biological databases directly from  python code. We will use it for gene ontology.\n",
    "### The install commands for these are:\n",
    "* #### conda install scipy\n",
    "* #### conda install seaborn\n",
    "* #### conda install -c bioconda gget\n",
    "\n",
    "In the last command, the -c flag is for channel. The bioconda channel contains many bio-specific python packages. "
   ]
  },
  {
   "cell_type": "code",
   "execution_count": null,
   "id": "6d5346b8-f1eb-44fd-a017-ffcd5df97d8d",
   "metadata": {
    "tags": []
   },
   "outputs": [],
   "source": [
    "import seaborn as sns\n",
    "import scipy"
   ]
  },
  {
   "cell_type": "code",
   "execution_count": null,
   "id": "4680e45c-4eee-4c79-b852-ab9bab61ab2b",
   "metadata": {
    "tags": []
   },
   "outputs": [],
   "source": [
    "data_human = pd.read_excel('data/GSE137492_SupplementaryTable1.xlsx')\n",
    "data_frog = pd.read_csv('data/xen_uic_hik_stage8_13_30min.tsv',delimiter='\\t')\n",
    "data_frog"
   ]
  },
  {
   "cell_type": "markdown",
   "id": "721cbacf-82ed-44e5-8d56-277293ef6969",
   "metadata": {
    "tags": []
   },
   "source": [
    "### Let's process our data as we did before. Make the gene name the index and then drop non-numeric values"
   ]
  },
  {
   "cell_type": "code",
   "execution_count": null,
   "id": "430524cc-f725-4d97-8d5d-a6a629c199c4",
   "metadata": {
    "tags": []
   },
   "outputs": [],
   "source": [
    "data_human.dropna(inplace=True)\n",
    "# for human data\n",
    "data_human.index = data_human.loc[:,\"genes\"]\n",
    "data_human.drop([\"genes\"],axis = \"columns\", inplace = True)\n",
    "ensIds = data_human.loc[:,\"geneIds\"]\n",
    "data_human.drop(\"geneIds\",axis = \"columns\", inplace = True)\n",
    "\n",
    "#for frog data\n",
    "data_frog.index = data_frog.loc[:,\"Gene\"]\n",
    "data_frog.drop(\"Gene\",axis = \"columns\", inplace = True)"
   ]
  },
  {
   "cell_type": "markdown",
   "id": "7a670387-ac6c-4b20-a77c-5afbcdbf98ef",
   "metadata": {},
   "source": [
    "### When dealing with large datasets, it is often useful to reduce them to the variables of interest to make the size of the dataset smaller and the processing faster. It can also focus attention on relevant features of the dataset. \n",
    "\n",
    "### One of the simplest things is to remove genes with low or no experession in all conditions:\n"
   ]
  },
  {
   "cell_type": "code",
   "execution_count": null,
   "id": "e2b2447d-8c34-4058-a375-f110cf648c35",
   "metadata": {
    "tags": []
   },
   "outputs": [],
   "source": [
    "data = data_frog\n",
    "expressed = data.max(axis = 1) > 1\n",
    "data = data.loc[expressed]\n",
    "data"
   ]
  },
  {
   "cell_type": "markdown",
   "id": "42875e8a-0a19-4e4e-82d7-1bb83bf2995f",
   "metadata": {},
   "source": [
    "### It can also be helpful to remove genes with very high expression as these tend to dominate downstream analysis but may not be interesting:"
   ]
  },
  {
   "cell_type": "code",
   "execution_count": null,
   "id": "ac3a97c1-e71d-4a75-82c1-af3301c1c110",
   "metadata": {},
   "outputs": [],
   "source": [
    "notTooHigh = data.max(axis = 1) < 1e3\n",
    "data = data.loc[notTooHigh]\n",
    "data"
   ]
  },
  {
   "cell_type": "markdown",
   "id": "c274a62b-f258-4c77-85f4-aa701313dc06",
   "metadata": {},
   "source": [
    "### A second commonly used step is to restrict attention to the variable genes, that is genes that change expression between different conditions in the dataset. Genes that are expressed approximately the same in all conditions are probably not of interest for the conditions being studied. One metric for this is to compare the standard deviation with the mean. \n",
    "\n",
    "### Here, we implement a cutoff in this ratio:"
   ]
  },
  {
   "cell_type": "code",
   "execution_count": null,
   "id": "80c356d2-6612-45a1-b6d8-ee008744d8aa",
   "metadata": {
    "tags": []
   },
   "outputs": [],
   "source": [
    "variable = data.std(axis = 1)/data.mean(axis = 1) > 1.5\n",
    "data = data.loc[variable]\n",
    "data"
   ]
  },
  {
   "cell_type": "markdown",
   "id": "45e892b9-6a2e-43f2-aaca-4ad9fad6fbf1",
   "metadata": {},
   "source": [
    "### Now we will perform a hierachical clustering of the data and visualize it using a heatmap with the tree overlaid. \n",
    "\n",
    "### We can call the seaborn clustermap function to do this. Behind the scenes, it is using scipy's hierachical clustering functions to do the clustering. As before we look at log2(data+1) for better visualization."
   ]
  },
  {
   "cell_type": "code",
   "execution_count": null,
   "id": "abb2db92-6440-47ea-b318-b11229366e26",
   "metadata": {},
   "outputs": [],
   "source": [
    "cg = sns.clustermap(np.log2(data+1))\n"
   ]
  },
  {
   "cell_type": "markdown",
   "id": "5ab83324-ab25-47a8-8757-31b104343fc8",
   "metadata": {},
   "source": [
    "### That could be more informative. Too much of the data fall in the dark part of the colormap. We can use the vmax parameter to set the top of the colormap (there is also an analagous vmin parameter). "
   ]
  },
  {
   "cell_type": "code",
   "execution_count": null,
   "id": "8fc09305-c95a-4ba7-aa45-49baf3890a78",
   "metadata": {
    "tags": []
   },
   "outputs": [],
   "source": [
    "cg = sns.clustermap(np.log2(data+1), vmax = 5)"
   ]
  },
  {
   "cell_type": "markdown",
   "id": "9b70d7ba-fa8f-43b5-acf6-9e0021253e2f",
   "metadata": {},
   "source": [
    "### Notice that seaborn has handled all the labelling for us based on the index and columns of the data frame. The gene labels on the y axis are just a subset of all the data labels as there are way too many to fit.\n",
    "\n",
    "### We can also change the colormap to change the colors for the visualization. seaborn has lots of useful built in colormaps:"
   ]
  },
  {
   "cell_type": "code",
   "execution_count": null,
   "id": "14a812b0-b1f7-4f25-8a2b-012d033a77db",
   "metadata": {
    "tags": []
   },
   "outputs": [],
   "source": [
    "cg = sns.clustermap(np.log2(data+1),vmax = 5, cmap = \"Blues\")\n"
   ]
  },
  {
   "cell_type": "code",
   "execution_count": null,
   "id": "d1ba1d94-bb01-462d-9f55-abb4243fbd85",
   "metadata": {
    "tags": []
   },
   "outputs": [],
   "source": [
    "cg = sns.clustermap(np.log2(data+1),vmax = 5, cmap = \"Spectral\")"
   ]
  },
  {
   "cell_type": "markdown",
   "id": "5e8f5d97-0c3a-4a7b-97a8-8d5c659b10fe",
   "metadata": {},
   "source": [
    "### There are lots of options for color in seaborn. See [here](https://seaborn.pydata.org/tutorial/color_palettes.html) for an in depth discussion of color palettes\n",
    "\n",
    "### The relplot function can also work like the matplotlib function scatter and takes care of labeling for you"
   ]
  },
  {
   "cell_type": "code",
   "execution_count": null,
   "id": "9062f122-89ff-4a9d-a270-cf528da8a362",
   "metadata": {
    "tags": []
   },
   "outputs": [],
   "source": [
    "sns.relplot(x = data_human.loc[\"ISL1\"], y = data_human.loc[\"NANOG\"], hue = data_human.loc[\"GATA3\"], palette = \"rocket\");"
   ]
  },
  {
   "cell_type": "markdown",
   "id": "3b4ae22e-2dad-4cbf-a9c1-1302e425d0e7",
   "metadata": {},
   "source": [
    "### The function clusts can be used to split the hierarchical clustering into discrete clusters. The following will split it in a maximum of 10 clusters. Another choice, criterion = \"distance\" will split the clusters so that no two observations in the cluster have a distance great than this. "
   ]
  },
  {
   "cell_type": "code",
   "execution_count": null,
   "id": "dc29ff39-c5c7-426b-b52e-48bb150e8dfd",
   "metadata": {
    "tags": []
   },
   "outputs": [],
   "source": [
    "clusts = scipy.cluster.hierarchy.fcluster(cg.dendrogram_row.linkage,5,criterion=\"maxclust\")\n",
    "clusts"
   ]
  },
  {
   "cell_type": "code",
   "execution_count": null,
   "id": "a6580a1d-4d31-471c-9cb1-6c56236e087b",
   "metadata": {},
   "outputs": [],
   "source": [
    "ax = sns.relplot(data = np.log2(data+1), x = \"hiK_13\", y = \"UIC_4\", hue = clusts, palette = \"colorblind\")\n",
    "len(clusts)"
   ]
  },
  {
   "cell_type": "markdown",
   "id": "c31a13e4-c768-4e78-ad3a-a747f6c0cc50",
   "metadata": {},
   "source": [
    "### This didn't work very well on this data and the hierarchical clustering emthod is often not good for making discrete clusters. You can run kmeans clustering via the vq.kmeans2 function. This returns the centers of the clusters and the labels, the second argument is the number of clusters. \n",
    "\n",
    "### It is recommended to \"whiten\" the data. This is in reference to white noise. It makes all the components have 0 mean and unit variance:\n"
   ]
  },
  {
   "cell_type": "code",
   "execution_count": null,
   "id": "0481097a-cfeb-4ee3-a30a-a0d683962aad",
   "metadata": {},
   "outputs": [],
   "source": [
    "centroids, clusts = scipy.cluster.vq.kmeans2(scipy.cluster.vq.whiten(np.log2(data+1)),6,minit = 'random')"
   ]
  },
  {
   "cell_type": "code",
   "execution_count": null,
   "id": "89d8de8b-d16b-4afd-89d8-e5adff6c72a9",
   "metadata": {},
   "outputs": [],
   "source": [
    "ax = sns.relplot(data = np.log2(data+1), x = \"hiK_13\", y = \"UIC_4\", hue = clusts, palette = \"colorblind\")\n",
    "len(clusts)"
   ]
  },
  {
   "cell_type": "markdown",
   "id": "f2ad089b-e54a-4afb-9eb7-5c9d2038cbc5",
   "metadata": {},
   "source": [
    "### This looks substantially better. Remember that this is a high dimensional dataset and we are only visualizing two of the dimensions. \n",
    "\n",
    "### Clustering makes groups of genes but what do we do with these? Gene ontology tries to search for enriched sets of genes within these lists. The gget tool allows you to query the enrichr database for this.\n",
    "\n",
    "### Lets start with a simple example. All the genes with BMP in their name:"
   ]
  },
  {
   "cell_type": "code",
   "execution_count": null,
   "id": "e2029c95-8828-49a1-9e3e-3163b4d5f784",
   "metadata": {},
   "outputs": [],
   "source": [
    "import gget\n",
    "BMP_list = list(data_human.index[data_human.index.str.contains(\"BMP\")])\n",
    "enrich_out = gget.enrichr(BMP_list,database=\"ontology\")\n",
    "enrich_out"
   ]
  },
  {
   "cell_type": "markdown",
   "id": "7292801e-f501-487b-b846-177adb8e2291",
   "metadata": {},
   "source": [
    "### This output is a pandas dataframe and you can programmatically extract its contents.  Note the p values which tell you whether it is likely that this number of genes would be found by random chance."
   ]
  },
  {
   "cell_type": "code",
   "execution_count": null,
   "id": "51fa3ef2-b325-4414-a18a-15ab5a63c185",
   "metadata": {},
   "outputs": [],
   "source": [
    "enrich_out = gget.enrichr(BMP_list,database=\"pathway\")\n",
    "enrich_out"
   ]
  },
  {
   "cell_type": "code",
   "execution_count": null,
   "id": "3aebca1c-2101-43c1-b518-70b967bc197b",
   "metadata": {},
   "outputs": [],
   "source": []
  }
 ],
 "metadata": {
  "kernelspec": {
   "display_name": "Python 3 (ipykernel)",
   "language": "python",
   "name": "python3"
  },
  "language_info": {
   "codemirror_mode": {
    "name": "ipython",
    "version": 3
   },
   "file_extension": ".py",
   "mimetype": "text/x-python",
   "name": "python",
   "nbconvert_exporter": "python",
   "pygments_lexer": "ipython3",
   "version": "3.9.12"
  }
 },
 "nbformat": 4,
 "nbformat_minor": 5
}
