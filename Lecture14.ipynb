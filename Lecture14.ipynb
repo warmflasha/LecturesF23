{
 "cells": [
  {
   "cell_type": "markdown",
   "id": "7843b93e-0f01-4617-ae3e-e64d5f57bd93",
   "metadata": {},
   "source": [
    "## BIOS 470/570 Lecture 14\n",
    "\n",
    "## Last time we covered:\n",
    "* ### Modeling single cell RNA seq data and eliminating unwanted variation with scvi\n",
    "* ### pseudotime analysis\n",
    "\n",
    "## Today we will cover:\n",
    "* ### Sequence alignment algorithms\n",
    "\n",
    "We will need the biopython package. If you don't have this already install with conda install biopython -c conda-forge. I recommend *not* using your scvi environment"
   ]
  },
  {
   "cell_type": "code",
   "execution_count": 1,
   "id": "545f8477-b93f-4278-9b40-b72ecd74d03b",
   "metadata": {
    "tags": []
   },
   "outputs": [],
   "source": [
    "from Bio import Align\n",
    "import numpy as np\n",
    "import pandas as pd"
   ]
  },
  {
   "cell_type": "markdown",
   "id": "2d70e75d-198b-4491-8f09-57c37f5b4b31",
   "metadata": {},
   "source": [
    "### The align module from biopython has a pairwise aligner that implements the Smith-Waterman algoirthm and extensions. \n",
    "\n",
    "### First define an aligner object, this will actually take the sequence and produce the alignments"
   ]
  },
  {
   "cell_type": "code",
   "execution_count": 17,
   "id": "3b226eff-4850-45ed-ba67-94bda97f3925",
   "metadata": {
    "tags": []
   },
   "outputs": [],
   "source": [
    "aligner = Align.PairwiseAligner()"
   ]
  },
  {
   "cell_type": "markdown",
   "id": "fe95297a-c56b-4c18-bc99-f55a54d2ba59",
   "metadata": {},
   "source": [
    "### The parameters to use are stored in the aligner:"
   ]
  },
  {
   "cell_type": "code",
   "execution_count": 18,
   "id": "4018aabf-225b-4dce-a605-2f841890b559",
   "metadata": {
    "tags": []
   },
   "outputs": [
    {
     "name": "stdout",
     "output_type": "stream",
     "text": [
      "Pairwise sequence aligner with parameters\n",
      "  match_score: 1.000000\n",
      "  mismatch_score: 0.000000\n",
      "  target_internal_open_gap_score: 0.000000\n",
      "  target_internal_extend_gap_score: 0.000000\n",
      "  target_left_open_gap_score: 0.000000\n",
      "  target_left_extend_gap_score: 0.000000\n",
      "  target_right_open_gap_score: 0.000000\n",
      "  target_right_extend_gap_score: 0.000000\n",
      "  query_internal_open_gap_score: 0.000000\n",
      "  query_internal_extend_gap_score: 0.000000\n",
      "  query_left_open_gap_score: 0.000000\n",
      "  query_left_extend_gap_score: 0.000000\n",
      "  query_right_open_gap_score: 0.000000\n",
      "  query_right_extend_gap_score: 0.000000\n",
      "  mode: global\n",
      "\n"
     ]
    }
   ],
   "source": [
    "print(aligner)"
   ]
  },
  {
   "cell_type": "markdown",
   "id": "af076888-1bf3-45dc-9060-8bcaa4066d6f",
   "metadata": {},
   "source": [
    "### The default here has a match score of 1 and other scores are zeros. \n",
    "\n",
    "### Let's see an alignment based on this:"
   ]
  },
  {
   "cell_type": "code",
   "execution_count": 15,
   "id": "382e145b-ac50-455f-b3fb-86af482e01f4",
   "metadata": {
    "tags": []
   },
   "outputs": [],
   "source": [
    "alignments = aligner.align(\"atgaat\",\"atgcat\")"
   ]
  },
  {
   "cell_type": "markdown",
   "id": "abaf7afd-41e8-45ba-a763-325f1bfc8414",
   "metadata": {},
   "source": [
    "### There can be multiple alignments that work, let's see some properties of these:"
   ]
  },
  {
   "cell_type": "code",
   "execution_count": 16,
   "id": "efab56fe-d1c6-4f29-a161-1d2aa7cfe333",
   "metadata": {
    "tags": []
   },
   "outputs": [
    {
     "name": "stdout",
     "output_type": "stream",
     "text": [
      "atg-aat\n",
      "|||-|-|\n",
      "atgca-t\n",
      "\n",
      "((0, 0), (3, 3), (3, 4), (4, 5), (5, 5), (6, 6))\n",
      "5.0\n",
      "atga-at\n",
      "|||--||\n",
      "atg-cat\n",
      "\n",
      "((0, 0), (3, 3), (4, 3), (4, 4), (6, 6))\n",
      "5.0\n",
      "atg-aat\n",
      "|||--||\n",
      "atgc-at\n",
      "\n",
      "((0, 0), (3, 3), (3, 4), (4, 4), (6, 6))\n",
      "5.0\n",
      "atgaat\n",
      "|||.||\n",
      "atgcat\n",
      "\n",
      "((0, 0), (6, 6))\n",
      "5.0\n"
     ]
    }
   ],
   "source": [
    "for alignment in alignments:\n",
    "    print(alignment)\n",
    "    print(alignment.path)\n",
    "    print(alignment.score)"
   ]
  },
  {
   "cell_type": "markdown",
   "id": "8efcc305-1e7b-45e9-a1a7-f82912ec8272",
   "metadata": {},
   "source": [
    "### What if we give a penalty for gaps in the sequence?"
   ]
  },
  {
   "cell_type": "code",
   "execution_count": 36,
   "id": "96bcee72-fdeb-4894-87d6-5f7f63de3b8f",
   "metadata": {
    "tags": []
   },
   "outputs": [
    {
     "name": "stdout",
     "output_type": "stream",
     "text": [
      "Pairwise sequence aligner with parameters\n",
      "  match_score: 1.000000\n",
      "  mismatch_score: 0.000000\n",
      "  target_internal_open_gap_score: -5.000000\n",
      "  target_internal_extend_gap_score: -5.000000\n",
      "  target_left_open_gap_score: -5.000000\n",
      "  target_left_extend_gap_score: -5.000000\n",
      "  target_right_open_gap_score: -5.000000\n",
      "  target_right_extend_gap_score: -5.000000\n",
      "  query_internal_open_gap_score: -5.000000\n",
      "  query_internal_extend_gap_score: -5.000000\n",
      "  query_left_open_gap_score: -5.000000\n",
      "  query_left_extend_gap_score: -5.000000\n",
      "  query_right_open_gap_score: -5.000000\n",
      "  query_right_extend_gap_score: -5.000000\n",
      "  mode: global\n",
      "\n"
     ]
    }
   ],
   "source": [
    "aligner.gap_score = -5\n",
    "print(aligner)"
   ]
  },
  {
   "cell_type": "code",
   "execution_count": 37,
   "id": "8aabdc95-9865-4add-93aa-f17085665926",
   "metadata": {
    "tags": []
   },
   "outputs": [
    {
     "name": "stdout",
     "output_type": "stream",
     "text": [
      "atgaat\n",
      "|||.||\n",
      "atgcat\n",
      "\n"
     ]
    }
   ],
   "source": [
    "alignments = aligner.align(\"atgaat\",\"atgcat\")\n",
    "for alignment in alignments:\n",
    "    print(alignment)"
   ]
  },
  {
   "cell_type": "markdown",
   "id": "c918cfc7-4010-4d09-a30f-afc0c0ed4fc1",
   "metadata": {},
   "source": [
    "### How about if we lower the gap score and raise the mismatch score?"
   ]
  },
  {
   "cell_type": "code",
   "execution_count": 38,
   "id": "507179b1-c30d-4b94-b870-10ac60ca370b",
   "metadata": {
    "tags": []
   },
   "outputs": [
    {
     "name": "stdout",
     "output_type": "stream",
     "text": [
      "Pairwise sequence aligner with parameters\n",
      "  match_score: 1.000000\n",
      "  mismatch_score: -5.000000\n",
      "  target_internal_open_gap_score: -1.000000\n",
      "  target_internal_extend_gap_score: -1.000000\n",
      "  target_left_open_gap_score: -1.000000\n",
      "  target_left_extend_gap_score: -1.000000\n",
      "  target_right_open_gap_score: -1.000000\n",
      "  target_right_extend_gap_score: -1.000000\n",
      "  query_internal_open_gap_score: -1.000000\n",
      "  query_internal_extend_gap_score: -1.000000\n",
      "  query_left_open_gap_score: -1.000000\n",
      "  query_left_extend_gap_score: -1.000000\n",
      "  query_right_open_gap_score: -1.000000\n",
      "  query_right_extend_gap_score: -1.000000\n",
      "  mode: global\n",
      "\n"
     ]
    }
   ],
   "source": [
    "aligner.gap_score = -1\n",
    "aligner.mismatch_score = -5\n",
    "print(aligner)"
   ]
  },
  {
   "cell_type": "code",
   "execution_count": 39,
   "id": "d593fced-cae5-4750-ac1e-c6f663aa5e9f",
   "metadata": {
    "tags": []
   },
   "outputs": [
    {
     "name": "stdout",
     "output_type": "stream",
     "text": [
      "atg-aat\n",
      "|||-|-|\n",
      "atgca-t\n",
      "\n",
      "atga-at\n",
      "|||--||\n",
      "atg-cat\n",
      "\n",
      "atg-aat\n",
      "|||--||\n",
      "atgc-at\n",
      "\n"
     ]
    }
   ],
   "source": [
    "alignments = aligner.align(\"atgaat\",\"atgcat\")\n",
    "for alignment in alignments:\n",
    "    print(alignment)"
   ]
  },
  {
   "cell_type": "markdown",
   "id": "c1da7db0-a32b-43e0-9a90-cebc539fe2c2",
   "metadata": {},
   "source": [
    "### We can set the parameters as we call the aligner:"
   ]
  },
  {
   "cell_type": "code",
   "execution_count": 40,
   "id": "2b735753-88fc-496a-8c70-18c590c6d225",
   "metadata": {
    "tags": []
   },
   "outputs": [
    {
     "name": "stdout",
     "output_type": "stream",
     "text": [
      "Pairwise sequence aligner with parameters\n",
      "  match_score: 1.000000\n",
      "  mismatch_score: 0.000000\n",
      "  target_internal_open_gap_score: 0.000000\n",
      "  target_internal_extend_gap_score: -1.000000\n",
      "  target_left_open_gap_score: 0.000000\n",
      "  target_left_extend_gap_score: -1.000000\n",
      "  target_right_open_gap_score: 0.000000\n",
      "  target_right_extend_gap_score: -1.000000\n",
      "  query_internal_open_gap_score: 0.000000\n",
      "  query_internal_extend_gap_score: -1.000000\n",
      "  query_left_open_gap_score: 0.000000\n",
      "  query_left_extend_gap_score: -1.000000\n",
      "  query_right_open_gap_score: 0.000000\n",
      "  query_right_extend_gap_score: -1.000000\n",
      "  mode: global\n",
      "\n"
     ]
    }
   ],
   "source": [
    "aligner = Align.PairwiseAligner(mismatch_score = 0, gap_score = 0, extend_gap_score = -1)\n",
    "print(aligner)"
   ]
  },
  {
   "cell_type": "code",
   "execution_count": 41,
   "id": "2253e04d-631a-4796-957d-1b56d1af52bf",
   "metadata": {
    "tags": []
   },
   "outputs": [
    {
     "name": "stdout",
     "output_type": "stream",
     "text": [
      "atgaat\n",
      "|||.||\n",
      "atgcat\n",
      "\n",
      "5.0\n",
      "atg-aat\n",
      "|||--||\n",
      "atgc-at\n",
      "\n",
      "5.0\n",
      "atga-at\n",
      "|||--||\n",
      "atg-cat\n",
      "\n",
      "5.0\n",
      "atg-aat\n",
      "|||-|-|\n",
      "atgca-t\n",
      "\n",
      "5.0\n"
     ]
    }
   ],
   "source": [
    "alignments = aligner.align(\"atgaat\",\"atgcat\")\n",
    "for alignment in alignments:\n",
    "    print(alignment)\n",
    "    print(alignment.score)"
   ]
  },
  {
   "cell_type": "code",
   "execution_count": null,
   "id": "6c1d66de-0bf3-438a-8eac-1788fdc70c2f",
   "metadata": {},
   "outputs": [],
   "source": []
  }
 ],
 "metadata": {
  "kernelspec": {
   "display_name": "Python 3 (ipykernel)",
   "language": "python",
   "name": "python3"
  },
  "language_info": {
   "codemirror_mode": {
    "name": "ipython",
    "version": 3
   },
   "file_extension": ".py",
   "mimetype": "text/x-python",
   "name": "python",
   "nbconvert_exporter": "python",
   "pygments_lexer": "ipython3",
   "version": "3.11.5"
  }
 },
 "nbformat": 4,
 "nbformat_minor": 5
}
