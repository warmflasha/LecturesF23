{
 "cells": [
  {
   "cell_type": "markdown",
   "id": "d21121e7-5286-4689-b048-3e5412d43423",
   "metadata": {},
   "source": [
    "### BIOS470/570 Lecture 23 Data fitting"
   ]
  },
  {
   "cell_type": "code",
   "execution_count": null,
   "id": "be4951e8-7028-4e80-8eaa-65c7cb00aacf",
   "metadata": {},
   "outputs": [],
   "source": [
    "import numpy as np\n",
    "from scipy import optimize\n",
    "import matplotlib.pyplot as plt \n",
    "import pandas as pd\n",
    "import seaborn as sns\n",
    "\n",
    "import warnings\n",
    "warnings.simplefilter(action=\"ignore\",category=FutureWarning)"
   ]
  },
  {
   "cell_type": "markdown",
   "id": "df4dbdc9-629d-447d-b0e3-094bec64020a",
   "metadata": {},
   "source": [
    "## In data fitting, we define a model and try to make it fit a set of data as well as possible. This involves optimizing the parameters of the model to make it fit the data as closely as possible. Fitting is typically done using least squares methods, and numpy and scipy have built in functions for doing this. \n",
    "\n",
    "### Let's begin by generating some random points between 0 and 1. "
   ]
  },
  {
   "cell_type": "code",
   "execution_count": null,
   "id": "77de3db3-a062-452e-acfa-dad0386cda45",
   "metadata": {},
   "outputs": [],
   "source": [
    "x = np.random.random(100)"
   ]
  },
  {
   "cell_type": "markdown",
   "id": "7d0f1be7-f21f-45d8-88ee-a6526248e3eb",
   "metadata": {},
   "source": [
    "### Let's define y values for each x value according to $y=mx+b$+noise with m = 5 and b = -2. To define the noise, we want to use values evenly centered around 0 or else the noise would introduce a bias in one direction. If r is a random number between 0 and 1, then $2r-1$ is a random number between -1 and 1:"
   ]
  },
  {
   "cell_type": "code",
   "execution_count": null,
   "id": "b2973331-988b-40cd-af7a-59b72f345de6",
   "metadata": {},
   "outputs": [],
   "source": [
    "y = 5*x-2+0.5*(2*np.random.random(100)-1)\n",
    "plt.plot(x,y,'.');\n",
    "plt.xlabel('x')\n",
    "plt.ylabel('y');"
   ]
  },
  {
   "cell_type": "markdown",
   "id": "f23e0bf8-c3fe-4044-b527-0445a712a6a4",
   "metadata": {},
   "source": [
    "### The numpy function polyfit is used to fit a polynomial to data. Remember that in numpy a polynomial $ax^n+bx^{n-1}+...+c$ is represented as an array [a,b,...,c]. So a polynomial of degree n is represented as an array of length n+1. The polyfit function takes the x and y values of the data and the degree of the polynomial to use and returns the best fitting polynomial. "
   ]
  },
  {
   "cell_type": "code",
   "execution_count": null,
   "id": "547e18b9-fe82-422f-ac44-6ad2332207dd",
   "metadata": {},
   "outputs": [],
   "source": [
    "pfit = np.polyfit(x,y,1)\n",
    "pfit"
   ]
  },
  {
   "cell_type": "markdown",
   "id": "139c84c6-87ce-4df6-94ea-a1d6c297a8b0",
   "metadata": {},
   "source": [
    "### The polyval function evaluates a polynomial at specific points. That is for an array ar, np.polyval(poly,ar) returns the values of the polynomial represented by poly evaluated at the points in the array. We can use this to compare the fit to the data:"
   ]
  },
  {
   "cell_type": "code",
   "execution_count": null,
   "id": "88f6fcfd-f21a-4025-9cad-06c83c69e60f",
   "metadata": {},
   "outputs": [],
   "source": [
    "fitvals = np.polyval(pfit,x)"
   ]
  },
  {
   "cell_type": "code",
   "execution_count": null,
   "id": "aa3ad41a-d6fc-48fe-bca1-3207e2956aa4",
   "metadata": {},
   "outputs": [],
   "source": [
    "plt.plot(x,y,'.')\n",
    "plt.plot(x,fitvals,'-',color = 'k')\n",
    "plt.legend(['Data','Fit'])\n",
    "plt.xlabel('x')\n",
    "plt.ylabel('y');"
   ]
  },
  {
   "cell_type": "markdown",
   "id": "d164ae6c-4638-461a-ad16-d4258f6e4c44",
   "metadata": {},
   "source": [
    "### What happens if we fit to a higher order polynomial?"
   ]
  },
  {
   "cell_type": "code",
   "execution_count": null,
   "id": "1596ff31-8d1e-48cb-bf1a-d551b0b91b38",
   "metadata": {},
   "outputs": [],
   "source": [
    "pfit2 = np.polyfit(x,y,2)\n",
    "pfit2"
   ]
  },
  {
   "cell_type": "markdown",
   "id": "69ac9900-b83e-489f-8ecb-99412b395ff5",
   "metadata": {},
   "source": [
    "### Now let's look at some more complicated data, defined according to $y=7x^3+2x^2-5x+1$. "
   ]
  },
  {
   "cell_type": "code",
   "execution_count": null,
   "id": "ef5b9be2-26a0-4ddb-94c4-4677c38cefef",
   "metadata": {},
   "outputs": [],
   "source": [
    "y2 = 7*x**3+2*x**2-5*x+1+(2*np.random.random(100)-1)*0.2\n",
    "plt.plot(x,y2,'.');\n",
    "plt.xlabel('x')\n",
    "plt.ylabel('y');"
   ]
  },
  {
   "cell_type": "markdown",
   "id": "655d21c8-aabf-47fe-a238-feb687de2011",
   "metadata": {},
   "source": [
    "### Let's see what fits look like for polynomials of degree 1 to 4:"
   ]
  },
  {
   "cell_type": "code",
   "execution_count": null,
   "id": "c4ae5e90-db86-4455-8c15-0a3ef658db69",
   "metadata": {},
   "outputs": [],
   "source": [
    "## We will store the fit polynomials as well as the evaluation of these polynomials on the interval 0,1 to compare with data:\n",
    "fits = []\n",
    "vals = []\n",
    "\n",
    "## Loop over degree, do the fit and store the results:\n",
    "evalat = np.arange(0,1,0.01)\n",
    "for ii in range(4):\n",
    "    pfit = np.polyfit(x,y2,ii+1)\n",
    "    fits.append(pfit)\n",
    "    vals.append(np.polyval(pfit,evalat))"
   ]
  },
  {
   "cell_type": "code",
   "execution_count": null,
   "id": "fe61c973-2bde-4f80-b300-37bb58bc24b3",
   "metadata": {},
   "outputs": [],
   "source": [
    "fits"
   ]
  },
  {
   "cell_type": "code",
   "execution_count": null,
   "id": "0f9185c7-4338-4220-833a-a8090dcf91a3",
   "metadata": {},
   "outputs": [],
   "source": [
    "plt.plot(x,y2,'.',label = 'data')\n",
    "for ii in range(4):\n",
    "    plt.plot(evalat,vals[ii],'-', label = 'fit, degree ' + str(ii+1))\n",
    "plt.legend();\n",
    "plt.xlabel('x')\n",
    "plt.ylabel('y');"
   ]
  },
  {
   "cell_type": "markdown",
   "id": "accfee1d-8163-411f-b957-38ed27211512",
   "metadata": {},
   "source": [
    "### The dangers of overfitting, an example:\n",
    "\n",
    "### Define some completely random data:"
   ]
  },
  {
   "cell_type": "code",
   "execution_count": null,
   "id": "3293d497-2917-40be-a7fa-eea65b8a5fc5",
   "metadata": {},
   "outputs": [],
   "source": [
    "xx = 10*np.random.random(20)\n",
    "yy = 10*np.random.random(20)\n",
    "plt.plot(xx,yy,'.');\n",
    "plt.xlabel('x')\n",
    "plt.ylabel('y');"
   ]
  },
  {
   "cell_type": "markdown",
   "id": "5a78c714-441e-4786-ac44-04772b7be782",
   "metadata": {},
   "source": [
    "### Fit the data to very high order polynomal and let's compare the result to the data:"
   ]
  },
  {
   "cell_type": "code",
   "execution_count": null,
   "id": "ee6f1edf-42e9-4f86-b102-6cfb5c443c31",
   "metadata": {},
   "outputs": [],
   "source": [
    "pfit = np.polyfit(xx,yy,20)\n",
    "evalat = np.arange(xx.min(),xx.max(),0.001)\n",
    "yfit = np.polyval(pfit,evalat)\n",
    "plt.plot(xx,yy,'.',label = 'data')\n",
    "plt.plot(evalat,yfit,'-',label = 'fit degree 20')\n",
    "plt.legend();\n",
    "plt.ylim([-20, 20]);"
   ]
  },
  {
   "cell_type": "markdown",
   "id": "dcadafb7-da7c-4ad5-a538-1bfaa29ed7ae",
   "metadata": {},
   "source": [
    "### What if we want to fit other functions to data? scipy provides a general function for curve fitting which takes a function and data as input and returns the optimized parameters. First let's revisit our cubic example using this function. To fit data to a cubic, we need to define a function for the fit:"
   ]
  },
  {
   "cell_type": "code",
   "execution_count": null,
   "id": "84e1f3fc-a018-4ee0-8d11-ddf3715fd567",
   "metadata": {},
   "outputs": [],
   "source": [
    "def cubic(x,a,b,c,d):\n",
    "    return a*x**3+b*x**2+c*x+d"
   ]
  },
  {
   "cell_type": "markdown",
   "id": "e08daca1-ea73-40cf-8604-d52ca005fd11",
   "metadata": {},
   "source": [
    "### Use the curve_fit function to actually do the fitting. returns the best fit parameters as well as the convariance matrix, which can be used to estimate uncertainty in the parameters:"
   ]
  },
  {
   "cell_type": "code",
   "execution_count": null,
   "id": "1ecc52e5-fb2a-4478-bd13-fc5aed67a239",
   "metadata": {},
   "outputs": [],
   "source": [
    "pfit, pvar = optimize.curve_fit(cubic,x,y2)"
   ]
  },
  {
   "cell_type": "code",
   "execution_count": null,
   "id": "edc07b7a-295a-4fbc-b43d-e209436f052c",
   "metadata": {},
   "outputs": [],
   "source": [
    "pfit"
   ]
  },
  {
   "cell_type": "code",
   "execution_count": null,
   "id": "9c7870ac-9e89-4999-81a6-2db694db00c4",
   "metadata": {},
   "outputs": [],
   "source": [
    "pvar.diagonal()"
   ]
  },
  {
   "cell_type": "markdown",
   "id": "cb858593-5ebc-4a30-8a04-b8ddc7fbdaf5",
   "metadata": {},
   "source": [
    "### Compare the fit with data:"
   ]
  },
  {
   "cell_type": "code",
   "execution_count": null,
   "id": "5f48391b-d8ac-4ed2-a8c3-f7da78758d48",
   "metadata": {},
   "outputs": [],
   "source": [
    "evalat = np.arange(0,1,0.01)\n",
    "plt.plot(x,y2,'.',label = 'data')\n",
    "plt.plot(evalat,np.polyval(pfit,evalat),'-',label = 'fit curve')\n",
    "plt.legend();\n",
    "plt.xlabel('x')\n",
    "plt.ylabel('y');"
   ]
  },
  {
   "cell_type": "markdown",
   "id": "05081992-f7e2-4de2-ad1b-f3e6f1a14d06",
   "metadata": {},
   "source": [
    "### Finally, let's look at some realistic data. Here the concentration of a ligand was varied, and the express of a target gene was measured:"
   ]
  },
  {
   "cell_type": "code",
   "execution_count": null,
   "id": "d3210479-ec38-42ff-912b-189179b823ac",
   "metadata": {},
   "outputs": [],
   "source": [
    "dat = pd.read_csv('data/data.txt',header=None,names = ['concentration','expression'])"
   ]
  },
  {
   "cell_type": "code",
   "execution_count": null,
   "id": "de2377da-ab59-4cfb-98fd-1e3d99f7c1bb",
   "metadata": {},
   "outputs": [],
   "source": [
    "dat"
   ]
  },
  {
   "cell_type": "code",
   "execution_count": null,
   "id": "c5faa3b6-365c-482c-a7e8-721a11a4fdb0",
   "metadata": {},
   "outputs": [],
   "source": [
    "sns.scatterplot(dat,x='concentration',y='expression');"
   ]
  },
  {
   "cell_type": "markdown",
   "id": "316bd85a-ebac-4265-99e1-52661ea1df7b",
   "metadata": {},
   "source": [
    "### Let's try to fit this to a Michaelis function like the one we use to model gene expression last week. First we need to define the function:"
   ]
  },
  {
   "cell_type": "code",
   "execution_count": null,
   "id": "10fb60f1-5f29-4b94-abf1-1b3d22339c0f",
   "metadata": {},
   "outputs": [],
   "source": [
    "def fitFunc(x,ku,kb,K):\n",
    "    return (ku+kb*x)/(K+x)"
   ]
  },
  {
   "cell_type": "markdown",
   "id": "9a9960a4-e568-437b-ad40-1f4021136cc7",
   "metadata": {},
   "source": [
    "### Run the fitting:"
   ]
  },
  {
   "cell_type": "code",
   "execution_count": null,
   "id": "c9390a69-f10d-4cd4-bacc-666e1b0767a4",
   "metadata": {},
   "outputs": [],
   "source": [
    "pfit, pvar = optimize.curve_fit(fitFunc,dat[\"concentration\"],dat[\"expression\"])"
   ]
  },
  {
   "cell_type": "markdown",
   "id": "38a7fd2e-e0b9-4a59-aa6b-63518bff6ded",
   "metadata": {},
   "source": [
    "### Plot the result - notice the use of the unpack operator (*) which makes it easy to evaluate the function with the best fit parameters:"
   ]
  },
  {
   "cell_type": "code",
   "execution_count": null,
   "id": "611868da-3802-4f95-8ab3-90c5bcb26edc",
   "metadata": {},
   "outputs": [],
   "source": [
    "evalat= np.arange(0,100,0.1)\n",
    "yeval = fitFunc(evalat,*pfit)\n",
    "sns.scatterplot(dat,x='concentration',y='expression');\n",
    "plt.plot(evalat,yeval,'-');"
   ]
  },
  {
   "cell_type": "markdown",
   "id": "df5ac21b-b924-4cfc-8464-289a9da5ef07",
   "metadata": {},
   "source": [
    "### What happened?\n",
    "\n",
    "### One solution: Put bounds on the allowed values of the parameters:"
   ]
  },
  {
   "cell_type": "code",
   "execution_count": null,
   "id": "5a635adb-e84d-416e-bc6e-53d9ddf46c21",
   "metadata": {},
   "outputs": [],
   "source": [
    "pfit, pvar = optimize.curve_fit(fitFunc,dat[\"concentration\"],dat[\"expression\"],bounds=(0,np.inf))"
   ]
  },
  {
   "cell_type": "code",
   "execution_count": null,
   "id": "c7585895-4c4c-492c-bc60-73c99f1c5e32",
   "metadata": {},
   "outputs": [],
   "source": [
    "evalat= np.arange(0,100,0.1)\n",
    "yeval = fitFunc(evalat,*pfit)\n",
    "sns.scatterplot(dat,x='concentration',y='expression');\n",
    "plt.plot(evalat,yeval,'-');"
   ]
  },
  {
   "cell_type": "markdown",
   "id": "f12c52cd-cc83-4d11-91b2-7a96b1aea4d0",
   "metadata": {},
   "source": [
    "### Another solution: Make an initial guess for the best fit parameters:"
   ]
  },
  {
   "cell_type": "code",
   "execution_count": null,
   "id": "c83193d3-d3ff-4884-8081-3aaf2132e148",
   "metadata": {},
   "outputs": [],
   "source": [
    "pfit, pvar = optimize.curve_fit(fitFunc,dat[\"concentration\"],dat[\"expression\"],p0 = (100,10,5))"
   ]
  },
  {
   "cell_type": "code",
   "execution_count": null,
   "id": "f9faf972-6542-4641-bce1-5a854352217e",
   "metadata": {},
   "outputs": [],
   "source": [
    "pfit"
   ]
  },
  {
   "cell_type": "code",
   "execution_count": null,
   "id": "a49ba14e-698f-46a9-b814-369149bdf604",
   "metadata": {},
   "outputs": [],
   "source": [
    "p"
   ]
  }
 ],
 "metadata": {
  "kernelspec": {
   "display_name": "Python 3 (ipykernel)",
   "language": "python",
   "name": "python3"
  },
  "language_info": {
   "codemirror_mode": {
    "name": "ipython",
    "version": 3
   },
   "file_extension": ".py",
   "mimetype": "text/x-python",
   "name": "python",
   "nbconvert_exporter": "python",
   "pygments_lexer": "ipython3",
   "version": "3.11.5"
  }
 },
 "nbformat": 4,
 "nbformat_minor": 5
}
