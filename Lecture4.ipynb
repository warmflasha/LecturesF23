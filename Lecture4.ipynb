{
 "cells": [
  {
   "cell_type": "markdown",
   "id": "b183ae7f-a0fe-4cbe-8343-645733e4b702",
   "metadata": {
    "slideshow": {
     "slide_type": "slide"
    },
    "tags": []
   },
   "source": [
    "## Last time we covered:\n",
    "* ### Numpy arrays and numpy indexing\n",
    "* ### Starting plots with matplotlib"
   ]
  },
  {
   "cell_type": "markdown",
   "id": "ca8bdb5e-1edf-477f-985e-ca0bd450e0db",
   "metadata": {
    "slideshow": {
     "slide_type": "fragment"
    },
    "tags": []
   },
   "source": [
    "## Today we will cover:\n",
    "* ### Examples: Numpy indexing review and vectorizing code\n",
    "* ### Examples: more types of plotting, axis and figure handles\n",
    "* ### data input and output"
   ]
  },
  {
   "cell_type": "markdown",
   "id": "6f5842f1-ab49-411a-8e23-36095e9d4106",
   "metadata": {
    "slideshow": {
     "slide_type": "slide"
    },
    "tags": []
   },
   "source": [
    "## Numpy indexing/matplotlib examples"
   ]
  },
  {
   "cell_type": "code",
   "execution_count": 49,
   "id": "94e9808a-6858-4941-8537-b4d8feea4464",
   "metadata": {
    "slideshow": {
     "slide_type": "fragment"
    },
    "tags": []
   },
   "outputs": [],
   "source": [
    "import numpy as np"
   ]
  },
  {
   "cell_type": "markdown",
   "id": "a4fb02fc-5a19-4377-9d20-d4452e243334",
   "metadata": {
    "slideshow": {
     "slide_type": "fragment"
    },
    "tags": []
   },
   "source": [
    "### Lets say we have some data which represents individual points in 5 groups. We want to make a bar graph of the means over each group\n",
    "\n",
    "#### First we make some data like this: "
   ]
  },
  {
   "cell_type": "code",
   "execution_count": 50,
   "id": "a995db22-96f7-4138-a134-c14f024d2dd9",
   "metadata": {
    "slideshow": {
     "slide_type": "fragment"
    },
    "tags": []
   },
   "outputs": [],
   "source": [
    "data = np.random.rand(50)\n",
    "groups = np.array(['A']*10+['B']*10+['C']*10+['D']*10+['E']*10) "
   ]
  },
  {
   "cell_type": "markdown",
   "id": "5e96e29a-7164-4e75-97e5-9300eca4fd40",
   "metadata": {
    "slideshow": {
     "slide_type": "fragment"
    },
    "tags": []
   },
   "source": [
    "#### Note the brackets around each letter e.g. ['A']. The following code doesn't work, why?"
   ]
  },
  {
   "cell_type": "code",
   "execution_count": 51,
   "id": "1a22506f-2c00-43d8-9c26-d1b035b2c59b",
   "metadata": {
    "slideshow": {
     "slide_type": "fragment"
    },
    "tags": []
   },
   "outputs": [],
   "source": [
    "groups_try = np.array('A'*10+'B'*10+'C'*10+'D'*10+'E'*10) #this doesn't work"
   ]
  },
  {
   "cell_type": "code",
   "execution_count": 52,
   "id": "5d428312-dcb6-4ac4-a2f4-57f6764d72ec",
   "metadata": {
    "slideshow": {
     "slide_type": "fragment"
    },
    "tags": []
   },
   "outputs": [
    {
     "data": {
      "text/plain": [
       "array('AAAAAAAAAABBBBBBBBBBCCCCCCCCCCDDDDDDDDDDEEEEEEEEEE', dtype='<U50')"
      ]
     },
     "execution_count": 52,
     "metadata": {},
     "output_type": "execute_result"
    }
   ],
   "source": [
    "groups_try"
   ]
  },
  {
   "cell_type": "markdown",
   "id": "79f2994e-be9a-4a6a-ba0d-17ab66c4b71e",
   "metadata": {
    "slideshow": {
     "slide_type": "slide"
    },
    "tags": []
   },
   "source": [
    "#### You can see the difference between these with the shape property"
   ]
  },
  {
   "cell_type": "code",
   "execution_count": 53,
   "id": "9bc99b63-060a-4a84-a3d0-0fbdee016bc6",
   "metadata": {
    "slideshow": {
     "slide_type": "fragment"
    },
    "tags": []
   },
   "outputs": [
    {
     "name": "stdout",
     "output_type": "stream",
     "text": [
      "(50,)\n",
      "()\n"
     ]
    }
   ],
   "source": [
    "print(groups.shape)\n",
    "print(groups_try.shape)"
   ]
  },
  {
   "cell_type": "markdown",
   "id": "158b7f09-512b-45f4-8157-f067e4f3db35",
   "metadata": {
    "slideshow": {
     "slide_type": "slide"
    },
    "tags": []
   },
   "source": [
    "#### So we have 50 datapoints and their corresponding groups:"
   ]
  },
  {
   "cell_type": "code",
   "execution_count": 54,
   "id": "62329189-d019-4179-a9f9-eb3c60a322e9",
   "metadata": {
    "slideshow": {
     "slide_type": "fragment"
    },
    "tags": []
   },
   "outputs": [
    {
     "data": {
      "text/plain": [
       "array([0.44003944, 0.9402259 , 0.92032885, 0.3279997 , 0.57495299,\n",
       "       0.26823588, 0.05441823, 0.80911394, 0.1189194 , 0.21374953,\n",
       "       0.4200372 , 0.5265452 , 0.21679686, 0.43851751, 0.63209043,\n",
       "       0.86690796, 0.49420256, 0.80557781, 0.91464978, 0.89317375,\n",
       "       0.97162126, 0.19659339, 0.08240114, 0.66317005, 0.07187632,\n",
       "       0.07307914, 0.40894688, 0.32964511, 0.45518883, 0.26640133,\n",
       "       0.10873088, 0.99779361, 0.37144707, 0.51993144, 0.56433669,\n",
       "       0.24638003, 0.43656977, 0.13870066, 0.60941802, 0.22176467,\n",
       "       0.2449574 , 0.22874671, 0.78482368, 0.82212069, 0.35573622,\n",
       "       0.90226016, 0.50940319, 0.27453126, 0.02884883, 0.45979649])"
      ]
     },
     "execution_count": 54,
     "metadata": {},
     "output_type": "execute_result"
    }
   ],
   "source": [
    "data"
   ]
  },
  {
   "cell_type": "code",
   "execution_count": 55,
   "id": "e5c2ecdf-15cb-4787-8b2e-0a3ed5ebbd64",
   "metadata": {
    "slideshow": {
     "slide_type": "fragment"
    },
    "tags": []
   },
   "outputs": [
    {
     "data": {
      "text/plain": [
       "array(['A', 'A', 'A', 'A', 'A', 'A', 'A', 'A', 'A', 'A', 'B', 'B', 'B',\n",
       "       'B', 'B', 'B', 'B', 'B', 'B', 'B', 'C', 'C', 'C', 'C', 'C', 'C',\n",
       "       'C', 'C', 'C', 'C', 'D', 'D', 'D', 'D', 'D', 'D', 'D', 'D', 'D',\n",
       "       'D', 'E', 'E', 'E', 'E', 'E', 'E', 'E', 'E', 'E', 'E'], dtype='<U1')"
      ]
     },
     "execution_count": 55,
     "metadata": {},
     "output_type": "execute_result"
    }
   ],
   "source": [
    "groups"
   ]
  },
  {
   "cell_type": "markdown",
   "id": "5e1748df-195a-436a-af15-6335a3ba65ca",
   "metadata": {},
   "source": [
    "### Let's get the means of each group in an array using a loop:"
   ]
  },
  {
   "cell_type": "code",
   "execution_count": 56,
   "id": "c3e3337d-16bb-4146-bc69-2ab55354e6b2",
   "metadata": {
    "slideshow": {
     "slide_type": "slide"
    },
    "tags": []
   },
   "outputs": [],
   "source": [
    "uniqueGroups = np.unique(groups) #make an array with each group only once\n",
    "group_index = np.arange(len(uniqueGroups)) #index to use when looping. \n",
    "storeMeans = np.zeros(len(uniqueGroups)) #array for storing the means\n",
    "for n in group_index:\n",
    "    storeMeans[n] = data[groups==uniqueGroups[n]].mean()"
   ]
  },
  {
   "cell_type": "code",
   "execution_count": 58,
   "id": "bd9959b1-8e53-457e-a7f9-dd18e249729a",
   "metadata": {
    "tags": []
   },
   "outputs": [
    {
     "data": {
      "text/plain": [
       "array([0, 1, 2, 3, 4])"
      ]
     },
     "execution_count": 58,
     "metadata": {},
     "output_type": "execute_result"
    }
   ],
   "source": [
    "group_index"
   ]
  },
  {
   "cell_type": "markdown",
   "id": "e3bb95e2-4fd8-466f-bc27-6067e6d665da",
   "metadata": {},
   "source": [
    "### Note: the enumerate function makes it wasy to do this without defining an index variable:"
   ]
  },
  {
   "cell_type": "code",
   "execution_count": 59,
   "id": "7a79a528-da58-484c-a734-58f0f19dc323",
   "metadata": {
    "tags": []
   },
   "outputs": [
    {
     "data": {
      "text/plain": [
       "[(0, 'A'), (1, 'B'), (2, 'C'), (3, 'D'), (4, 'E')]"
      ]
     },
     "execution_count": 59,
     "metadata": {},
     "output_type": "execute_result"
    }
   ],
   "source": [
    "list(enumerate(uniqueGroups)) # this is a list of tuples, with the index and object in each tuple:"
   ]
  },
  {
   "cell_type": "code",
   "execution_count": 60,
   "id": "7d1e8f99-ff20-406d-bc65-815af37e9369",
   "metadata": {
    "slideshow": {
     "slide_type": "slide"
    },
    "tags": []
   },
   "outputs": [],
   "source": [
    "uniqueGroups = np.unique(groups)\n",
    "storeMeans = np.zeros(len(uniqueGroups))\n",
    "for n,g in enumerate(uniqueGroups):\n",
    "    storeMeans[n] = data[groups==g].mean()"
   ]
  },
  {
   "cell_type": "markdown",
   "id": "8863efd3-dbbe-445f-83d3-fc83010567c8",
   "metadata": {},
   "source": [
    "### Now let's make the plot. This time we will make figure and axes objects and use them to plot:\n"
   ]
  },
  {
   "cell_type": "code",
   "execution_count": 61,
   "id": "16e21107-fde0-4ce5-b0b3-1a010807a750",
   "metadata": {
    "tags": []
   },
   "outputs": [],
   "source": [
    "import matplotlib.pyplot as plt"
   ]
  },
  {
   "cell_type": "markdown",
   "id": "80734195-0324-4947-967b-9203ff6e0cf7",
   "metadata": {},
   "source": [
    "### We will use the rcParams to set the default parameters. This will apply throughout the notebook so we don't need to set again."
   ]
  },
  {
   "cell_type": "code",
   "execution_count": 62,
   "id": "3a0b7b4e-1126-413d-a9ca-b2c054100315",
   "metadata": {
    "tags": []
   },
   "outputs": [],
   "source": [
    "plt.rcParams.update({'font.size':32,'figure.figsize':(10,10)})"
   ]
  },
  {
   "cell_type": "markdown",
   "id": "49bbb9c0-c80d-4571-9bf5-a7ceddb00b96",
   "metadata": {},
   "source": [
    "### This lets you see all the parameters that can be set:"
   ]
  },
  {
   "cell_type": "code",
   "execution_count": 63,
   "id": "8d737081-aecc-4dec-951c-05ad0b14adbf",
   "metadata": {
    "collapsed": true,
    "jupyter": {
     "outputs_hidden": true
    },
    "tags": []
   },
   "outputs": [
    {
     "data": {
      "text/plain": [
       "KeysView(RcParams({'_internal.classic_mode': False,\n",
       "          'agg.path.chunksize': 0,\n",
       "          'animation.bitrate': -1,\n",
       "          'animation.codec': 'h264',\n",
       "          'animation.convert_args': ['-layers', 'OptimizePlus'],\n",
       "          'animation.convert_path': 'convert',\n",
       "          'animation.embed_limit': 20.0,\n",
       "          'animation.ffmpeg_args': [],\n",
       "          'animation.ffmpeg_path': 'ffmpeg',\n",
       "          'animation.frame_format': 'png',\n",
       "          'animation.html': 'none',\n",
       "          'animation.writer': 'ffmpeg',\n",
       "          'axes.autolimit_mode': 'data',\n",
       "          'axes.axisbelow': 'line',\n",
       "          'axes.edgecolor': 'black',\n",
       "          'axes.facecolor': 'white',\n",
       "          'axes.formatter.limits': [-5, 6],\n",
       "          'axes.formatter.min_exponent': 0,\n",
       "          'axes.formatter.offset_threshold': 4,\n",
       "          'axes.formatter.use_locale': False,\n",
       "          'axes.formatter.use_mathtext': False,\n",
       "          'axes.formatter.useoffset': True,\n",
       "          'axes.grid': False,\n",
       "          'axes.grid.axis': 'both',\n",
       "          'axes.grid.which': 'major',\n",
       "          'axes.labelcolor': 'black',\n",
       "          'axes.labelpad': 4.0,\n",
       "          'axes.labelsize': 'medium',\n",
       "          'axes.labelweight': 'normal',\n",
       "          'axes.linewidth': 0.8,\n",
       "          'axes.prop_cycle': cycler('color', ['#1f77b4', '#ff7f0e', '#2ca02c', '#d62728', '#9467bd', '#8c564b', '#e377c2', '#7f7f7f', '#bcbd22', '#17becf']),\n",
       "          'axes.spines.bottom': True,\n",
       "          'axes.spines.left': True,\n",
       "          'axes.spines.right': True,\n",
       "          'axes.spines.top': True,\n",
       "          'axes.titlecolor': 'auto',\n",
       "          'axes.titlelocation': 'center',\n",
       "          'axes.titlepad': 6.0,\n",
       "          'axes.titlesize': 'large',\n",
       "          'axes.titleweight': 'normal',\n",
       "          'axes.titley': None,\n",
       "          'axes.unicode_minus': True,\n",
       "          'axes.xmargin': 0.05,\n",
       "          'axes.ymargin': 0.05,\n",
       "          'axes.zmargin': 0.05,\n",
       "          'axes3d.grid': True,\n",
       "          'axes3d.xaxis.panecolor': (0.95, 0.95, 0.95, 0.5),\n",
       "          'axes3d.yaxis.panecolor': (0.9, 0.9, 0.9, 0.5),\n",
       "          'axes3d.zaxis.panecolor': (0.925, 0.925, 0.925, 0.5),\n",
       "          'backend': 'module://matplotlib_inline.backend_inline',\n",
       "          'backend_fallback': True,\n",
       "          'boxplot.bootstrap': None,\n",
       "          'boxplot.boxprops.color': 'black',\n",
       "          'boxplot.boxprops.linestyle': '-',\n",
       "          'boxplot.boxprops.linewidth': 1.0,\n",
       "          'boxplot.capprops.color': 'black',\n",
       "          'boxplot.capprops.linestyle': '-',\n",
       "          'boxplot.capprops.linewidth': 1.0,\n",
       "          'boxplot.flierprops.color': 'black',\n",
       "          'boxplot.flierprops.linestyle': 'none',\n",
       "          'boxplot.flierprops.linewidth': 1.0,\n",
       "          'boxplot.flierprops.marker': 'o',\n",
       "          'boxplot.flierprops.markeredgecolor': 'black',\n",
       "          'boxplot.flierprops.markeredgewidth': 1.0,\n",
       "          'boxplot.flierprops.markerfacecolor': 'none',\n",
       "          'boxplot.flierprops.markersize': 6.0,\n",
       "          'boxplot.meanline': False,\n",
       "          'boxplot.meanprops.color': 'C2',\n",
       "          'boxplot.meanprops.linestyle': '--',\n",
       "          'boxplot.meanprops.linewidth': 1.0,\n",
       "          'boxplot.meanprops.marker': '^',\n",
       "          'boxplot.meanprops.markeredgecolor': 'C2',\n",
       "          'boxplot.meanprops.markerfacecolor': 'C2',\n",
       "          'boxplot.meanprops.markersize': 6.0,\n",
       "          'boxplot.medianprops.color': 'C1',\n",
       "          'boxplot.medianprops.linestyle': '-',\n",
       "          'boxplot.medianprops.linewidth': 1.0,\n",
       "          'boxplot.notch': False,\n",
       "          'boxplot.patchartist': False,\n",
       "          'boxplot.showbox': True,\n",
       "          'boxplot.showcaps': True,\n",
       "          'boxplot.showfliers': True,\n",
       "          'boxplot.showmeans': False,\n",
       "          'boxplot.vertical': True,\n",
       "          'boxplot.whiskerprops.color': 'black',\n",
       "          'boxplot.whiskerprops.linestyle': '-',\n",
       "          'boxplot.whiskerprops.linewidth': 1.0,\n",
       "          'boxplot.whiskers': 1.5,\n",
       "          'contour.algorithm': 'mpl2014',\n",
       "          'contour.corner_mask': True,\n",
       "          'contour.linewidth': None,\n",
       "          'contour.negative_linestyle': 'dashed',\n",
       "          'date.autoformatter.day': '%Y-%m-%d',\n",
       "          'date.autoformatter.hour': '%m-%d %H',\n",
       "          'date.autoformatter.microsecond': '%M:%S.%f',\n",
       "          'date.autoformatter.minute': '%d %H:%M',\n",
       "          'date.autoformatter.month': '%Y-%m',\n",
       "          'date.autoformatter.second': '%H:%M:%S',\n",
       "          'date.autoformatter.year': '%Y',\n",
       "          'date.converter': 'auto',\n",
       "          'date.epoch': '1970-01-01T00:00:00',\n",
       "          'date.interval_multiples': True,\n",
       "          'docstring.hardcopy': False,\n",
       "          'errorbar.capsize': 0.0,\n",
       "          'figure.autolayout': False,\n",
       "          'figure.constrained_layout.h_pad': 0.04167,\n",
       "          'figure.constrained_layout.hspace': 0.02,\n",
       "          'figure.constrained_layout.use': False,\n",
       "          'figure.constrained_layout.w_pad': 0.04167,\n",
       "          'figure.constrained_layout.wspace': 0.02,\n",
       "          'figure.dpi': 100.0,\n",
       "          'figure.edgecolor': 'white',\n",
       "          'figure.facecolor': 'white',\n",
       "          'figure.figsize': [10.0, 10.0],\n",
       "          'figure.frameon': True,\n",
       "          'figure.hooks': [],\n",
       "          'figure.labelsize': 'large',\n",
       "          'figure.labelweight': 'normal',\n",
       "          'figure.max_open_warning': 20,\n",
       "          'figure.raise_window': True,\n",
       "          'figure.subplot.bottom': 0.11,\n",
       "          'figure.subplot.hspace': 0.2,\n",
       "          'figure.subplot.left': 0.125,\n",
       "          'figure.subplot.right': 0.9,\n",
       "          'figure.subplot.top': 0.88,\n",
       "          'figure.subplot.wspace': 0.2,\n",
       "          'figure.titlesize': 'large',\n",
       "          'figure.titleweight': 'normal',\n",
       "          'font.cursive': ['Apple Chancery',\n",
       "                           'Textile',\n",
       "                           'Zapf Chancery',\n",
       "                           'Sand',\n",
       "                           'Script MT',\n",
       "                           'Felipa',\n",
       "                           'Comic Neue',\n",
       "                           'Comic Sans MS',\n",
       "                           'cursive'],\n",
       "          'font.family': ['sans-serif'],\n",
       "          'font.fantasy': ['Chicago',\n",
       "                           'Charcoal',\n",
       "                           'Impact',\n",
       "                           'Western',\n",
       "                           'Humor Sans',\n",
       "                           'xkcd',\n",
       "                           'fantasy'],\n",
       "          'font.monospace': ['DejaVu Sans Mono',\n",
       "                             'Bitstream Vera Sans Mono',\n",
       "                             'Computer Modern Typewriter',\n",
       "                             'Andale Mono',\n",
       "                             'Nimbus Mono L',\n",
       "                             'Courier New',\n",
       "                             'Courier',\n",
       "                             'Fixed',\n",
       "                             'Terminal',\n",
       "                             'monospace'],\n",
       "          'font.sans-serif': ['DejaVu Sans',\n",
       "                              'Bitstream Vera Sans',\n",
       "                              'Computer Modern Sans Serif',\n",
       "                              'Lucida Grande',\n",
       "                              'Verdana',\n",
       "                              'Geneva',\n",
       "                              'Lucid',\n",
       "                              'Arial',\n",
       "                              'Helvetica',\n",
       "                              'Avant Garde',\n",
       "                              'sans-serif'],\n",
       "          'font.serif': ['DejaVu Serif',\n",
       "                         'Bitstream Vera Serif',\n",
       "                         'Computer Modern Roman',\n",
       "                         'New Century Schoolbook',\n",
       "                         'Century Schoolbook L',\n",
       "                         'Utopia',\n",
       "                         'ITC Bookman',\n",
       "                         'Bookman',\n",
       "                         'Nimbus Roman No9 L',\n",
       "                         'Times New Roman',\n",
       "                         'Times',\n",
       "                         'Palatino',\n",
       "                         'Charter',\n",
       "                         'serif'],\n",
       "          'font.size': 32.0,\n",
       "          'font.stretch': 'normal',\n",
       "          'font.style': 'normal',\n",
       "          'font.variant': 'normal',\n",
       "          'font.weight': 'normal',\n",
       "          'grid.alpha': 1.0,\n",
       "          'grid.color': '#b0b0b0',\n",
       "          'grid.linestyle': '-',\n",
       "          'grid.linewidth': 0.8,\n",
       "          'hatch.color': 'black',\n",
       "          'hatch.linewidth': 1.0,\n",
       "          'hist.bins': 10,\n",
       "          'image.aspect': 'equal',\n",
       "          'image.cmap': 'viridis',\n",
       "          'image.composite_image': True,\n",
       "          'image.interpolation': 'antialiased',\n",
       "          'image.lut': 256,\n",
       "          'image.origin': 'upper',\n",
       "          'image.resample': True,\n",
       "          'interactive': False,\n",
       "          'keymap.back': ['left', 'c', 'backspace', 'MouseButton.BACK'],\n",
       "          'keymap.copy': ['ctrl+c', 'cmd+c'],\n",
       "          'keymap.forward': ['right', 'v', 'MouseButton.FORWARD'],\n",
       "          'keymap.fullscreen': ['f', 'ctrl+f'],\n",
       "          'keymap.grid': ['g'],\n",
       "          'keymap.grid_minor': ['G'],\n",
       "          'keymap.help': ['f1'],\n",
       "          'keymap.home': ['h', 'r', 'home'],\n",
       "          'keymap.pan': ['p'],\n",
       "          'keymap.quit': ['ctrl+w', 'cmd+w', 'q'],\n",
       "          'keymap.quit_all': [],\n",
       "          'keymap.save': ['s', 'ctrl+s'],\n",
       "          'keymap.xscale': ['k', 'L'],\n",
       "          'keymap.yscale': ['l'],\n",
       "          'keymap.zoom': ['o'],\n",
       "          'legend.borderaxespad': 0.5,\n",
       "          'legend.borderpad': 0.4,\n",
       "          'legend.columnspacing': 2.0,\n",
       "          'legend.edgecolor': '0.8',\n",
       "          'legend.facecolor': 'inherit',\n",
       "          'legend.fancybox': True,\n",
       "          'legend.fontsize': 'medium',\n",
       "          'legend.framealpha': 0.8,\n",
       "          'legend.frameon': True,\n",
       "          'legend.handleheight': 0.7,\n",
       "          'legend.handlelength': 2.0,\n",
       "          'legend.handletextpad': 0.8,\n",
       "          'legend.labelcolor': 'None',\n",
       "          'legend.labelspacing': 0.5,\n",
       "          'legend.loc': 'best',\n",
       "          'legend.markerscale': 1.0,\n",
       "          'legend.numpoints': 1,\n",
       "          'legend.scatterpoints': 1,\n",
       "          'legend.shadow': False,\n",
       "          'legend.title_fontsize': None,\n",
       "          'lines.antialiased': True,\n",
       "          'lines.color': 'C0',\n",
       "          'lines.dash_capstyle': <CapStyle.butt: 'butt'>,\n",
       "          'lines.dash_joinstyle': <JoinStyle.round: 'round'>,\n",
       "          'lines.dashdot_pattern': [6.4, 1.6, 1.0, 1.6],\n",
       "          'lines.dashed_pattern': [3.7, 1.6],\n",
       "          'lines.dotted_pattern': [1.0, 1.65],\n",
       "          'lines.linestyle': '-',\n",
       "          'lines.linewidth': 1.5,\n",
       "          'lines.marker': 'None',\n",
       "          'lines.markeredgecolor': 'auto',\n",
       "          'lines.markeredgewidth': 1.0,\n",
       "          'lines.markerfacecolor': 'auto',\n",
       "          'lines.markersize': 6.0,\n",
       "          'lines.scale_dashes': True,\n",
       "          'lines.solid_capstyle': <CapStyle.projecting: 'projecting'>,\n",
       "          'lines.solid_joinstyle': <JoinStyle.round: 'round'>,\n",
       "          'markers.fillstyle': 'full',\n",
       "          'mathtext.bf': 'sans:bold',\n",
       "          'mathtext.cal': 'cursive',\n",
       "          'mathtext.default': 'it',\n",
       "          'mathtext.fallback': 'cm',\n",
       "          'mathtext.fontset': 'dejavusans',\n",
       "          'mathtext.it': 'sans:italic',\n",
       "          'mathtext.rm': 'sans',\n",
       "          'mathtext.sf': 'sans',\n",
       "          'mathtext.tt': 'monospace',\n",
       "          'patch.antialiased': True,\n",
       "          'patch.edgecolor': 'black',\n",
       "          'patch.facecolor': 'C0',\n",
       "          'patch.force_edgecolor': False,\n",
       "          'patch.linewidth': 1.0,\n",
       "          'path.effects': [],\n",
       "          'path.simplify': True,\n",
       "          'path.simplify_threshold': 0.111111111111,\n",
       "          'path.sketch': None,\n",
       "          'path.snap': True,\n",
       "          'pcolor.shading': 'auto',\n",
       "          'pcolormesh.snap': True,\n",
       "          'pdf.compression': 6,\n",
       "          'pdf.fonttype': 3,\n",
       "          'pdf.inheritcolor': False,\n",
       "          'pdf.use14corefonts': False,\n",
       "          'pgf.preamble': '',\n",
       "          'pgf.rcfonts': True,\n",
       "          'pgf.texsystem': 'xelatex',\n",
       "          'polaraxes.grid': True,\n",
       "          'ps.distiller.res': 6000,\n",
       "          'ps.fonttype': 3,\n",
       "          'ps.papersize': 'letter',\n",
       "          'ps.useafm': False,\n",
       "          'ps.usedistiller': None,\n",
       "          'savefig.bbox': None,\n",
       "          'savefig.directory': '~',\n",
       "          'savefig.dpi': 'figure',\n",
       "          'savefig.edgecolor': 'auto',\n",
       "          'savefig.facecolor': 'auto',\n",
       "          'savefig.format': 'png',\n",
       "          'savefig.orientation': 'portrait',\n",
       "          'savefig.pad_inches': 0.1,\n",
       "          'savefig.transparent': False,\n",
       "          'scatter.edgecolors': 'face',\n",
       "          'scatter.marker': 'o',\n",
       "          'svg.fonttype': 'path',\n",
       "          'svg.hashsalt': None,\n",
       "          'svg.image_inline': True,\n",
       "          'text.antialiased': True,\n",
       "          'text.color': 'black',\n",
       "          'text.hinting': 'force_autohint',\n",
       "          'text.hinting_factor': 8,\n",
       "          'text.kerning_factor': 0,\n",
       "          'text.latex.preamble': '',\n",
       "          'text.parse_math': True,\n",
       "          'text.usetex': False,\n",
       "          'timezone': 'UTC',\n",
       "          'tk.window_focus': False,\n",
       "          'toolbar': 'toolbar2',\n",
       "          'webagg.address': '127.0.0.1',\n",
       "          'webagg.open_in_browser': True,\n",
       "          'webagg.port': 8988,\n",
       "          'webagg.port_retries': 50,\n",
       "          'xaxis.labellocation': 'center',\n",
       "          'xtick.alignment': 'center',\n",
       "          'xtick.bottom': True,\n",
       "          'xtick.color': 'black',\n",
       "          'xtick.direction': 'out',\n",
       "          'xtick.labelbottom': True,\n",
       "          'xtick.labelcolor': 'inherit',\n",
       "          'xtick.labelsize': 'medium',\n",
       "          'xtick.labeltop': False,\n",
       "          'xtick.major.bottom': True,\n",
       "          'xtick.major.pad': 3.5,\n",
       "          'xtick.major.size': 3.5,\n",
       "          'xtick.major.top': True,\n",
       "          'xtick.major.width': 0.8,\n",
       "          'xtick.minor.bottom': True,\n",
       "          'xtick.minor.pad': 3.4,\n",
       "          'xtick.minor.size': 2.0,\n",
       "          'xtick.minor.top': True,\n",
       "          'xtick.minor.visible': False,\n",
       "          'xtick.minor.width': 0.6,\n",
       "          'xtick.top': False,\n",
       "          'yaxis.labellocation': 'center',\n",
       "          'ytick.alignment': 'center_baseline',\n",
       "          'ytick.color': 'black',\n",
       "          'ytick.direction': 'out',\n",
       "          'ytick.labelcolor': 'inherit',\n",
       "          'ytick.labelleft': True,\n",
       "          'ytick.labelright': False,\n",
       "          'ytick.labelsize': 'medium',\n",
       "          'ytick.left': True,\n",
       "          'ytick.major.left': True,\n",
       "          'ytick.major.pad': 3.5,\n",
       "          'ytick.major.right': True,\n",
       "          'ytick.major.size': 3.5,\n",
       "          'ytick.major.width': 0.8,\n",
       "          'ytick.minor.left': True,\n",
       "          'ytick.minor.pad': 3.4,\n",
       "          'ytick.minor.right': True,\n",
       "          'ytick.minor.size': 2.0,\n",
       "          'ytick.minor.visible': False,\n",
       "          'ytick.minor.width': 0.6,\n",
       "          'ytick.right': False}))"
      ]
     },
     "execution_count": 63,
     "metadata": {},
     "output_type": "execute_result"
    }
   ],
   "source": [
    "plt.rcParams.keys()"
   ]
  },
  {
   "cell_type": "markdown",
   "id": "8a3945a7-352a-400d-9635-9054220daa84",
   "metadata": {},
   "source": [
    "### Make a figure, add a subplot, make the barplot, and set the labels:"
   ]
  },
  {
   "cell_type": "code",
   "execution_count": 64,
   "id": "368cbe83-e863-41ab-b0d5-3ccdd9816f1f",
   "metadata": {
    "tags": []
   },
   "outputs": [
    {
     "data": {
      "image/png": "[encoded data removed]",
      "text/plain": [
       "<Figure size 1000x1000 with 1 Axes>"
      ]
     },
     "metadata": {},
     "output_type": "display_data"
    }
   ],
   "source": [
    "fig = plt.figure()\n",
    "ax = fig.add_subplot()\n",
    "ax.bar(np.arange(len(storeMeans)),storeMeans)\n",
    "ax.set_ylabel(\"Group mean\",fontsize = 32)\n",
    "ax.set_xticks(np.arange(len(storeMeans)))\n",
    "ax.set_xticklabels(uniqueGroups);"
   ]
  },
  {
   "cell_type": "markdown",
   "id": "234dd346-f4da-4e58-8150-6667233821c9",
   "metadata": {},
   "source": [
    "### Another example. Let's make a scatter plot and color code the points by the distance to the origin:"
   ]
  },
  {
   "cell_type": "markdown",
   "id": "b77405e6-cc28-48b0-a65e-84b849ac6be1",
   "metadata": {},
   "source": [
    "### First lets make the data and compute distances:"
   ]
  },
  {
   "cell_type": "code",
   "execution_count": null,
   "id": "3cab2018-f4f5-4a7d-91ae-e04709392b0f",
   "metadata": {},
   "outputs": [],
   "source": [
    "x = np.random.rand(100)\n",
    "y = np.random.rand(100)\n",
    "dists = np.zeros(100)\n",
    "\n",
    "for ii in np.arange(len(x)):\n",
    "    dists[ii] = x[ii]*x[ii]+y[ii]*y[ii]\n",
    "    dists[ii] = np.sqrt(dists[ii])"
   ]
  },
  {
   "cell_type": "markdown",
   "id": "96689f98-cda3-4108-9398-66a595ec6a5a",
   "metadata": {},
   "source": [
    "### Better, we can compute the distances without a loop, using the elementwise operations. This is referred to as \"vectorizing\" the code. Note that the built in numpy function sqrt automatically works on the vector in an elementwise way."
   ]
  },
  {
   "cell_type": "code",
   "execution_count": 66,
   "id": "d69f6f12-575d-449e-a62d-96ae08949e30",
   "metadata": {
    "tags": []
   },
   "outputs": [],
   "source": [
    "x = np.random.rand(100)\n",
    "y = np.random.rand(100)\n",
    "dists = np.sqrt(x*x+y*y)"
   ]
  },
  {
   "cell_type": "markdown",
   "id": "1229d141-1524-471e-a5cd-722a0da4ec6b",
   "metadata": {},
   "source": [
    "### Now make the plot. Using the scatter command we can color code the points:"
   ]
  },
  {
   "cell_type": "code",
   "execution_count": 67,
   "id": "b7ddcf64-94fb-4b1c-a0ab-e3e51d102f57",
   "metadata": {
    "tags": []
   },
   "outputs": [
    {
     "data": {
      "text/plain": [
       "<matplotlib.collections.PathCollection at 0x1119f8290>"
      ]
     },
     "execution_count": 67,
     "metadata": {},
     "output_type": "execute_result"
    },
    {
     "data": {
      "image/png": "[encoded data removed]",
      "text/plain": [
       "<Figure size 1000x1000 with 1 Axes>"
      ]
     },
     "metadata": {},
     "output_type": "display_data"
    }
   ],
   "source": [
    "fig = plt.figure()\n",
    "ax = fig.add_subplot()\n",
    "ax.scatter(x,y,c=dists)"
   ]
  },
  {
   "cell_type": "markdown",
   "id": "0bcb7426-bb27-4103-ac1a-4fa5448cd7a9",
   "metadata": {},
   "source": [
    "### We can even add a 4th dimension of data encoded in the size of the points"
   ]
  },
  {
   "cell_type": "code",
   "execution_count": 68,
   "id": "9a282959-680f-49bc-b871-f54f2f10a106",
   "metadata": {
    "tags": []
   },
   "outputs": [
    {
     "data": {
      "image/png": "[encoded data removed]",
      "text/plain": [
       "<Figure size 1000x1000 with 1 Axes>"
      ]
     },
     "metadata": {},
     "output_type": "display_data"
    }
   ],
   "source": [
    "fig = plt.figure()\n",
    "ax = fig.add_subplot()\n",
    "ax.scatter(x,y,c=dists,s = 100*np.random.rand(100));"
   ]
  },
  {
   "cell_type": "markdown",
   "id": "d57a9640-f5a0-45ab-a809-37eaa7f0e9de",
   "metadata": {},
   "source": [
    "## Inputting and outputting data:\n",
    "* ### You may need to stop/start your analysis or your data may be too large to work with all at once.\n",
    "* ### Data comes in a variety of formats (different instruments, collaborators, online sources etc) you need to be able to get it into python in order to work with it\n",
    "* ### Other applications or people may require data formatted in particular ways"
   ]
  },
  {
   "cell_type": "markdown",
   "id": "4d71b82d-befa-4f32-812a-369c01946de6",
   "metadata": {},
   "source": [
    "### The simplest way is to use the builtin numpy functions save and load to read from and write to disk:\n",
    "\n",
    "### This writes the array x into the file x.npy. .npy is the format for storing a single numpy array."
   ]
  },
  {
   "cell_type": "code",
   "execution_count": 69,
   "id": "3617bf0f-6f43-40d0-8aae-bd651a74cee2",
   "metadata": {
    "tags": []
   },
   "outputs": [],
   "source": [
    "x = np.random.rand(100)\n",
    "y = np.random.rand(100)\n",
    "np.save(\"x.npy\",x)"
   ]
  },
  {
   "cell_type": "markdown",
   "id": "94b07a3f-2a3b-4374-b7b6-1c53e03e295b",
   "metadata": {},
   "source": [
    "### this file can be loaded with the np.load function. Note this funciton simply returns the array, which can be assigned to any variable"
   ]
  },
  {
   "cell_type": "code",
   "execution_count": 70,
   "id": "c5e32735-1329-469c-8d07-8083c89a39a7",
   "metadata": {
    "tags": []
   },
   "outputs": [
    {
     "data": {
      "text/plain": [
       "array([0., 0., 0., 0., 0., 0., 0., 0., 0., 0., 0., 0., 0., 0., 0., 0., 0.,\n",
       "       0., 0., 0., 0., 0., 0., 0., 0., 0., 0., 0., 0., 0., 0., 0., 0., 0.,\n",
       "       0., 0., 0., 0., 0., 0., 0., 0., 0., 0., 0., 0., 0., 0., 0., 0., 0.,\n",
       "       0., 0., 0., 0., 0., 0., 0., 0., 0., 0., 0., 0., 0., 0., 0., 0., 0.,\n",
       "       0., 0., 0., 0., 0., 0., 0., 0., 0., 0., 0., 0., 0., 0., 0., 0., 0.,\n",
       "       0., 0., 0., 0., 0., 0., 0., 0., 0., 0., 0., 0., 0., 0., 0.])"
      ]
     },
     "execution_count": 70,
     "metadata": {},
     "output_type": "execute_result"
    }
   ],
   "source": [
    "x_loaded = np.load(\"x.npy\")\n",
    "x_loaded-x # they are the same"
   ]
  },
  {
   "cell_type": "markdown",
   "id": "5eada57b-9b2b-4c46-9cd1-98ba2d8be5d1",
   "metadata": {},
   "source": [
    "### If we want to save more than one array in the file, we can use savez and the npz format and specify the arrays to save and what they should be called: "
   ]
  },
  {
   "cell_type": "code",
   "execution_count": 71,
   "id": "a5692a05-3e56-4835-a488-9530132e1862",
   "metadata": {
    "tags": []
   },
   "outputs": [],
   "source": [
    "np.savez(\"xy.npz\",x=x, y=y)"
   ]
  },
  {
   "cell_type": "code",
   "execution_count": 73,
   "id": "66504cb0-4a34-47d7-93f4-e56736e742ce",
   "metadata": {
    "tags": []
   },
   "outputs": [
    {
     "data": {
      "text/plain": [
       "array([0.03498694, 0.36608214, 0.4882623 , 0.71355613, 0.87344873,\n",
       "       0.51979358, 0.09994471, 0.66795406, 0.81639916, 0.87663452,\n",
       "       0.43950641, 0.83294165, 0.90960422, 0.50465307, 0.71273529,\n",
       "       0.60573431, 0.94894676, 0.45893712, 0.23893979, 0.70331131,\n",
       "       0.86229393, 0.34884611, 0.71691546, 0.02159494, 0.39447807,\n",
       "       0.69421379, 0.13340815, 0.35307692, 0.20784942, 0.09564868,\n",
       "       0.56415892, 0.47811901, 0.11075696, 0.87380715, 0.44864337,\n",
       "       0.63389345, 0.94575365, 0.1015088 , 0.50534316, 0.64849727,\n",
       "       0.15683161, 0.39079276, 0.34400442, 0.53411139, 0.69191901,\n",
       "       0.99113936, 0.35097378, 0.12031687, 0.4632163 , 0.08687141,\n",
       "       0.1472846 , 0.4166958 , 0.49100527, 0.0334743 , 0.42867254,\n",
       "       0.941952  , 0.153258  , 0.44890837, 0.30477531, 0.04019318,\n",
       "       0.14625541, 0.94237375, 0.98988571, 0.09383427, 0.65299335,\n",
       "       0.27980153, 0.3976915 , 0.12105442, 0.41004419, 0.67573693,\n",
       "       0.00413284, 0.78430893, 0.09969882, 0.99615079, 0.87050349,\n",
       "       0.28215824, 0.33685801, 0.34770363, 0.8226948 , 0.10389385,\n",
       "       0.57792677, 0.4355378 , 0.30546182, 0.49809711, 0.35164392,\n",
       "       0.65000355, 0.93630688, 0.87394984, 0.18293977, 0.1149266 ,\n",
       "       0.40173192, 0.36428884, 0.53537424, 0.79611488, 0.73397397,\n",
       "       0.22771882, 0.72919813, 0.46980756, 0.15439035, 0.27674881])"
      ]
     },
     "execution_count": 73,
     "metadata": {},
     "output_type": "execute_result"
    }
   ],
   "source": [
    "xy_loaded = np.load(\"xy.npz\")\n",
    "xy_loaded[\"y\"]"
   ]
  },
  {
   "cell_type": "code",
   "execution_count": 74,
   "id": "6cad46fa-4ada-4427-bc5b-c43461801101",
   "metadata": {
    "tags": []
   },
   "outputs": [
    {
     "data": {
      "text/plain": [
       "array([0., 0., 0., 0., 0., 0., 0., 0., 0., 0., 0., 0., 0., 0., 0., 0., 0.,\n",
       "       0., 0., 0., 0., 0., 0., 0., 0., 0., 0., 0., 0., 0., 0., 0., 0., 0.,\n",
       "       0., 0., 0., 0., 0., 0., 0., 0., 0., 0., 0., 0., 0., 0., 0., 0., 0.,\n",
       "       0., 0., 0., 0., 0., 0., 0., 0., 0., 0., 0., 0., 0., 0., 0., 0., 0.,\n",
       "       0., 0., 0., 0., 0., 0., 0., 0., 0., 0., 0., 0., 0., 0., 0., 0., 0.,\n",
       "       0., 0., 0., 0., 0., 0., 0., 0., 0., 0., 0., 0., 0., 0., 0.])"
      ]
     },
     "execution_count": 74,
     "metadata": {},
     "output_type": "execute_result"
    }
   ],
   "source": [
    "xy_loaded[\"y\"] - y"
   ]
  },
  {
   "cell_type": "markdown",
   "id": "b3112cea-9fa4-4e74-aa13-21046f27e61c",
   "metadata": {},
   "source": [
    "### This is very convenient if you data is going to be read back into numpy. But if it isn't, you may want to save it as text:"
   ]
  },
  {
   "cell_type": "code",
   "execution_count": 75,
   "id": "72aa0ffa-3629-428e-86b8-443ebfc8a8c6",
   "metadata": {
    "tags": []
   },
   "outputs": [],
   "source": [
    "x = np.random.random((100,10))\n",
    "np.savetxt(\"x.txt\",x)\n",
    "np.savetxt(\"xcomma.txt\",x,delimiter=\",\")"
   ]
  },
  {
   "cell_type": "markdown",
   "id": "c32daa68-f9b7-4c16-a5a6-e6b1056d5160",
   "metadata": {},
   "source": [
    "### The load text function can then be used to read this in. Or to read text generated from any other application. "
   ]
  },
  {
   "cell_type": "code",
   "execution_count": 76,
   "id": "dffa2973-8cd5-45b2-987c-838c498859eb",
   "metadata": {
    "tags": []
   },
   "outputs": [],
   "source": [
    "x_loaded = np.loadtxt(\"x.txt\") "
   ]
  },
  {
   "cell_type": "markdown",
   "id": "9514ff38-c8ca-497e-87d4-eed0405769af",
   "metadata": {},
   "source": [
    "### An issue with this is that numpy only uses arrays with a single datatype. So this won't work well if you have mixed data. Next week we will learn about the pandas library which can handle this issue. "
   ]
  },
  {
   "cell_type": "markdown",
   "id": "bb975450-4232-4088-9242-850c59ff7c23",
   "metadata": {},
   "source": [
    "### You can also deal with it more manually by reading the data one line at a time."
   ]
  },
  {
   "cell_type": "code",
   "execution_count": 77,
   "id": "4ffc1208-f547-4ea5-a933-edf235e62186",
   "metadata": {
    "tags": []
   },
   "outputs": [],
   "source": [
    "f = open(\"x.txt\",\"r\") #open the file for reading"
   ]
  },
  {
   "cell_type": "markdown",
   "id": "65855cfd-bc51-407b-8b7a-dc38712a5b97",
   "metadata": {},
   "source": [
    "### You can then read the file one line at a time. "
   ]
  },
  {
   "cell_type": "code",
   "execution_count": 78,
   "id": "29e119fc-8fa5-4b2c-a910-b482fd42a189",
   "metadata": {
    "collapsed": true,
    "jupyter": {
     "outputs_hidden": true
    },
    "tags": []
   },
   "outputs": [
    {
     "name": "stdout",
     "output_type": "stream",
     "text": [
      "5.142964453402463221e-01 8.387669709127476558e-02 6.310789978240149978e-01 8.493597642250542146e-01 3.664649310543912630e-01 3.598823810233600096e-01 8.985088806597345545e-01 2.854659781360420201e-01 9.114446561285868276e-01 8.897633689329338402e-01\n",
      "\n",
      "5.299150554602877206e-01 1.480993014523773743e-01 4.775367280736886322e-02 5.940439304469813386e-02 6.774385099610363836e-01 7.743713339982760679e-02 2.292271578188751491e-01 9.789067451487555305e-01 8.238970911237456507e-01 2.841962822884245288e-01\n",
      "\n",
      "4.830092306738013042e-01 5.361850482412741092e-01 7.091374713223670412e-01 1.839015399078457458e-01 7.434643182480332735e-01 7.535448790145153897e-01 6.157240405790885829e-01 2.294267291496913108e-01 3.737776950180876634e-01 1.814180575441731724e-01\n",
      "\n",
      "5.161656498872202459e-01 2.552599196101766887e-01 1.904519923136316351e-02 9.948526398552330896e-01 6.668537716345294131e-01 7.588121950406134797e-01 7.247376518449322180e-01 4.094492475189659419e-02 6.195269564222986025e-01 9.750172287802790771e-01\n",
      "\n",
      "2.484634736398240173e-01 9.250663470463944549e-01 5.612452692128762077e-01 3.325172909930396159e-03 3.984529731126483787e-01 6.010877452116809572e-01 4.896863334849531624e-01 3.797297198070554991e-01 3.440191000456501724e-01 2.027605202035636101e-01\n",
      "\n",
      "2.991434565939864454e-01 5.238404491464188073e-02 4.469421546277794199e-01 5.129040849651402834e-01 2.140700831343433919e-02 1.586560351458151663e-01 5.201146849486473211e-01 4.420136215409192770e-01 1.666573943587040807e-01 8.062404480977469756e-01\n",
      "\n",
      "6.909349244502502874e-01 2.035755430084463802e-01 3.728626021959303705e-01 4.871009547726510291e-01 1.837560096539769816e-01 6.375900164809269466e-01 3.328190362255613044e-01 1.241524853561548625e-02 9.448891556554840365e-01 2.729639953523211870e-01\n",
      "\n",
      "2.492822615539824760e-01 2.022555097298590621e-01 8.702350620723752206e-01 8.071903828963243877e-01 9.858659649135872449e-01 4.706773013768740244e-01 6.454973688968054235e-01 9.208925276796035009e-01 5.881017888108996949e-02 5.939009276784816826e-01\n",
      "\n",
      "6.775409326078721817e-01 9.829137667436316228e-03 7.280949121923874223e-02 1.206550576984578571e-01 6.075677539591195497e-02 1.651745811842721956e-01 6.953985406192085827e-01 9.769691439778590558e-01 9.980242005605682865e-01 2.301524358728124220e-01\n",
      "\n",
      "8.587566804249606722e-01 6.588497468930304413e-01 8.809097018490519293e-02 1.534556555616323203e-01 9.439275040654205862e-01 2.365810011484621445e-01 6.312466238992819889e-02 7.575565472484923069e-01 3.953717090300229442e-01 7.204739642439623726e-01\n",
      "\n",
      "7.192901268145814875e-01 9.544741122033679748e-01 5.892696429902166688e-02 1.107463705478882732e-01 2.425298736537088162e-01 7.662875891088447577e-01 1.852825876804462535e-01 3.821792699945638638e-01 8.252448423720456505e-01 1.324406177812084140e-01\n",
      "\n",
      "8.699641102241647550e-01 1.602371005173477414e-01 1.252157247632506021e-01 8.320313257585086886e-01 2.604885741963935963e-01 9.928782833710381173e-02 7.717035842324605488e-01 3.900444913261144064e-01 5.595099330215440592e-01 9.900624091811482952e-01\n",
      "\n",
      "9.320432811599544953e-01 2.281129125252190359e-02 6.095000474136605950e-01 9.660691394920105646e-01 4.430438165660133265e-01 7.386824577605483055e-01 4.193009707458638102e-01 1.864916610351020632e-01 2.885100564731611916e-01 1.693756263944157237e-02\n",
      "\n",
      "5.286815384932463946e-02 8.309551207747396528e-01 4.225279682932771008e-01 3.034759370848104654e-01 7.034074371966579919e-01 1.224565056665821716e-01 5.903720346686438525e-01 3.485787562101501091e-01 2.627649893943100334e-01 7.235402563572381762e-01\n",
      "\n",
      "2.698832076679527070e-01 3.432530895975888230e-01 4.734663658249026463e-01 2.731066794999629233e-01 8.326975918053558523e-01 9.691385953890605531e-01 9.869950839661787434e-01 4.456195932938538107e-01 2.635927620797687831e-01 3.386014304521609564e-01\n",
      "\n",
      "9.723421657522628436e-01 4.615502091552503572e-01 7.599457248740428827e-01 9.972828965023359249e-01 7.343212253795232680e-01 2.760679958837241044e-01 5.304753077939774464e-01 3.834599547673539499e-01 4.141066308525109818e-01 4.393598643617018240e-01\n",
      "\n",
      "4.031581844881766408e-01 5.547201565993263861e-01 3.996689759106988316e-01 1.120379359837051503e-01 7.481048098734311980e-01 6.810425477560418939e-01 9.147137232356128411e-02 7.864816453448820743e-01 2.513024584614770296e-01 8.587823402934735562e-03\n",
      "\n",
      "1.448827865398008008e-01 4.179088997778368508e-01 6.677562196143217443e-01 3.781178215995713021e-01 6.143459267586122152e-01 9.271041437438054533e-02 2.411880632607895647e-01 7.724648095030228756e-02 6.313510877694394896e-01 4.349185235269235061e-01\n",
      "\n",
      "3.351049273746868895e-01 9.062299076270552423e-02 5.568742447469897661e-01 9.812940234546226881e-01 4.475476207060268274e-01 2.371760182843749565e-01 6.495148766589213807e-01 9.226744027024125216e-02 9.365278583882455932e-01 7.079616173900736831e-01\n",
      "\n",
      "5.128629562432696076e-02 3.904715930006408264e-02 3.902196499018455444e-01 1.293708773590067640e-01 8.640719664797289479e-01 1.762330132118327120e-01 9.674723852940509961e-01 2.297918289673362979e-01 7.925240952693187735e-01 3.522757408808171453e-01\n",
      "\n",
      "5.818679552182317583e-01 6.296921418332995790e-01 4.625420505884086930e-01 8.609078915444866587e-01 5.928357501222463188e-01 5.232163312196945748e-01 4.932035498394954365e-01 2.852662279678954693e-01 3.530175617078691319e-01 4.147405943356136104e-01\n",
      "\n",
      "8.506468230593530189e-01 4.960125664633590059e-01 1.303858022692863106e-01 3.316381845113788307e-01 2.079051154069714302e-01 9.963855855329701861e-01 3.037691688840162829e-01 8.732795631908807366e-01 1.925068911053153808e-01 2.900332175112417810e-01\n",
      "\n",
      "9.226588894700950005e-01 8.770361948463714086e-01 9.358406428916041797e-01 5.670376424251127867e-01 7.494768208201441073e-02 3.530449530024790672e-01 7.789180891692054631e-01 5.474302495366284438e-01 6.177996702945717233e-01 9.925864492607107126e-01\n",
      "\n",
      "3.305112807990741031e-01 1.924319176509232676e-01 9.597809678066024919e-01 6.592512306584081827e-01 7.293020691697766900e-01 6.550970923485269770e-01 6.255374521383997299e-01 3.851559914943005758e-01 5.631279468706732461e-01 4.386616327403866089e-01\n",
      "\n",
      "2.312944885330804334e-01 1.372129345120954858e-01 9.011553323328233001e-01 1.550075069493854762e-01 8.991964943180266179e-01 8.086809434759133497e-01 5.865513918398256310e-01 2.450416138822957279e-01 9.277960687846309451e-02 7.130840934131331688e-01\n",
      "\n",
      "5.490276103016425990e-01 6.597498365223611883e-01 5.505093266890592751e-02 6.409849499514500559e-01 8.631581331232263121e-02 1.219257507369618798e-01 1.167406501814579611e-01 2.219947103494686047e-01 2.897881952164111929e-01 8.475190427465165710e-01\n",
      "\n",
      "4.544901460797985404e-01 9.024656566524358325e-01 5.765810209018589205e-01 9.451861016823562833e-01 5.117216487844394868e-01 8.060139215643548072e-01 7.567231194465356969e-01 6.331341911308231429e-01 2.416997616509547475e-01 2.175634051626328391e-01\n",
      "\n",
      "8.190327664052837742e-01 9.214974637784745237e-01 3.306970609120529758e-01 1.663336262794885556e-01 4.340533705837534839e-01 1.096573301356613683e-01 9.877213569049813069e-01 1.639406249156656337e-01 5.768341188765074845e-01 6.045781634124175463e-01\n",
      "\n",
      "9.595827819055989805e-01 8.135709979488212618e-01 3.292725987128082288e-01 4.037011667273631144e-01 4.929783964547185260e-02 6.556417021334342010e-01 1.657375689934460494e-01 9.711379958248617106e-01 3.498327690104360288e-01 3.696993585071288724e-01\n",
      "\n",
      "2.463279119380396009e-01 4.586145660768197185e-01 8.912169398157927525e-01 8.592282304781092561e-01 7.501997414632057826e-01 8.097331047527069892e-01 6.440415570191371231e-04 2.018129070301233341e-02 6.981729386655000091e-02 9.813714369750313748e-01\n",
      "\n",
      "2.970028482020840022e-01 1.283679177997355536e-01 7.403171672302272244e-01 1.740628834350544940e-01 5.984232633777005761e-01 9.730996690558624262e-01 6.469996205343884199e-01 2.110603580007920366e-01 4.303147417627731786e-01 3.722237486969329767e-01\n",
      "\n",
      "4.846917142539722834e-01 7.922469457587001385e-01 9.101726161019162431e-01 9.659204237794541958e-01 3.735482482500916968e-01 1.571515405738141968e-01 5.558389166882975463e-01 2.965103026257863705e-01 3.401487735016464065e-01 8.320196699211132030e-01\n",
      "\n",
      "9.608020706066274785e-01 8.399582578942792477e-01 4.294869726234841201e-01 7.436131112289223744e-01 9.958182314372009403e-01 4.138439073044620775e-01 2.374711018487416503e-01 9.782558047905168808e-01 7.810231584571053487e-01 3.945090927347789655e-01\n",
      "\n",
      "6.826437589544810391e-01 3.261789664432227509e-01 5.436658576803456988e-01 1.379831058967389001e-01 5.941535323773283750e-02 8.398966787829905689e-01 1.819714541946848563e-01 1.432042539230357070e-01 7.376984553638681330e-01 8.302726566305571598e-01\n",
      "\n",
      "7.274258805034672370e-02 7.742135246608220500e-01 7.718921364766359039e-01 4.754183992128679925e-02 6.467193304910708873e-01 8.575974006331440469e-01 8.847095611926780734e-01 3.645951745691785595e-01 4.654835167275032104e-01 2.734103310925464214e-01\n",
      "\n",
      "9.001463802074874954e-01 6.619897741360619703e-01 6.649028952384056224e-01 8.891117628794772410e-01 2.681000658759586930e-01 9.061528252548667339e-01 9.043854641808848349e-01 1.527262493648823272e-01 2.765900838156603037e-01 4.775682286607569882e-01\n",
      "\n",
      "9.422258439442927624e-01 7.846413912104117649e-01 5.304732562792310313e-01 3.821403719475512384e-01 4.588837757664125938e-01 1.414178169104634009e-01 3.693023981125664879e-01 7.116205129161361498e-01 4.608205390054235240e-01 8.751161807919254354e-01\n",
      "\n",
      "2.663450735248125145e-01 3.643228319490390277e-01 7.264839431205015741e-01 2.997720911615775474e-02 4.897883941220460002e-02 7.300722654551844437e-01 5.593877258580173262e-01 1.207869195672232054e-01 4.897840746794366318e-01 9.010560370325961799e-01\n",
      "\n",
      "2.091513918676692896e-01 9.885128113925173432e-01 7.538317112262602482e-01 6.942581596283751155e-01 3.780494641126269650e-01 4.380124092336804553e-01 8.139418732472489815e-01 9.222391645065269872e-01 7.538884758655818308e-01 2.871536003487547006e-01\n",
      "\n",
      "3.274780458889408052e-01 6.413934990019528604e-01 4.181435439552247946e-01 5.925260525500586350e-01 6.887633443823731882e-01 1.102261117394853773e-01 1.359767235858381218e-01 9.116813524285233283e-01 1.779268514007591451e-01 2.381687108774686035e-01\n",
      "\n",
      "8.278165602779872234e-01 3.553337632863541318e-01 8.939466510146777400e-01 2.045034586024124801e-01 2.540895785541582574e-01 2.888790967335719273e-02 1.805914962170773741e-02 7.741165128646196880e-01 7.596467879735194773e-01 9.767395026711989114e-02\n",
      "\n",
      "5.440589187350719502e-02 5.696789241751943900e-01 2.586344356411313106e-01 2.837864638671355744e-01 5.506076175059125832e-01 9.657940191359368765e-01 9.368931572932437390e-01 9.014074387960073764e-01 9.863883039902712202e-01 2.107088034838787705e-01\n",
      "\n",
      "2.113654626365173428e-01 5.566295173421167419e-01 1.283576160954641443e-01 8.250844810761834847e-01 6.859466836354517483e-01 7.392502844277304419e-01 8.652451907553707633e-01 4.605048934179311049e-01 8.360828265262032488e-01 5.641200666688961363e-02\n",
      "\n",
      "8.750621682051067385e-01 7.516537005633144863e-01 6.386865447960422548e-01 4.864155212232798009e-01 3.877601197650526466e-01 5.326837013045822022e-01 5.171702575840207983e-01 8.905007070863558694e-01 1.454145609347717860e-01 9.228506452342789546e-01\n",
      "\n",
      "6.972655218806820265e-01 7.424018807728445246e-01 7.496851295736812748e-01 4.514022149671239603e-01 1.893587171186688067e-01 9.049748727544933979e-01 3.716265146364837735e-01 1.845665959695304004e-01 4.615183624701035825e-01 6.085505438398821632e-01\n",
      "\n",
      "7.990296222209646304e-01 1.822714644210521318e-02 5.155057471879622710e-01 5.352098945908981831e-01 6.451502121388796862e-01 8.932775170682878407e-01 7.464271106522043508e-01 2.806880439836226815e-01 4.762567018831994625e-01 8.139176166778414601e-01\n",
      "\n",
      "1.017355644234729795e-01 2.220976847233583351e-01 5.675111278466279385e-01 3.151944800862813700e-01 7.274715901435704346e-01 2.466968880191082736e-01 9.660278867222069632e-01 3.591139730924871598e-01 3.462136027408468930e-01 2.561028437825096926e-02\n",
      "\n",
      "6.200176328165450945e-01 6.404886331011055978e-01 3.568052962888147439e-01 3.340538517714299882e-01 4.540854547967142496e-01 9.960324205664978781e-01 5.376959197336138585e-01 3.531680275745521236e-01 1.443296482294078587e-01 9.225014928411534587e-01\n",
      "\n",
      "5.473449672663480703e-01 1.595355537530287471e-01 5.935940353075763731e-03 9.487600787091255983e-01 3.427147558304940445e-01 8.417854783530682727e-01 4.177206719375614608e-02 5.074457954959921135e-01 9.232866167025288728e-01 1.354363142678929322e-01\n",
      "\n",
      "9.131863086549816266e-01 1.892313266138307970e-01 5.560190413577503765e-02 3.995043725638471876e-01 7.097827482076189964e-01 6.154048503748756893e-01 7.911711215003999209e-01 1.449822115530808864e-01 8.199480942301684561e-01 8.663487850812013891e-01\n",
      "\n",
      "4.548491004339841881e-01 3.551081978208013856e-01 6.985673858472931652e-01 5.969351726467414521e-01 1.161694993051163305e-01 6.038882865297025004e-01 9.787539244062084531e-01 5.189911755842346874e-01 6.943626874235294677e-01 8.747251563334561553e-01\n",
      "\n",
      "1.562098423061458741e-01 3.879117555746423029e-01 9.471847523915200018e-01 3.593558501837310626e-01 3.018958521174518461e-01 1.253228271684432293e-01 8.241135670202176522e-01 5.962973578323463864e-01 2.460005747821076838e-01 2.856252603644802157e-01\n",
      "\n",
      "3.018497047518798881e-01 7.343084063873470679e-01 4.872896842437769438e-01 5.275212565106609519e-01 1.839443997941149211e-01 4.301599412620580321e-01 2.467378735197972572e-01 1.986527600267034011e-01 7.355283470073956664e-01 6.477516436954722234e-01\n",
      "\n",
      "3.568186791721051909e-01 7.119542815784581924e-01 6.298418632023810027e-01 3.102823567204462396e-01 9.882218650299768870e-01 7.142111701610642793e-02 5.272690813283776867e-01 5.455095415763453470e-01 3.543119298689378915e-02 8.893053614942614260e-02\n",
      "\n",
      "5.691482112772197066e-01 4.252133063599431440e-01 7.857234011015565844e-01 6.687008264671567837e-01 8.982057668655530902e-01 7.343087004293306075e-01 3.458759362609161725e-01 4.440474410873338496e-01 2.068419251168708284e-01 3.461926976727098815e-01\n",
      "\n",
      "9.595784369007815950e-01 3.626769813600213554e-01 9.615863682557430625e-01 1.991353032417086943e-02 6.378058278071456755e-01 3.712880257765724945e-01 1.167475037633114443e-01 2.835088492884351163e-01 7.330848057559472553e-01 6.156406035820443101e-01\n",
      "\n",
      "9.411884193421502509e-01 2.942676375613572093e-01 4.797351562190403929e-01 2.747190649634121407e-01 4.162152970674870556e-02 5.998904540600139557e-01 8.332112883785263158e-01 3.446412363606382590e-01 6.093485459668368520e-02 4.767283642101384222e-01\n",
      "\n",
      "3.329990510163152173e-01 3.067367428546469155e-01 7.441864320587427972e-01 5.961504513868310928e-01 4.957644136102206112e-01 4.007729450616629441e-01 7.641332257527415628e-01 7.768433503461577017e-01 9.922764762188229781e-01 2.680327777608820794e-01\n",
      "\n",
      "5.330913257599159127e-01 8.511359656030292875e-02 7.345955081299988532e-01 5.518028656095587126e-01 9.963805334760600374e-04 4.805912911389880193e-01 2.911348906507412737e-01 1.698475179067607810e-01 9.916967945613724966e-01 9.460910253234430245e-01\n",
      "\n",
      "7.271087121430117595e-01 7.754691315451168743e-01 5.025869782788348061e-01 3.210934611279990802e-01 1.121962059414732815e-01 7.446644220188767260e-01 1.648774733351554556e-02 6.309095514000014893e-01 2.297350000162472483e-01 1.914962669834192610e-01\n",
      "\n",
      "2.637872928477614787e-01 2.394203173479659830e-01 3.329674171983419972e-01 5.098885243102988518e-01 5.619219767906832308e-01 9.223734644248268166e-01 3.633327741604612804e-01 4.443511692334405350e-01 5.876174379962482153e-01 9.134928836977643796e-01\n",
      "\n",
      "4.703914981960102271e-01 3.489370888034415419e-02 6.266023189986625885e-01 5.820773246560601022e-01 6.559415785673707866e-01 5.375541666779015681e-02 7.717831658700632369e-01 8.713885020133483872e-01 1.111500436004847492e-01 2.676697758786088510e-01\n",
      "\n",
      "9.529233649540098661e-01 6.925239771013115275e-01 1.157088017964370552e-01 7.613499461877180075e-01 4.087254370115799285e-01 5.080516019968414065e-01 9.120254955333201297e-01 6.698628351333173470e-01 9.715247162976738959e-01 2.815015442596258133e-01\n",
      "\n",
      "1.326541085433792233e-01 8.240188001788817385e-01 4.947511521117691213e-01 1.631277400432984415e-01 4.312611196901565691e-01 4.835088753675548245e-01 7.470988579195282364e-01 9.555714905328103193e-01 8.162860433811024441e-01 4.861483987815604646e-01\n",
      "\n",
      "8.931035342209093786e-01 8.415132533218004918e-01 2.756903830247829923e-01 7.500515479395697405e-02 8.272048294215902375e-01 2.371379878716365353e-01 7.652760666226366970e-01 2.106394796047986739e-01 2.150254402948308385e-01 8.979468975243443118e-02\n",
      "\n",
      "5.820326044477069916e-01 1.940452084496285812e-01 3.452792471795773643e-01 6.022107543691267439e-01 4.664925396948312875e-01 8.146362427731059785e-01 4.332994374055950670e-01 8.463662352001567468e-01 8.524975397804498423e-01 9.032232689687988980e-01\n",
      "\n",
      "7.491117760753940313e-01 6.606296951440684406e-01 5.116655473469285953e-01 9.535266974637549575e-01 2.042143542891018404e-01 9.379217165439008852e-01 5.388430140242395083e-01 5.428875124076428804e-01 6.139063455408177994e-01 5.982453880043347993e-02\n",
      "\n",
      "2.548632604586648087e-01 6.552251868089771225e-01 3.092422909158479838e-01 8.924407203795021726e-01 8.281577158317821041e-01 9.185958346705603850e-01 7.737060097539470993e-01 1.330822805827591715e-01 9.795162581804974788e-01 5.498428136213947548e-01\n",
      "\n",
      "9.925023781869554140e-01 9.055228431221240548e-01 6.580914139573890154e-01 8.077437619330241070e-01 7.331767991813958885e-01 6.725882378337278977e-01 1.481774724246293085e-01 5.984780891933432212e-01 4.331763857445124488e-01 8.156063426280923956e-02\n",
      "\n",
      "5.155353001431282056e-01 1.913831630495193004e-01 5.824548921285704894e-01 4.362617254313834181e-01 1.329137685892112231e-01 1.413499763057102232e-02 7.119300323035108180e-01 9.632348083053715593e-01 8.715174159243641583e-01 4.221117578341352372e-01\n",
      "\n",
      "4.132219653584986441e-01 8.781748015702833809e-01 9.152981104102264620e-02 5.689036164587057964e-01 7.750660936933551071e-03 4.981342515422674255e-01 4.612043276163153571e-01 8.070859033935430249e-01 2.901979564421123259e-01 3.436659827817972745e-01\n",
      "\n",
      "9.457406416447701192e-01 7.190472181324958356e-02 5.123793837567304221e-01 9.178882221825485077e-01 6.636411300590995266e-01 3.150252769797634578e-01 6.159498023880863871e-01 6.166548104869730151e-01 7.474822928913391618e-01 1.035016273615089188e-01\n",
      "\n",
      "1.586679377648672062e-01 9.105131019125511926e-02 2.653080644281109457e-01 1.496017156481473931e-01 7.191077975663962008e-01 8.446870704824268605e-01 3.279502089095233108e-01 2.671158696784352582e-01 1.208092344286910702e-01 8.728361558927003605e-01\n",
      "\n",
      "4.155753842608405080e-01 4.826816652597540891e-01 2.822518271204057516e-01 8.201852023570843642e-01 7.957398505134464228e-01 3.216321634548447994e-01 8.111872613774229190e-01 1.413887424068132059e-01 9.454611710994090812e-01 4.857618389675910642e-03\n",
      "\n",
      "9.221145844784499612e-01 6.469303303581903641e-01 2.254608951225859359e-01 4.828909420576565914e-02 1.042361238245950172e-01 4.234527343106164743e-02 1.870572538150677699e-01 1.280945863361813153e-01 9.116664151983018272e-01 4.294023480745162713e-01\n",
      "\n",
      "6.263942166904403752e-01 9.577626245591215337e-01 6.020105074770031317e-01 6.982336930741436243e-01 4.738564825468934982e-01 2.929515268938645001e-01 3.095872210168467697e-01 2.610297824604176364e-01 4.527436306171761515e-01 1.115232101380007057e-01\n",
      "\n",
      "5.814335021980402418e-01 2.967835078707297125e-01 2.466816523374075754e-01 7.030030528936412892e-01 8.416459910377034337e-01 2.513174384964470542e-01 6.785667234357417588e-01 3.111370683491572198e-01 7.502391437222832860e-02 3.970292776364000575e-01\n",
      "\n",
      "3.476111852666443625e-01 4.549566006307703692e-02 6.373344820642870001e-01 6.628717027218704594e-01 8.024704678408676184e-01 1.710429397789334782e-01 4.582504757546669305e-01 6.216910852865786818e-02 7.288869349803515085e-01 3.543069199305581840e-03\n",
      "\n",
      "8.199422952832751132e-01 6.317535024050471293e-01 8.030491479163561763e-01 2.952945486697711175e-02 3.291373464286052597e-01 5.758073848550030460e-01 2.419715043663682730e-01 8.815050991437344274e-01 2.421986067772061713e-01 9.500564317317204965e-01\n",
      "\n",
      "9.568885965678032290e-01 3.421210902096557538e-01 7.658043303599628704e-01 4.985327716688237043e-02 5.344374546616814659e-02 7.142882152189103939e-01 7.430265356148663125e-01 1.178402718585801479e-01 2.726740634808699770e-02 1.527917038869974764e-02\n",
      "\n",
      "1.219671569826780155e-01 4.804487205630616486e-01 8.710070319694160901e-01 1.395493376305578792e-01 7.225148866183084273e-02 1.803513471583051420e-02 1.780739859674479453e-01 1.090175786303496652e-01 2.217167483708436526e-01 8.552709222929284483e-01\n",
      "\n",
      "1.885897835341687756e-02 6.027329901596025774e-01 8.485999184609537282e-01 7.167852153851512753e-01 9.314264000153613665e-01 5.224963557635020628e-03 6.722075983635317220e-01 3.096250399317116431e-01 4.811048143031962931e-01 6.267666558598311566e-01\n",
      "\n",
      "2.055750564424805304e-01 6.750941979576779994e-01 2.891927569263712527e-01 4.167109341766480624e-01 9.175440494859908869e-01 3.126326829557191100e-01 9.736029576952381914e-01 4.488154097980802115e-01 9.117844553730651835e-01 5.550393938879617517e-01\n",
      "\n",
      "3.932173506401877017e-01 7.406170921606232138e-01 9.252432461409878517e-01 3.215986862952000536e-01 1.313379972272499252e-01 3.328476982232877468e-01 2.274437416286126945e-01 6.796221806970360602e-01 8.413342857625163429e-01 2.453000053601162023e-02\n",
      "\n",
      "2.111653628184030351e-01 8.943880543138992278e-01 2.757499402720261505e-01 8.853044737508479756e-01 4.431341084309812217e-01 6.076659576590976997e-01 5.619614396312638815e-01 5.193321689487356840e-01 1.620277544001886838e-01 1.630686845680692221e-01\n",
      "\n",
      "4.226863858058869106e-01 7.714435157886857519e-01 8.205830360716450667e-01 6.452882570811147023e-02 8.773057908150394546e-02 1.913946953557019715e-01 4.607698092384023836e-01 2.489112313184035363e-01 8.979705778609706757e-01 3.780224998139156689e-01\n",
      "\n",
      "7.913282011646048941e-01 3.910741341512954383e-01 3.620828160351531322e-01 8.508385427726004036e-01 9.962326897240735279e-01 3.684458715156313513e-01 1.626593583617941263e-01 1.847379822922249337e-01 1.730329497939109284e-02 5.426528129228578301e-01\n",
      "\n",
      "5.530887004762808923e-01 4.334719761724757925e-01 7.070243357643285487e-01 9.498776884936683818e-01 4.766038083050733176e-01 6.692677180609671872e-01 6.144267948039938698e-02 3.940223434476275433e-02 8.158515192194837340e-02 2.131850763352013400e-01\n",
      "\n",
      "9.552844770320397805e-01 4.256008627034528757e-01 2.264354542466990861e-01 3.893719961091390847e-01 4.910272137087982047e-01 5.855577584192594998e-02 3.529849174539236856e-01 2.243685750969226511e-02 8.926870787018140740e-01 8.962432985113784056e-01\n",
      "\n",
      "1.141610678071792728e-01 9.870109867122377478e-01 2.870834872983226704e-01 7.938745671354303646e-01 7.199134488655408726e-01 8.861621265430399408e-01 2.537537914199997635e-01 9.157720500653029339e-01 1.882533298044506420e-01 4.076310001959140283e-01\n",
      "\n",
      "5.929905259175249910e-03 9.989958474511499986e-01 1.626630554622473523e-01 7.798196545945265123e-01 6.410233297283112197e-01 8.197801500070266423e-01 5.999209377023884127e-02 1.132491856042585621e-01 5.914808050346724855e-01 7.423874359877286055e-01\n",
      "\n",
      "7.573828448086984411e-01 5.448578431527255628e-01 8.736969055426700992e-01 5.233554800836470733e-01 8.052360965937434001e-01 7.798988282592038690e-01 5.316812688216333571e-01 2.359150872851946135e-01 9.487104978830813717e-01 7.724091980464631302e-01\n",
      "\n",
      "8.621559736566519749e-02 2.966774639637583810e-01 6.243803337258408970e-01 2.604749968342510158e-01 9.207984966865215837e-01 4.780649918080973615e-01 2.939390851719043685e-01 9.457551851589111047e-01 4.639195061659201480e-01 3.303338081364313172e-01\n",
      "\n",
      "5.573191811385440619e-01 5.389422250250970325e-01 1.110672524959849250e-01 6.577021450222978460e-01 1.314832110702069956e-01 3.489645081481860256e-01 4.675041300359662477e-01 7.669436606830177805e-01 5.424839156567917708e-01 6.770757873621262579e-01\n",
      "\n",
      "9.877381004741109249e-01 2.373109252303574612e-01 3.213028582441561642e-01 3.273888842567836965e-01 3.099098703622578110e-01 7.810260583831561965e-01 1.016811501225298731e-01 1.031619733422646235e-01 4.539123548432413280e-01 4.980966169417577749e-02\n",
      "\n",
      "2.714576684955135599e-01 6.943966052865817584e-01 8.982709731393678787e-01 5.837191004321591326e-01 8.800968174356349483e-01 8.894473266020124225e-01 4.942761940587855340e-01 4.875388844112493736e-01 8.356730219588245356e-01 5.235855337531208908e-01\n",
      "\n",
      "3.141565740075062951e-01 7.708277597143690096e-01 8.095760637964631856e-01 3.173295170169099233e-01 7.413537629671638207e-01 8.739587290647518047e-01 8.745703805620854698e-01 3.445905687271382245e-01 9.277393365695054683e-01 7.153276968050448215e-01\n",
      "\n",
      "2.652235611261031245e-01 8.857453824052485825e-02 4.095692310705401074e-02 9.265392409135602136e-01 5.667415146327368092e-01 5.234930208322031708e-01 7.707411443163940667e-01 9.868256850515153555e-01 2.364649531704875463e-01 9.986682518146702270e-01\n",
      "\n",
      "6.911228360884794641e-01 8.808240320721505423e-01 9.342783544844337484e-01 7.856026442281111022e-01 4.370658632914345976e-01 6.791142925893536297e-01 4.663798660244106165e-01 3.204610774173635157e-01 4.598953652954806959e-02 9.599278344608096480e-01\n",
      "\n",
      "7.804755240659118076e-01 6.377109195851897727e-01 7.642222514210730289e-01 6.185724888034155322e-01 3.400980141748517482e-01 9.232531105647453495e-01 4.921239124555644162e-01 7.642448087923778832e-01 2.046053515386666577e-01 6.960380189355781511e-01\n",
      "\n"
     ]
    }
   ],
   "source": [
    "for line in f:\n",
    "    print(line)"
   ]
  },
  {
   "cell_type": "markdown",
   "id": "8b630de9-b9da-4954-9237-c5cc831c95f2",
   "metadata": {},
   "source": [
    "### Note each line is read as a string regardless of what is in it. "
   ]
  },
  {
   "cell_type": "code",
   "execution_count": 79,
   "id": "d5dff92d-e8c8-4b36-810f-a95c87a4cae0",
   "metadata": {
    "tags": []
   },
   "outputs": [
    {
     "data": {
      "text/plain": [
       "str"
      ]
     },
     "execution_count": 79,
     "metadata": {},
     "output_type": "execute_result"
    }
   ],
   "source": [
    "type(line)"
   ]
  },
  {
   "cell_type": "markdown",
   "id": "739a3523-acea-4b6d-85c4-a2c820614f89",
   "metadata": {},
   "source": [
    "### This will break up the line, but notice each element of the list is still a string. "
   ]
  },
  {
   "cell_type": "code",
   "execution_count": 80,
   "id": "f44d37b1-2a03-4fff-9c79-4322a4644946",
   "metadata": {
    "tags": []
   },
   "outputs": [],
   "source": [
    "line_split = line.split()"
   ]
  },
  {
   "cell_type": "code",
   "execution_count": 81,
   "id": "1aac3c1d-d5de-446b-ada3-c9a53e64f05b",
   "metadata": {
    "tags": []
   },
   "outputs": [
    {
     "data": {
      "text/plain": [
       "['7.804755240659118076e-01',\n",
       " '6.377109195851897727e-01',\n",
       " '7.642222514210730289e-01',\n",
       " '6.185724888034155322e-01',\n",
       " '3.400980141748517482e-01',\n",
       " '9.232531105647453495e-01',\n",
       " '4.921239124555644162e-01',\n",
       " '7.642448087923778832e-01',\n",
       " '2.046053515386666577e-01',\n",
       " '6.960380189355781511e-01']"
      ]
     },
     "execution_count": 81,
     "metadata": {},
     "output_type": "execute_result"
    }
   ],
   "source": [
    "line_split"
   ]
  },
  {
   "cell_type": "markdown",
   "id": "94568b43-1252-48de-91a4-338c54580f7e",
   "metadata": {
    "tags": []
   },
   "source": [
    "### Let's turn this into a numpy array. Note that the dtype is still string. "
   ]
  },
  {
   "cell_type": "code",
   "execution_count": 82,
   "id": "9480baaf-8770-46b5-96e3-dbaf053ef898",
   "metadata": {
    "tags": []
   },
   "outputs": [],
   "source": [
    "line_split_numpy = np.array(line_split)"
   ]
  },
  {
   "cell_type": "code",
   "execution_count": 83,
   "id": "a2f1fddd-30f1-49ee-85e3-addcd23debd0",
   "metadata": {
    "tags": []
   },
   "outputs": [
    {
     "data": {
      "text/plain": [
       "array(['7.804755240659118076e-01', '6.377109195851897727e-01',\n",
       "       '7.642222514210730289e-01', '6.185724888034155322e-01',\n",
       "       '3.400980141748517482e-01', '9.232531105647453495e-01',\n",
       "       '4.921239124555644162e-01', '7.642448087923778832e-01',\n",
       "       '2.046053515386666577e-01', '6.960380189355781511e-01'],\n",
       "      dtype='<U24')"
      ]
     },
     "execution_count": 83,
     "metadata": {},
     "output_type": "execute_result"
    }
   ],
   "source": [
    "line_split_numpy"
   ]
  },
  {
   "cell_type": "markdown",
   "id": "07b1b370-abdd-4274-96c7-ee0518433735",
   "metadata": {},
   "source": [
    "### We can now use the numpy function astype to convert these strings to numbers."
   ]
  },
  {
   "cell_type": "code",
   "execution_count": 84,
   "id": "2b6d95d2-15ab-4486-a239-460bd95b79c7",
   "metadata": {
    "tags": []
   },
   "outputs": [],
   "source": [
    "line_split_numpy_floats = line_split_numpy.astype(\"float\")"
   ]
  },
  {
   "cell_type": "code",
   "execution_count": 85,
   "id": "ee240643-b3b2-4c77-8e10-e81f4465d04d",
   "metadata": {
    "tags": []
   },
   "outputs": [
    {
     "data": {
      "text/plain": [
       "array([0.78047552, 0.63771092, 0.76422225, 0.61857249, 0.34009801,\n",
       "       0.92325311, 0.49212391, 0.76424481, 0.20460535, 0.69603802])"
      ]
     },
     "execution_count": 85,
     "metadata": {},
     "output_type": "execute_result"
    }
   ],
   "source": [
    "line_split_numpy_floats"
   ]
  },
  {
   "cell_type": "markdown",
   "id": "592eb45c-adc6-4dd9-8241-682855b2dcd1",
   "metadata": {},
   "source": [
    "### We can also open a file and write to it one line at a time. Be careful, this will overwrite the file that is there. "
   ]
  },
  {
   "cell_type": "code",
   "execution_count": 86,
   "id": "62ff5221-57ca-41c1-8758-37820d750c12",
   "metadata": {
    "tags": []
   },
   "outputs": [],
   "source": [
    "f_write = open(\"fileToWrite.txt\",\"w\") #open file for writing. \n",
    "f_write.write(\"Line 1\\n\")\n",
    "f_write.write(\"Line 2\\n\")\n",
    "f_write.write(\"Line 3\\n\")\n",
    "f_write.close()"
   ]
  },
  {
   "cell_type": "markdown",
   "id": "0a282013-c1c5-4f50-8be1-efb72a6b24e3",
   "metadata": {},
   "source": [
    "### If we use \"a\" flag instead of \"w\", the text will be appended at the bottom of the file:"
   ]
  },
  {
   "cell_type": "code",
   "execution_count": 87,
   "id": "139192e8-97a3-48cd-a37f-996fbb69968b",
   "metadata": {
    "tags": []
   },
   "outputs": [],
   "source": [
    "f_append = open(\"fileToWrite.txt\",\"a\") \n",
    "f_append.write(\"Line 4\\n\")\n",
    "f_append.write(\"Line 5\\n\")\n",
    "f_append.close()"
   ]
  },
  {
   "cell_type": "code",
   "execution_count": null,
   "id": "08020d0c-7532-4e4b-a648-a08b96236d72",
   "metadata": {},
   "outputs": [],
   "source": []
  }
 ],
 "metadata": {
  "kernelspec": {
   "display_name": "Python 3 (ipykernel)",
   "language": "python",
   "name": "python3"
  },
  "language_info": {
   "codemirror_mode": {
    "name": "ipython",
    "version": 3
   },
   "file_extension": ".py",
   "mimetype": "text/x-python",
   "name": "python",
   "nbconvert_exporter": "python",
   "pygments_lexer": "ipython3",
   "version": "3.11.4"
  }
 },
 "nbformat": 4,
 "nbformat_minor": 5
}
