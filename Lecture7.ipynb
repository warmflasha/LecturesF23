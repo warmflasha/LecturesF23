{
 "cells": [
  {
   "cell_type": "markdown",
   "id": "380c6da3-6f6f-47ce-a2a6-9e57ae2048f9",
   "metadata": {},
   "source": [
    "# BIOS470/570 Lecture 7"
   ]
  },
  {
   "cell_type": "markdown",
   "id": "fa82ebd8-2ebf-42a5-a76f-5c384b1df93c",
   "metadata": {},
   "source": [
    "## Last time we covered:\n",
    "* ### Introduction to gene expression measurements\n",
    "* ### pandas data frames, indexing with .loc and .iloc\n",
    "\n",
    "## Today we will cover:\n",
    "* ### Missing data, duplicated data, and string operations\n",
    "* ### merging multiple data sets with pandas"
   ]
  },
  {
   "cell_type": "code",
   "execution_count": null,
   "id": "4ff1aa43-dd50-49dd-b4a2-d288f7a0a9c5",
   "metadata": {},
   "outputs": [],
   "source": [
    "import numpy as np\n",
    "import matplotlib.pyplot as plt\n",
    "import pandas as pd"
   ]
  },
  {
   "cell_type": "code",
   "execution_count": null,
   "id": "271e54e1-74b0-417d-942a-53917d8691ec",
   "metadata": {
    "tags": []
   },
   "outputs": [],
   "source": [
    "human_data = pd.read_excel('data/GSE137492_SupplementaryTable1.xlsx')\n",
    "frog_data = pd.read_csv('data/xen_uic_hik_stage8_13_30min.tsv',delimiter='\\t')"
   ]
  },
  {
   "cell_type": "markdown",
   "id": "5ee3f405-3188-4a30-991b-a09b97b41595",
   "metadata": {},
   "source": [
    "## More on dealing with missing data:\n",
    "\n",
    "### The functions .isna and .notna finding the missing or not missing data:"
   ]
  },
  {
   "cell_type": "code",
   "execution_count": null,
   "id": "e7b98d20-04b4-4a71-ad39-09fe897a1fbd",
   "metadata": {},
   "outputs": [],
   "source": [
    "human_data.isna()"
   ]
  },
  {
   "cell_type": "code",
   "execution_count": null,
   "id": "84306f90-bb19-4971-91bb-32eaa27c880d",
   "metadata": {},
   "outputs": [],
   "source": [
    "human_data.notna()"
   ]
  },
  {
   "cell_type": "code",
   "execution_count": null,
   "id": "04547f4b-c81a-4506-a199-8f5bb9687cdc",
   "metadata": {},
   "outputs": [],
   "source": [
    "human_data.loc[human_data.notna().any(axis = 1)]"
   ]
  },
  {
   "cell_type": "code",
   "execution_count": null,
   "id": "942aff97-8228-43b2-9972-495871a26ba5",
   "metadata": {},
   "outputs": [],
   "source": [
    "human_data.fillna(\"No Name\")"
   ]
  },
  {
   "cell_type": "markdown",
   "id": "2b2cf8fa-9751-4fc4-a69c-5ea6950952ea",
   "metadata": {},
   "source": [
    "### Many commands take an inplace argument so that it modifies but does not return the variable:"
   ]
  },
  {
   "cell_type": "code",
   "execution_count": null,
   "id": "5d8560d6-4134-4ce3-ad7e-cb9a4f69fb96",
   "metadata": {},
   "outputs": [],
   "source": [
    "human_data.dropna(inplace=True)"
   ]
  },
  {
   "cell_type": "code",
   "execution_count": null,
   "id": "0103a7c9-e5e4-4b4c-bb9f-8353889306d8",
   "metadata": {},
   "outputs": [],
   "source": [
    "human_data"
   ]
  },
  {
   "cell_type": "code",
   "execution_count": null,
   "id": "07e7b7bb-70bf-4312-9a5b-435c763a7d86",
   "metadata": {},
   "outputs": [],
   "source": [
    "human_data.index = human_data.loc[:,\"genes\"]\n",
    "human_data.drop(\"genes\",axis=1,inplace=True)"
   ]
  },
  {
   "cell_type": "code",
   "execution_count": null,
   "id": "e570c46c-14fb-4f0d-b960-71206f4359e5",
   "metadata": {},
   "outputs": [],
   "source": [
    "human_data"
   ]
  },
  {
   "cell_type": "markdown",
   "id": "5550f12d-77a4-43b4-bec1-74efa95a625f",
   "metadata": {},
   "source": [
    "### Pandas has commands for dealing with duplicated data. Both the dataframe and its index object can be marked for duplicates"
   ]
  },
  {
   "cell_type": "code",
   "execution_count": null,
   "id": "b25ecbfa-1241-4a0f-882c-b6c66fa741a6",
   "metadata": {},
   "outputs": [],
   "source": [
    "human_data.duplicated()"
   ]
  },
  {
   "cell_type": "code",
   "execution_count": null,
   "id": "343e70ac-1cc4-496a-8445-781edf77ab9c",
   "metadata": {},
   "outputs": [],
   "source": [
    "human_data.duplicated().any()"
   ]
  },
  {
   "cell_type": "code",
   "execution_count": null,
   "id": "8053cf18-b6d6-426d-8d14-53bca4d170fc",
   "metadata": {},
   "outputs": [],
   "source": [
    "human_data.loc[human_data.index.duplicated()]"
   ]
  },
  {
   "cell_type": "markdown",
   "id": "4744cbd4-9025-4c09-b56a-b11775312f32",
   "metadata": {},
   "source": [
    "### Notice each duplicate only appears once, what if we wanted to see them all. This is showing us all instances of the duplicates except for the first. The following shows all except the last one:"
   ]
  },
  {
   "cell_type": "code",
   "execution_count": null,
   "id": "bc7c07ba-d4e7-4d44-b6bc-4442a1f8233a",
   "metadata": {},
   "outputs": [],
   "source": [
    "human_data[human_data.index.duplicated(keep = \"last\")]"
   ]
  },
  {
   "cell_type": "markdown",
   "id": "669ea081-f80c-41b4-a04f-b398ab978e39",
   "metadata": {},
   "source": [
    "### And this shows them all:"
   ]
  },
  {
   "cell_type": "code",
   "execution_count": null,
   "id": "2da1bb45-0a5e-4856-8c7e-1590dc401053",
   "metadata": {},
   "outputs": [],
   "source": [
    "human_data[human_data.index.duplicated(keep = False)]"
   ]
  },
  {
   "cell_type": "markdown",
   "id": "8083fddb-059b-4eab-8fa9-3405296dff50",
   "metadata": {},
   "source": [
    "### Are there duplicated ensembl ids?"
   ]
  },
  {
   "cell_type": "code",
   "execution_count": null,
   "id": "294b722a-7da3-4c89-b31a-5b301db7511b",
   "metadata": {},
   "outputs": [],
   "source": [
    "human_data.duplicated(subset=\"geneIds\").any()"
   ]
  },
  {
   "cell_type": "code",
   "execution_count": null,
   "id": "b35ee502-c8c9-4b4d-ae82-8ff2bb591e12",
   "metadata": {},
   "outputs": [],
   "source": [
    "human_data.index.duplicated().any()"
   ]
  },
  {
   "cell_type": "markdown",
   "id": "3ef55f0b-8613-43c6-88c7-03fb407bad34",
   "metadata": {},
   "source": [
    "### Pandas has a number of built in string methods you can use for filtering and manipulating string data inside pandas objects"
   ]
  },
  {
   "cell_type": "code",
   "execution_count": null,
   "id": "b488daae-496e-4eba-adfc-f35cef37de22",
   "metadata": {},
   "outputs": [],
   "source": [
    "human_data.index.str.contains(\"BMP\")"
   ]
  },
  {
   "cell_type": "code",
   "execution_count": null,
   "id": "7a77ba3d-3bfd-4a4a-a6f0-c91a5e667160",
   "metadata": {},
   "outputs": [],
   "source": [
    "human_data.loc[human_data.index.str.contains(\"BMP\")]"
   ]
  },
  {
   "cell_type": "code",
   "execution_count": null,
   "id": "30034bb6-6cdd-4ac0-85a7-8f20fee4ed82",
   "metadata": {},
   "outputs": [],
   "source": [
    "human_data.index.str.lower()"
   ]
  },
  {
   "cell_type": "markdown",
   "id": "2ae22897-9f9e-4844-a468-bba527102b5d",
   "metadata": {},
   "source": [
    "### The .match method is for matching with regular expressions: (this is BMP, following by the numbers from 1 to 9, followed by the end of the string."
   ]
  },
  {
   "cell_type": "code",
   "execution_count": null,
   "id": "65654b43-20d4-4e5a-8796-a2615e4473ff",
   "metadata": {},
   "outputs": [],
   "source": [
    "human_data.loc[human_data.index.str.match(\"BMP[1-9]{1,2}$\")]"
   ]
  },
  {
   "cell_type": "code",
   "execution_count": null,
   "id": "4af1e4d4-fd86-48ed-b91c-b9c58ae9229d",
   "metadata": {},
   "outputs": [],
   "source": [
    "human_data.loc[human_data.index.str.match(\"SOX[1-9]{1,2}$\")] #\"SOX\" following by a number from 1 to 9 once or twice"
   ]
  },
  {
   "cell_type": "code",
   "execution_count": null,
   "id": "7f49f06d-c3e3-4941-9571-063dc0967415",
   "metadata": {},
   "outputs": [],
   "source": [
    "human_data.loc[human_data.index.str.match(\"SOX[1-9]{2}$\")] #needs two digits"
   ]
  },
  {
   "cell_type": "markdown",
   "id": "4b2537e8-debd-4985-84cd-ddd0f9009781",
   "metadata": {},
   "source": [
    "### Let's look at our frog data again and then manipulate the index so that it is similar to the human one:"
   ]
  },
  {
   "cell_type": "code",
   "execution_count": null,
   "id": "67d459fd-731b-45fe-b350-5d37f2cfb983",
   "metadata": {},
   "outputs": [],
   "source": [
    "frog_data"
   ]
  },
  {
   "cell_type": "code",
   "execution_count": null,
   "id": "4107e99b-e4b1-4273-b51e-8e6c10d21fef",
   "metadata": {},
   "outputs": [],
   "source": [
    "frog_genes = frog_data.loc[:,\"Gene\"]"
   ]
  },
  {
   "cell_type": "code",
   "execution_count": null,
   "id": "be89baf0-2c64-4387-98a3-eddbae04f161",
   "metadata": {},
   "outputs": [],
   "source": [
    "frog_genes"
   ]
  },
  {
   "cell_type": "code",
   "execution_count": null,
   "id": "683ed278-0f6c-4a16-bcab-e455af8e8acd",
   "metadata": {},
   "outputs": [],
   "source": [
    "frog_gene_names = np.zeros(len(frog_genes)).astype(str)\n",
    "for ii in range(len(frog_genes)):\n",
    "    if frog_genes[ii].count('|') > 0:\n",
    "        gn = frog_genes[ii].split('|')\n",
    "        frog_gene_names[ii] = gn[1]\n",
    "    else:\n",
    "        frog_gene_names[ii] = np.nan\n",
    "        "
   ]
  },
  {
   "cell_type": "code",
   "execution_count": null,
   "id": "22ee7fcf-c27e-4b8c-9cd4-319609479555",
   "metadata": {},
   "outputs": [],
   "source": [
    "frog_data.index = frog_gene_names\n",
    "frog_data"
   ]
  },
  {
   "cell_type": "code",
   "execution_count": null,
   "id": "8c11c287-97e1-400a-af29-f377a8cbf9ba",
   "metadata": {},
   "outputs": [],
   "source": [
    "frog_data = frog_data.loc[~(frog_data.index == \"nan\")]\n",
    "frog_data"
   ]
  },
  {
   "cell_type": "code",
   "execution_count": null,
   "id": "f7a3b134-822e-4344-a45b-2ed6e58a2ffc",
   "metadata": {},
   "outputs": [],
   "source": [
    "frog_data.index = frog_data.index.str.upper()"
   ]
  },
  {
   "cell_type": "markdown",
   "id": "e2480002-375e-44d3-aeca-fbe49e7e1dc3",
   "metadata": {},
   "source": [
    "### Now we have frog data and human data with compatible indexes "
   ]
  },
  {
   "cell_type": "markdown",
   "id": "e20409a4-ec37-4a61-89c2-08fb568ac8c8",
   "metadata": {},
   "source": [
    "### Now let's see some methods for combining the human and frog data"
   ]
  },
  {
   "cell_type": "markdown",
   "id": "d7fe6948-4f78-42f8-b288-11216ae4196f",
   "metadata": {},
   "source": [
    "### Merge is a very general command which can combine two datasets. #use the indexes to join them, you could also specify columns to join by with left_on and right_on arguments"
   ]
  },
  {
   "cell_type": "code",
   "execution_count": null,
   "id": "9c5abec0-1b13-4896-81ca-7b3fe555d418",
   "metadata": {},
   "outputs": [],
   "source": [
    "pd.merge(human_data,frog_data,left_index=True, right_index=True) "
   ]
  },
  {
   "cell_type": "markdown",
   "id": "90f73a2c-5e3f-4f4e-96f5-47cabf30e9c4",
   "metadata": {},
   "source": [
    "### Join uses the left index to decide which rows to include. So this has all human data and the corresponding frog_data"
   ]
  },
  {
   "cell_type": "code",
   "execution_count": null,
   "id": "256fda61-8e59-477f-ba48-a276e7ea85ac",
   "metadata": {},
   "outputs": [],
   "source": [
    "human_data.join(frog_data) "
   ]
  },
  {
   "cell_type": "markdown",
   "id": "b148e61d-5423-47ba-9ced-92e479758bba",
   "metadata": {},
   "source": [
    "### This has all frog data with corresponding human data:"
   ]
  },
  {
   "cell_type": "code",
   "execution_count": null,
   "id": "766d40bb-089a-4860-a52d-8788a2096d38",
   "metadata": {},
   "outputs": [],
   "source": [
    "frog_data.join(human_data)"
   ]
  },
  {
   "cell_type": "markdown",
   "id": "65d42472-e48e-4805-8160-e700858611fe",
   "metadata": {},
   "source": [
    "### In either case, we can dropna to get the intersection:"
   ]
  },
  {
   "cell_type": "code",
   "execution_count": null,
   "id": "b3397604-8e61-4a1e-9b26-e37be72f151e",
   "metadata": {},
   "outputs": [],
   "source": [
    "merged = frog_data.join(human_data).dropna()\n",
    "merged "
   ]
  },
  {
   "cell_type": "code",
   "execution_count": null,
   "id": "21f751fc-4c25-407b-ba1f-b8322b1e016c",
   "metadata": {},
   "outputs": [],
   "source": [
    "all_data = merged.drop([\"Gene\",\"geneIds\"],axis = 1)"
   ]
  },
  {
   "cell_type": "markdown",
   "id": "f16be4d7-49a9-4705-b018-a4a0c751d835",
   "metadata": {},
   "source": [
    "### The pcolor function is useful for making colormaps of this data. It is helpful to sort or otherwise organize the data to see the trends. Taking logarithms also helps you see the full range of data. Notice the +1 to deal with numerical issues (i.e. if the data is x, we look at log2(x+1)"
   ]
  },
  {
   "cell_type": "code",
   "execution_count": null,
   "id": "aa0831ee-3113-4b34-8717-0bc7184fc67c",
   "metadata": {},
   "outputs": [],
   "source": [
    "fig = plt.figure(figsize = (12,6))\n",
    "ax = fig.add_subplot(1,2,1)\n",
    "ax.pcolor(np.log2(all_data.to_numpy()+1))\n",
    "ax.set_title(\"unsorted\")\n",
    "ax = fig.add_subplot(1,2,2)\n",
    "ax.pcolor(np.log2(all_data.sort_values(\"UIC_1\").to_numpy()+1))\n",
    "ax.set_title(\"sorted\")"
   ]
  }
 ],
 "metadata": {
  "kernelspec": {
   "display_name": "Python 3 (ipykernel)",
   "language": "python",
   "name": "python3"
  },
  "language_info": {
   "codemirror_mode": {
    "name": "ipython",
    "version": 3
   },
   "file_extension": ".py",
   "mimetype": "text/x-python",
   "name": "python",
   "nbconvert_exporter": "python",
   "pygments_lexer": "ipython3",
   "version": "3.9.12"
  }
 },
 "nbformat": 4,
 "nbformat_minor": 5
}
