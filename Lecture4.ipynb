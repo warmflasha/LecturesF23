{
 "cells": [
  {
   "cell_type": "markdown",
   "id": "b183ae7f-a0fe-4cbe-8343-645733e4b702",
   "metadata": {
    "tags": []
   },
   "source": [
    "## Last time we covered:\n",
    "* ### Numpy arrays and numpy indexing\n",
    "* ### Starting plots with matplotlib"
   ]
  },
  {
   "cell_type": "markdown",
   "id": "ca8bdb5e-1edf-477f-985e-ca0bd450e0db",
   "metadata": {},
   "source": [
    "## Today we will cover:\n",
    "* ### Numpy indexing review and vectorizing code\n",
    "* ### More plotting function\n",
    "* ### data input and output"
   ]
  },
  {
   "cell_type": "markdown",
   "id": "6f5842f1-ab49-411a-8e23-36095e9d4106",
   "metadata": {
    "tags": []
   },
   "source": [
    "## Numpy indexing (review)"
   ]
  },
  {
   "cell_type": "code",
   "execution_count": 2,
   "id": "94e9808a-6858-4941-8537-b4d8feea4464",
   "metadata": {
    "tags": []
   },
   "outputs": [],
   "source": [
    "import numpy as np"
   ]
  },
  {
   "cell_type": "markdown",
   "id": "a4fb02fc-5a19-4377-9d20-d4452e243334",
   "metadata": {
    "tags": []
   },
   "source": [
    "### Create some data"
   ]
  },
  {
   "cell_type": "code",
   "execution_count": 33,
   "id": "c9c70926-620e-410f-9a89-4341e5b1448e",
   "metadata": {
    "tags": []
   },
   "outputs": [],
   "source": [
    "data = np.random.rand(50)\n",
    "groups = np.array(['A']*10+['B']*10+['C']*10+['D']*10+['E']*10) #note the brackets around each letter e.g. ['A']."
   ]
  },
  {
   "cell_type": "code",
   "execution_count": 34,
   "id": "1a22506f-2c00-43d8-9c26-d1b035b2c59b",
   "metadata": {
    "tags": []
   },
   "outputs": [],
   "source": [
    "#groups = np.array('A'*10+'B'*10+'C'*10+'D'*10+'E'*10) #this doesn't work"
   ]
  },
  {
   "cell_type": "code",
   "execution_count": 35,
   "id": "62329189-d019-4179-a9f9-eb3c60a322e9",
   "metadata": {
    "tags": []
   },
   "outputs": [
    {
     "data": {
      "text/plain": [
       "array([0.15695562, 0.88660066, 0.30550159, 0.23163472, 0.60457086,\n",
       "       0.47826975, 0.39568274, 0.59126342, 0.78156324, 0.1140425 ,\n",
       "       0.90895599, 0.63810058, 0.47233332, 0.04182674, 0.09306013,\n",
       "       0.77877909, 0.00132412, 0.50853416, 0.19511657, 0.65795809,\n",
       "       0.74880703, 0.02260119, 0.50484315, 0.25027597, 0.20094055,\n",
       "       0.98549429, 0.60550168, 0.69074587, 0.87004494, 0.57317465,\n",
       "       0.8308576 , 0.27524813, 0.24542447, 0.06365842, 0.45708618,\n",
       "       0.90617434, 0.60351391, 0.6545142 , 0.75154986, 0.72336429,\n",
       "       0.77610739, 0.36161592, 0.86930323, 0.74868178, 0.72920669,\n",
       "       0.3789684 , 0.28795788, 0.94572424, 0.66610457, 0.23217328])"
      ]
     },
     "execution_count": 35,
     "metadata": {},
     "output_type": "execute_result"
    }
   ],
   "source": [
    "data"
   ]
  },
  {
   "cell_type": "code",
   "execution_count": 36,
   "id": "e5c2ecdf-15cb-4787-8b2e-0a3ed5ebbd64",
   "metadata": {
    "tags": []
   },
   "outputs": [
    {
     "data": {
      "text/plain": [
       "array(['A', 'A', 'A', 'A', 'A', 'A', 'A', 'A', 'A', 'A', 'B', 'B', 'B',\n",
       "       'B', 'B', 'B', 'B', 'B', 'B', 'B', 'C', 'C', 'C', 'C', 'C', 'C',\n",
       "       'C', 'C', 'C', 'C', 'D', 'D', 'D', 'D', 'D', 'D', 'D', 'D', 'D',\n",
       "       'D', 'E', 'E', 'E', 'E', 'E', 'E', 'E', 'E', 'E', 'E'], dtype='<U1')"
      ]
     },
     "execution_count": 36,
     "metadata": {},
     "output_type": "execute_result"
    }
   ],
   "source": [
    "groups"
   ]
  },
  {
   "cell_type": "code",
   "execution_count": 37,
   "id": "c3e3337d-16bb-4146-bc69-2ab55354e6b2",
   "metadata": {
    "tags": []
   },
   "outputs": [],
   "source": [
    "uniqueGroups = np.unique(groups) #make an array with each group only once\n",
    "group_index = np.arange(len(uniqueGroups)) #index to use when looping. \n",
    "storeMeans = np.zeros(len(uniqueGroups)) #array for storing the means\n",
    "for n in group_index:\n",
    "    storeMeans[n] = data[groups==uniqueGroups[n]].mean()"
   ]
  },
  {
   "cell_type": "code",
   "execution_count": 39,
   "id": "7d1e8f99-ff20-406d-bc65-815af37e9369",
   "metadata": {
    "tags": []
   },
   "outputs": [],
   "source": [
    "uniqueGroups = np.unique(groups)\n",
    "storeMeans = np.zeros(len(uniqueGroups))\n",
    "for n,g in enumerate(uniqueGroups):\n",
    "    storeMeans[n] = data[groups==g].mean()\n",
    "    "
   ]
  },
  {
   "cell_type": "code",
   "execution_count": 48,
   "id": "56960ba5-c350-43d1-b1a5-b83b711ab53f",
   "metadata": {
    "tags": []
   },
   "outputs": [
    {
     "data": {
      "text/plain": [
       "array(['goo', 'foo', 'moo', 'hoo'], dtype='<U3')"
      ]
     },
     "execution_count": 48,
     "metadata": {},
     "output_type": "execute_result"
    }
   ],
   "source": [
    "li1 = np.array([\"goo\",\"foo\",\"moo\",\"hoo\"])\n",
    "li1[:]"
   ]
  },
  {
   "cell_type": "code",
   "execution_count": null,
   "id": "dbde58f0-738b-4475-b64e-b5998cdb83d0",
   "metadata": {},
   "outputs": [],
   "source": []
  }
 ],
 "metadata": {
  "kernelspec": {
   "display_name": "Python 3 (ipykernel)",
   "language": "python",
   "name": "python3"
  },
  "language_info": {
   "codemirror_mode": {
    "name": "ipython",
    "version": 3
   },
   "file_extension": ".py",
   "mimetype": "text/x-python",
   "name": "python",
   "nbconvert_exporter": "python",
   "pygments_lexer": "ipython3",
   "version": "3.11.4"
  }
 },
 "nbformat": 4,
 "nbformat_minor": 5
}
