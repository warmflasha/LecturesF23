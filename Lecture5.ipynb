{
 "cells": [
  {
   "cell_type": "markdown",
   "id": "258fe6ee-8c09-456b-953f-e57cce1e16e6",
   "metadata": {
    "slideshow": {
     "slide_type": "fragment"
    },
    "tags": []
   },
   "source": [
    "## Last time we covered\n",
    "* ### Numpy indexing and vectorizing code\n",
    "* ### Matplotlib: figure and axis objects, scatter plots\n",
    "* ### Data input and output - with built in python functions, and with numpy"
   ]
  },
  {
   "cell_type": "markdown",
   "id": "61d2816f-6159-48b3-a1af-2b9e4d1745df",
   "metadata": {},
   "source": [
    "## Today we will cover:\n",
    "* ### HW1 ORF problem review\n",
    "* ### Writing functions in python\n",
    "* ### Getting started with pandas"
   ]
  },
  {
   "cell_type": "markdown",
   "id": "a2eb5f6e-7bf7-42b2-9e05-25cc070150b3",
   "metadata": {},
   "source": [
    "## HW1 ORF problem review"
   ]
  },
  {
   "cell_type": "code",
   "execution_count": 2,
   "id": "2f4f77f4-4f37-4b59-bc46-f615b08b8ac8",
   "metadata": {
    "tags": []
   },
   "outputs": [],
   "source": [
    "import numpy as np"
   ]
  },
  {
   "cell_type": "markdown",
   "id": "c5f805fa-2daf-4493-a8a5-19cd7e38e27c",
   "metadata": {},
   "source": [
    "### First generate the random sequence. The np.random.choice function is useful here:"
   ]
  },
  {
   "cell_type": "code",
   "execution_count": 3,
   "id": "8315a6bd-a8c6-4a20-994b-d89a906be304",
   "metadata": {
    "tags": []
   },
   "outputs": [
    {
     "name": "stdout",
     "output_type": "stream",
     "text": [
      "GGTAATACGTAACCAATCTCTGCTCTTTCGGAATTCCATAAGGACCGAACATGTCCAATCAGCACAGGCCAGATATCCAACAATAGTTTGAAAATCATCGTATTGGTCAATGTCATCCGGTGGGCCAAATCGCTGGGGTTCTCTAACCCTAAGAGGGACTGTTGTAACCTACTGACTAGTTTTTGTCACTTAGCTTGGCATGCCCACTAAGACTGACAAGTCGACCAATCCTGGCATGAACAGACGGGTAACCTCCCATTCCAAGTAGGGATGGACACTTCTCTCAATAGAGGAATATTACCATTCTGCTGAGCGGCCTCAAAGGATAGATTACCTAGTGCCTAAAGTGTGGGTGAGAGTGGGTCCGTCGTTTAGCGCGTCCTCAAGACCTCGCATGTCGACTTGATGTGGTAAGGCGGTGTACTGTTTCACGTCTAGCCAATCCTCCGTATATGTACTTAGAAAGAACAAGTGCATTACCGTGGTAGGTGAAGGCCGCC\n"
     ]
    }
   ],
   "source": [
    "N = 500; # define sequence length\n",
    "bases = np.array(['A','T','G','C'])\n",
    "rand_seq = np.random.choice(bases,N) #this makes a numpy array with 500 random bases\n",
    "print(''.join(rand_seq)) #print it nicely. "
   ]
  },
  {
   "cell_type": "markdown",
   "id": "002cbe68-66cc-4015-9309-182e3c803c8a",
   "metadata": {
    "tags": []
   },
   "source": [
    "### Lets first make a numpy array with all the codons. Here we will do this in a straightforward way with loops. "
   ]
  },
  {
   "cell_type": "code",
   "execution_count": 4,
   "id": "034781ff-36f5-4a59-8145-16b1c04a1bcd",
   "metadata": {
    "tags": []
   },
   "outputs": [],
   "source": [
    "allCodons = [] #empty list to store the codons\n",
    "\n",
    "#step through the sequence storing one codon at a time as a string. \n",
    "for ii in range(len(rand_seq)-2):\n",
    "    allCodons.append(''.join(rand_seq[ii:(ii+3)]))\n",
    "    \n",
    "allCodons = np.array(allCodons) #convert to numpy array"
   ]
  },
  {
   "cell_type": "code",
   "execution_count": 6,
   "id": "33e95e1b-a4cd-4a76-9988-008a9ec51e45",
   "metadata": {
    "tags": []
   },
   "outputs": [
    {
     "data": {
      "text/plain": [
       "array([False, False, False, False, False, False, False, False, False,\n",
       "       False, False, False, False, False, False, False, False, False,\n",
       "       False, False, False, False, False, False, False, False, False,\n",
       "       False, False, False, False, False, False, False, False, False,\n",
       "       False, False, False, False, False, False, False, False, False,\n",
       "       False, False, False, False, False,  True, False, False, False,\n",
       "       False, False, False, False, False, False, False, False, False,\n",
       "       False, False, False, False, False, False, False, False, False,\n",
       "       False, False, False, False, False, False, False, False, False,\n",
       "       False, False, False, False, False, False, False, False, False,\n",
       "       False, False, False, False, False, False, False, False, False,\n",
       "       False, False, False, False, False, False, False, False, False,\n",
       "       False,  True, False, False, False, False, False, False, False,\n",
       "       False, False, False, False, False, False, False, False, False,\n",
       "       False, False, False, False, False, False, False, False, False,\n",
       "       False, False, False, False, False, False, False, False, False,\n",
       "       False, False, False, False, False, False, False, False, False,\n",
       "       False, False, False, False, False, False, False, False, False,\n",
       "       False, False, False, False, False, False, False, False, False,\n",
       "       False, False, False, False, False, False, False, False, False,\n",
       "       False, False, False, False, False, False, False, False, False,\n",
       "       False, False, False, False, False, False, False, False, False,\n",
       "       False,  True, False, False, False, False, False, False, False,\n",
       "       False, False, False, False, False, False, False, False, False,\n",
       "       False, False, False, False, False, False, False, False, False,\n",
       "       False, False, False, False, False, False, False, False, False,\n",
       "       False,  True, False, False, False, False, False, False, False,\n",
       "       False, False, False, False, False, False, False, False, False,\n",
       "       False, False, False, False, False, False, False, False, False,\n",
       "       False, False, False, False, False, False, False, False, False,\n",
       "        True, False, False, False, False, False, False, False, False,\n",
       "       False, False, False, False, False, False, False, False, False,\n",
       "       False, False, False, False, False, False, False, False, False,\n",
       "       False, False, False, False, False, False, False, False, False,\n",
       "       False, False, False, False, False, False, False, False, False,\n",
       "       False, False, False, False, False, False, False, False, False,\n",
       "       False, False, False, False, False, False, False, False, False,\n",
       "       False, False, False, False, False, False, False, False, False,\n",
       "       False, False, False, False, False, False, False, False, False,\n",
       "       False, False, False, False, False, False, False, False, False,\n",
       "       False, False, False, False, False, False, False, False, False,\n",
       "       False, False, False, False, False, False, False, False, False,\n",
       "       False, False, False, False, False, False, False, False, False,\n",
       "       False, False, False, False, False, False, False,  True, False,\n",
       "       False, False, False, False, False, False, False, False, False,\n",
       "        True, False, False, False, False, False, False, False, False,\n",
       "       False, False, False, False, False, False, False, False, False,\n",
       "       False, False, False, False, False, False, False, False, False,\n",
       "       False, False, False, False, False, False, False, False, False,\n",
       "       False, False, False, False, False, False, False, False, False,\n",
       "       False, False,  True, False, False, False, False, False, False,\n",
       "       False, False, False, False, False, False, False, False, False,\n",
       "       False, False, False, False, False, False, False, False, False,\n",
       "       False, False, False, False, False, False, False, False, False,\n",
       "       False, False, False, False, False, False, False, False, False,\n",
       "       False, False, False])"
      ]
     },
     "execution_count": 6,
     "metadata": {},
     "output_type": "execute_result"
    }
   ],
   "source": [
    "allCodons == 'ATG'"
   ]
  },
  {
   "cell_type": "markdown",
   "id": "aabc3d2c-6280-4566-ba20-a762fdc9c4f4",
   "metadata": {},
   "source": [
    "### Now lets find the stop and start codons:"
   ]
  },
  {
   "cell_type": "code",
   "execution_count": 7,
   "id": "c58a6749-40b7-456b-bfaa-aea75717290a",
   "metadata": {
    "tags": []
   },
   "outputs": [],
   "source": [
    "starts = []\n",
    "stops = []\n",
    "for n, cod in enumerate(allCodons):\n",
    "    if cod == 'ATG':\n",
    "        starts.append(n)\n",
    "    elif cod == 'TAA' or cod == 'TGA' or cod == 'TAG':\n",
    "        stops.append(n)\n",
    "starts = np.array(starts)\n",
    "stops = np.array(stops)"
   ]
  },
  {
   "cell_type": "code",
   "execution_count": 9,
   "id": "f9668420-1452-4dd6-9602-cb00b4b4fc3d",
   "metadata": {
    "tags": []
   },
   "outputs": [
    {
     "data": {
      "text/plain": [
       "array([  2,   9,  38,  83,  88, 143, 149, 164, 172, 176, 190, 207, 213,\n",
       "       236, 248, 265, 287, 309, 326, 335, 342, 353, 372, 403, 411, 435,\n",
       "       459, 485, 489])"
      ]
     },
     "execution_count": 9,
     "metadata": {},
     "output_type": "execute_result"
    }
   ],
   "source": [
    "stops"
   ]
  },
  {
   "cell_type": "markdown",
   "id": "7fee52a4-7bf3-4661-b9ca-6a2c6ed58382",
   "metadata": {},
   "source": [
    "### For each start codon, let's find the first stop codon that is a multiple of 3 base pairs away"
   ]
  },
  {
   "cell_type": "code",
   "execution_count": 10,
   "id": "4d262851-b95b-4adb-acf6-618ab97df184",
   "metadata": {
    "tags": []
   },
   "outputs": [],
   "source": [
    "firstStop = np.zeros(len(starts))\n",
    "for n,sta in enumerate(starts):\n",
    "    for sto in stops:\n",
    "        if sto > sta and (sto-sta)%3 == 0: #stop must be after start and a multiple of 3 away\n",
    "            firstStop[n] = sto\n",
    "            break    #once we find the first stop codon meeting this criteria, we can move on the next one"
   ]
  },
  {
   "cell_type": "code",
   "execution_count": 12,
   "id": "26316561-d7c2-49ee-a229-a7a42adb7233",
   "metadata": {
    "tags": []
   },
   "outputs": [
    {
     "data": {
      "text/plain": [
       "array([ 50, 109, 199, 235, 270, 394, 405, 452])"
      ]
     },
     "execution_count": 12,
     "metadata": {},
     "output_type": "execute_result"
    }
   ],
   "source": [
    "starts"
   ]
  },
  {
   "cell_type": "code",
   "execution_count": 11,
   "id": "72f4dc3c-735e-4c1a-a34e-6eb31b73a172",
   "metadata": {
    "tags": []
   },
   "outputs": [
    {
     "data": {
      "text/plain": [
       "array([ 83., 172., 265., 265., 309., 403., 411., 485.])"
      ]
     },
     "execution_count": 11,
     "metadata": {},
     "output_type": "execute_result"
    }
   ],
   "source": [
    "firstStop"
   ]
  },
  {
   "cell_type": "markdown",
   "id": "6d8b9fb0-2877-4042-83b4-e9fd91c8fbcb",
   "metadata": {},
   "source": [
    "### This has defined all the open reading frames. Now let's find the longest one and print the details"
   ]
  },
  {
   "cell_type": "code",
   "execution_count": 13,
   "id": "b1096f55-b331-4634-92d5-8f52227c6dee",
   "metadata": {
    "tags": []
   },
   "outputs": [
    {
     "name": "stdout",
     "output_type": "stream",
     "text": [
      "The longest open reading frame is of length 66. Starts at 199. Stops at 265\n"
     ]
    }
   ],
   "source": [
    "ORFLengths = firstStop - starts\n",
    "indMax = np.argmax(ORFLengths)\n",
    "longestLength = ORFLengths[indMax]\n",
    "\n",
    "if longestLength > 0:\n",
    "    print('The longest open reading frame is of length ' + str(int(longestLength))\\\n",
    "          + '. Starts at ' + str(int(starts[indMax])) \\\n",
    "          + '. Stops at ' + str(int(firstStop[indMax])))\n",
    "else:\n",
    "    print('No ORF found')"
   ]
  },
  {
   "cell_type": "markdown",
   "id": "34018ce3-e0f9-4df6-a375-087f03e9ed31",
   "metadata": {},
   "source": [
    "## Write functions in python:\n",
    "\n",
    "* ### You have used many functions written in python, for example range, len, np.sqrt etc. \n",
    "* ### Writing your own functions allows you to avoid writing the same block of code many times\n",
    "* ### Each function gets its own workspace avoiding variable name conflicts\n",
    "\n",
    "### Let's start with a simple example:\n"
   ]
  },
  {
   "cell_type": "code",
   "execution_count": 14,
   "id": "97145e99-6dc1-493c-9922-9b974e0d7a71",
   "metadata": {
    "tags": []
   },
   "outputs": [],
   "source": [
    "def divideTwoNumbers(num1,num2):\n",
    "    s = num1/num2\n",
    "    return s"
   ]
  },
  {
   "cell_type": "code",
   "execution_count": 15,
   "id": "3fca1486-3b89-4195-836b-80938f3b474c",
   "metadata": {
    "tags": []
   },
   "outputs": [
    {
     "data": {
      "text/plain": [
       "0.75"
      ]
     },
     "execution_count": 15,
     "metadata": {},
     "output_type": "execute_result"
    }
   ],
   "source": [
    "divideTwoNumbers(3,4)"
   ]
  },
  {
   "cell_type": "markdown",
   "id": "732c8705-eb75-4380-a3bf-8f3b22964784",
   "metadata": {},
   "source": [
    "### num1 and num2 are called arguments. These are positional arguments because the function infers their value from their position in a list. It matters what order we put them:"
   ]
  },
  {
   "cell_type": "code",
   "execution_count": 16,
   "id": "939e9b22-708d-4bce-8408-476948a9d4d3",
   "metadata": {
    "tags": []
   },
   "outputs": [
    {
     "data": {
      "text/plain": [
       "1.3333333333333333"
      ]
     },
     "execution_count": 16,
     "metadata": {},
     "output_type": "execute_result"
    }
   ],
   "source": [
    "divideTwoNumbers(4,3)"
   ]
  },
  {
   "cell_type": "markdown",
   "id": "2804b9ea-7994-41a2-a0b2-714aa0bab9d6",
   "metadata": {},
   "source": [
    "### but we could also set them explicitly using their names in any order"
   ]
  },
  {
   "cell_type": "code",
   "execution_count": 17,
   "id": "120adbb5-e676-44d5-8efc-279fb15d4093",
   "metadata": {
    "tags": []
   },
   "outputs": [
    {
     "data": {
      "text/plain": [
       "0.75"
      ]
     },
     "execution_count": 17,
     "metadata": {},
     "output_type": "execute_result"
    }
   ],
   "source": [
    "divideTwoNumbers(num2 = 4, num1 = 3)"
   ]
  },
  {
   "cell_type": "markdown",
   "id": "ffd12e3e-d82e-438f-bf61-9941c724b4d4",
   "metadata": {},
   "source": [
    "### Note that the variables num1 and num2 only have meaning inside the function. They are set while the function is running but are not included in the workspace once the function is finished running:"
   ]
  },
  {
   "cell_type": "code",
   "execution_count": 18,
   "id": "9a1cda8c-ce56-40df-a514-1788193f6ba6",
   "metadata": {
    "tags": []
   },
   "outputs": [
    {
     "ename": "NameError",
     "evalue": "name 'num2' is not defined",
     "output_type": "error",
     "traceback": [
      "\u001b[0;31m---------------------------------------------------------------------------\u001b[0m",
      "\u001b[0;31mNameError\u001b[0m                                 Traceback (most recent call last)",
      "Cell \u001b[0;32mIn[18], line 1\u001b[0m\n\u001b[0;32m----> 1\u001b[0m num2\n",
      "\u001b[0;31mNameError\u001b[0m: name 'num2' is not defined"
     ]
    }
   ],
   "source": [
    "num2"
   ]
  },
  {
   "cell_type": "markdown",
   "id": "e79055c3-afbe-4554-8f04-883815a6e395",
   "metadata": {},
   "source": [
    "### Variables that are defined outside the function and not passed to the function may not be accessible from inside the function"
   ]
  },
  {
   "cell_type": "code",
   "execution_count": 20,
   "id": "282474e0-990e-41c6-83cd-98b563049b38",
   "metadata": {
    "tags": []
   },
   "outputs": [],
   "source": [
    "def divideNumbers(num1,num2):\n",
    "    num3 = num3 + 1\n",
    "    s = num1/(num2*num3)\n",
    "    return s"
   ]
  },
  {
   "cell_type": "code",
   "execution_count": 21,
   "id": "5ef049b2-93aa-47be-8e34-b67080c8909b",
   "metadata": {
    "tags": []
   },
   "outputs": [
    {
     "ename": "UnboundLocalError",
     "evalue": "cannot access local variable 'num3' where it is not associated with a value",
     "output_type": "error",
     "traceback": [
      "\u001b[0;31m---------------------------------------------------------------------------\u001b[0m",
      "\u001b[0;31mUnboundLocalError\u001b[0m                         Traceback (most recent call last)",
      "Cell \u001b[0;32mIn[21], line 4\u001b[0m\n\u001b[1;32m      2\u001b[0m num2 \u001b[38;5;241m=\u001b[39m \u001b[38;5;241m4\u001b[39m\n\u001b[1;32m      3\u001b[0m num3 \u001b[38;5;241m=\u001b[39m \u001b[38;5;241m5\u001b[39m\n\u001b[0;32m----> 4\u001b[0m divideNumbers(num1,num2)\n",
      "Cell \u001b[0;32mIn[20], line 2\u001b[0m, in \u001b[0;36mdivideNumbers\u001b[0;34m(num1, num2)\u001b[0m\n\u001b[1;32m      1\u001b[0m \u001b[38;5;28;01mdef\u001b[39;00m \u001b[38;5;21mdivideNumbers\u001b[39m(num1,num2):\n\u001b[0;32m----> 2\u001b[0m     num3 \u001b[38;5;241m=\u001b[39m num3 \u001b[38;5;241m+\u001b[39m \u001b[38;5;241m1\u001b[39m\n\u001b[1;32m      3\u001b[0m     s \u001b[38;5;241m=\u001b[39m num1\u001b[38;5;241m/\u001b[39m(num2\u001b[38;5;241m*\u001b[39mnum3)\n\u001b[1;32m      4\u001b[0m     \u001b[38;5;28;01mreturn\u001b[39;00m s\n",
      "\u001b[0;31mUnboundLocalError\u001b[0m: cannot access local variable 'num3' where it is not associated with a value"
     ]
    }
   ],
   "source": [
    "num1 = 2\n",
    "num2 = 4\n",
    "num3 = 5\n",
    "divideNumbers(num1,num2)"
   ]
  },
  {
   "cell_type": "markdown",
   "id": "c50e9060-ded0-44c3-b52a-7afab4ea37fe",
   "metadata": {},
   "source": [
    "### One way around this is to define num3 as global but this is not recommended in general:"
   ]
  },
  {
   "cell_type": "code",
   "execution_count": 22,
   "id": "44499e56-d2d6-4c14-99e9-833a2192a387",
   "metadata": {
    "tags": []
   },
   "outputs": [],
   "source": [
    "def divideNumbers_wGlobal(num1,num2):\n",
    "    global num3 \n",
    "    num3 = num3 + 1\n",
    "    s = num1/(num2*num3)\n",
    "    return s"
   ]
  },
  {
   "cell_type": "code",
   "execution_count": 24,
   "id": "f839e8b3-26a5-4c33-bb2f-2337ea541980",
   "metadata": {
    "tags": []
   },
   "outputs": [
    {
     "data": {
      "text/plain": [
       "0.10714285714285714"
      ]
     },
     "execution_count": 24,
     "metadata": {},
     "output_type": "execute_result"
    }
   ],
   "source": [
    "divideNumbers_wGlobal(3,4)"
   ]
  },
  {
   "cell_type": "markdown",
   "id": "b978dd02-618d-4f46-8dea-8f73d9c658e3",
   "metadata": {},
   "source": [
    "### A quirk of python is that if you use a variable without assigning it or passing as an argument, it assumes it to be global (this didn't work in the divide numbers function because the statement num3 = ... creates the assumption that it is local: "
   ]
  },
  {
   "cell_type": "code",
   "execution_count": 25,
   "id": "0f77bb35-36ea-4ba2-83f7-606362e050bd",
   "metadata": {
    "tags": []
   },
   "outputs": [],
   "source": [
    "def testfunc():\n",
    "    print(num3)"
   ]
  },
  {
   "cell_type": "code",
   "execution_count": 26,
   "id": "f54f823f-8e8f-44e4-a3d7-9f867a8ea2da",
   "metadata": {
    "tags": []
   },
   "outputs": [
    {
     "name": "stdout",
     "output_type": "stream",
     "text": [
      "7\n"
     ]
    }
   ],
   "source": [
    "testfunc()"
   ]
  },
  {
   "cell_type": "code",
   "execution_count": 27,
   "id": "5e83b949-33a2-4ba1-9c52-4d6df1096f72",
   "metadata": {
    "tags": []
   },
   "outputs": [],
   "source": [
    "### A much better solution is to simply include it as another argument:\n",
    "def divideThreeNumbers(num1,num2,num3):\n",
    "    s = num1/(num2*num3)\n",
    "    return s"
   ]
  },
  {
   "cell_type": "markdown",
   "id": "6253931a-2a67-46bc-822a-d91abffc4120",
   "metadata": {},
   "source": [
    "### You can also assign default values to arguments then you don't have to supply them"
   ]
  },
  {
   "cell_type": "code",
   "execution_count": 28,
   "id": "73036832-68e7-417c-a801-00ca1d8ce7c2",
   "metadata": {
    "tags": []
   },
   "outputs": [],
   "source": [
    "def divideNumbersWithDefaults(num1 = 2, num2 = 3):\n",
    "    s = num1/num2\n",
    "    return s"
   ]
  },
  {
   "cell_type": "code",
   "execution_count": 29,
   "id": "b52d2900-9986-4ddb-8594-4e04412018ba",
   "metadata": {
    "tags": []
   },
   "outputs": [
    {
     "data": {
      "text/plain": [
       "0.6666666666666666"
      ]
     },
     "execution_count": 29,
     "metadata": {},
     "output_type": "execute_result"
    }
   ],
   "source": [
    "divideNumbersWithDefaults()"
   ]
  },
  {
   "cell_type": "code",
   "execution_count": 30,
   "id": "47e5778d-af99-4061-8ae8-e28653d7bcf1",
   "metadata": {
    "tags": []
   },
   "outputs": [
    {
     "data": {
      "text/plain": [
       "1.0"
      ]
     },
     "execution_count": 30,
     "metadata": {},
     "output_type": "execute_result"
    }
   ],
   "source": [
    "divideNumbersWithDefaults(3)"
   ]
  },
  {
   "cell_type": "markdown",
   "id": "5fc3f182-51b6-4291-a928-8e1b62e1ef75",
   "metadata": {},
   "source": [
    "### You can also supply some with defaults and some without but those with defaults, which are optional, must come after:"
   ]
  },
  {
   "cell_type": "code",
   "execution_count": 31,
   "id": "66ba2edf-a1fc-4ed3-94b6-d4aa16492cab",
   "metadata": {
    "tags": []
   },
   "outputs": [
    {
     "ename": "SyntaxError",
     "evalue": "non-default argument follows default argument (1377247247.py, line 2)",
     "output_type": "error",
     "traceback": [
      "\u001b[0;36m  Cell \u001b[0;32mIn[31], line 2\u001b[0;36m\u001b[0m\n\u001b[0;31m    def divideNumbersOneDefault(num1 = 2, num2):\u001b[0m\n\u001b[0m                                          ^\u001b[0m\n\u001b[0;31mSyntaxError\u001b[0m\u001b[0;31m:\u001b[0m non-default argument follows default argument\n"
     ]
    }
   ],
   "source": [
    "#This won't work, gives an error\n",
    "def divideNumbersOneDefault(num1 = 2, num2):\n",
    "    s = num1/num2\n",
    "    return s"
   ]
  },
  {
   "cell_type": "code",
   "execution_count": 32,
   "id": "832a4de4-005c-45ce-bf23-26441f2421e2",
   "metadata": {
    "tags": []
   },
   "outputs": [],
   "source": [
    "def divideNumbersOneDefault(num1, num2 = 2):\n",
    "    s = num1/num2\n",
    "    return s"
   ]
  },
  {
   "cell_type": "code",
   "execution_count": 33,
   "id": "1bf0b06c-5dbd-48bc-9098-1847a54e6d46",
   "metadata": {
    "tags": []
   },
   "outputs": [
    {
     "data": {
      "text/plain": [
       "3.0"
      ]
     },
     "execution_count": 33,
     "metadata": {},
     "output_type": "execute_result"
    }
   ],
   "source": [
    "divideNumbersOneDefault(6)"
   ]
  },
  {
   "cell_type": "code",
   "execution_count": 34,
   "id": "5ac1377b-facd-4378-b3bb-b69f27a0a003",
   "metadata": {
    "tags": []
   },
   "outputs": [
    {
     "data": {
      "text/plain": [
       "0.7058823529411765"
      ]
     },
     "execution_count": 34,
     "metadata": {},
     "output_type": "execute_result"
    }
   ],
   "source": [
    "divideNumbersOneDefault(12,17)"
   ]
  },
  {
   "cell_type": "markdown",
   "id": "b4a49613-8747-4f4a-8c12-d35470a289cb",
   "metadata": {},
   "source": [
    "### You can have an arbitrary number of non-keyword arguments using the \\*arg notation. Once inside the function arg will be a tuple containing all of these arguments"
   ]
  },
  {
   "cell_type": "code",
   "execution_count": 35,
   "id": "fb397edd-fffa-42b2-bb4a-f8dc4b0a9695",
   "metadata": {
    "tags": []
   },
   "outputs": [],
   "source": [
    "def multiplyNumbers(*arg):\n",
    "    print(arg)\n",
    "    prod = 1\n",
    "    for x in arg:\n",
    "        prod = prod*x\n",
    "    return prod"
   ]
  },
  {
   "cell_type": "code",
   "execution_count": 37,
   "id": "d70d4a2f-1ca3-4811-95cc-c2f71a893537",
   "metadata": {
    "tags": []
   },
   "outputs": [
    {
     "name": "stdout",
     "output_type": "stream",
     "text": [
      "(2, 3, 4, 7)\n"
     ]
    },
    {
     "data": {
      "text/plain": [
       "168"
      ]
     },
     "execution_count": 37,
     "metadata": {},
     "output_type": "execute_result"
    }
   ],
   "source": [
    "multiplyNumbers(2,3,4,7)"
   ]
  },
  {
   "cell_type": "markdown",
   "id": "c1432eb5-0911-46c0-a284-7434c61c8824",
   "metadata": {},
   "source": [
    "### You can include *arg after positional or keyword arguments and it will contain all the remaining arguments"
   ]
  },
  {
   "cell_type": "code",
   "execution_count": 39,
   "id": "b0fb3b81-f9e2-4ac5-b112-a3e160fc8f61",
   "metadata": {
    "tags": []
   },
   "outputs": [],
   "source": [
    "def addOrMultiply(doAddition,*args):\n",
    "    if doAddition:\n",
    "        out = 0\n",
    "        for x in args:\n",
    "            out = out + x\n",
    "    else:\n",
    "        out = 1\n",
    "        for x in args:\n",
    "            out = out*x\n",
    "    return out"
   ]
  },
  {
   "cell_type": "code",
   "execution_count": 41,
   "id": "53c6cbb6-75ea-46cb-a5cb-2be8e366323c",
   "metadata": {
    "tags": []
   },
   "outputs": [
    {
     "data": {
      "text/plain": [
       "16"
      ]
     },
     "execution_count": 41,
     "metadata": {},
     "output_type": "execute_result"
    }
   ],
   "source": [
    "addOrMultiply(True,2,3,4,7)"
   ]
  },
  {
   "cell_type": "code",
   "execution_count": 42,
   "id": "426375a8-397d-4f72-b74d-b2e58a83349b",
   "metadata": {
    "tags": []
   },
   "outputs": [
    {
     "data": {
      "text/plain": [
       "24"
      ]
     },
     "execution_count": 42,
     "metadata": {},
     "output_type": "execute_result"
    }
   ],
   "source": [
    "addOrMultiply(False,2,3,4)"
   ]
  },
  {
   "cell_type": "markdown",
   "id": "fc04220a-1380-4a74-9ca2-ce97a3be8cb9",
   "metadata": {},
   "source": [
    "### We could combine position, keyward and variable arguments as in: In this case, the first position argument will be in do Addition, the others in args, and divideBy must be specified at the end using the keyword (if we don't specify the keyword, the last number will go into args)"
   ]
  },
  {
   "cell_type": "code",
   "execution_count": null,
   "id": "5db20dd5-6b55-4add-8be6-e8cdfded8b35",
   "metadata": {},
   "outputs": [],
   "source": [
    "def addOrMutipleAndDivide(doAddition,*args,divideBy = 1):\n",
    "    if doAddition:\n",
    "        out = 0\n",
    "        for x in args:\n",
    "            out = out + x\n",
    "    else:\n",
    "        out = 1\n",
    "        for x in args:\n",
    "            out = out*x\n",
    "    return out/divideBy"
   ]
  },
  {
   "cell_type": "code",
   "execution_count": null,
   "id": "65eed6c9-f88c-4a88-90d8-4f1e598d5987",
   "metadata": {},
   "outputs": [],
   "source": [
    "addOrMutipleAndDivide(True, 2, 3, 4) # divideBy was set to 2 by position"
   ]
  },
  {
   "cell_type": "code",
   "execution_count": null,
   "id": "fa072dae-4f59-40e8-9739-7fbfad3e2142",
   "metadata": {},
   "outputs": [],
   "source": [
    "addOrMutipleAndDivide(True,2,3,4,divideBy=3)"
   ]
  },
  {
   "cell_type": "markdown",
   "id": "8bc1d2ab-f2dd-49cf-903e-5b7165d3b912",
   "metadata": {},
   "source": [
    "### We can also have variable numbers of arguments with keywords as in:"
   ]
  },
  {
   "cell_type": "code",
   "execution_count": 43,
   "id": "5b617556-49b5-403b-918d-43066f58e287",
   "metadata": {
    "tags": []
   },
   "outputs": [],
   "source": [
    "def variableKeywords(**kwargs):\n",
    "    for k,v in kwargs.items():\n",
    "        print(k + \", \" + v)"
   ]
  },
  {
   "cell_type": "code",
   "execution_count": 44,
   "id": "66f76520-0f05-4174-b170-59021e810126",
   "metadata": {
    "tags": []
   },
   "outputs": [
    {
     "name": "stdout",
     "output_type": "stream",
     "text": [
      "foo, str1\n",
      "foo2, str2\n",
      "foo3, str3\n"
     ]
    }
   ],
   "source": [
    "variableKeywords(foo = \"str1\", foo2 = \"str2\", foo3 = \"str3\")"
   ]
  },
  {
   "cell_type": "code",
   "execution_count": 45,
   "id": "eaa996fa-3ed3-4d60-aac9-70270f73080d",
   "metadata": {
    "tags": []
   },
   "outputs": [],
   "source": [
    "def divideNumbers(a,b,**kwargs):\n",
    "    s = a/b\n",
    "    if \"invert\" in kwargs.keys() and kwargs[\"invert\"] == True:\n",
    "        s = 1/s\n",
    "    if \"takelog\" in kwargs.keys() and kwargs[\"takelog\"] == True:\n",
    "        s = np.log(s)\n",
    "    return s"
   ]
  },
  {
   "cell_type": "code",
   "execution_count": 46,
   "id": "5c17c86c-7a8f-4e27-90aa-834907636d99",
   "metadata": {
    "tags": []
   },
   "outputs": [
    {
     "data": {
      "text/plain": [
       "3.0"
      ]
     },
     "execution_count": 46,
     "metadata": {},
     "output_type": "execute_result"
    }
   ],
   "source": [
    "divideNumbers(9,3)"
   ]
  },
  {
   "cell_type": "code",
   "execution_count": 47,
   "id": "ed0cbac5-6090-45ad-9d6c-7969464fa8d8",
   "metadata": {
    "tags": []
   },
   "outputs": [
    {
     "data": {
      "text/plain": [
       "0.3333333333333333"
      ]
     },
     "execution_count": 47,
     "metadata": {},
     "output_type": "execute_result"
    }
   ],
   "source": [
    "divideNumbers(9,3, invert = True)"
   ]
  },
  {
   "cell_type": "code",
   "execution_count": 48,
   "id": "b25d4410-3e91-4811-9a42-a43f3db59a29",
   "metadata": {
    "tags": []
   },
   "outputs": [
    {
     "data": {
      "text/plain": [
       "1.0986122886681098"
      ]
     },
     "execution_count": 48,
     "metadata": {},
     "output_type": "execute_result"
    }
   ],
   "source": [
    "divideNumbers(9,3, takelog = True)"
   ]
  },
  {
   "cell_type": "code",
   "execution_count": 49,
   "id": "789433e1-c268-483c-9fcc-5edd5dbdb461",
   "metadata": {
    "tags": []
   },
   "outputs": [
    {
     "data": {
      "text/plain": [
       "-1.0986122886681098"
      ]
     },
     "execution_count": 49,
     "metadata": {},
     "output_type": "execute_result"
    }
   ],
   "source": [
    "divideNumbers(9,3, takelog = True, invert = True)"
   ]
  },
  {
   "cell_type": "code",
   "execution_count": 50,
   "id": "47e5d33d-518d-4698-af96-9e77dbf4436b",
   "metadata": {
    "tags": []
   },
   "outputs": [
    {
     "data": {
      "text/plain": [
       "-1.0986122886681098"
      ]
     },
     "execution_count": 50,
     "metadata": {},
     "output_type": "execute_result"
    }
   ],
   "source": [
    "divideNumbers(9,3, takelog = True, invert = True, extraArg = \"yes\")"
   ]
  },
  {
   "cell_type": "markdown",
   "id": "5e5f3fd3-88ba-4970-b977-84b5a27e4770",
   "metadata": {},
   "source": [
    "## Starting with pandas:\n",
    "\n",
    "### The pandas library is very widely used in data analysis. If you need to install it, do \"conda install pandas\" from your conda terminal. \n",
    "### pandas is imported with this standard convention:"
   ]
  },
  {
   "cell_type": "code",
   "execution_count": 52,
   "id": "33bc3df4-95a4-46e7-8756-65362235c419",
   "metadata": {
    "tags": []
   },
   "outputs": [],
   "source": [
    "import pandas as pd"
   ]
  },
  {
   "cell_type": "markdown",
   "id": "79fc88cf-77b2-4744-8662-4f508f3aa51c",
   "metadata": {},
   "source": [
    "### Pandas has two basic datatypes, the series and the dataframe which are for one and multi dimensional data. Today we will talk about series. \n",
    "\n",
    "### Image we have gene expression data for 3 genes in two different conditions but the formatting is not conistent:"
   ]
  },
  {
   "cell_type": "code",
   "execution_count": 53,
   "id": "d1c97b92-47c4-4ff2-ac36-5c34366feac3",
   "metadata": {
    "tags": []
   },
   "outputs": [],
   "source": [
    "data1 = pd.Series([23, 99, 1], index = [\"Gene1\",\"Gene2\",\"Gene3\"])"
   ]
  },
  {
   "cell_type": "code",
   "execution_count": 54,
   "id": "f9d627d7-a67d-47a2-9ad9-5b9ea285350f",
   "metadata": {
    "tags": []
   },
   "outputs": [
    {
     "data": {
      "text/plain": [
       "Gene1    23\n",
       "Gene2    99\n",
       "Gene3     1\n",
       "dtype: int64"
      ]
     },
     "execution_count": 54,
     "metadata": {},
     "output_type": "execute_result"
    }
   ],
   "source": [
    "data1"
   ]
  },
  {
   "cell_type": "markdown",
   "id": "5cac449a-af33-4726-bca1-caf5633a6918",
   "metadata": {},
   "source": [
    "### Notice that the series is like a numpy array, it has a dtype, but it also has an index. \n",
    "\n",
    "### You can name the index:"
   ]
  },
  {
   "cell_type": "code",
   "execution_count": 55,
   "id": "37f4e668-255b-4584-b311-e919372bd3f6",
   "metadata": {
    "tags": []
   },
   "outputs": [],
   "source": [
    "data1.index.name = \"Gene name\""
   ]
  },
  {
   "cell_type": "code",
   "execution_count": 56,
   "id": "b2d1a2fa-9086-4038-9759-3e6194e1fdb4",
   "metadata": {
    "tags": []
   },
   "outputs": [
    {
     "data": {
      "text/plain": [
       "Gene name\n",
       "Gene1    23\n",
       "Gene2    99\n",
       "Gene3     1\n",
       "dtype: int64"
      ]
     },
     "execution_count": 56,
     "metadata": {},
     "output_type": "execute_result"
    }
   ],
   "source": [
    "data1"
   ]
  },
  {
   "cell_type": "markdown",
   "id": "ed9d5e39-ebf7-4429-b9d0-7e2aea823160",
   "metadata": {},
   "source": [
    "### You can then access data by index:"
   ]
  },
  {
   "cell_type": "code",
   "execution_count": 57,
   "id": "a5a55bb0-7a89-4ff0-b602-cfda7ed41ab9",
   "metadata": {
    "tags": []
   },
   "outputs": [
    {
     "data": {
      "text/plain": [
       "99"
      ]
     },
     "execution_count": 57,
     "metadata": {},
     "output_type": "execute_result"
    }
   ],
   "source": [
    "data1[\"Gene2\"]"
   ]
  },
  {
   "cell_type": "markdown",
   "id": "1c6ab684-070f-447e-8e82-89e38abdc57b",
   "metadata": {},
   "source": [
    "### You can also access by number as in a numpy array:"
   ]
  },
  {
   "cell_type": "code",
   "execution_count": 58,
   "id": "bad4b780-e5f7-4e33-9cfd-733d4dd15acf",
   "metadata": {
    "tags": []
   },
   "outputs": [
    {
     "data": {
      "text/plain": [
       "99"
      ]
     },
     "execution_count": 58,
     "metadata": {},
     "output_type": "execute_result"
    }
   ],
   "source": [
    "data1[1]"
   ]
  },
  {
   "cell_type": "code",
   "execution_count": 59,
   "id": "461569b8-4186-4db8-af85-c6e39b0468d2",
   "metadata": {
    "tags": []
   },
   "outputs": [],
   "source": [
    "data2 = pd.Series([77, 27, 3], index = [\"Gene3\",\"Gene1\",\"Gene2\"])"
   ]
  },
  {
   "cell_type": "code",
   "execution_count": 60,
   "id": "67edac84-c420-4b6d-aa4e-5ae4a3afd527",
   "metadata": {
    "tags": []
   },
   "outputs": [
    {
     "data": {
      "text/plain": [
       "Gene3    77\n",
       "Gene1    27\n",
       "Gene2     3\n",
       "dtype: int64"
      ]
     },
     "execution_count": 60,
     "metadata": {},
     "output_type": "execute_result"
    }
   ],
   "source": [
    "data2"
   ]
  },
  {
   "cell_type": "markdown",
   "id": "dc3514ac-edf4-44c4-81be-bb863489ad77",
   "metadata": {},
   "source": [
    "### Let's say we want to take the combined expression from these two conditions:"
   ]
  },
  {
   "cell_type": "code",
   "execution_count": 61,
   "id": "54d26f3d-cb3b-4992-a086-abe683a46347",
   "metadata": {
    "tags": []
   },
   "outputs": [
    {
     "data": {
      "text/plain": [
       "Gene1     50\n",
       "Gene2    102\n",
       "Gene3     78\n",
       "dtype: int64"
      ]
     },
     "execution_count": 61,
     "metadata": {},
     "output_type": "execute_result"
    }
   ],
   "source": [
    "data1+data2"
   ]
  },
  {
   "cell_type": "markdown",
   "id": "27ef8e0d-ff62-429e-81ad-cf08e92070be",
   "metadata": {},
   "source": [
    "### Notice what has happened - the values were added by index even though they were in a different order. This wouldn't be possible in numpy and this gives the wrong answer:"
   ]
  },
  {
   "cell_type": "code",
   "execution_count": 62,
   "id": "23570d57-b661-45d8-bd15-72c9d7d36c64",
   "metadata": {
    "tags": []
   },
   "outputs": [
    {
     "data": {
      "text/plain": [
       "array([100, 126,   4])"
      ]
     },
     "execution_count": 62,
     "metadata": {},
     "output_type": "execute_result"
    }
   ],
   "source": [
    "data1.to_numpy()+data2.to_numpy()"
   ]
  },
  {
   "cell_type": "markdown",
   "id": "0f0028b8-2bf3-4588-8a6e-153e633047ea",
   "metadata": {},
   "source": [
    "### Numpy like indexing and filtering also works:"
   ]
  },
  {
   "cell_type": "code",
   "execution_count": 63,
   "id": "ea7dac37-15a0-4dd4-8822-73ffd87e905e",
   "metadata": {
    "tags": []
   },
   "outputs": [
    {
     "data": {
      "text/plain": [
       "Gene name\n",
       "Gene1    False\n",
       "Gene2     True\n",
       "Gene3    False\n",
       "dtype: bool"
      ]
     },
     "execution_count": 63,
     "metadata": {},
     "output_type": "execute_result"
    }
   ],
   "source": [
    "data1 > 50"
   ]
  },
  {
   "cell_type": "code",
   "execution_count": 64,
   "id": "21701885-e512-4c7b-b031-e23c958d7c77",
   "metadata": {
    "tags": []
   },
   "outputs": [
    {
     "data": {
      "text/plain": [
       "Gene name\n",
       "Gene2    99\n",
       "dtype: int64"
      ]
     },
     "execution_count": 64,
     "metadata": {},
     "output_type": "execute_result"
    }
   ],
   "source": [
    "data1[data1 > 50]"
   ]
  },
  {
   "cell_type": "code",
   "execution_count": 65,
   "id": "a842172f-3782-40f5-880c-192d52b4ed49",
   "metadata": {
    "tags": []
   },
   "outputs": [],
   "source": [
    "### You can make a Series from a list or tuple without specifying an index and it will have a default index:"
   ]
  },
  {
   "cell_type": "code",
   "execution_count": 66,
   "id": "3ea1d499-f541-4027-a224-de1dc4a13dde",
   "metadata": {
    "tags": []
   },
   "outputs": [
    {
     "data": {
      "text/plain": [
       "0    1\n",
       "1    2\n",
       "2    3\n",
       "3    4\n",
       "4    5\n",
       "dtype: int64"
      ]
     },
     "execution_count": 66,
     "metadata": {},
     "output_type": "execute_result"
    }
   ],
   "source": [
    "pd.Series([1, 2, 3, 4, 5])"
   ]
  },
  {
   "cell_type": "code",
   "execution_count": 67,
   "id": "15795180-03d2-4c0e-9165-385c2dae070b",
   "metadata": {
    "tags": []
   },
   "outputs": [],
   "source": [
    "### If you make a series from a dictionary, the keys will become the index in the order you specified them:"
   ]
  },
  {
   "cell_type": "code",
   "execution_count": 68,
   "id": "2408efed-3e47-4e4e-8e33-aeb5f5ab8a2a",
   "metadata": {
    "tags": []
   },
   "outputs": [
    {
     "data": {
      "text/plain": [
       "gene1    12\n",
       "gene2    16\n",
       "gene3    98\n",
       "dtype: int64"
      ]
     },
     "execution_count": 68,
     "metadata": {},
     "output_type": "execute_result"
    }
   ],
   "source": [
    "pd.Series({\"gene1\":12,\"gene2\":16,\"gene3\":98})"
   ]
  },
  {
   "cell_type": "markdown",
   "id": "3e89415c-e914-4919-bf38-69ffd5fb568a",
   "metadata": {
    "tags": []
   },
   "source": [
    "### if you want a different index ordering or to add extra values, you can give it an index directly. Note how missing values were handled:"
   ]
  },
  {
   "cell_type": "code",
   "execution_count": 70,
   "id": "8e5d45ca-db9a-48a8-a059-7bc090193e31",
   "metadata": {
    "tags": []
   },
   "outputs": [
    {
     "data": {
      "text/plain": [
       "gene1    12.0\n",
       "gene2    16.0\n",
       "gene3    98.0\n",
       "gene4     NaN\n",
       "dtype: float64"
      ]
     },
     "execution_count": 70,
     "metadata": {},
     "output_type": "execute_result"
    }
   ],
   "source": [
    "pd.Series({\"gene1\":12,\"gene2\":16,\"gene3\":98}, index = [\"gene1\",\"gene2\",\"gene3\",\"gene4\"])"
   ]
  },
  {
   "cell_type": "markdown",
   "id": "dc5c234b-5a52-4cba-afe2-dc75d9e343a2",
   "metadata": {},
   "source": [
    "### You can add values to a series directly:"
   ]
  },
  {
   "cell_type": "code",
   "execution_count": 71,
   "id": "f304b3d5-09b7-47f9-b72c-75b359764af5",
   "metadata": {
    "tags": []
   },
   "outputs": [],
   "source": [
    "data1[\"gene5\"] = 66"
   ]
  },
  {
   "cell_type": "code",
   "execution_count": 72,
   "id": "72a2a8dc-937b-4a41-afc5-ecb5e5112308",
   "metadata": {
    "tags": []
   },
   "outputs": [
    {
     "data": {
      "text/plain": [
       "Gene name\n",
       "Gene1    23\n",
       "Gene2    99\n",
       "Gene3     1\n",
       "gene5    66\n",
       "dtype: int64"
      ]
     },
     "execution_count": 72,
     "metadata": {},
     "output_type": "execute_result"
    }
   ],
   "source": [
    "data1"
   ]
  },
  {
   "cell_type": "markdown",
   "id": "1ae7617d-440f-4179-a238-20a23429739b",
   "metadata": {},
   "source": [
    "### Pandas will add Series with different indexes but some data will be missing:"
   ]
  },
  {
   "cell_type": "code",
   "execution_count": 73,
   "id": "ae86e131-0488-4f58-bfcb-287c83482eab",
   "metadata": {
    "tags": []
   },
   "outputs": [],
   "source": [
    "dataAdd = data1+data2"
   ]
  },
  {
   "cell_type": "code",
   "execution_count": 74,
   "id": "638b80d4-a0f1-4935-adf8-2e01c32a2448",
   "metadata": {
    "tags": []
   },
   "outputs": [
    {
     "data": {
      "text/plain": [
       "Gene1     50.0\n",
       "Gene2    102.0\n",
       "Gene3     78.0\n",
       "gene5      NaN\n",
       "dtype: float64"
      ]
     },
     "execution_count": 74,
     "metadata": {},
     "output_type": "execute_result"
    }
   ],
   "source": [
    "dataAdd"
   ]
  },
  {
   "cell_type": "markdown",
   "id": "e9a361e7-9b15-4b40-9d4d-1d22567a487d",
   "metadata": {},
   "source": [
    "### See the missing values with the isna method:"
   ]
  },
  {
   "cell_type": "code",
   "execution_count": 75,
   "id": "b74acfd3-c146-4e68-a20d-98c1895578b7",
   "metadata": {
    "tags": []
   },
   "outputs": [
    {
     "data": {
      "text/plain": [
       "Gene1    False\n",
       "Gene2    False\n",
       "Gene3    False\n",
       "gene5     True\n",
       "dtype: bool"
      ]
     },
     "execution_count": 75,
     "metadata": {},
     "output_type": "execute_result"
    }
   ],
   "source": [
    "dataAdd.isna()"
   ]
  },
  {
   "cell_type": "code",
   "execution_count": null,
   "id": "5fb8a731-eb3e-4d54-a878-392b475dca4a",
   "metadata": {},
   "outputs": [],
   "source": []
  }
 ],
 "metadata": {
  "kernelspec": {
   "display_name": "Python 3 (ipykernel)",
   "language": "python",
   "name": "python3"
  },
  "language_info": {
   "codemirror_mode": {
    "name": "ipython",
    "version": 3
   },
   "file_extension": ".py",
   "mimetype": "text/x-python",
   "name": "python",
   "nbconvert_exporter": "python",
   "pygments_lexer": "ipython3",
   "version": "3.11.4"
  }
 },
 "nbformat": 4,
 "nbformat_minor": 5
}
